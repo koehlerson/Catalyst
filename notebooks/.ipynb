{
 "cells": [
  {
   "cell_type": "code",
   "execution_count": 2,
   "metadata": {},
   "outputs": [
    {
     "name": "stderr",
     "output_type": "stream",
     "text": [
      "┌ Info: Precompiling CSV [336ed68f-0bac-5ca0-87d4-7b16caf5d00b]\n",
      "└ @ Base loading.jl:1260\n",
      "┌ Info: Precompiling Catalyst [01e5440a-74e3-4b45-b8b9-c13ddfc5051b]\n",
      "└ @ Base loading.jl:1260\n",
      "ERROR: LoadError: LoadError: ArgumentError: Package Crayons [a8cc5b0e-0ffa-5ad4-8c14-923d3ee1735f] is required but does not seem to be installed:\n",
      " - Run `Pkg.instantiate()` to install all recorded dependencies.\n",
      "\n",
      "Stacktrace:\n",
      " [1] _require(::Base.PkgId) at .\\loading.jl:998\n",
      " [2] require(::Base.PkgId) at .\\loading.jl:927\n",
      " [3] require(::Module, ::Symbol) at .\\loading.jl:922\n",
      " [4] include(::Module, ::String) at .\\Base.jl:377\n",
      " [5] include(::String) at C:\\Users\\power\\.julia\\packages\\UnicodePlots\\ziaTE\\src\\UnicodePlots.jl:1\n",
      " [6] top-level scope at C:\\Users\\power\\.julia\\packages\\UnicodePlots\\ziaTE\\src\\UnicodePlots.jl:67\n",
      " [7] include(::Module, ::String) at .\\Base.jl:377\n",
      " [8] top-level scope at none:2\n",
      " [9] eval at .\\boot.jl:331 [inlined]\n",
      " [10] eval(::Expr) at .\\client.jl:449\n",
      " [11] top-level scope at .\\none:3\n",
      "in expression starting at C:\\Users\\power\\.julia\\packages\\UnicodePlots\\ziaTE\\src\\canvas\\heatmapcanvas.jl:1\n",
      "in expression starting at C:\\Users\\power\\.julia\\packages\\UnicodePlots\\ziaTE\\src\\UnicodePlots.jl:67\n",
      "ERROR: LoadError: Failed to precompile UnicodePlots [b8865327-cd53-5732-bb35-84acbb429228] to C:\\Users\\power\\.julia\\compiled\\v1.4\\UnicodePlots\\Ctj9q_Tzr31.ji.\n",
      "Stacktrace:\n",
      " [1] error(::String) at .\\error.jl:33\n",
      " [2] compilecache(::Base.PkgId, ::String) at .\\loading.jl:1272\n",
      " [3] _require(::Base.PkgId) at .\\loading.jl:1029\n",
      " [4] require(::Base.PkgId) at .\\loading.jl:927\n",
      " [5] require(::Module, ::Symbol) at .\\loading.jl:922\n",
      " [6] include(::Module, ::String) at .\\Base.jl:377\n",
      " [7] top-level scope at none:2\n",
      " [8] eval at .\\boot.jl:331 [inlined]\n",
      " [9] eval(::Expr) at .\\client.jl:449\n",
      " [10] top-level scope at .\\none:3\n",
      "in expression starting at D:\\git\\advection-diffusion-catalysis\\src\\Catalyst.jl:6\n"
     ]
    },
    {
     "ename": "ErrorException",
     "evalue": "Failed to precompile Catalyst [01e5440a-74e3-4b45-b8b9-c13ddfc5051b] to C:\\Users\\power\\.julia\\compiled\\v1.4\\Catalyst\\J9Gan_Tzr31.ji.",
     "output_type": "error",
     "traceback": [
      "Failed to precompile Catalyst [01e5440a-74e3-4b45-b8b9-c13ddfc5051b] to C:\\Users\\power\\.julia\\compiled\\v1.4\\Catalyst\\J9Gan_Tzr31.ji.",
      "",
      "Stacktrace:",
      " [1] error(::String) at .\\error.jl:33",
      " [2] compilecache(::Base.PkgId, ::String) at .\\loading.jl:1272",
      " [3] _require(::Base.PkgId) at .\\loading.jl:1029",
      " [4] require(::Base.PkgId) at .\\loading.jl:927",
      " [5] require(::Module, ::Symbol) at .\\loading.jl:922",
      " [6] top-level scope at C:\\Users\\power\\.julia\\packages\\DrWatson\\yTF0r\\src\\project_setup.jl:180",
      " [7] top-level scope at In[2]:3"
     ]
    }
   ],
   "source": [
    "using CSV\n",
    "using DrWatson\n",
    "@quickactivate :Catalyst"
   ]
  },
  {
   "cell_type": "code",
   "execution_count": 143,
   "metadata": {},
   "outputs": [],
   "source": [
    "file = CSV.File(datadir(\"experiment/output_data.csv\"), delim=\"\\t\")\n",
    "O_12 = Float64[]\n",
    "O_10 = Float64[]\n",
    "O_8 = Float64[]\n",
    "for row in file\n",
    "    push!(O_12,row.O_12)\n",
    "    push!(O_10,row.O_10)\n",
    "    push!(O_8,row.O_8)\n",
    "end"
   ]
  },
  {
   "cell_type": "code",
   "execution_count": 146,
   "metadata": {},
   "outputs": [
    {
     "data": {
      "text/plain": [
       "501-element Array{Float64,1}:\n",
       " 0.0\n",
       " 0.0\n",
       " 0.0\n",
       " 0.0\n",
       " 0.0\n",
       " 0.0\n",
       " 0.0\n",
       " 0.0\n",
       " 0.0\n",
       " 0.0\n",
       " 0.0\n",
       " 0.0\n",
       " 0.0\n",
       " ⋮\n",
       " 1.0\n",
       " 1.0\n",
       " 1.0\n",
       " 1.0\n",
       " 1.0\n",
       " 1.0\n",
       " 1.0\n",
       " 1.0\n",
       " 1.0\n",
       " 1.0\n",
       " 1.0\n",
       " 1.0"
      ]
     },
     "execution_count": 146,
     "metadata": {},
     "output_type": "execute_result"
    }
   ],
   "source": [
    "O_8"
   ]
  },
  {
   "cell_type": "code",
   "execution_count": 93,
   "metadata": {},
   "outputs": [
    {
     "data": {
      "text/plain": [
       "15-element Array{Float64,1}:\n",
       "  0.0\n",
       "  1.0\n",
       "  2.0\n",
       "  3.0\n",
       "  4.0\n",
       "  5.0\n",
       "  6.0\n",
       "  7.0\n",
       "  8.0\n",
       "  9.0\n",
       " 10.0\n",
       " 11.0\n",
       " 12.0\n",
       " 13.0\n",
       " 14.0"
      ]
     },
     "execution_count": 93,
     "metadata": {},
     "output_type": "execute_result"
    }
   ],
   "source": [
    "function interpolate(A::Array{Float64,1})\n",
    "    D = zeros((length(A)*2)-1)\n",
    "    D[1] = A[1]\n",
    "    for i in 2:length(D)\n",
    "            if(i%2 == 0)\n",
    "                D[i]= 0.5*(A[convert(Int64,i/2)]+A[convert(Int64,(i/2)+1)]) #for our special case becasue ratio 2/1\n",
    "            elseif(i%2 == 1)\n",
    "                D[i] = A[convert(Int64,(i+1)/2)]\n",
    "            end\n",
    "    end\n",
    "return D\n",
    "end\n",
    "A = [0.,2.,4.,6.,8.,10.,12.,14.]\n",
    "M = interpolate(A)"
   ]
  },
  {
   "cell_type": "code",
   "execution_count": 99,
   "metadata": {},
   "outputs": [],
   "source": [
    "int_O_12 = interpolate(O_12)\n",
    "int_O_10 = interpolate(O_10)\n",
    "int_O_8 = interpolate(O_8);"
   ]
  },
  {
   "cell_type": "code",
   "execution_count": 115,
   "metadata": {
    "scrolled": true
   },
   "outputs": [
    {
     "data": {
      "text/html": [
       "<table class=\"data-frame\"><thead><tr><th></th><th>inter_12</th><th>inter_10</th><th>inter_8</th></tr><tr><th></th><th>Float64</th><th>Float64</th><th>Float64</th></tr></thead><tbody><p>1,001 rows × 3 columns</p><tr><th>1</th><td>0.0</td><td>0.0</td><td>0.0</td></tr><tr><th>2</th><td>0.0</td><td>0.0</td><td>0.0</td></tr><tr><th>3</th><td>0.0</td><td>0.0</td><td>0.0</td></tr><tr><th>4</th><td>0.0</td><td>0.0</td><td>0.0</td></tr><tr><th>5</th><td>0.0</td><td>0.0</td><td>0.0</td></tr><tr><th>6</th><td>0.0</td><td>0.0</td><td>0.0</td></tr><tr><th>7</th><td>0.0</td><td>0.0</td><td>0.0</td></tr><tr><th>8</th><td>0.0</td><td>0.0</td><td>0.0</td></tr><tr><th>9</th><td>0.0</td><td>0.0</td><td>0.0</td></tr><tr><th>10</th><td>0.0</td><td>0.0</td><td>0.0</td></tr><tr><th>11</th><td>0.0</td><td>0.0</td><td>0.0</td></tr><tr><th>12</th><td>0.0</td><td>0.0</td><td>0.0</td></tr><tr><th>13</th><td>0.0</td><td>0.0</td><td>0.0</td></tr><tr><th>14</th><td>0.0</td><td>0.0</td><td>0.0</td></tr><tr><th>15</th><td>0.0</td><td>0.0</td><td>0.0</td></tr><tr><th>16</th><td>0.0</td><td>0.0</td><td>0.0</td></tr><tr><th>17</th><td>0.0</td><td>0.0</td><td>0.0</td></tr><tr><th>18</th><td>0.0</td><td>0.0</td><td>0.0</td></tr><tr><th>19</th><td>0.0</td><td>0.0</td><td>0.0</td></tr><tr><th>20</th><td>0.0</td><td>0.0</td><td>0.0</td></tr><tr><th>21</th><td>0.0</td><td>0.0</td><td>0.0</td></tr><tr><th>22</th><td>0.0</td><td>0.0</td><td>0.0</td></tr><tr><th>23</th><td>0.0</td><td>0.0</td><td>0.0</td></tr><tr><th>24</th><td>0.0</td><td>0.0</td><td>0.0</td></tr><tr><th>25</th><td>0.0</td><td>0.0</td><td>0.0</td></tr><tr><th>26</th><td>0.0</td><td>0.0</td><td>0.0</td></tr><tr><th>27</th><td>0.0</td><td>0.0</td><td>0.0</td></tr><tr><th>28</th><td>0.0</td><td>0.0</td><td>0.0</td></tr><tr><th>29</th><td>0.0</td><td>0.0</td><td>0.0</td></tr><tr><th>30</th><td>0.0</td><td>0.0</td><td>0.0</td></tr><tr><th>&vellip;</th><td>&vellip;</td><td>&vellip;</td><td>&vellip;</td></tr></tbody></table>"
      ],
      "text/latex": [
       "\\begin{tabular}{r|ccc}\n",
       "\t& inter\\_12 & inter\\_10 & inter\\_8\\\\\n",
       "\t\\hline\n",
       "\t& Float64 & Float64 & Float64\\\\\n",
       "\t\\hline\n",
       "\t1 & 0.0 & 0.0 & 0.0 \\\\\n",
       "\t2 & 0.0 & 0.0 & 0.0 \\\\\n",
       "\t3 & 0.0 & 0.0 & 0.0 \\\\\n",
       "\t4 & 0.0 & 0.0 & 0.0 \\\\\n",
       "\t5 & 0.0 & 0.0 & 0.0 \\\\\n",
       "\t6 & 0.0 & 0.0 & 0.0 \\\\\n",
       "\t7 & 0.0 & 0.0 & 0.0 \\\\\n",
       "\t8 & 0.0 & 0.0 & 0.0 \\\\\n",
       "\t9 & 0.0 & 0.0 & 0.0 \\\\\n",
       "\t10 & 0.0 & 0.0 & 0.0 \\\\\n",
       "\t11 & 0.0 & 0.0 & 0.0 \\\\\n",
       "\t12 & 0.0 & 0.0 & 0.0 \\\\\n",
       "\t13 & 0.0 & 0.0 & 0.0 \\\\\n",
       "\t14 & 0.0 & 0.0 & 0.0 \\\\\n",
       "\t15 & 0.0 & 0.0 & 0.0 \\\\\n",
       "\t16 & 0.0 & 0.0 & 0.0 \\\\\n",
       "\t17 & 0.0 & 0.0 & 0.0 \\\\\n",
       "\t18 & 0.0 & 0.0 & 0.0 \\\\\n",
       "\t19 & 0.0 & 0.0 & 0.0 \\\\\n",
       "\t20 & 0.0 & 0.0 & 0.0 \\\\\n",
       "\t21 & 0.0 & 0.0 & 0.0 \\\\\n",
       "\t22 & 0.0 & 0.0 & 0.0 \\\\\n",
       "\t23 & 0.0 & 0.0 & 0.0 \\\\\n",
       "\t24 & 0.0 & 0.0 & 0.0 \\\\\n",
       "\t25 & 0.0 & 0.0 & 0.0 \\\\\n",
       "\t26 & 0.0 & 0.0 & 0.0 \\\\\n",
       "\t27 & 0.0 & 0.0 & 0.0 \\\\\n",
       "\t28 & 0.0 & 0.0 & 0.0 \\\\\n",
       "\t29 & 0.0 & 0.0 & 0.0 \\\\\n",
       "\t30 & 0.0 & 0.0 & 0.0 \\\\\n",
       "\t$\\dots$ & $\\dots$ & $\\dots$ & $\\dots$ \\\\\n",
       "\\end{tabular}\n"
      ],
      "text/plain": [
       "1001×3 DataFrame\n",
       "│ Row  │ inter_12 │ inter_10 │ inter_8 │\n",
       "│      │ \u001b[90mFloat64\u001b[39m  │ \u001b[90mFloat64\u001b[39m  │ \u001b[90mFloat64\u001b[39m │\n",
       "├──────┼──────────┼──────────┼─────────┤\n",
       "│ 1    │ 0.0      │ 0.0      │ 0.0     │\n",
       "│ 2    │ 0.0      │ 0.0      │ 0.0     │\n",
       "│ 3    │ 0.0      │ 0.0      │ 0.0     │\n",
       "│ 4    │ 0.0      │ 0.0      │ 0.0     │\n",
       "│ 5    │ 0.0      │ 0.0      │ 0.0     │\n",
       "│ 6    │ 0.0      │ 0.0      │ 0.0     │\n",
       "│ 7    │ 0.0      │ 0.0      │ 0.0     │\n",
       "│ 8    │ 0.0      │ 0.0      │ 0.0     │\n",
       "│ 9    │ 0.0      │ 0.0      │ 0.0     │\n",
       "│ 10   │ 0.0      │ 0.0      │ 0.0     │\n",
       "⋮\n",
       "│ 991  │ 1.0      │ 1.0      │ 1.0     │\n",
       "│ 992  │ 1.0      │ 1.0      │ 1.0     │\n",
       "│ 993  │ 1.0      │ 1.0      │ 1.0     │\n",
       "│ 994  │ 1.0      │ 1.0      │ 1.0     │\n",
       "│ 995  │ 1.0      │ 1.0      │ 1.0     │\n",
       "│ 996  │ 1.0      │ 1.0      │ 1.0     │\n",
       "│ 997  │ 1.0      │ 1.0      │ 1.0     │\n",
       "│ 998  │ 1.0      │ 1.0      │ 1.0     │\n",
       "│ 999  │ 1.0      │ 1.0      │ 1.0     │\n",
       "│ 1000 │ 1.0      │ 1.0      │ 1.0     │\n",
       "│ 1001 │ 1.0      │ 1.0      │ 1.0     │"
      ]
     },
     "execution_count": 115,
     "metadata": {},
     "output_type": "execute_result"
    }
   ],
   "source": [
    "using DataFrames\n",
    "df = DataFrame(inter_12 = int_O_12, inter_10 = int_O_10, inter_8 = int_O_8)"
   ]
  },
  {
   "cell_type": "code",
   "execution_count": 128,
   "metadata": {},
   "outputs": [
    {
     "data": {
      "text/plain": [
       "\"D:\\\\git\\\\advection-diffusion-catalysis\\\\data\\\\experiment/interpolated_output.csv\""
      ]
     },
     "execution_count": 128,
     "metadata": {},
     "output_type": "execute_result"
    }
   ],
   "source": [
    "CSV.write(datadir(\"experiment/interpolated_output.csv\"),df)"
   ]
  },
  {
   "cell_type": "code",
   "execution_count": 151,
   "metadata": {},
   "outputs": [],
   "source": [
    "file = CSV.File(datadir(\"experiment/SBA15_init_all.csv\"), delim=\"\\t\")\n",
    "I_12 = Float64[]\n",
    "I_10 = Float64[]\n",
    "I_8 = Float64[]\n",
    "t = Float64[]\n",
    "for row in file\n",
    "    push!(I_12,row.I_12)\n",
    "    push!(I_10,row.I_10)\n",
    "    push!(I_8,row.I_8)\n",
    "    push!(t,row.t_I)\n",
    "end"
   ]
  },
  {
   "cell_type": "code",
   "execution_count": 152,
   "metadata": {},
   "outputs": [
    {
     "data": {
      "text/html": [
       "<table class=\"data-frame\"><thead><tr><th></th><th>time</th><th>Input_12</th><th>Input_10</th><th>Input_8</th><th>Output_12</th><th>Output_10</th><th>Output_8</th></tr><tr><th></th><th>Float64</th><th>Float64</th><th>Float64</th><th>Float64</th><th>Float64</th><th>Float64</th><th>Float64</th></tr></thead><tbody><p>1,001 rows × 7 columns</p><tr><th>1</th><td>0.0</td><td>0.00815</td><td>0.00783</td><td>0.01139</td><td>0.0</td><td>0.0</td><td>0.0</td></tr><tr><th>2</th><td>1.0</td><td>0.00815</td><td>0.00783</td><td>0.01139</td><td>0.0</td><td>0.0</td><td>0.0</td></tr><tr><th>3</th><td>2.0</td><td>0.00815</td><td>0.00783</td><td>0.01139</td><td>0.0</td><td>0.0</td><td>0.0</td></tr><tr><th>4</th><td>3.0</td><td>0.00815</td><td>0.00783</td><td>0.01139</td><td>0.0</td><td>0.0</td><td>0.0</td></tr><tr><th>5</th><td>4.0</td><td>0.00815</td><td>0.00783</td><td>0.01139</td><td>0.0</td><td>0.0</td><td>0.0</td></tr><tr><th>6</th><td>5.0</td><td>0.00815</td><td>0.00783</td><td>0.01139</td><td>0.0</td><td>0.0</td><td>0.0</td></tr><tr><th>7</th><td>6.0</td><td>0.00815</td><td>0.00783</td><td>0.01139</td><td>0.0</td><td>0.0</td><td>0.0</td></tr><tr><th>8</th><td>7.0</td><td>0.00815</td><td>0.00783</td><td>0.01139</td><td>0.0</td><td>0.0</td><td>0.0</td></tr><tr><th>9</th><td>8.0</td><td>0.00815</td><td>0.00783</td><td>0.01139</td><td>0.0</td><td>0.0</td><td>0.0</td></tr><tr><th>10</th><td>9.0</td><td>0.00815</td><td>0.00783</td><td>0.01139</td><td>0.0</td><td>0.0</td><td>0.0</td></tr><tr><th>11</th><td>10.0</td><td>0.00815</td><td>0.00783</td><td>0.01139</td><td>0.0</td><td>0.0</td><td>0.0</td></tr><tr><th>12</th><td>11.0</td><td>0.00815</td><td>0.00783</td><td>0.01139</td><td>0.0</td><td>0.0</td><td>0.0</td></tr><tr><th>13</th><td>12.0</td><td>0.00815</td><td>0.00783</td><td>0.01139</td><td>0.0</td><td>0.0</td><td>0.0</td></tr><tr><th>14</th><td>13.0</td><td>0.00815</td><td>0.00783</td><td>0.01139</td><td>0.0</td><td>0.0</td><td>0.0</td></tr><tr><th>15</th><td>14.0</td><td>0.00815</td><td>0.00783</td><td>0.01139</td><td>0.0</td><td>0.0</td><td>0.0</td></tr><tr><th>16</th><td>15.0</td><td>0.00815</td><td>0.00783</td><td>0.01139</td><td>0.0</td><td>0.0</td><td>0.0</td></tr><tr><th>17</th><td>16.0</td><td>0.00815</td><td>0.00783</td><td>0.01139</td><td>0.0</td><td>0.0</td><td>0.0</td></tr><tr><th>18</th><td>17.0</td><td>0.00815</td><td>0.00783</td><td>0.01139</td><td>0.0</td><td>0.0</td><td>0.0</td></tr><tr><th>19</th><td>18.0</td><td>0.00815</td><td>0.00783</td><td>0.01139</td><td>0.0</td><td>0.0</td><td>0.0</td></tr><tr><th>20</th><td>19.0</td><td>0.00815</td><td>0.00783</td><td>0.01139</td><td>0.0</td><td>0.0</td><td>0.0</td></tr><tr><th>21</th><td>20.0</td><td>0.00815</td><td>0.00783</td><td>0.01139</td><td>0.0</td><td>0.0</td><td>0.0</td></tr><tr><th>22</th><td>21.0</td><td>0.00815</td><td>0.00783</td><td>0.01139</td><td>0.0</td><td>0.0</td><td>0.0</td></tr><tr><th>23</th><td>22.0</td><td>0.00815</td><td>0.00783</td><td>0.01139</td><td>0.0</td><td>0.0</td><td>0.0</td></tr><tr><th>24</th><td>23.0</td><td>0.00815</td><td>0.00783</td><td>0.01139</td><td>0.0</td><td>0.0</td><td>0.0</td></tr><tr><th>25</th><td>24.0</td><td>0.00815</td><td>0.00783</td><td>0.01139</td><td>0.0</td><td>0.0</td><td>0.0</td></tr><tr><th>26</th><td>25.0</td><td>0.00815</td><td>0.00783</td><td>0.01139</td><td>0.0</td><td>0.0</td><td>0.0</td></tr><tr><th>27</th><td>26.0</td><td>0.00815</td><td>0.00783</td><td>0.01139</td><td>0.0</td><td>0.0</td><td>0.0</td></tr><tr><th>28</th><td>27.0</td><td>0.00815</td><td>0.00783</td><td>0.01139</td><td>0.0</td><td>0.0</td><td>0.0</td></tr><tr><th>29</th><td>28.0</td><td>0.00815</td><td>0.00783</td><td>0.01139</td><td>0.0</td><td>0.0</td><td>0.0</td></tr><tr><th>30</th><td>29.0</td><td>0.00815</td><td>0.00783</td><td>0.01139</td><td>0.0</td><td>0.0</td><td>0.0</td></tr><tr><th>&vellip;</th><td>&vellip;</td><td>&vellip;</td><td>&vellip;</td><td>&vellip;</td><td>&vellip;</td><td>&vellip;</td><td>&vellip;</td></tr></tbody></table>"
      ],
      "text/latex": [
       "\\begin{tabular}{r|ccccccc}\n",
       "\t& time & Input\\_12 & Input\\_10 & Input\\_8 & Output\\_12 & Output\\_10 & Output\\_8\\\\\n",
       "\t\\hline\n",
       "\t& Float64 & Float64 & Float64 & Float64 & Float64 & Float64 & Float64\\\\\n",
       "\t\\hline\n",
       "\t1 & 0.0 & 0.00815 & 0.00783 & 0.01139 & 0.0 & 0.0 & 0.0 \\\\\n",
       "\t2 & 1.0 & 0.00815 & 0.00783 & 0.01139 & 0.0 & 0.0 & 0.0 \\\\\n",
       "\t3 & 2.0 & 0.00815 & 0.00783 & 0.01139 & 0.0 & 0.0 & 0.0 \\\\\n",
       "\t4 & 3.0 & 0.00815 & 0.00783 & 0.01139 & 0.0 & 0.0 & 0.0 \\\\\n",
       "\t5 & 4.0 & 0.00815 & 0.00783 & 0.01139 & 0.0 & 0.0 & 0.0 \\\\\n",
       "\t6 & 5.0 & 0.00815 & 0.00783 & 0.01139 & 0.0 & 0.0 & 0.0 \\\\\n",
       "\t7 & 6.0 & 0.00815 & 0.00783 & 0.01139 & 0.0 & 0.0 & 0.0 \\\\\n",
       "\t8 & 7.0 & 0.00815 & 0.00783 & 0.01139 & 0.0 & 0.0 & 0.0 \\\\\n",
       "\t9 & 8.0 & 0.00815 & 0.00783 & 0.01139 & 0.0 & 0.0 & 0.0 \\\\\n",
       "\t10 & 9.0 & 0.00815 & 0.00783 & 0.01139 & 0.0 & 0.0 & 0.0 \\\\\n",
       "\t11 & 10.0 & 0.00815 & 0.00783 & 0.01139 & 0.0 & 0.0 & 0.0 \\\\\n",
       "\t12 & 11.0 & 0.00815 & 0.00783 & 0.01139 & 0.0 & 0.0 & 0.0 \\\\\n",
       "\t13 & 12.0 & 0.00815 & 0.00783 & 0.01139 & 0.0 & 0.0 & 0.0 \\\\\n",
       "\t14 & 13.0 & 0.00815 & 0.00783 & 0.01139 & 0.0 & 0.0 & 0.0 \\\\\n",
       "\t15 & 14.0 & 0.00815 & 0.00783 & 0.01139 & 0.0 & 0.0 & 0.0 \\\\\n",
       "\t16 & 15.0 & 0.00815 & 0.00783 & 0.01139 & 0.0 & 0.0 & 0.0 \\\\\n",
       "\t17 & 16.0 & 0.00815 & 0.00783 & 0.01139 & 0.0 & 0.0 & 0.0 \\\\\n",
       "\t18 & 17.0 & 0.00815 & 0.00783 & 0.01139 & 0.0 & 0.0 & 0.0 \\\\\n",
       "\t19 & 18.0 & 0.00815 & 0.00783 & 0.01139 & 0.0 & 0.0 & 0.0 \\\\\n",
       "\t20 & 19.0 & 0.00815 & 0.00783 & 0.01139 & 0.0 & 0.0 & 0.0 \\\\\n",
       "\t21 & 20.0 & 0.00815 & 0.00783 & 0.01139 & 0.0 & 0.0 & 0.0 \\\\\n",
       "\t22 & 21.0 & 0.00815 & 0.00783 & 0.01139 & 0.0 & 0.0 & 0.0 \\\\\n",
       "\t23 & 22.0 & 0.00815 & 0.00783 & 0.01139 & 0.0 & 0.0 & 0.0 \\\\\n",
       "\t24 & 23.0 & 0.00815 & 0.00783 & 0.01139 & 0.0 & 0.0 & 0.0 \\\\\n",
       "\t25 & 24.0 & 0.00815 & 0.00783 & 0.01139 & 0.0 & 0.0 & 0.0 \\\\\n",
       "\t26 & 25.0 & 0.00815 & 0.00783 & 0.01139 & 0.0 & 0.0 & 0.0 \\\\\n",
       "\t27 & 26.0 & 0.00815 & 0.00783 & 0.01139 & 0.0 & 0.0 & 0.0 \\\\\n",
       "\t28 & 27.0 & 0.00815 & 0.00783 & 0.01139 & 0.0 & 0.0 & 0.0 \\\\\n",
       "\t29 & 28.0 & 0.00815 & 0.00783 & 0.01139 & 0.0 & 0.0 & 0.0 \\\\\n",
       "\t30 & 29.0 & 0.00815 & 0.00783 & 0.01139 & 0.0 & 0.0 & 0.0 \\\\\n",
       "\t$\\dots$ & $\\dots$ & $\\dots$ & $\\dots$ & $\\dots$ & $\\dots$ & $\\dots$ & $\\dots$ \\\\\n",
       "\\end{tabular}\n"
      ],
      "text/plain": [
       "1001×7 DataFrame. Omitted printing of 1 columns\n",
       "│ Row  │ time    │ Input_12 │ Input_10 │ Input_8 │ Output_12 │ Output_10 │\n",
       "│      │ \u001b[90mFloat64\u001b[39m │ \u001b[90mFloat64\u001b[39m  │ \u001b[90mFloat64\u001b[39m  │ \u001b[90mFloat64\u001b[39m │ \u001b[90mFloat64\u001b[39m   │ \u001b[90mFloat64\u001b[39m   │\n",
       "├──────┼─────────┼──────────┼──────────┼─────────┼───────────┼───────────┤\n",
       "│ 1    │ 0.0     │ 0.00815  │ 0.00783  │ 0.01139 │ 0.0       │ 0.0       │\n",
       "│ 2    │ 1.0     │ 0.00815  │ 0.00783  │ 0.01139 │ 0.0       │ 0.0       │\n",
       "│ 3    │ 2.0     │ 0.00815  │ 0.00783  │ 0.01139 │ 0.0       │ 0.0       │\n",
       "│ 4    │ 3.0     │ 0.00815  │ 0.00783  │ 0.01139 │ 0.0       │ 0.0       │\n",
       "│ 5    │ 4.0     │ 0.00815  │ 0.00783  │ 0.01139 │ 0.0       │ 0.0       │\n",
       "│ 6    │ 5.0     │ 0.00815  │ 0.00783  │ 0.01139 │ 0.0       │ 0.0       │\n",
       "│ 7    │ 6.0     │ 0.00815  │ 0.00783  │ 0.01139 │ 0.0       │ 0.0       │\n",
       "│ 8    │ 7.0     │ 0.00815  │ 0.00783  │ 0.01139 │ 0.0       │ 0.0       │\n",
       "│ 9    │ 8.0     │ 0.00815  │ 0.00783  │ 0.01139 │ 0.0       │ 0.0       │\n",
       "│ 10   │ 9.0     │ 0.00815  │ 0.00783  │ 0.01139 │ 0.0       │ 0.0       │\n",
       "⋮\n",
       "│ 991  │ 990.0   │ 0.99578  │ 0.99629  │ 0.99925 │ 1.0       │ 1.0       │\n",
       "│ 992  │ 991.0   │ 0.99578  │ 0.99629  │ 0.99925 │ 1.0       │ 1.0       │\n",
       "│ 993  │ 992.0   │ 0.99578  │ 0.99629  │ 0.99925 │ 1.0       │ 1.0       │\n",
       "│ 994  │ 993.0   │ 0.99578  │ 0.99629  │ 0.99925 │ 1.0       │ 1.0       │\n",
       "│ 995  │ 994.0   │ 0.99578  │ 0.99629  │ 0.99925 │ 1.0       │ 1.0       │\n",
       "│ 996  │ 995.0   │ 0.99578  │ 0.99629  │ 0.99925 │ 1.0       │ 1.0       │\n",
       "│ 997  │ 996.0   │ 0.99578  │ 0.99629  │ 0.99925 │ 1.0       │ 1.0       │\n",
       "│ 998  │ 997.0   │ 0.99578  │ 0.99629  │ 0.99925 │ 1.0       │ 1.0       │\n",
       "│ 999  │ 998.0   │ 0.99578  │ 0.99629  │ 0.99925 │ 1.0       │ 1.0       │\n",
       "│ 1000 │ 999.0   │ 0.99578  │ 0.99629  │ 0.99925 │ 1.0       │ 1.0       │\n",
       "│ 1001 │ 1000.0  │ 0.99578  │ 0.99629  │ 0.99925 │ 1.0       │ 1.0       │"
      ]
     },
     "execution_count": 152,
     "metadata": {},
     "output_type": "execute_result"
    }
   ],
   "source": [
    "df1 = DataFrame(time = t, Input_12 = I_12, Input_10 = I_10, Input_8 = I_8, Output_12 = int_O_12, Output_10 = int_O_10, Output_8 = int_O_8)"
   ]
  },
  {
   "cell_type": "code",
   "execution_count": 154,
   "metadata": {},
   "outputs": [
    {
     "data": {
      "text/plain": [
       "\"D:\\\\git\\\\advection-diffusion-catalysis\\\\data\\\\experiment/SBA15_interp_all.csv\""
      ]
     },
     "execution_count": 154,
     "metadata": {},
     "output_type": "execute_result"
    }
   ],
   "source": [
    "CSV.write(datadir(\"experiment/SBA15_interp_all.csv\"),df1)"
   ]
  },
  {
   "cell_type": "code",
   "execution_count": 155,
   "metadata": {},
   "outputs": [
    {
     "data": {
      "text/html": [
       "<table class=\"data-frame\"><thead><tr><th></th><th>T</th><th>I</th><th>O</th></tr><tr><th></th><th>Float64</th><th>Float64</th><th>Float64</th></tr></thead><tbody><p>1,001 rows × 3 columns</p><tr><th>1</th><td>0.0</td><td>0.00815</td><td>0.0</td></tr><tr><th>2</th><td>1.0</td><td>0.00815</td><td>0.0</td></tr><tr><th>3</th><td>2.0</td><td>0.00815</td><td>0.0</td></tr><tr><th>4</th><td>3.0</td><td>0.00815</td><td>0.0</td></tr><tr><th>5</th><td>4.0</td><td>0.00815</td><td>0.0</td></tr><tr><th>6</th><td>5.0</td><td>0.00815</td><td>0.0</td></tr><tr><th>7</th><td>6.0</td><td>0.00815</td><td>0.0</td></tr><tr><th>8</th><td>7.0</td><td>0.00815</td><td>0.0</td></tr><tr><th>9</th><td>8.0</td><td>0.00815</td><td>0.0</td></tr><tr><th>10</th><td>9.0</td><td>0.00815</td><td>0.0</td></tr><tr><th>11</th><td>10.0</td><td>0.00815</td><td>0.0</td></tr><tr><th>12</th><td>11.0</td><td>0.00815</td><td>0.0</td></tr><tr><th>13</th><td>12.0</td><td>0.00815</td><td>0.0</td></tr><tr><th>14</th><td>13.0</td><td>0.00815</td><td>0.0</td></tr><tr><th>15</th><td>14.0</td><td>0.00815</td><td>0.0</td></tr><tr><th>16</th><td>15.0</td><td>0.00815</td><td>0.0</td></tr><tr><th>17</th><td>16.0</td><td>0.00815</td><td>0.0</td></tr><tr><th>18</th><td>17.0</td><td>0.00815</td><td>0.0</td></tr><tr><th>19</th><td>18.0</td><td>0.00815</td><td>0.0</td></tr><tr><th>20</th><td>19.0</td><td>0.00815</td><td>0.0</td></tr><tr><th>21</th><td>20.0</td><td>0.00815</td><td>0.0</td></tr><tr><th>22</th><td>21.0</td><td>0.00815</td><td>0.0</td></tr><tr><th>23</th><td>22.0</td><td>0.00815</td><td>0.0</td></tr><tr><th>24</th><td>23.0</td><td>0.00815</td><td>0.0</td></tr><tr><th>25</th><td>24.0</td><td>0.00815</td><td>0.0</td></tr><tr><th>26</th><td>25.0</td><td>0.00815</td><td>0.0</td></tr><tr><th>27</th><td>26.0</td><td>0.00815</td><td>0.0</td></tr><tr><th>28</th><td>27.0</td><td>0.00815</td><td>0.0</td></tr><tr><th>29</th><td>28.0</td><td>0.00815</td><td>0.0</td></tr><tr><th>30</th><td>29.0</td><td>0.00815</td><td>0.0</td></tr><tr><th>&vellip;</th><td>&vellip;</td><td>&vellip;</td><td>&vellip;</td></tr></tbody></table>"
      ],
      "text/latex": [
       "\\begin{tabular}{r|ccc}\n",
       "\t& T & I & O\\\\\n",
       "\t\\hline\n",
       "\t& Float64 & Float64 & Float64\\\\\n",
       "\t\\hline\n",
       "\t1 & 0.0 & 0.00815 & 0.0 \\\\\n",
       "\t2 & 1.0 & 0.00815 & 0.0 \\\\\n",
       "\t3 & 2.0 & 0.00815 & 0.0 \\\\\n",
       "\t4 & 3.0 & 0.00815 & 0.0 \\\\\n",
       "\t5 & 4.0 & 0.00815 & 0.0 \\\\\n",
       "\t6 & 5.0 & 0.00815 & 0.0 \\\\\n",
       "\t7 & 6.0 & 0.00815 & 0.0 \\\\\n",
       "\t8 & 7.0 & 0.00815 & 0.0 \\\\\n",
       "\t9 & 8.0 & 0.00815 & 0.0 \\\\\n",
       "\t10 & 9.0 & 0.00815 & 0.0 \\\\\n",
       "\t11 & 10.0 & 0.00815 & 0.0 \\\\\n",
       "\t12 & 11.0 & 0.00815 & 0.0 \\\\\n",
       "\t13 & 12.0 & 0.00815 & 0.0 \\\\\n",
       "\t14 & 13.0 & 0.00815 & 0.0 \\\\\n",
       "\t15 & 14.0 & 0.00815 & 0.0 \\\\\n",
       "\t16 & 15.0 & 0.00815 & 0.0 \\\\\n",
       "\t17 & 16.0 & 0.00815 & 0.0 \\\\\n",
       "\t18 & 17.0 & 0.00815 & 0.0 \\\\\n",
       "\t19 & 18.0 & 0.00815 & 0.0 \\\\\n",
       "\t20 & 19.0 & 0.00815 & 0.0 \\\\\n",
       "\t21 & 20.0 & 0.00815 & 0.0 \\\\\n",
       "\t22 & 21.0 & 0.00815 & 0.0 \\\\\n",
       "\t23 & 22.0 & 0.00815 & 0.0 \\\\\n",
       "\t24 & 23.0 & 0.00815 & 0.0 \\\\\n",
       "\t25 & 24.0 & 0.00815 & 0.0 \\\\\n",
       "\t26 & 25.0 & 0.00815 & 0.0 \\\\\n",
       "\t27 & 26.0 & 0.00815 & 0.0 \\\\\n",
       "\t28 & 27.0 & 0.00815 & 0.0 \\\\\n",
       "\t29 & 28.0 & 0.00815 & 0.0 \\\\\n",
       "\t30 & 29.0 & 0.00815 & 0.0 \\\\\n",
       "\t$\\dots$ & $\\dots$ & $\\dots$ & $\\dots$ \\\\\n",
       "\\end{tabular}\n"
      ],
      "text/plain": [
       "1001×3 DataFrame\n",
       "│ Row  │ T       │ I       │ O       │\n",
       "│      │ \u001b[90mFloat64\u001b[39m │ \u001b[90mFloat64\u001b[39m │ \u001b[90mFloat64\u001b[39m │\n",
       "├──────┼─────────┼─────────┼─────────┤\n",
       "│ 1    │ 0.0     │ 0.00815 │ 0.0     │\n",
       "│ 2    │ 1.0     │ 0.00815 │ 0.0     │\n",
       "│ 3    │ 2.0     │ 0.00815 │ 0.0     │\n",
       "│ 4    │ 3.0     │ 0.00815 │ 0.0     │\n",
       "│ 5    │ 4.0     │ 0.00815 │ 0.0     │\n",
       "│ 6    │ 5.0     │ 0.00815 │ 0.0     │\n",
       "│ 7    │ 6.0     │ 0.00815 │ 0.0     │\n",
       "│ 8    │ 7.0     │ 0.00815 │ 0.0     │\n",
       "│ 9    │ 8.0     │ 0.00815 │ 0.0     │\n",
       "│ 10   │ 9.0     │ 0.00815 │ 0.0     │\n",
       "⋮\n",
       "│ 991  │ 990.0   │ 0.99578 │ 1.0     │\n",
       "│ 992  │ 991.0   │ 0.99578 │ 1.0     │\n",
       "│ 993  │ 992.0   │ 0.99578 │ 1.0     │\n",
       "│ 994  │ 993.0   │ 0.99578 │ 1.0     │\n",
       "│ 995  │ 994.0   │ 0.99578 │ 1.0     │\n",
       "│ 996  │ 995.0   │ 0.99578 │ 1.0     │\n",
       "│ 997  │ 996.0   │ 0.99578 │ 1.0     │\n",
       "│ 998  │ 997.0   │ 0.99578 │ 1.0     │\n",
       "│ 999  │ 998.0   │ 0.99578 │ 1.0     │\n",
       "│ 1000 │ 999.0   │ 0.99578 │ 1.0     │\n",
       "│ 1001 │ 1000.0  │ 0.99578 │ 1.0     │"
      ]
     },
     "execution_count": 155,
     "metadata": {},
     "output_type": "execute_result"
    }
   ],
   "source": [
    "df2 = DataFrame(T = t, I = I_12, O = int_O_12)"
   ]
  },
  {
   "cell_type": "code",
   "execution_count": 156,
   "metadata": {},
   "outputs": [
    {
     "data": {
      "text/plain": [
       "\"D:\\\\git\\\\advection-diffusion-catalysis\\\\data\\\\experiment/SBA15_interp_12.csv\""
      ]
     },
     "execution_count": 156,
     "metadata": {},
     "output_type": "execute_result"
    }
   ],
   "source": [
    "CSV.write(datadir(\"experiment/SBA15_interp_12.csv\"),df2)"
   ]
  },
  {
   "cell_type": "code",
   "execution_count": 157,
   "metadata": {},
   "outputs": [
    {
     "data": {
      "text/html": [
       "<table class=\"data-frame\"><thead><tr><th></th><th>T</th><th>I</th><th>O</th></tr><tr><th></th><th>Float64</th><th>Float64</th><th>Float64</th></tr></thead><tbody><p>1,001 rows × 3 columns</p><tr><th>1</th><td>0.0</td><td>0.00783</td><td>0.0</td></tr><tr><th>2</th><td>1.0</td><td>0.00783</td><td>0.0</td></tr><tr><th>3</th><td>2.0</td><td>0.00783</td><td>0.0</td></tr><tr><th>4</th><td>3.0</td><td>0.00783</td><td>0.0</td></tr><tr><th>5</th><td>4.0</td><td>0.00783</td><td>0.0</td></tr><tr><th>6</th><td>5.0</td><td>0.00783</td><td>0.0</td></tr><tr><th>7</th><td>6.0</td><td>0.00783</td><td>0.0</td></tr><tr><th>8</th><td>7.0</td><td>0.00783</td><td>0.0</td></tr><tr><th>9</th><td>8.0</td><td>0.00783</td><td>0.0</td></tr><tr><th>10</th><td>9.0</td><td>0.00783</td><td>0.0</td></tr><tr><th>11</th><td>10.0</td><td>0.00783</td><td>0.0</td></tr><tr><th>12</th><td>11.0</td><td>0.00783</td><td>0.0</td></tr><tr><th>13</th><td>12.0</td><td>0.00783</td><td>0.0</td></tr><tr><th>14</th><td>13.0</td><td>0.00783</td><td>0.0</td></tr><tr><th>15</th><td>14.0</td><td>0.00783</td><td>0.0</td></tr><tr><th>16</th><td>15.0</td><td>0.00783</td><td>0.0</td></tr><tr><th>17</th><td>16.0</td><td>0.00783</td><td>0.0</td></tr><tr><th>18</th><td>17.0</td><td>0.00783</td><td>0.0</td></tr><tr><th>19</th><td>18.0</td><td>0.00783</td><td>0.0</td></tr><tr><th>20</th><td>19.0</td><td>0.00783</td><td>0.0</td></tr><tr><th>21</th><td>20.0</td><td>0.00783</td><td>0.0</td></tr><tr><th>22</th><td>21.0</td><td>0.00783</td><td>0.0</td></tr><tr><th>23</th><td>22.0</td><td>0.00783</td><td>0.0</td></tr><tr><th>24</th><td>23.0</td><td>0.00783</td><td>0.0</td></tr><tr><th>25</th><td>24.0</td><td>0.00783</td><td>0.0</td></tr><tr><th>26</th><td>25.0</td><td>0.00783</td><td>0.0</td></tr><tr><th>27</th><td>26.0</td><td>0.00783</td><td>0.0</td></tr><tr><th>28</th><td>27.0</td><td>0.00783</td><td>0.0</td></tr><tr><th>29</th><td>28.0</td><td>0.00783</td><td>0.0</td></tr><tr><th>30</th><td>29.0</td><td>0.00783</td><td>0.0</td></tr><tr><th>&vellip;</th><td>&vellip;</td><td>&vellip;</td><td>&vellip;</td></tr></tbody></table>"
      ],
      "text/latex": [
       "\\begin{tabular}{r|ccc}\n",
       "\t& T & I & O\\\\\n",
       "\t\\hline\n",
       "\t& Float64 & Float64 & Float64\\\\\n",
       "\t\\hline\n",
       "\t1 & 0.0 & 0.00783 & 0.0 \\\\\n",
       "\t2 & 1.0 & 0.00783 & 0.0 \\\\\n",
       "\t3 & 2.0 & 0.00783 & 0.0 \\\\\n",
       "\t4 & 3.0 & 0.00783 & 0.0 \\\\\n",
       "\t5 & 4.0 & 0.00783 & 0.0 \\\\\n",
       "\t6 & 5.0 & 0.00783 & 0.0 \\\\\n",
       "\t7 & 6.0 & 0.00783 & 0.0 \\\\\n",
       "\t8 & 7.0 & 0.00783 & 0.0 \\\\\n",
       "\t9 & 8.0 & 0.00783 & 0.0 \\\\\n",
       "\t10 & 9.0 & 0.00783 & 0.0 \\\\\n",
       "\t11 & 10.0 & 0.00783 & 0.0 \\\\\n",
       "\t12 & 11.0 & 0.00783 & 0.0 \\\\\n",
       "\t13 & 12.0 & 0.00783 & 0.0 \\\\\n",
       "\t14 & 13.0 & 0.00783 & 0.0 \\\\\n",
       "\t15 & 14.0 & 0.00783 & 0.0 \\\\\n",
       "\t16 & 15.0 & 0.00783 & 0.0 \\\\\n",
       "\t17 & 16.0 & 0.00783 & 0.0 \\\\\n",
       "\t18 & 17.0 & 0.00783 & 0.0 \\\\\n",
       "\t19 & 18.0 & 0.00783 & 0.0 \\\\\n",
       "\t20 & 19.0 & 0.00783 & 0.0 \\\\\n",
       "\t21 & 20.0 & 0.00783 & 0.0 \\\\\n",
       "\t22 & 21.0 & 0.00783 & 0.0 \\\\\n",
       "\t23 & 22.0 & 0.00783 & 0.0 \\\\\n",
       "\t24 & 23.0 & 0.00783 & 0.0 \\\\\n",
       "\t25 & 24.0 & 0.00783 & 0.0 \\\\\n",
       "\t26 & 25.0 & 0.00783 & 0.0 \\\\\n",
       "\t27 & 26.0 & 0.00783 & 0.0 \\\\\n",
       "\t28 & 27.0 & 0.00783 & 0.0 \\\\\n",
       "\t29 & 28.0 & 0.00783 & 0.0 \\\\\n",
       "\t30 & 29.0 & 0.00783 & 0.0 \\\\\n",
       "\t$\\dots$ & $\\dots$ & $\\dots$ & $\\dots$ \\\\\n",
       "\\end{tabular}\n"
      ],
      "text/plain": [
       "1001×3 DataFrame\n",
       "│ Row  │ T       │ I       │ O       │\n",
       "│      │ \u001b[90mFloat64\u001b[39m │ \u001b[90mFloat64\u001b[39m │ \u001b[90mFloat64\u001b[39m │\n",
       "├──────┼─────────┼─────────┼─────────┤\n",
       "│ 1    │ 0.0     │ 0.00783 │ 0.0     │\n",
       "│ 2    │ 1.0     │ 0.00783 │ 0.0     │\n",
       "│ 3    │ 2.0     │ 0.00783 │ 0.0     │\n",
       "│ 4    │ 3.0     │ 0.00783 │ 0.0     │\n",
       "│ 5    │ 4.0     │ 0.00783 │ 0.0     │\n",
       "│ 6    │ 5.0     │ 0.00783 │ 0.0     │\n",
       "│ 7    │ 6.0     │ 0.00783 │ 0.0     │\n",
       "│ 8    │ 7.0     │ 0.00783 │ 0.0     │\n",
       "│ 9    │ 8.0     │ 0.00783 │ 0.0     │\n",
       "│ 10   │ 9.0     │ 0.00783 │ 0.0     │\n",
       "⋮\n",
       "│ 991  │ 990.0   │ 0.99629 │ 1.0     │\n",
       "│ 992  │ 991.0   │ 0.99629 │ 1.0     │\n",
       "│ 993  │ 992.0   │ 0.99629 │ 1.0     │\n",
       "│ 994  │ 993.0   │ 0.99629 │ 1.0     │\n",
       "│ 995  │ 994.0   │ 0.99629 │ 1.0     │\n",
       "│ 996  │ 995.0   │ 0.99629 │ 1.0     │\n",
       "│ 997  │ 996.0   │ 0.99629 │ 1.0     │\n",
       "│ 998  │ 997.0   │ 0.99629 │ 1.0     │\n",
       "│ 999  │ 998.0   │ 0.99629 │ 1.0     │\n",
       "│ 1000 │ 999.0   │ 0.99629 │ 1.0     │\n",
       "│ 1001 │ 1000.0  │ 0.99629 │ 1.0     │"
      ]
     },
     "execution_count": 157,
     "metadata": {},
     "output_type": "execute_result"
    }
   ],
   "source": [
    "df3 = DataFrame(T = t, I = I_10, O = int_O_10)"
   ]
  },
  {
   "cell_type": "code",
   "execution_count": 158,
   "metadata": {},
   "outputs": [
    {
     "data": {
      "text/plain": [
       "\"D:\\\\git\\\\advection-diffusion-catalysis\\\\data\\\\experiment/SBA15_interp_10.csv\""
      ]
     },
     "execution_count": 158,
     "metadata": {},
     "output_type": "execute_result"
    }
   ],
   "source": [
    "CSV.write(datadir(\"experiment/SBA15_interp_10.csv\"),df3)"
   ]
  },
  {
   "cell_type": "code",
   "execution_count": 159,
   "metadata": {},
   "outputs": [
    {
     "data": {
      "text/html": [
       "<table class=\"data-frame\"><thead><tr><th></th><th>T</th><th>I</th><th>O</th></tr><tr><th></th><th>Float64</th><th>Float64</th><th>Float64</th></tr></thead><tbody><p>1,001 rows × 3 columns</p><tr><th>1</th><td>0.0</td><td>0.01139</td><td>0.0</td></tr><tr><th>2</th><td>1.0</td><td>0.01139</td><td>0.0</td></tr><tr><th>3</th><td>2.0</td><td>0.01139</td><td>0.0</td></tr><tr><th>4</th><td>3.0</td><td>0.01139</td><td>0.0</td></tr><tr><th>5</th><td>4.0</td><td>0.01139</td><td>0.0</td></tr><tr><th>6</th><td>5.0</td><td>0.01139</td><td>0.0</td></tr><tr><th>7</th><td>6.0</td><td>0.01139</td><td>0.0</td></tr><tr><th>8</th><td>7.0</td><td>0.01139</td><td>0.0</td></tr><tr><th>9</th><td>8.0</td><td>0.01139</td><td>0.0</td></tr><tr><th>10</th><td>9.0</td><td>0.01139</td><td>0.0</td></tr><tr><th>11</th><td>10.0</td><td>0.01139</td><td>0.0</td></tr><tr><th>12</th><td>11.0</td><td>0.01139</td><td>0.0</td></tr><tr><th>13</th><td>12.0</td><td>0.01139</td><td>0.0</td></tr><tr><th>14</th><td>13.0</td><td>0.01139</td><td>0.0</td></tr><tr><th>15</th><td>14.0</td><td>0.01139</td><td>0.0</td></tr><tr><th>16</th><td>15.0</td><td>0.01139</td><td>0.0</td></tr><tr><th>17</th><td>16.0</td><td>0.01139</td><td>0.0</td></tr><tr><th>18</th><td>17.0</td><td>0.01139</td><td>0.0</td></tr><tr><th>19</th><td>18.0</td><td>0.01139</td><td>0.0</td></tr><tr><th>20</th><td>19.0</td><td>0.01139</td><td>0.0</td></tr><tr><th>21</th><td>20.0</td><td>0.01139</td><td>0.0</td></tr><tr><th>22</th><td>21.0</td><td>0.01139</td><td>0.0</td></tr><tr><th>23</th><td>22.0</td><td>0.01139</td><td>0.0</td></tr><tr><th>24</th><td>23.0</td><td>0.01139</td><td>0.0</td></tr><tr><th>25</th><td>24.0</td><td>0.01139</td><td>0.0</td></tr><tr><th>26</th><td>25.0</td><td>0.01139</td><td>0.0</td></tr><tr><th>27</th><td>26.0</td><td>0.01139</td><td>0.0</td></tr><tr><th>28</th><td>27.0</td><td>0.01139</td><td>0.0</td></tr><tr><th>29</th><td>28.0</td><td>0.01139</td><td>0.0</td></tr><tr><th>30</th><td>29.0</td><td>0.01139</td><td>0.0</td></tr><tr><th>&vellip;</th><td>&vellip;</td><td>&vellip;</td><td>&vellip;</td></tr></tbody></table>"
      ],
      "text/latex": [
       "\\begin{tabular}{r|ccc}\n",
       "\t& T & I & O\\\\\n",
       "\t\\hline\n",
       "\t& Float64 & Float64 & Float64\\\\\n",
       "\t\\hline\n",
       "\t1 & 0.0 & 0.01139 & 0.0 \\\\\n",
       "\t2 & 1.0 & 0.01139 & 0.0 \\\\\n",
       "\t3 & 2.0 & 0.01139 & 0.0 \\\\\n",
       "\t4 & 3.0 & 0.01139 & 0.0 \\\\\n",
       "\t5 & 4.0 & 0.01139 & 0.0 \\\\\n",
       "\t6 & 5.0 & 0.01139 & 0.0 \\\\\n",
       "\t7 & 6.0 & 0.01139 & 0.0 \\\\\n",
       "\t8 & 7.0 & 0.01139 & 0.0 \\\\\n",
       "\t9 & 8.0 & 0.01139 & 0.0 \\\\\n",
       "\t10 & 9.0 & 0.01139 & 0.0 \\\\\n",
       "\t11 & 10.0 & 0.01139 & 0.0 \\\\\n",
       "\t12 & 11.0 & 0.01139 & 0.0 \\\\\n",
       "\t13 & 12.0 & 0.01139 & 0.0 \\\\\n",
       "\t14 & 13.0 & 0.01139 & 0.0 \\\\\n",
       "\t15 & 14.0 & 0.01139 & 0.0 \\\\\n",
       "\t16 & 15.0 & 0.01139 & 0.0 \\\\\n",
       "\t17 & 16.0 & 0.01139 & 0.0 \\\\\n",
       "\t18 & 17.0 & 0.01139 & 0.0 \\\\\n",
       "\t19 & 18.0 & 0.01139 & 0.0 \\\\\n",
       "\t20 & 19.0 & 0.01139 & 0.0 \\\\\n",
       "\t21 & 20.0 & 0.01139 & 0.0 \\\\\n",
       "\t22 & 21.0 & 0.01139 & 0.0 \\\\\n",
       "\t23 & 22.0 & 0.01139 & 0.0 \\\\\n",
       "\t24 & 23.0 & 0.01139 & 0.0 \\\\\n",
       "\t25 & 24.0 & 0.01139 & 0.0 \\\\\n",
       "\t26 & 25.0 & 0.01139 & 0.0 \\\\\n",
       "\t27 & 26.0 & 0.01139 & 0.0 \\\\\n",
       "\t28 & 27.0 & 0.01139 & 0.0 \\\\\n",
       "\t29 & 28.0 & 0.01139 & 0.0 \\\\\n",
       "\t30 & 29.0 & 0.01139 & 0.0 \\\\\n",
       "\t$\\dots$ & $\\dots$ & $\\dots$ & $\\dots$ \\\\\n",
       "\\end{tabular}\n"
      ],
      "text/plain": [
       "1001×3 DataFrame\n",
       "│ Row  │ T       │ I       │ O       │\n",
       "│      │ \u001b[90mFloat64\u001b[39m │ \u001b[90mFloat64\u001b[39m │ \u001b[90mFloat64\u001b[39m │\n",
       "├──────┼─────────┼─────────┼─────────┤\n",
       "│ 1    │ 0.0     │ 0.01139 │ 0.0     │\n",
       "│ 2    │ 1.0     │ 0.01139 │ 0.0     │\n",
       "│ 3    │ 2.0     │ 0.01139 │ 0.0     │\n",
       "│ 4    │ 3.0     │ 0.01139 │ 0.0     │\n",
       "│ 5    │ 4.0     │ 0.01139 │ 0.0     │\n",
       "│ 6    │ 5.0     │ 0.01139 │ 0.0     │\n",
       "│ 7    │ 6.0     │ 0.01139 │ 0.0     │\n",
       "│ 8    │ 7.0     │ 0.01139 │ 0.0     │\n",
       "│ 9    │ 8.0     │ 0.01139 │ 0.0     │\n",
       "│ 10   │ 9.0     │ 0.01139 │ 0.0     │\n",
       "⋮\n",
       "│ 991  │ 990.0   │ 0.99925 │ 1.0     │\n",
       "│ 992  │ 991.0   │ 0.99925 │ 1.0     │\n",
       "│ 993  │ 992.0   │ 0.99925 │ 1.0     │\n",
       "│ 994  │ 993.0   │ 0.99925 │ 1.0     │\n",
       "│ 995  │ 994.0   │ 0.99925 │ 1.0     │\n",
       "│ 996  │ 995.0   │ 0.99925 │ 1.0     │\n",
       "│ 997  │ 996.0   │ 0.99925 │ 1.0     │\n",
       "│ 998  │ 997.0   │ 0.99925 │ 1.0     │\n",
       "│ 999  │ 998.0   │ 0.99925 │ 1.0     │\n",
       "│ 1000 │ 999.0   │ 0.99925 │ 1.0     │\n",
       "│ 1001 │ 1000.0  │ 0.99925 │ 1.0     │"
      ]
     },
     "execution_count": 159,
     "metadata": {},
     "output_type": "execute_result"
    }
   ],
   "source": [
    "df4 = DataFrame(T = t, I = I_8, O = int_O_8)"
   ]
  },
  {
   "cell_type": "code",
   "execution_count": 160,
   "metadata": {},
   "outputs": [
    {
     "data": {
      "text/plain": [
       "\"D:\\\\git\\\\advection-diffusion-catalysis\\\\data\\\\experiment/SBA15_interp_8.csv\""
      ]
     },
     "execution_count": 160,
     "metadata": {},
     "output_type": "execute_result"
    }
   ],
   "source": [
    "CSV.write(datadir(\"experiment/SBA15_interp_8.csv\"),df4)"
   ]
  },
  {
   "cell_type": "code",
   "execution_count": null,
   "metadata": {},
   "outputs": [],
   "source": []
  }
 ],
 "metadata": {
  "kernelspec": {
   "display_name": "Julia 1.4.1",
   "language": "julia",
   "name": "julia-1.4"
  },
  "language_info": {
   "file_extension": ".jl",
   "mimetype": "application/julia",
   "name": "julia",
   "version": "1.4.1"
  }
 },
 "nbformat": 4,
 "nbformat_minor": 4
}
