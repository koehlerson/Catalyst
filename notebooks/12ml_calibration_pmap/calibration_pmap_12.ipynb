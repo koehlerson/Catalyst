{
 "cells": [
  {
   "cell_type": "code",
   "execution_count": 1,
   "metadata": {},
   "outputs": [
    {
     "data": {
      "text/plain": [
       "PyObject <module 'cma' from '/home/amjalled/.local/lib/python3.8/site-packages/cma/__init__.py'>"
      ]
     },
     "execution_count": 1,
     "metadata": {},
     "output_type": "execute_result"
    }
   ],
   "source": [
    "using PyCall\n",
    "cma = pyimport(\"cma\")"
   ]
  },
  {
   "cell_type": "code",
   "execution_count": 2,
   "metadata": {},
   "outputs": [
    {
     "name": "stderr",
     "output_type": "stream",
     "text": [
      "┌ Info: Precompiling Catalyst [01e5440a-74e3-4b45-b8b9-c13ddfc5051b]\n",
      "└ @ Base loading.jl:1260\n"
     ]
    }
   ],
   "source": [
    "using DrWatson\n",
    "@quickactivate :Catalyst"
   ]
  },
  {
   "cell_type": "code",
   "execution_count": 3,
   "metadata": {},
   "outputs": [
    {
     "data": {
      "text/plain": [
       "10-element Array{Int64,1}:\n",
       "  2\n",
       "  3\n",
       "  4\n",
       "  5\n",
       "  6\n",
       "  7\n",
       "  8\n",
       "  9\n",
       " 10\n",
       " 11"
      ]
     },
     "execution_count": 3,
     "metadata": {},
     "output_type": "execute_result"
    }
   ],
   "source": [
    "using Distributed\n",
    "N = 10\n",
    "addprocs(N)"
   ]
  },
  {
   "cell_type": "code",
   "execution_count": 4,
   "metadata": {},
   "outputs": [
    {
     "name": "stdout",
     "output_type": "stream",
     "text": [
      "      From worker 3:\t Activating environment at `~/Repos/advection-diffusion-catalysis/Project.toml`\n",
      "      From worker 8:\t Activating environment at `~/Repos/advection-diffusion-catalysis/Project.toml`\n",
      "      From worker 7:\t Activating environment at `~/Repos/advection-diffusion-catalysis/Project.toml`\n",
      "      From worker 10:\t Activating environment at `~/Repos/advection-diffusion-catalysis/Project.toml`\n",
      "      From worker 9:\t Activating environment at `~/Repos/advection-diffusion-catalysis/Project.toml`\n",
      "      From worker 5:\t Activating environment at `~/Repos/advection-diffusion-catalysis/Project.toml`\n",
      "      From worker 6:\t Activating environment at `~/Repos/advection-diffusion-catalysis/Project.toml`\n",
      "      From worker 11:\t Activating environment at `~/Repos/advection-diffusion-catalysis/Project.toml`\n",
      "      From worker 4:\t Activating environment at `~/Repos/advection-diffusion-catalysis/Project.toml`\n",
      "      From worker 2:\t Activating environment at `~/Repos/advection-diffusion-catalysis/Project.toml`\n"
     ]
    }
   ],
   "source": [
    "@everywhere using DrWatson\n",
    "@everywhere @quickactivate :Catalyst"
   ]
  },
  {
   "cell_type": "code",
   "execution_count": 5,
   "metadata": {},
   "outputs": [
    {
     "data": {
      "text/plain": [
       "calibrate (generic function with 1 method)"
      ]
     },
     "execution_count": 5,
     "metadata": {},
     "output_type": "execute_result"
    }
   ],
   "source": [
    "function calibrate(cma,N)\n",
    "    Init = [0.013235189689493238, 1., 1., 1., 1.] #initial guess\n",
    "    opts = cma.CMAOptions()\n",
    "    opts[\"bounds\"] = [[0, 0, 0, 0, 0], [1, 50, 50, 30, 30]] \n",
    "    opts[\"popsize\"] = N\n",
    "    weights = cma.recombination_weights.RecombinationWeights(N)\n",
    "    opts[\"CMA_recombination_weights\"] = weights\n",
    "    es = cma.CMAEvolutionStrategy(Init, 0.5, opts) \n",
    "    \n",
    "    input_exp = []\n",
    "    output_exp = []\n",
    "    for row in CSV.File(datadir(\"experiment/SBA15_interp_12.csv\"); delim = \",\")\n",
    "        push!(input_exp, row.I)\n",
    "        push!(output_exp, row.O)\n",
    "    end\n",
    "    n = 2\n",
    "    nels = (5n, convert(Int,2.5n),n)\n",
    "    S = Vec((0.0,0.0,0.0))\n",
    "    E = Vec((1.0,0.5,0.2))\n",
    "    grid = generate_grid(Tetrahedron, nels, S, E)\n",
    "    faces = union(getfaceset(grid,\"top\"),getfaceset(grid,\"bottom\"),getfaceset(grid,\"left\"),getfaceset(grid,\"right\"),\n",
    "                   getfaceset(grid,\"front\"),getfaceset(grid,\"back\"))\n",
    "    addfaceset!(grid, \"1\", faces)\n",
    "    \n",
    "    while isempty(es.stop()) \n",
    "        solutions = es.ask() \n",
    "        fitness = pmap(function eval(input_args) \n",
    "                            try \n",
    "                               return Catalyst.solve(input_args[1], input_args[2], input_args[3], \n",
    "                                          input_exp, output_exp, progress=false, \n",
    "                                          microcomp_type=:nonlinear, \n",
    "                                          Q=input_args[4], kₙ=input_args[5], \n",
    "                                          calibration=true,w=(2.2954e-4*(1/0.37)),micromesh=grid)\n",
    "                             catch err #in case we loose newton convergence in a microscopic computation \n",
    "                                return 1e10\n",
    "                             end\n",
    "                        end\n",
    "                            ,solutions) \n",
    "        es.tell(solutions,fitness) \n",
    "        es.logger.add() \n",
    "        es.disp() \n",
    "    end\n",
    "end"
   ]
  },
  {
   "cell_type": "code",
   "execution_count": null,
   "metadata": {},
   "outputs": [
    {
     "name": "stdout",
     "output_type": "stream",
     "text": [
      "(5_w,10)-aCMA-ES (mu_w=3.2,w_1=45%) in dimension 5 (seed=277535, Wed Aug 12 13:04:51 2020)\n",
      "Iterat #Fevals   function value  axis ratio  sigma  min&max std  t[m:s]\n",
      "    1     10 2.654572910362567e+02 1.0e+00 4.89e-01  4e-01  5e-01 15:16.2\n",
      "    2     20 2.571845310428248e+02 1.2e+00 5.40e-01  4e-01  6e-01 28:54.4\n",
      "    3     30 2.358667220357502e+02 1.7e+00 6.83e-01  6e-01  8e-01 42:32.4\n",
      "    4     40 2.013051778287392e+02 1.7e+00 8.90e-01  7e-01  1e+00 56:21.6\n",
      "    5     50 1.875166873470328e+02 1.9e+00 9.69e-01  8e-01  1e+00 70:14.6\n",
      "    6     60 1.718234857956428e+02 1.9e+00 1.04e+00  8e-01  1e+00 83:53.6\n",
      "    7     70 1.554590401192146e+02 2.0e+00 1.04e+00  8e-01  1e+00 97:36.1\n",
      "    8     80 1.699243484716739e+02 2.2e+00 1.11e+00  9e-01  1e+00 112:16.8\n",
      "    9     90 1.429455985288713e+02 2.4e+00 1.27e+00  1e+00  2e+00 126:29.8\n",
      "   10    100 3.394462730756821e+01 2.5e+00 1.43e+00  1e+00  2e+00 140:43.7\n",
      "   11    110 4.760707918765993e+00 2.5e+00 1.39e+00  1e+00  2e+00 154:18.0\n",
      "   12    120 1.517521979313651e+02 2.6e+00 1.24e+00  9e-01  2e+00 168:52.0\n",
      "   13    130 1.352277137667389e+02 2.9e+00 1.12e+00  8e-01  2e+00 183:28.8\n"
     ]
    }
   ],
   "source": [
    "@time calibrate(cma, N)"
   ]
  }
 ],
 "metadata": {
  "kernelspec": {
   "display_name": "Julia 1.4.2",
   "language": "julia",
   "name": "julia-1.4"
  },
  "language_info": {
   "file_extension": ".jl",
   "mimetype": "application/julia",
   "name": "julia",
   "version": "1.4.2"
  }
 },
 "nbformat": 4,
 "nbformat_minor": 4
}
