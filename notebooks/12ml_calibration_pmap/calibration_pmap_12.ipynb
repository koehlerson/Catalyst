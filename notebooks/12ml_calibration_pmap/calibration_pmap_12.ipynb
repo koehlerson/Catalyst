{
 "cells": [
  {
   "cell_type": "code",
   "execution_count": 5,
   "metadata": {},
   "outputs": [
    {
     "data": {
      "text/plain": [
       "PyObject <module 'cma' from '/home/amjalled/.local/lib/python3.8/site-packages/cma/__init__.py'>"
      ]
     },
     "execution_count": 5,
     "metadata": {},
     "output_type": "execute_result"
    }
   ],
   "source": [
    "using PyCall\n",
    "cma = pyimport(\"cma\")"
   ]
  },
  {
   "cell_type": "code",
   "execution_count": 7,
   "metadata": {},
   "outputs": [],
   "source": [
    "using DrWatson\n",
    "@quickactivate :Catalyst"
   ]
  },
  {
   "cell_type": "code",
   "execution_count": 8,
   "metadata": {},
   "outputs": [
    {
     "data": {
      "text/plain": [
       "10-element Array{Int64,1}:\n",
       " 12\n",
       " 13\n",
       " 14\n",
       " 15\n",
       " 16\n",
       " 17\n",
       " 18\n",
       " 19\n",
       " 20\n",
       " 21"
      ]
     },
     "execution_count": 8,
     "metadata": {},
     "output_type": "execute_result"
    }
   ],
   "source": [
    "using Distributed\n",
    "N = 10\n",
    "addprocs(N)"
   ]
  },
  {
   "cell_type": "code",
   "execution_count": 9,
   "metadata": {},
   "outputs": [
    {
     "name": "stdout",
     "output_type": "stream",
     "text": [
      "      From worker 14:\t Activating environment at `~/Repos/advection-diffusion-catalysis/Project.toml`\n",
      "      From worker 21:\t Activating environment at `~/Repos/advection-diffusion-catalysis/Project.toml`\n",
      "      From worker 15:\t Activating environment at `~/Repos/advection-diffusion-catalysis/Project.toml`\n",
      "      From worker 12:\t Activating environment at `~/Repos/advection-diffusion-catalysis/Project.toml`\n",
      "      From worker 19:\t Activating environment at `~/Repos/advection-diffusion-catalysis/Project.toml`\n",
      "      From worker 17:\t Activating environment at `~/Repos/advection-diffusion-catalysis/Project.toml`\n",
      "      From worker 18:\t Activating environment at `~/Repos/advection-diffusion-catalysis/Project.toml`\n",
      "      From worker 20:\t Activating environment at `~/Repos/advection-diffusion-catalysis/Project.toml`\n",
      "      From worker 13:\t Activating environment at `~/Repos/advection-diffusion-catalysis/Project.toml`\n",
      "      From worker 16:\t Activating environment at `~/Repos/advection-diffusion-catalysis/Project.toml`\n"
     ]
    }
   ],
   "source": [
    "@everywhere using DrWatson\n",
    "@everywhere @quickactivate :Catalyst"
   ]
  },
  {
   "cell_type": "code",
   "execution_count": 10,
   "metadata": {},
   "outputs": [
    {
     "data": {
      "text/plain": [
       "calibrate (generic function with 1 method)"
      ]
     },
     "execution_count": 10,
     "metadata": {},
     "output_type": "execute_result"
    }
   ],
   "source": [
    "function calibrate(cma,N)\n",
    "    Init = [0.013235189689493238, 1., 1., 1., 1.] #initial guess\n",
    "    opts = cma.CMAOptions()\n",
    "    opts[\"bounds\"] = [[0, 0, 0, 0, 0], [1, 50, 50, 30, 30]] \n",
    "    opts[\"popsize\"] = N\n",
    "    weights = cma.recombination_weights.RecombinationWeights(N)\n",
    "    opts[\"CMA_recombination_weights\"] = weights\n",
    "    es = cma.CMAEvolutionStrategy(Init, 0.5, opts) \n",
    "    \n",
    "    input_exp = []\n",
    "    output_exp = []\n",
    "    for row in CSV.File(datadir(\"experiment/SBA15_interp_12.csv\"); delim = \",\")\n",
    "        push!(input_exp, row.I)\n",
    "        push!(output_exp, row.O)\n",
    "    end\n",
    "    n = 2\n",
    "    nels = (5n, convert(Int,2.5n),n)\n",
    "    S = Vec((0.0,0.0,0.0))\n",
    "    E = Vec((1.0,0.5,0.2))\n",
    "    grid = generate_grid(Tetrahedron, nels, S, E)\n",
    "    faces = union(getfaceset(grid,\"top\"),getfaceset(grid,\"bottom\"),getfaceset(grid,\"left\"),getfaceset(grid,\"right\"),\n",
    "                   getfaceset(grid,\"front\"),getfaceset(grid,\"back\"))\n",
    "    addfaceset!(grid, \"1\", faces)\n",
    "    \n",
    "    while isempty(es.stop()) \n",
    "        solutions = es.ask() \n",
    "        fitness = pmap(function eval(input_args) \n",
    "                            try \n",
    "                               return Catalyst.solve(input_args[1], input_args[2], input_args[3], \n",
    "                                          input_exp, output_exp, progress=false, \n",
    "                                          microcomp_type=:nonlinear, \n",
    "                                          Q=input_args[4], kₙ=input_args[5], \n",
    "                                          calibration=true,w=(2.2954e-4*(1/0.37)),micromesh=grid)\n",
    "                             catch err #in case we loose newton convergence in a microscopic computation \n",
    "                                return 1e10\n",
    "                             end\n",
    "                        end\n",
    "                            ,solutions) \n",
    "        es.tell(solutions,fitness) \n",
    "        es.logger.add() \n",
    "        es.disp() \n",
    "    end\n",
    "end"
   ]
  },
  {
   "cell_type": "code",
   "execution_count": null,
   "metadata": {},
   "outputs": [],
   "source": [
    "@time calibrate(cma, N)"
   ]
  },
  {
   "cell_type": "code",
   "execution_count": null,
   "metadata": {},
   "outputs": [],
   "source": []
  }
 ],
 "metadata": {
  "kernelspec": {
   "display_name": "Julia 1.4.2",
   "language": "julia",
   "name": "julia-1.4"
  },
  "language_info": {
   "file_extension": ".jl",
   "mimetype": "application/julia",
   "name": "julia",
   "version": "1.4.2"
  }
 },
 "nbformat": 4,
 "nbformat_minor": 4
}
