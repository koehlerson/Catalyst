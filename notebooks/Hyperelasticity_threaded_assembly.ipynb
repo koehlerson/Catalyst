{
 "cells": [
  {
   "cell_type": "code",
   "execution_count": 15,
   "metadata": {},
   "outputs": [],
   "source": [
    "using JuAFEM, Tensors, TimerOutputs, ProgressMeter\n",
    "using KrylovMethods, IterativeSolvers, SparseArrays"
   ]
  },
  {
   "cell_type": "code",
   "execution_count": 8,
   "metadata": {},
   "outputs": [
    {
     "data": {
      "text/plain": [
       "constitutive_driver (generic function with 1 method)"
      ]
     },
     "execution_count": 8,
     "metadata": {},
     "output_type": "execute_result"
    }
   ],
   "source": [
    "struct NeoHooke\n",
    "    μ::Float64\n",
    "    λ::Float64\n",
    "end\n",
    "\n",
    "function Ψ(C, mp::NeoHooke)\n",
    "    μ = mp.μ\n",
    "    λ = mp.λ\n",
    "    Ic = tr(C)\n",
    "    J = sqrt(det(C))\n",
    "    return μ / 2 * (Ic - 3) - μ * log(J) + λ / 2 * log(J)^2\n",
    "end\n",
    "\n",
    "function constitutive_driver(C, mp::NeoHooke) \n",
    "    # to compute all derivatives in one function call \n",
    "    ∂²Ψ∂C², ∂Ψ∂C = Tensors.hessian(y -> Ψ(y, mp), C, :all)\n",
    "    S = 2.0 * ∂Ψ∂C\n",
    "    ∂S∂C = 4.0 * ∂²Ψ∂C²\n",
    "    return S, ∂S∂C\n",
    "end"
   ]
  },
  {
   "cell_type": "code",
   "execution_count": 9,
   "metadata": {},
   "outputs": [],
   "source": [
    "struct ScratchValues{T, CV <: CellValues, FV <: FaceValues, TT <: AbstractTensor, dim, Ti}\n",
    "    Ke::Matrix{T}\n",
    "    ge::Vector{T}\n",
    "    cellvalues::CV\n",
    "    facevalues::FV\n",
    "    global_dofs::Vector{Int}\n",
    "    assembler::JuAFEM.AssemblerSparsityPattern{T, Ti}\n",
    "end;"
   ]
  },
  {
   "cell_type": "code",
   "execution_count": 10,
   "metadata": {},
   "outputs": [],
   "source": [
    "function create_values(refshape, dim, order::Int)\n",
    "    # Interpolations and values\n",
    "    interpolation_space = Lagrange{dim, refshape, 1}()\n",
    "    quadrature_rule = QuadratureRule{dim, refshape}(order)\n",
    "    face_quadrature_rule = QuadratureRule{dim-1, refshape}(order)\n",
    "    cellvalues = [CellVectorValues(quadrature_rule, interpolation_space) for i in 1:Threads.nthreads()];\n",
    "    facevalues = [FaceVectorValues(face_quadrature_rule, interpolation_space) for i in 1:Threads.nthreads()];\n",
    "    return cellvalues, facevalues\n",
    "end;"
   ]
  },
  {
   "cell_type": "code",
   "execution_count": 11,
   "metadata": {},
   "outputs": [],
   "source": [
    "function create_scratchvalues(K, f, dh::DofHandler{dim}) where {dim}\n",
    "    nthreads = Threads.nthreads()\n",
    "    assemblers = [start_assemble(K, f) for i in 1:nthreads] #preparing all the threads for the assembly\n",
    "    cellvalues, facevalues = create_values(RefTetrahedron, dim, 1) #by this function we create CellValues to all the threads\n",
    "\n",
    "    n_basefuncs = getnbasefunctions(cellvalues[1])\n",
    "    global_dofs = [zeros(Int, ndofs_per_cell(dh)) for i in 1:nthreads] #defining the dofs vector for all the threads\n",
    "\n",
    "    fes = [zeros(n_basefuncs) for i in 1:nthreads] # Local force vector\n",
    "    Kes = [zeros(n_basefuncs, n_basefuncs) for i in 1:nthreads] #defining the local stiffness matirx for all the threads\n",
    "\n",
    "    return [ScratchValues(Kes[i], fes[i], cellvalues[i], facevalues[i], global_dofs[i],\n",
    "                          assemblers[i]) for i in 1:nthreads]\n",
    "end; "
   ]
  },
  {
   "cell_type": "code",
   "execution_count": 12,
   "metadata": {},
   "outputs": [
    {
     "data": {
      "text/plain": [
       "assemble_cell! (generic function with 1 method)"
      ]
     },
     "execution_count": 12,
     "metadata": {},
     "output_type": "execute_result"
    }
   ],
   "source": [
    "function assemble_cell!(scratch::ScratchValues, cell::Int, dh::DofHandler, ue)\n",
    "    ke,ge,cellvalues,facevalues,global_dofs,assembler = scratch.ke, scratch.ge,scratch.cellvalues,\n",
    "                                                        scratch.facevalues,scratch.global_dofs,scratch.assembler\n",
    "    \n",
    "    fill!(ke,0.0)\n",
    "    fill!(ge,0.0)\n",
    "    \n",
    "    b = Vec{3}((0.0, -0.5, 0.0))\n",
    "    t = Vec{3}((0.1,0.0,0.0))\n",
    "    ndofs = getnbasefunctions(cellvalues)\n",
    "    \n",
    "        for qp in 1:getnquadpoints(cellvalues)\n",
    "        dΩ = getdetJdV(cellvalues, qp)\n",
    "        # Compute deformation gradient F and right Cauchy-Green tensor C\n",
    "        ∇u = function_gradient(cellvalues, qp, ue)\n",
    "        F = one(∇u) + ∇u\n",
    "        C = tdot(F)\n",
    "        # Compute stress and tangent\n",
    "        S, ∂S∂C = constitutive_driver(C, mp)\n",
    "        P = F ⋅ S\n",
    "        I = one(S)\n",
    "        ∂P∂F = otimesu(F, I) ⊡ ∂S∂C ⊡ otimesu(F', I) + otimesu(I, S)\n",
    "\n",
    "        # Loop over test functions\n",
    "        for i in 1:ndofs\n",
    "            # Test function + gradient\n",
    "            δui = shape_value(cellvalues, qp, i)\n",
    "            ∇δui = shape_gradient(cellvalues, qp, i)\n",
    "            # Add contribution to the residual from this test function\n",
    "            ge[i] += ( ∇δui ⊡ P - δui ⋅ b ) * dΩ\n",
    "\n",
    "            ∇δui∂P∂F = ∇δui ⊡ ∂P∂F # Hoisted computation\n",
    "            for j in 1:ndofs\n",
    "                ∇δuj = shape_gradient(cellvalues, qp, j)\n",
    "                # Add contribution to the tangent\n",
    "                ke[i, j] += ( ∇δui∂P∂F ⊡ ∇δuj ) * dΩ\n",
    "            end\n",
    "        end\n",
    "    end\n",
    "\n",
    "    # Surface integral for the traction\n",
    "    for face in 1:nfaces(cell)\n",
    "        if onboundary(cell, face)\n",
    "            reinit!(facevalues, cell, face)\n",
    "            for q_point in 1:getnquadpoints(facevalues)\n",
    "                dΓ = getdetJdV(facevalues, q_point)\n",
    "                for i in 1:ndofs\n",
    "                    δui = shape_value(facevalues, q_point, i)\n",
    "                    ge[i] -= (δui ⋅ t) * dΓ\n",
    "                end\n",
    "            end\n",
    "        end\n",
    "    end\n",
    "    \n",
    "    celldofs!(global_dofs, dh, cell)\n",
    "    assemble!(assembler, global_dofs, ge, Ke)\n",
    "\n",
    "end"
   ]
  },
  {
   "cell_type": "code",
   "execution_count": 16,
   "metadata": {},
   "outputs": [
    {
     "data": {
      "text/plain": [
       "doassemble (generic function with 1 method)"
      ]
     },
     "execution_count": 16,
     "metadata": {},
     "output_type": "execute_result"
    }
   ],
   "source": [
    "function doassemble(K::SparseMatrixCSC, colors, grid::Grid, dh::DofHandler, ue) where {dim}\n",
    "\n",
    "    g = zeros(ndofs(dh))\n",
    "    scratches = create_scratchvalues(K, f, dh)\n",
    "\n",
    "    for color in colors\n",
    "        # Each color is safe to assemble threaded\n",
    "        Threads.@threads for i in 1:length(color)\n",
    "            assemble_cell!(scratches[Threads.threadid()], color[i], dh, ue)\n",
    "        end\n",
    "    end\n",
    "\n",
    "    return K, f\n",
    "end"
   ]
  },
  {
   "cell_type": "code",
   "execution_count": 20,
   "metadata": {},
   "outputs": [
    {
     "data": {
      "text/plain": [
       "create_colored_grid (generic function with 1 method)"
      ]
     },
     "execution_count": 20,
     "metadata": {},
     "output_type": "execute_result"
    }
   ],
   "source": [
    "function create_colored_grid(celltype, n)\n",
    "    grid = generate_grid(celltype, (n, n, n), Vec{3}((0.0, 0.0, 0.0)), Vec{3}((1.0, 1.0, 1.0)))\n",
    "    cell_colors, final_colors = JuAFEM.create_coloring(grid)\n",
    "    return grid, final_colors\n",
    "end"
   ]
  },
  {
   "cell_type": "code",
   "execution_count": 17,
   "metadata": {},
   "outputs": [
    {
     "data": {
      "text/plain": [
       "solve (generic function with 1 method)"
      ]
     },
     "execution_count": 17,
     "metadata": {},
     "output_type": "execute_result"
    }
   ],
   "source": [
    "function solve()\n",
    "    reset_timer!()\n",
    "    \n",
    "    #generate a grid\n",
    "    N = 10\n",
    "    L = 1.0 \n",
    "    left = zero(Vec{3})\n",
    "    right = L * ones(Vec{3})\n",
    "    grid, colors = create_colored_grid(Tetrahedron,N)\n",
    "    \n",
    "    #Material parameters \n",
    "    E = 10.0\n",
    "    v = 0.3 \n",
    "    μ = E / (2(1 + v))\n",
    "    λ = (E * v) / ((1 + v) * (1 - 2v))\n",
    "    mp = NeoHooke(μ, λ)\n",
    "    \n",
    "    #finite element base \n",
    "    ip = Lagrange{3, RefTetrahedron, 1}() #lagrange shape functions of dimension 3 and 1st oder \n",
    "    qr = QuadratureRule{3, RefTetrahedron}(1) #The gauss points of 3D element of order 1 \n",
    "    qr_face = QuadratureRule{2, RefTetrahedron}(1) #the gauss points of the faces which is 2D and of order 1 \n",
    "    cv = CellVectorValues(qr, ip) #we combine the shape functions and the gauss points to get an object \n",
    "    fv = FaceVectorValues(qr_face, ip)\n",
    "    \n",
    "    #dof handler \n",
    "    dh = DofHandler(grid)\n",
    "    push!(dh, :u, 3)\n",
    "    close!(dh)\n",
    "    \n",
    "    function rotation(X, t, θ = deg2rad(60.0))\n",
    "        x, y, z = X\n",
    "        return t * Vec{3}(\n",
    "            (0.0,\n",
    "            L/2 - y + (y-L/2)*cos(θ) - (z-L/2)*sin(θ),\n",
    "            L/2 - z + (y-L/2)*sin(θ) + (z-L/2)*cos(θ)\n",
    "            ))\n",
    "    end\n",
    "    \n",
    "    dbcs = ConstraintHandler(dh)\n",
    "    dbc = Dirichlet(:u, getfaceset(grid, \"right\"), (x,t) -> [0.0, 0.0, 0.0], [1, 2, 3])\n",
    "    add!(dbcs, dbc)\n",
    "    dbc = Dirichlet(:u, getfaceset(grid, \"left\"), (x,t) -> rotation(x,t) , [1, 2, 3])\n",
    "    add!(dbcs, dbc)\n",
    "    close!(dbcs)\n",
    "    t = 0.5\n",
    "    JuAFEM.update!(dbcs, t)\n",
    "    \n",
    "    # pre allocotion of vectors for the solution of Newton increments \n",
    "    _ndofs = ndofs(dh)\n",
    "    un = zeros(_ndofs)\n",
    "    u = zeros(_ndofs)\n",
    "    Δu = zeros(_ndofs)\n",
    "    ΔΔu = zeros(_ndofs)\n",
    "    apply!(un, dbcs)\n",
    "    \n",
    "    #create sparse matrix and residual vector \n",
    "    K = create_sparsity_pattern(dh)\n",
    "    g = zeros(_ndofs)\n",
    "    \n",
    "    #perform Newton Iterations \n",
    "    newton_itr = -1\n",
    "    NEWTON_TOL = 1e-8\n",
    "    prog = ProgressMeter.ProgressThresh(NEWTON_TOL, \"solving:\")\n",
    "    \n",
    "    while true; newton_itr += 1\n",
    "        u .= un .+ Δu #current guess \n",
    "        doassemble(K, colors, grid, u)\n",
    "        normg = norm(g[JuAFEM.free_dofs(dbcs)])\n",
    "        apply_zero!(K, g, dbcs)\n",
    "        ProgressMeter.update!(prog, normg; showvalues = [(:iter, newton_itr)])\n",
    "\n",
    "        if normg < NEWTON_TOL\n",
    "            break\n",
    "        elseif newton_itr > 30\n",
    "            error(\"Reached maximum Newton iterations, aborting\")\n",
    "        end\n",
    "\n",
    "        # Compute increment using cg! from IterativeSolvers.jl\n",
    "        @timeit \"linear solve (KrylovMethods.cg)\" ΔΔu′, flag, relres, iter, resvec = KrylovMethods.cg(K, g; maxIter = 1000)\n",
    "        @assert flag == 0\n",
    "        @timeit \"linear solve (IterativeSolvers.cg!)\" IterativeSolvers.cg!(ΔΔu, K, g; maxiter=1000)\n",
    "\n",
    "        apply_zero!(ΔΔu, dbcs)\n",
    "        Δu .-= ΔΔu\n",
    "    end\n",
    "\n",
    "    # Save the solution\n",
    "    @timeit \"export\" begin\n",
    "        vtk_grid(\"hyperelasticity\", dh) do vtkfile\n",
    "            vtk_point_data(vtkfile, dh, u)\n",
    "        end\n",
    "    end\n",
    "\n",
    "    print_timer(title = \"Analysis with $(getncells(grid)) elements\", linechars = :ascii)\n",
    "    return u\n",
    "end"
   ]
  },
  {
   "cell_type": "code",
   "execution_count": 18,
   "metadata": {},
   "outputs": [
    {
     "ename": "UndefVarError",
     "evalue": "UndefVarError: colors not defined",
     "output_type": "error",
     "traceback": [
      "UndefVarError: colors not defined",
      "",
      "Stacktrace:",
      " [1] solve() at ./In[17]:67",
      " [2] top-level scope at In[18]:1"
     ]
    }
   ],
   "source": [
    "u = solve()"
   ]
  },
  {
   "cell_type": "code",
   "execution_count": null,
   "metadata": {},
   "outputs": [],
   "source": []
  }
 ],
 "metadata": {
  "kernelspec": {
   "display_name": "Julia 1.4.2",
   "language": "julia",
   "name": "julia-1.4"
  },
  "language_info": {
   "file_extension": ".jl",
   "mimetype": "application/julia",
   "name": "julia",
   "version": "1.4.2"
  }
 },
 "nbformat": 4,
 "nbformat_minor": 4
}
