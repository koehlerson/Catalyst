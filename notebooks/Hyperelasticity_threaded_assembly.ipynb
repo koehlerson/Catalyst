{
 "cells": [
  {
   "cell_type": "code",
   "execution_count": 10,
   "metadata": {},
   "outputs": [],
   "source": [
    "using JuAFEM, Tensors, TimerOutputs, ProgressMeter\n",
    "using KrylovMethods, IterativeSolvers"
   ]
  },
  {
   "cell_type": "code",
   "execution_count": 34,
   "metadata": {},
   "outputs": [
    {
     "data": {
      "text/plain": [
       "assemble_element! (generic function with 1 method)"
      ]
     },
     "execution_count": 34,
     "metadata": {},
     "output_type": "execute_result"
    }
   ],
   "source": [
    "struct NeoHooke\n",
    "    μ::Float64\n",
    "    λ::Float64\n",
    "end\n",
    "\n",
    "function Ψ(C, mp::NeoHooke)\n",
    "    μ = mp.μ\n",
    "    λ = mp.λ\n",
    "    Ic = tr(C)\n",
    "    J = sqrt(det(C))\n",
    "    return μ / 2 * (Ic - 3) - μ * log(J) + λ / 2 * log(J)^2\n",
    "end\n",
    "\n",
    "function constitutive_driver(C, mp::NeoHooke) \n",
    "    # to compute all derivatives in one function call \n",
    "    ∂²Ψ∂C², ∂Ψ∂C = Tensors.hessian(y -> Ψ(y, mp), C, :all)\n",
    "    S = 2.0 * ∂Ψ∂C\n",
    "    ∂S∂C = 4.0 * ∂²Ψ∂C²\n",
    "    return S, ∂S∂C\n",
    "end\n",
    "\n",
    "function assemble_element!(ke, ge, cell, cv, fv, mp, ue)\n",
    "    reinit!(cv, cell) #reinitialize the cell values, and reset output arrays\n",
    "    fill!(ke, 0.0)\n",
    "    fill!(ge, 0.0)\n",
    "    \n",
    "    b = Vec{3}((0.0,-0.5,0.0)) #body force\n",
    "    t = Vec{3}((0.1,0.0,0.0))\n",
    "    ndofs = getnbasefunctions(cv)\n",
    "    \n",
    "    for qp in 1:getnquadpoints(cv)\n",
    "      dΩ = getdetJdV(cv,qp) #known as dΓ in my fem notation\n",
    "      #computing the deformation gradient and right-cauchy green tensor C \n",
    "      ∇u = function_gradient(cv, qp, ue)\n",
    "       F = one(∇u) + ∇u\n",
    "       C = tdot(F)\n",
    "       # Compute stress and tangent\n",
    "       S, ∂S∂C = constitutive_driver(C, mp)\n",
    "       P = F ⋅ S\n",
    "       I = one(S)\n",
    "       ∂P∂F = otimesu(F, I) ⊡ ∂S∂C ⊡ otimesu(F', I) + otimesu(I, S) #ask MAX\n",
    "      \n",
    "      #loop over test functions \n",
    "      for i in 1:ndofs\n",
    "          #test function + gradient \n",
    "          δui = shape_value(cv,qp,i)\n",
    "          ∇δui = shape_gradient(cv,qp,i)\n",
    "          #add contribution to the residual from this test function \n",
    "          ge[i] += ( ∇δui ⊡ P - δui ⋅ b ) * dΩ\n",
    "          \n",
    "          ∇δui∂P∂F = ∇δui ⊡ ∂P∂F # Hoisted computation #ask MAX\n",
    "          for j in 1:ndofs\n",
    "                ∇δuj = shape_gradient(cv, qp, j)\n",
    "                #add contribution to the tangent \n",
    "                ke[i,j] += ( ∇δui∂P∂F ⊡ ∇δuj ) * dΩ #ask MAX\n",
    "          end \n",
    "      end\n",
    "    end\n",
    "\n",
    "    #surface integral for the traction \n",
    "    for face in 1:nfaces(cell)\n",
    "        if onboundary(cell, face)\n",
    "            reinit!(fv, cell, face)\n",
    "            for q_point in 1:getnquadpoints(fv)\n",
    "              dΓ = getdetJdV(fv, q_point)\n",
    "              for i in 1:ndofs\n",
    "                  δui = shape_value(fv, q_point, i)\n",
    "                  ge[i] -= (δui ⋅ t)*dΓ\n",
    "              end\n",
    "            end\n",
    "        end\n",
    "    end\n",
    "end "
   ]
  },
  {
   "cell_type": "code",
   "execution_count": 22,
   "metadata": {},
   "outputs": [
    {
     "data": {
      "text/plain": [
       "assemble_global! (generic function with 1 method)"
      ]
     },
     "execution_count": 22,
     "metadata": {},
     "output_type": "execute_result"
    }
   ],
   "source": [
    "function assemble_global!(K,f, dh, cv, fv, mp, u)\n",
    "    n = ndofs_per_cell(dh)\n",
    "    ke = zeros(n,n)\n",
    "    ge = zeros(n)\n",
    "    \n",
    "    #start _assemble resets K and f \n",
    "    assembler = start_assemble(K,f)\n",
    "    \n",
    "    #loop over all cells in the grid \n",
    "    @timeit \"assemble\" for cell in CellIterator(dh)\n",
    "        global_dofs = celldofs(cell)\n",
    "        ue = u[global_dofs] #element dofs \n",
    "        @timeit \"element assemble\" assemble_element!(ke,ge,cell, cv, fv, mp, ue)\n",
    "        assemble!(assembler, global_dofs,ge, ke)\n",
    "    end\n",
    "end"
   ]
  },
  {
   "cell_type": "code",
   "execution_count": 20,
   "metadata": {},
   "outputs": [
    {
     "data": {
      "text/plain": [
       "solve (generic function with 1 method)"
      ]
     },
     "execution_count": 20,
     "metadata": {},
     "output_type": "execute_result"
    }
   ],
   "source": [
    "function solve()\n",
    "    reset_timer!()\n",
    "    \n",
    "    #generate a grid\n",
    "    N = 10\n",
    "    L = 1.0 \n",
    "    left = zero(Vec{3})\n",
    "    right = L * ones(Vec{3})\n",
    "    grid = generate_grid(Tetrahedron, (N,N,N), left, right)\n",
    "    \n",
    "    #Material parameters \n",
    "    E = 10.0\n",
    "    v = 0.3 \n",
    "    μ = E / (2(1 + v))\n",
    "    λ = (E * v) / ((1 + v) * (1 - 2v))\n",
    "    mp = NeoHooke(μ, λ)\n",
    "    \n",
    "    #finite element base \n",
    "    ip = Lagrange{3, RefTetrahedron, 1}() #lagrange shape functions of dimension 3 and 1st oder \n",
    "    qr = QuadratureRule{3, RefTetrahedron}(1) #The gauss points of 3D element of order 1 \n",
    "    qr_face = QuadratureRule{2, RefTetrahedron}(1) #the gauss points of the faces which is 2D and of order 1 \n",
    "    cv = CellVectorValues(qr, ip) #we combine the shape functions and the gauss points to get an object \n",
    "    fv = FaceVectorValues(qr_face, ip)\n",
    "    \n",
    "    #dof handler \n",
    "    dh = DofHandler(grid)\n",
    "    push!(dh, :u, 3)\n",
    "    close!(dh)\n",
    "    \n",
    "    function rotation(X, t, θ = deg2rad(60.0))\n",
    "        x, y, z = X\n",
    "        return t * Vec{3}(\n",
    "            (0.0,\n",
    "            L/2 - y + (y-L/2)*cos(θ) - (z-L/2)*sin(θ),\n",
    "            L/2 - z + (y-L/2)*sin(θ) + (z-L/2)*cos(θ)\n",
    "            ))\n",
    "    end\n",
    "    \n",
    "    dbcs = ConstraintHandler(dh)\n",
    "    dbc = Dirichlet(:u, getfaceset(grid, \"right\"), (x,t) -> [0.0, 0.0, 0.0], [1, 2, 3])\n",
    "    add!(dbcs, dbc)\n",
    "    dbc = Dirichlet(:u, getfaceset(grid, \"left\"), (x,t) -> rotation(x,t) , [1, 2, 3])\n",
    "    add!(dbcs, dbc)\n",
    "    close!(dbcs)\n",
    "    t = 0.5\n",
    "    JuAFEM.update!(dbcs, t)\n",
    "    \n",
    "    # pre allocotion of vectors for the solution of Newton increments \n",
    "    _ndofs = ndofs(dh)\n",
    "    un = zeros(_ndofs)\n",
    "    u = zeros(_ndofs)\n",
    "    Δu = zeros(_ndofs)\n",
    "    ΔΔu = zeros(_ndofs)\n",
    "    apply!(un, dbcs)\n",
    "    \n",
    "    #create sparse matrix and residual vector \n",
    "    K = create_sparsity_pattern(dh)\n",
    "    g = zeros(_ndofs)\n",
    "    \n",
    "    #perform Newton Iterations \n",
    "    newton_itr = -1\n",
    "    NEWTON_TOL = 1e-8\n",
    "    prog = ProgressMeter.ProgressThresh(NEWTON_TOL, \"solving:\")\n",
    "    \n",
    "    while true; newton_itr += 1\n",
    "        u .= un .+ Δu #current guess \n",
    "        assemble_global!(K, g, dh, cv, fv, mp, u)\n",
    "        normg = norm(g[JuAFEM.free_dofs(dbcs)])\n",
    "        apply_zero!(K, g, dbcs)\n",
    "        ProgressMeter.update!(prog, normg; showvalues = [(:iter, newton_itr)])\n",
    "\n",
    "        if normg < NEWTON_TOL\n",
    "            break\n",
    "        elseif newton_itr > 30\n",
    "            error(\"Reached maximum Newton iterations, aborting\")\n",
    "        end\n",
    "\n",
    "        # Compute increment using cg! from IterativeSolvers.jl\n",
    "        @timeit \"linear solve (KrylovMethods.cg)\" ΔΔu′, flag, relres, iter, resvec = KrylovMethods.cg(K, g; maxIter = 1000)\n",
    "        @assert flag == 0\n",
    "        @timeit \"linear solve (IterativeSolvers.cg!)\" IterativeSolvers.cg!(ΔΔu, K, g; maxiter=1000)\n",
    "\n",
    "        apply_zero!(ΔΔu, dbcs)\n",
    "        Δu .-= ΔΔu\n",
    "    end\n",
    "\n",
    "    # Save the solution\n",
    "    @timeit \"export\" begin\n",
    "        vtk_grid(\"hyperelasticity\", dh) do vtkfile\n",
    "            vtk_point_data(vtkfile, dh, u)\n",
    "        end\n",
    "    end\n",
    "\n",
    "    print_timer(title = \"Analysis with $(getncells(grid)) elements\", linechars = :ascii)\n",
    "    return u\n",
    "end"
   ]
  },
  {
   "cell_type": "code",
   "execution_count": 35,
   "metadata": {},
   "outputs": [
    {
     "name": "stderr",
     "output_type": "stream",
     "text": [
      "\u001b[32msolving: (thresh = 1e-08, value = 0.194526)\u001b[39m\n",
      "\u001b[A4m  iter:  1\u001b[39m\n",
      "\u001b[32msolving: (thresh = 1e-08, value = 1.92988e-07)\u001b[39m\n",
      "\u001b[A4m  iter:  4\u001b[39m\n",
      "\u001b[32msolving: Time: 0:00:00 (6 iterations)\u001b[39m\n",
      "\u001b[34m  iter:  5\u001b[39m\n"
     ]
    },
    {
     "name": "stdout",
     "output_type": "stream",
     "text": [
      "\u001b[0m\u001b[1m ------------------------------------------------------------------------------\u001b[22m\n",
      "\u001b[0m\u001b[1m  Analysis with 6000 elements  \u001b[22m        Time                   Allocations      \n",
      "                               ----------------------   -----------------------\n",
      "       Tot / % measured:            1.94s / 80.5%            187MiB / 60.0%    \n",
      "\n",
      " Section               ncalls     time   %tot     avg     alloc   %tot      avg\n",
      " ------------------------------------------------------------------------------\n",
      " export                     1    1.26s  80.5%   1.26s    103MiB  91.3%   103MiB\n",
      " assemble                   6    135ms  8.65%  22.6ms   8.52MiB  7.58%  1.42MiB\n",
      "   element assemble     36.0k   81.8ms  5.22%  2.27μs     0.00B  0.00%    0.00B\n",
      " linear solve (Iter...      5    134ms  8.54%  26.7ms    614KiB  0.53%   123KiB\n",
      " linear solve (Kryl...      5   35.4ms  2.26%  7.07ms    669KiB  0.58%   134KiB\n",
      "\u001b[0m\u001b[1m ------------------------------------------------------------------------------\u001b[22m"
     ]
    },
    {
     "data": {
      "text/plain": [
       "3993-element Array{Float64,1}:\n",
       "  0.0\n",
       "  0.3415063509461096\n",
       " -0.09150635094610968\n",
       "  2.6971532448498215e-5\n",
       "  0.2958396776436137\n",
       " -0.12618014268650996\n",
       "  0.0\n",
       "  0.3165063509461096\n",
       " -0.04820508075688776\n",
       "  0.0\n",
       "  0.2732050807568877\n",
       " -0.07320508075688775\n",
       "  0.0\n",
       "  ⋮\n",
       "  0.004391706946162339\n",
       " -0.09132775507048106\n",
       "  0.06642349477420981\n",
       "  0.0018552809500001078\n",
       " -0.05748898044581073\n",
       "  0.04292109221065066\n",
       " -0.0001710346041245002\n",
       " -0.02554728643553888\n",
       "  0.01906350760975909\n",
       "  0.0\n",
       "  0.0\n",
       "  0.0"
      ]
     },
     "execution_count": 35,
     "metadata": {},
     "output_type": "execute_result"
    }
   ],
   "source": [
    "u = solve()"
   ]
  },
  {
   "cell_type": "code",
   "execution_count": null,
   "metadata": {},
   "outputs": [],
   "source": []
  }
 ],
 "metadata": {
  "kernelspec": {
   "display_name": "Julia 1.4.2",
   "language": "julia",
   "name": "julia-1.4"
  },
  "language_info": {
   "name": ""
  }
 },
 "nbformat": 4,
 "nbformat_minor": 4
}
