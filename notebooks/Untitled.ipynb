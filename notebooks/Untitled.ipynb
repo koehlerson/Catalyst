{
 "cells": [
  {
   "cell_type": "code",
   "execution_count": 1,
   "metadata": {},
   "outputs": [
    {
     "data": {
      "text/plain": [
       "1-element Array{String,1}:\n",
       " \"colored.vtu\""
      ]
     },
     "execution_count": 1,
     "metadata": {},
     "output_type": "execute_result"
    }
   ],
   "source": [
    "using JuAFEM, SparseArrays\n",
    "\n",
    "function create_example_2d_grid()\n",
    "    grid = generate_grid(Quadrilateral, (10,10), Vec{2}((0.0,0.0)), Vec{2}((10.0,10.0)))\n",
    "    cell_colors, colors = JuAFEM.create_coloring(grid)\n",
    "    vtk_grid(\"colored\", grid) do vtk \n",
    "            JuAFEM.vtk_cell_data_colors(vtk, grid, colors)\n",
    "    end\n",
    "end\n",
    "\n",
    "create_example_2d_grid()"
   ]
  },
  {
   "cell_type": "code",
   "execution_count": 14,
   "metadata": {},
   "outputs": [
    {
     "data": {
      "text/plain": [
       "create_colored_cantilever_grid (generic function with 1 method)"
      ]
     },
     "execution_count": 14,
     "metadata": {},
     "output_type": "execute_result"
    }
   ],
   "source": [
    "function create_colored_cantilever_grid(celltype, n)\n",
    "    grid = generate_grid(celltype, (10*n, n, n), Vec{3}((0.0,0.0,0.0)), Vec{3}((10.0,1.0,1.0)))\n",
    "    cell_colors, final_colors = JuAFEM.create_coloring(grid)\n",
    "    return grid, final_colors\n",
    "end"
   ]
  },
  {
   "cell_type": "code",
   "execution_count": 3,
   "metadata": {},
   "outputs": [
    {
     "data": {
      "text/plain": [
       "create_dofhandler (generic function with 1 method)"
      ]
     },
     "execution_count": 3,
     "metadata": {},
     "output_type": "execute_result"
    }
   ],
   "source": [
    "function create_dofhandler(grid::Grid{dim}) where {dim}\n",
    "    dh = DofHandler(grid)\n",
    "    push!(dh, :u, dim)\n",
    "    close!(dh)\n",
    "end"
   ]
  },
  {
   "cell_type": "code",
   "execution_count": 4,
   "metadata": {},
   "outputs": [
    {
     "data": {
      "text/plain": [
       "create_stiffness (generic function with 1 method)"
      ]
     },
     "execution_count": 4,
     "metadata": {},
     "output_type": "execute_result"
    }
   ],
   "source": [
    "function create_stiffness(::Val{dim}) where {dim}\n",
    "    E = 200e9\n",
    "    ν = 0.3\n",
    "    λ = E*ν / ((1+ν) * (1 - 2ν))\n",
    "    μ = E / (2(1+ν))\n",
    "    δ(i,j) = i == j ? 1.0 : 0.0\n",
    "    g(i,j,k,l) = λ*δ(i,j)*δ(k,l) + μ*(δ(i,k)*δ(j,l) + δ(i,l)*δ(j,k))\n",
    "    C = SymmetricTensor{4, dim}(g);\n",
    "    return C\n",
    "end"
   ]
  },
  {
   "cell_type": "code",
   "execution_count": 6,
   "metadata": {},
   "outputs": [],
   "source": [
    "struct ScratchValues{T, CV <: CellValues, FV <: FaceValues, TT <: AbstractTensor, dim, Ti}\n",
    "    ke::Matrix{T}\n",
    "    fe::Vector{T}\n",
    "    cellvalues::CV\n",
    "    facevalues::FV\n",
    "    global_dofs::Vector{Int}\n",
    "    ɛ::Vector{TT}\n",
    "    coordinates::Vector{Vec{dim, T}}\n",
    "    assembler::JuAFEM.AssemblerSparsityPattern{T, Ti}\n",
    "end"
   ]
  },
  {
   "cell_type": "code",
   "execution_count": 16,
   "metadata": {},
   "outputs": [
    {
     "data": {
      "text/plain": [
       "create_values (generic function with 1 method)"
      ]
     },
     "execution_count": 16,
     "metadata": {},
     "output_type": "execute_result"
    }
   ],
   "source": [
    "function create_values(refshape, dim, order::Int)\n",
    "    interpolation_space = Lagrange{dim, refshape, 1}()\n",
    "    quadrature_rule = QuadratureRule{dim, refshape}(order)\n",
    "    face_quadrature_rule = QuadratureRule{dim-1, refshape}(order)\n",
    "    cellvalues = [CellVectorValues(quadrature_rule, interpolation_space) for i in 1:Threads.nthreads()];\n",
    "    facevalues = [FaceVectorValues(face_quadrature_rule, interpolation_space) for i in 1:Threads.nthreads()];\n",
    "    return cellvalues, facevalues\n",
    "end"
   ]
  },
  {
   "cell_type": "code",
   "execution_count": 10,
   "metadata": {},
   "outputs": [
    {
     "data": {
      "text/plain": [
       "create_scratchvalues (generic function with 1 method)"
      ]
     },
     "execution_count": 10,
     "metadata": {},
     "output_type": "execute_result"
    }
   ],
   "source": [
    "function create_scratchvalues(K, f, dh::DofHandler{dim}) where {dim}\n",
    "    nthreads = Threads.nthreads()\n",
    "    assemblers = [start_assemble(K, f) for i in 1:nthreads]\n",
    "    cellvalues, facevalues = create_values(RefCube, dim, 2)\n",
    "\n",
    "    n_basefuncs = getnbasefunctions(cellvalues[1])\n",
    "    global_dofs = [zeros(Int, ndofs_per_cell(dh)) for i in 1:nthreads]\n",
    "\n",
    "    fes = [zeros(n_basefuncs) for i in 1:nthreads] # Local force vector\n",
    "    Kes = [zeros(n_basefuncs, n_basefuncs) for i in 1:nthreads]\n",
    "\n",
    "    ɛs = [[zero(SymmetricTensor{2, dim}) for i in 1:n_basefuncs] for i in 1:nthreads]\n",
    "\n",
    "    coordinates = [[zero(Vec{dim}) for i in 1:length(dh.grid.cells[1].nodes)] for i in 1:nthreads]\n",
    "\n",
    "    return [ScratchValues(Kes[i], fes[i], cellvalues[i], facevalues[i], global_dofs[i],\n",
    "                         ɛs[i], coordinates[i], assemblers[i]) for i in 1:nthreads]\n",
    "end"
   ]
  },
  {
   "cell_type": "code",
   "execution_count": 12,
   "metadata": {},
   "outputs": [
    {
     "data": {
      "text/plain": [
       "doassemble (generic function with 1 method)"
      ]
     },
     "execution_count": 12,
     "metadata": {},
     "output_type": "execute_result"
    }
   ],
   "source": [
    "function doassemble(K::SparseMatrixCSC, colors, grid::Grid, dh::DofHandler, C::SymmetricTensor{4, dim}) where{dim}\n",
    "    \n",
    "    f = zeros(ndofs(dh))\n",
    "    scratches = create_scratchvalues(K,f,dh)\n",
    "    b = Vec{3}(0.0,0.0,0.0)\n",
    "    \n",
    "    for color in colors \n",
    "        #Each color is safe to assemble a thread since no shared nodes with cells of the same color \n",
    "        Threads.@threads for i in 1:length(color)\n",
    "            assemble_cell!(Scratches[Threads.threadid()], color[i], K, grid, dh, C, b)\n",
    "        end\n",
    "    end\n",
    "    \n",
    "    return K,f \n",
    "end"
   ]
  },
  {
   "cell_type": "code",
   "execution_count": 17,
   "metadata": {},
   "outputs": [
    {
     "ename": "MethodError",
     "evalue": "MethodError: no method matching Tensor{1,3,T,3} where T(::Float64, ::Float64, ::Float64)\nClosest candidates are:\n  Tensor{1,3,T,3} where T(::Any) where dim at /home/amjalled/.julia/packages/Tensors/jWUZM/src/Tensors.jl:147",
     "output_type": "error",
     "traceback": [
      "MethodError: no method matching Tensor{1,3,T,3} where T(::Float64, ::Float64, ::Float64)\nClosest candidates are:\n  Tensor{1,3,T,3} where T(::Any) where dim at /home/amjalled/.julia/packages/Tensors/jWUZM/src/Tensors.jl:147",
      "",
      "Stacktrace:",
      " [1] doassemble(::SparseMatrixCSC{Float64,Int64}, ::Array{Array{Int64,1},1}, ::Grid{3,Cell{3,8,6},Float64}, ::DofHandler{3,Cell{3,8,6},Float64}, ::SymmetricTensor{4,3,Float64,36}) at ./In[12]:5",
      " [2] run_assemble() at ./In[17]:51",
      " [3] top-level scope at In[17]:55"
     ]
    }
   ],
   "source": [
    "function assemble_cell!(scratch::ScratchValues, cell::Int, K::SparseMatrixCSC,\n",
    "                        grid::Grid, dh::DofHandler, C::SymmetricTensor{4, dim}, b::Vec{dim}) where {dim}\n",
    "     # Unpack our stuff from the scratch\n",
    "    Ke, fe, cellvalues, facevalues, global_dofs, ɛ, coordinates, assembler =\n",
    "         scratch.Ke, scratch.fe, scratch.cellvalues, scratch.facevalues,\n",
    "         scratch.global_dofs, scratch.ɛ, scratch.coordinates, scratch.assembler\n",
    "\n",
    "    fill!(Ke, 0)\n",
    "    fill!(fe, 0)\n",
    "\n",
    "    n_basefuncs = getnbasefunctions(cellvalues)\n",
    "\n",
    "    # Fill up the coordinates\n",
    "    nodeids = grid.cells[cell].nodes\n",
    "    for j in 1:length(coordinates)\n",
    "        coordinates[j] = grid.nodes[nodeids[j]].x\n",
    "    end\n",
    "\n",
    "    reinit!(cellvalues, coordinates)\n",
    "\n",
    "    for q_point in 1:getnquadpoints(cellvalues)\n",
    "        for i in 1:n_basefuncs\n",
    "            ɛ[i] = symmetric(shape_gradient(cellvalues, q_point, i))\n",
    "        end\n",
    "        dΩ = getdetJdV(cellvalues, q_point)\n",
    "        for i in 1:n_basefuncs\n",
    "            δu = shape_value(cellvalues, q_point, i)\n",
    "            fe[i] += (δu ⋅ b) * dΩ\n",
    "            ɛC = ɛ[i] ⊡ C\n",
    "            for j in 1:n_basefuncs\n",
    "                Ke[i, j] += (ɛC ⊡ ɛ[j]) * dΩ\n",
    "            end\n",
    "        end\n",
    "    end\n",
    "\n",
    "    celldofs!(global_dofs, dh, cell)\n",
    "    assemble!(assembler, global_dofs, fe, Ke)\n",
    "end;\n",
    "\n",
    "function run_assemble()\n",
    "    refshape = RefCube\n",
    "    quadrature_order = 2\n",
    "    dim = 3\n",
    "    n = 20\n",
    "    grid, colors = create_colored_cantilever_grid(Hexahedron, n);\n",
    "    dh = create_dofhandler(grid);\n",
    "\n",
    "    K = create_sparsity_pattern(dh);\n",
    "    C = create_stiffness(Val{3}());\n",
    "    # compilation\n",
    "    doassemble(K, colors, grid, dh, C);\n",
    "    b = @elapsed @time K, f = doassemble(K, colors, grid, dh, C);\n",
    "    return b\n",
    "end\n",
    "\n",
    "run_assemble()"
   ]
  },
  {
   "cell_type": "code",
   "execution_count": null,
   "metadata": {},
   "outputs": [],
   "source": []
  }
 ],
 "metadata": {
  "kernelspec": {
   "display_name": "Julia 1.4.2",
   "language": "julia",
   "name": "julia-1.4"
  },
  "language_info": {
   "file_extension": ".jl",
   "mimetype": "application/julia",
   "name": "julia",
   "version": "1.4.2"
  }
 },
 "nbformat": 4,
 "nbformat_minor": 4
}
