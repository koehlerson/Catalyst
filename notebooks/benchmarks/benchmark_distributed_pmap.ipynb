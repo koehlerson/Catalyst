{
 "cells": [
  {
   "cell_type": "code",
   "execution_count": 1,
   "metadata": {},
   "outputs": [
    {
     "data": {
      "text/plain": [
       "10-element Array{Int64,1}:\n",
       "  2\n",
       "  3\n",
       "  4\n",
       "  5\n",
       "  6\n",
       "  7\n",
       "  8\n",
       "  9\n",
       " 10\n",
       " 11"
      ]
     },
     "execution_count": 1,
     "metadata": {},
     "output_type": "execute_result"
    }
   ],
   "source": [
    "using Distributed\n",
    "addprocs(10)"
   ]
  },
  {
   "cell_type": "code",
   "execution_count": 2,
   "metadata": {},
   "outputs": [
    {
     "data": {
      "text/plain": [
       "11"
      ]
     },
     "execution_count": 2,
     "metadata": {},
     "output_type": "execute_result"
    }
   ],
   "source": [
    "nprocs()"
   ]
  },
  {
   "cell_type": "code",
   "execution_count": 3,
   "metadata": {},
   "outputs": [
    {
     "name": "stderr",
     "output_type": "stream",
     "text": [
      "┌ Info: Precompiling Catalyst [01e5440a-74e3-4b45-b8b9-c13ddfc5051b]\n",
      "└ @ Base loading.jl:1273\n"
     ]
    },
    {
     "name": "stdout",
     "output_type": "stream",
     "text": [
      "      From worker 6:\tActivating environment at `~/Repos/advection-diffusion-catalysis/Project.toml`\n",
      "      From worker 4:\tActivating environment at `~/Repos/advection-diffusion-catalysis/Project.toml`\n",
      "      From worker 7:\tActivating environment at `~/Repos/advection-diffusion-catalysis/Project.toml`\n",
      "      From worker 10:\tActivating environment at `~/Repos/advection-diffusion-catalysis/Project.toml`\n",
      "      From worker 3:\tActivating environment at `~/Repos/advection-diffusion-catalysis/Project.toml`\n",
      "      From worker 11:\tActivating environment at `~/Repos/advection-diffusion-catalysis/Project.toml`\n",
      "      From worker 9:\tActivating environment at `~/Repos/advection-diffusion-catalysis/Project.toml`\n",
      "      From worker 8:\tActivating environment at `~/Repos/advection-diffusion-catalysis/Project.toml`\n",
      "      From worker 2:\tActivating environment at `~/Repos/advection-diffusion-catalysis/Project.toml`\n",
      "      From worker 5:\tActivating environment at `~/Repos/advection-diffusion-catalysis/Project.toml`\n",
      "      From worker 6:\t┌ Warning: Module PlotThemes with build ID 456654419851949 is missing from the cache.\n",
      "      From worker 6:\t│ This may mean PlotThemes [ccf2f8ad-2431-5c83-bf29-c5338b663b6a] does not support precompilation but is imported by a module that does.\n",
      "      From worker 6:\t└ @ Base loading.jl:1011\n",
      "      From worker 9:\t┌ Warning: Module PlotThemes with build ID 456654419851949 is missing from the cache.\n",
      "      From worker 9:\t│ This may mean PlotThemes [ccf2f8ad-2431-5c83-bf29-c5338b663b6a] does not support precompilation but is imported by a module that does.\n",
      "      From worker 9:\t└ @ Base loading.jl:1011\n",
      "      From worker 4:\t┌ Warning: Module PlotThemes with build ID 456654419851949 is missing from the cache.\n",
      "      From worker 4:\t│ This may mean PlotThemes [ccf2f8ad-2431-5c83-bf29-c5338b663b6a] does not support precompilation but is imported by a module that does.\n",
      "      From worker 4:\t└ @ Base loading.jl:1011\n",
      "      From worker 11:\t┌ Warning: Module PlotThemes with build ID 456654419851949 is missing from the cache.\n",
      "      From worker 11:\t│ This may mean PlotThemes [ccf2f8ad-2431-5c83-bf29-c5338b663b6a] does not support precompilation but is imported by a module that does.\n",
      "      From worker 11:\t└ @ Base loading.jl:1011\n",
      "      From worker 2:\t┌ Warning: Module PlotThemes with build ID 456654419851949 is missing from the cache.\n",
      "      From worker 2:\t│ This may mean PlotThemes [ccf2f8ad-2431-5c83-bf29-c5338b663b6a] does not support precompilation but is imported by a module that does.\n",
      "      From worker 2:\t└ @ Base loading.jl:1011\n",
      "      From worker 7:\t┌ Warning: Module PlotThemes with build ID 456654419851949 is missing from the cache.\n",
      "      From worker 7:\t│ This may mean PlotThemes [ccf2f8ad-2431-5c83-bf29-c5338b663b6a] does not support precompilation but is imported by a module that does.\n",
      "      From worker 7:\t└ @ Base loading.jl:1011\n",
      "      From worker 10:\t┌ Warning: Module PlotThemes with build ID 456654419851949 is missing from the cache.\n",
      "      From worker 10:\t│ This may mean PlotThemes [ccf2f8ad-2431-5c83-bf29-c5338b663b6a] does not support precompilation but is imported by a module that does.\n",
      "      From worker 10:\t└ @ Base loading.jl:1011\n",
      "      From worker 3:\t┌ Warning: Module PlotThemes with build ID 456654419851949 is missing from the cache.\n",
      "      From worker 3:\t│ This may mean PlotThemes [ccf2f8ad-2431-5c83-bf29-c5338b663b6a] does not support precompilation but is imported by a module that does.\n",
      "      From worker 3:\t└ @ Base loading.jl:1011\n",
      "      From worker 5:\t┌ Warning: Module PlotThemes with build ID 456654419851949 is missing from the cache.\n",
      "      From worker 5:\t│ This may mean PlotThemes [ccf2f8ad-2431-5c83-bf29-c5338b663b6a] does not support precompilation but is imported by a module that does.\n",
      "      From worker 5:\t└ @ Base loading.jl:1011\n",
      "      From worker 8:\t┌ Warning: Module PlotThemes with build ID 456654419851949 is missing from the cache.\n",
      "      From worker 8:\t│ This may mean PlotThemes [ccf2f8ad-2431-5c83-bf29-c5338b663b6a] does not support precompilation but is imported by a module that does.\n",
      "      From worker 8:\t└ @ Base loading.jl:1011\n"
     ]
    },
    {
     "name": "stderr",
     "output_type": "stream",
     "text": [
      "┌ Warning: The call to compilecache failed to create a usable precompiled cache file for Catalyst [01e5440a-74e3-4b45-b8b9-c13ddfc5051b]\n",
      "│   exception = Required dependency PlotThemes [ccf2f8ad-2431-5c83-bf29-c5338b663b6a] failed to load from a cache file.\n",
      "└ @ Base loading.jl:1036\n",
      "┌ Warning: The call to compilecache failed to create a usable precompiled cache file for Catalyst [01e5440a-74e3-4b45-b8b9-c13ddfc5051b]\n",
      "│   exception = Required dependency PlotThemes [ccf2f8ad-2431-5c83-bf29-c5338b663b6a] failed to load from a cache file.\n",
      "└ @ Base loading.jl:1036\n",
      "┌ Warning: The call to compilecache failed to create a usable precompiled cache file for Catalyst [01e5440a-74e3-4b45-b8b9-c13ddfc5051b]\n",
      "│   exception = Required dependency PlotThemes [ccf2f8ad-2431-5c83-bf29-c5338b663b6a] failed to load from a cache file.\n",
      "└ @ Base loading.jl:1036\n",
      "┌ Warning: The call to compilecache failed to create a usable precompiled cache file for Catalyst [01e5440a-74e3-4b45-b8b9-c13ddfc5051b]\n",
      "│   exception = Required dependency PlotThemes [ccf2f8ad-2431-5c83-bf29-c5338b663b6a] failed to load from a cache file.\n",
      "└ @ Base loading.jl:1036\n",
      "┌ Warning: The call to compilecache failed to create a usable precompiled cache file for Catalyst [01e5440a-74e3-4b45-b8b9-c13ddfc5051b]\n",
      "│   exception = Required dependency PlotThemes [ccf2f8ad-2431-5c83-bf29-c5338b663b6a] failed to load from a cache file.\n",
      "└ @ Base loading.jl:1036\n",
      "┌ Warning: The call to compilecache failed to create a usable precompiled cache file for Catalyst [01e5440a-74e3-4b45-b8b9-c13ddfc5051b]\n",
      "│   exception = Required dependency PlotThemes [ccf2f8ad-2431-5c83-bf29-c5338b663b6a] failed to load from a cache file.\n",
      "└ @ Base loading.jl:1036\n",
      "┌ Warning: The call to compilecache failed to create a usable precompiled cache file for Catalyst [01e5440a-74e3-4b45-b8b9-c13ddfc5051b]\n",
      "│   exception = Required dependency PlotThemes [ccf2f8ad-2431-5c83-bf29-c5338b663b6a] failed to load from a cache file.\n",
      "└ @ Base loading.jl:1036\n",
      "┌ Warning: The call to compilecache failed to create a usable precompiled cache file for Catalyst [01e5440a-74e3-4b45-b8b9-c13ddfc5051b]\n",
      "│   exception = Required dependency PlotThemes [ccf2f8ad-2431-5c83-bf29-c5338b663b6a] failed to load from a cache file.\n",
      "└ @ Base loading.jl:1036\n",
      "┌ Warning: The call to compilecache failed to create a usable precompiled cache file for Catalyst [01e5440a-74e3-4b45-b8b9-c13ddfc5051b]\n",
      "│   exception = Required dependency PlotThemes [ccf2f8ad-2431-5c83-bf29-c5338b663b6a] failed to load from a cache file.\n",
      "└ @ Base loading.jl:1036\n",
      "┌ Warning: The call to compilecache failed to create a usable precompiled cache file for Catalyst [01e5440a-74e3-4b45-b8b9-c13ddfc5051b]\n",
      "│   exception = Required dependency PlotThemes [ccf2f8ad-2431-5c83-bf29-c5338b663b6a] failed to load from a cache file.\n",
      "└ @ Base loading.jl:1036\n",
      "┌ Warning: The call to compilecache failed to create a usable precompiled cache file for Catalyst [01e5440a-74e3-4b45-b8b9-c13ddfc5051b]\n",
      "│   exception = ErrorException(\"Required dependency PlotThemes [ccf2f8ad-2431-5c83-bf29-c5338b663b6a] failed to load from a cache file.\")\n",
      "└ @ Base loading.jl:1036\n",
      "┌ Info: Precompiling Plots [91a5bcdd-55d7-5caf-9e0b-520d859cae80]\n",
      "└ @ Base loading.jl:1273\n",
      "┌ Warning: The call to compilecache failed to create a usable precompiled cache file for Plots [91a5bcdd-55d7-5caf-9e0b-520d859cae80]\n",
      "│   exception = Required dependency PlotThemes [ccf2f8ad-2431-5c83-bf29-c5338b663b6a] failed to load from a cache file.\n",
      "└ @ Base loading.jl:1036\n",
      "┌ Warning: The call to compilecache failed to create a usable precompiled cache file for Plots [91a5bcdd-55d7-5caf-9e0b-520d859cae80]\n",
      "│   exception = Required dependency PlotThemes [ccf2f8ad-2431-5c83-bf29-c5338b663b6a] failed to load from a cache file.\n",
      "└ @ Base loading.jl:1036\n",
      "┌ Warning: The call to compilecache failed to create a usable precompiled cache file for Plots [91a5bcdd-55d7-5caf-9e0b-520d859cae80]\n",
      "│   exception = Required dependency PlotThemes [ccf2f8ad-2431-5c83-bf29-c5338b663b6a] failed to load from a cache file.\n",
      "└ @ Base loading.jl:1036\n",
      "┌ Warning: The call to compilecache failed to create a usable precompiled cache file for Plots [91a5bcdd-55d7-5caf-9e0b-520d859cae80]\n",
      "│   exception = Required dependency PlotThemes [ccf2f8ad-2431-5c83-bf29-c5338b663b6a] failed to load from a cache file.\n",
      "└ @ Base loading.jl:1036\n",
      "┌ Warning: The call to compilecache failed to create a usable precompiled cache file for Plots [91a5bcdd-55d7-5caf-9e0b-520d859cae80]\n",
      "│   exception = Required dependency PlotThemes [ccf2f8ad-2431-5c83-bf29-c5338b663b6a] failed to load from a cache file.\n",
      "└ @ Base loading.jl:1036\n",
      "┌ Warning: The call to compilecache failed to create a usable precompiled cache file for Plots [91a5bcdd-55d7-5caf-9e0b-520d859cae80]\n",
      "│   exception = Required dependency PlotThemes [ccf2f8ad-2431-5c83-bf29-c5338b663b6a] failed to load from a cache file.\n",
      "└ @ Base loading.jl:1036\n",
      "┌ Warning: The call to compilecache failed to create a usable precompiled cache file for Plots [91a5bcdd-55d7-5caf-9e0b-520d859cae80]\n",
      "│   exception = Required dependency PlotThemes [ccf2f8ad-2431-5c83-bf29-c5338b663b6a] failed to load from a cache file.\n",
      "└ @ Base loading.jl:1036\n",
      "┌ Warning: The call to compilecache failed to create a usable precompiled cache file for Plots [91a5bcdd-55d7-5caf-9e0b-520d859cae80]\n",
      "│   exception = Required dependency PlotThemes [ccf2f8ad-2431-5c83-bf29-c5338b663b6a] failed to load from a cache file.\n",
      "└ @ Base loading.jl:1036\n",
      "┌ Warning: The call to compilecache failed to create a usable precompiled cache file for Plots [91a5bcdd-55d7-5caf-9e0b-520d859cae80]\n",
      "│   exception = Required dependency PlotThemes [ccf2f8ad-2431-5c83-bf29-c5338b663b6a] failed to load from a cache file.\n",
      "└ @ Base loading.jl:1036\n",
      "┌ Warning: The call to compilecache failed to create a usable precompiled cache file for Plots [91a5bcdd-55d7-5caf-9e0b-520d859cae80]\n",
      "│   exception = Required dependency PlotThemes [ccf2f8ad-2431-5c83-bf29-c5338b663b6a] failed to load from a cache file.\n",
      "└ @ Base loading.jl:1036\n",
      "┌ Warning: The call to compilecache failed to create a usable precompiled cache file for Plots [91a5bcdd-55d7-5caf-9e0b-520d859cae80]\n",
      "│   exception = ErrorException(\"Required dependency PlotThemes [ccf2f8ad-2431-5c83-bf29-c5338b663b6a] failed to load from a cache file.\")\n",
      "└ @ Base loading.jl:1036\n",
      "┌ Info: Precompiling PlotThemes [ccf2f8ad-2431-5c83-bf29-c5338b663b6a]\n",
      "└ @ Base loading.jl:1273\n"
     ]
    },
    {
     "name": "stdout",
     "output_type": "stream",
     "text": [
      "1118.182003 seconds (62.54 M allocations: 3.242 GiB, 0.15% gc time)\n"
     ]
    },
    {
     "data": {
      "text/plain": [
       "10-element Array{Float64,1}:\n",
       " 183.03812687208995\n",
       " 183.03812687208995\n",
       " 183.03812687208995\n",
       " 183.03812687208995\n",
       " 183.03812687208995\n",
       " 183.03812687208995\n",
       " 183.03812687208995\n",
       " 183.03812687208995\n",
       " 183.03812687208995\n",
       " 183.03812687208995"
      ]
     },
     "execution_count": 3,
     "metadata": {},
     "output_type": "execute_result"
    }
   ],
   "source": [
    "@everywhere using DrWatson\n",
    "@everywhere @quickactivate :Catalyst\n",
    "@everywhere using BenchmarkTools\n",
    "\n",
    "@everywhere function benchmark_distributed_evaluation(parameters,N)\n",
    "    errors = zeros(N) # init model errors\n",
    "    # we need to read the experiment data in this block\n",
    "    input_exp = Float64[]\n",
    "    output_exp = Float64[]\n",
    "    for row in CSV.File(datadir(\"experiment/new-data.csv\"); delim = \" \")\n",
    "         push!(input_exp, row.I)\n",
    "         push!(output_exp, row.O)\n",
    "    end\n",
    "    # done reading \n",
    "    \n",
    "    input_args = [parameters for _ in 1:N]\n",
    "    errors = pmap(input_args -> (Catalyst.solve(input_args[1], input_args[2], 1.,\n",
    "                                      input_exp, output_exp, progress=false, \n",
    "                                      microcomp_type=:nonlinear,\n",
    "                                      Q=input_args[3], kₙ=input_args[4],\n",
    "                                      calibration=true)), input_args)\n",
    "    return errors\n",
    "end\n",
    "\n",
    "parameters = [1e-4, 1., 1., 10.]\n",
    "@time benchmark_distributed_evaluation(parameters,10)"
   ]
  }
 ],
 "metadata": {
  "kernelspec": {
   "display_name": "Julia 1.3.1",
   "language": "julia",
   "name": "julia-1.3"
  },
  "language_info": {
   "file_extension": ".jl",
   "mimetype": "application/julia",
   "name": "julia",
   "version": "1.3.1"
  }
 },
 "nbformat": 4,
 "nbformat_minor": 4
}
