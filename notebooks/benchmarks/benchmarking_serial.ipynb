{
 "cells": [
  {
   "cell_type": "code",
   "execution_count": 1,
   "metadata": {},
   "outputs": [
    {
     "data": {
      "text/plain": [
       "BenchmarkTools.Trial: \n",
       "  memory estimate:  328.00 GiB\n",
       "  allocs estimate:  5494314921\n",
       "  --------------\n",
       "  minimum time:     837.945 s (3.37% GC)\n",
       "  median time:      837.945 s (3.37% GC)\n",
       "  mean time:        837.945 s (3.37% GC)\n",
       "  maximum time:     837.945 s (3.37% GC)\n",
       "  --------------\n",
       "  samples:          1\n",
       "  evals/sample:     1"
      ]
     },
     "execution_count": 1,
     "metadata": {},
     "output_type": "execute_result"
    }
   ],
   "source": [
    "using DrWatson\n",
    "@quickactivate :Catalyst\n",
    "using BenchmarkTools\n",
    "\n",
    "function benchmark_distributed_evaluation(parameters,N)\n",
    "    errors = zeros(N) # init model errors\n",
    "    # we need to read the experiment data in this block\n",
    "    input_exp = Float64[]\n",
    "    output_exp = Float64[]\n",
    "    for row in CSV.File(datadir(\"experiment/new-data.csv\"); delim = \" \")\n",
    "        push!(input_exp, row.I)\n",
    "        push!(output_exp, row.O)\n",
    "    end\n",
    "    # done reading \n",
    "\n",
    "    for i in 1:N\n",
    "        error = Catalyst.solve(parameters[1], parameters[2], 1.,\n",
    "                                      input_exp, output_exp, progress=false, \n",
    "                                      microcomp_type=:nonlinear,\n",
    "                                      Q=parameters[3], kₙ=parameters[4],\n",
    "                                      calibration=true)# save the model error\n",
    "        errors[i] = error # assign the error to the errors array\n",
    "    end\n",
    "    return errors\n",
    "end\n",
    "\n",
    "parameters = [1e-4, 1., 1., 10.]\n",
    "@benchmark benchmark_distributed_evaluation($parameters, $1)  "
   ]
  },
  {
   "cell_type": "code",
   "execution_count": null,
   "metadata": {},
   "outputs": [],
   "source": []
  }
 ],
 "metadata": {
  "kernelspec": {
   "display_name": "Julia 1.4.2",
   "language": "julia",
   "name": "julia-1.4"
  },
  "language_info": {
   "file_extension": ".jl",
   "mimetype": "application/julia",
   "name": "julia",
   "version": "1.4.2"
  }
 },
 "nbformat": 4,
 "nbformat_minor": 4
}
