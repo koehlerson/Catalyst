{
 "cells": [
  {
   "cell_type": "code",
   "execution_count": null,
   "metadata": {},
   "outputs": [],
   "source": [
    "using Distributed\n",
    "nprocs()"
   ]
  },
  {
   "cell_type": "code",
   "execution_count": 2,
   "metadata": {},
   "outputs": [
    {
     "data": {
      "text/plain": [
       "4-element Array{Int64,1}:\n",
       " 2\n",
       " 3\n",
       " 4\n",
       " 5"
      ]
     },
     "execution_count": 2,
     "metadata": {},
     "output_type": "execute_result"
    }
   ],
   "source": [
    "addprocs(4)"
   ]
  },
  {
   "cell_type": "code",
   "execution_count": 3,
   "metadata": {},
   "outputs": [
    {
     "data": {
      "text/plain": [
       "5"
      ]
     },
     "execution_count": 3,
     "metadata": {},
     "output_type": "execute_result"
    }
   ],
   "source": [
    "nprocs()"
   ]
  },
  {
   "cell_type": "code",
   "execution_count": 4,
   "metadata": {},
   "outputs": [
    {
     "name": "stdout",
     "output_type": "stream",
     "text": [
      "      From worker 2:\t   Updating registry at `~/.julia/registries/General`\n",
      "      From worker 2:\t   Updating git-repo `https://github.com/JuliaRegistries/General.git`\n",
      "      From worker 4:\t   Updating registry at `~/.julia/registries/General`\n",
      "      From worker 4:\t   Updating git-repo `https://github.com/JuliaRegistries/General.git`\n",
      "      From worker 3:\t   Updating registry at `~/.julia/registries/General`\n",
      "      From worker 3:\t   Updating git-repo `https://github.com/JuliaRegistries/General.git`\n",
      "      From worker 5:\t   Updating registry at `~/.julia/registries/General`\n",
      "      From worker 5:\t   Updating git-repo `https://github.com/JuliaRegistries/General.git`\n",
      "\u001b[2K\u001b[?25h  Resolving package versions...[>                                        ]  0.0 %\n",
      "\u001b[2K\u001b[?25h  Resolving package versions...[>                                        ]  0.0 %\n",
      "\u001b[2K\u001b[?25h  Resolving package versions...[>                                        ]  0.0 %\n",
      "      From worker 2:\t\u001b[?25l\u001b[2K\u001b[?25h  Resolving package versions...\n",
      "      From worker 5:\t   Updating `~/.julia/environments/v1.4/Project.toml`\n",
      "      From worker 5:\t [no changes]\n",
      "      From worker 5:\t   Updating `~/.julia/environments/v1.4/Manifest.toml`\n",
      "      From worker 5:\t [no changes]\n",
      "      From worker 4:\t   Updating `~/.julia/environments/v1.4/Project.toml`\n",
      "      From worker 4:\t [no changes]\n",
      "      From worker 4:\t   Updating `~/.julia/environments/v1.4/Manifest.toml`\n",
      "      From worker 4:\t [no changes]\n",
      "      From worker 3:\t   Updating `~/.julia/environments/v1.4/Project.toml`\n",
      "      From worker 3:\t [no changes]\n",
      "      From worker 3:\t   Updating `~/.julia/environments/v1.4/Manifest.toml`\n",
      "      From worker 3:\t [no changes]\n",
      "      From worker 2:\t   Updating `~/.julia/environments/v1.4/Project.toml`\n",
      "      From worker 2:\t [no changes]\n",
      "      From worker 2:\t   Updating `~/.julia/environments/v1.4/Manifest.toml`\n",
      "      From worker 2:\t [no changes]\n"
     ]
    },
    {
     "ename": "CompositeException",
     "evalue": "TaskFailedException:\n`Hwloc=0e44f5e4-bd66-52a0-8798-143a42290a1d` depends on `BinaryProvider`, but no such entry exists in the manifest.\nStacktrace:\n [1] pkgerror(::String, ::Vararg{String,N} where N) at /buildworker/worker/package_linux64/build/usr/share/julia/stdlib/v1.4/Pkg/src/Types.jl:53\n [2] normalize_deps(::String, ::Base.UUID, ::Array{String,1}, ::Dict{String,Array{Pkg.Types.Stage1,1}}) at /buildworker/worker/package_linux64/build/usr/share/julia/stdlib/v1.4/Pkg/src/manifest.jl:91\n [3] validate_manifest(::Dict{String,Array{Pkg.Types.Stage1,1}}) at /buildworker/worker/package_linux64/build/usr/share/julia/stdlib/v1.4/Pkg/src/manifest.jl:105\n [4] Dict{Base.UUID,Pkg.Types.PackageEntry}(::Dict{String,Any}) at /buildworker/worker/package_linux64/build/usr/share/julia/stdlib/v1.4/Pkg/src/manifest.jl:154\n [5] read_manifest(::String) at /buildworker/worker/package_linux64/build/usr/share/julia/stdlib/v1.4/Pkg/src/manifest.jl:177\n [6] Pkg.Types.EnvCache(::Nothing) at /buildworker/worker/package_linux64/build/usr/share/julia/stdlib/v1.4/Pkg/src/Types.jl:302\n [7] EnvCache at /buildworker/worker/package_linux64/build/usr/share/julia/stdlib/v1.4/Pkg/src/Types.jl:281 [inlined]\n [8] Pkg.Types.Context() at ./util.jl:742\n [9] #add#27 at /buildworker/worker/package_linux64/build/usr/share/julia/stdlib/v1.4/Pkg/src/API.jl:109 [inlined]\n [10] add at /buildworker/worker/package_linux64/build/usr/share/julia/stdlib/v1.4/Pkg/src/API.jl:109 [inlined]\n [11] #add#24 at /buildworker/worker/package_linux64/build/usr/share/julia/stdlib/v1.4/Pkg/src/API.jl:107 [inlined]\n [12] add at /buildworker/worker/package_linux64/build/usr/share/julia/stdlib/v1.4/Pkg/src/API.jl:107 [inlined]\n [13] add(::String; kwargs::Base.Iterators.Pairs{Union{},Union{},Tuple{},NamedTuple{(),Tuple{}}}) at /buildworker/worker/package_linux64/build/usr/share/julia/stdlib/v1.4/Pkg/src/API.jl:106\n [14] add(::String) at /buildworker/worker/package_linux64/build/usr/share/julia/stdlib/v1.4/Pkg/src/API.jl:106\n [15] top-level scope at /home/amjalled/.julia/packages/IJulia/DrVMH/src/kernel.jl:52\n [16] eval at ./boot.jl:331 [inlined]\n [17] (::Distributed.var\"#153#154\"{Module,Expr})() at ./task.jl:358",
     "output_type": "error",
     "traceback": [
      "TaskFailedException:\n`Hwloc=0e44f5e4-bd66-52a0-8798-143a42290a1d` depends on `BinaryProvider`, but no such entry exists in the manifest.\nStacktrace:\n [1] pkgerror(::String, ::Vararg{String,N} where N) at /buildworker/worker/package_linux64/build/usr/share/julia/stdlib/v1.4/Pkg/src/Types.jl:53\n [2] normalize_deps(::String, ::Base.UUID, ::Array{String,1}, ::Dict{String,Array{Pkg.Types.Stage1,1}}) at /buildworker/worker/package_linux64/build/usr/share/julia/stdlib/v1.4/Pkg/src/manifest.jl:91\n [3] validate_manifest(::Dict{String,Array{Pkg.Types.Stage1,1}}) at /buildworker/worker/package_linux64/build/usr/share/julia/stdlib/v1.4/Pkg/src/manifest.jl:105\n [4] Dict{Base.UUID,Pkg.Types.PackageEntry}(::Dict{String,Any}) at /buildworker/worker/package_linux64/build/usr/share/julia/stdlib/v1.4/Pkg/src/manifest.jl:154\n [5] read_manifest(::String) at /buildworker/worker/package_linux64/build/usr/share/julia/stdlib/v1.4/Pkg/src/manifest.jl:177\n [6] Pkg.Types.EnvCache(::Nothing) at /buildworker/worker/package_linux64/build/usr/share/julia/stdlib/v1.4/Pkg/src/Types.jl:302\n [7] EnvCache at /buildworker/worker/package_linux64/build/usr/share/julia/stdlib/v1.4/Pkg/src/Types.jl:281 [inlined]\n [8] Pkg.Types.Context() at ./util.jl:742\n [9] #add#27 at /buildworker/worker/package_linux64/build/usr/share/julia/stdlib/v1.4/Pkg/src/API.jl:109 [inlined]\n [10] add at /buildworker/worker/package_linux64/build/usr/share/julia/stdlib/v1.4/Pkg/src/API.jl:109 [inlined]\n [11] #add#24 at /buildworker/worker/package_linux64/build/usr/share/julia/stdlib/v1.4/Pkg/src/API.jl:107 [inlined]\n [12] add at /buildworker/worker/package_linux64/build/usr/share/julia/stdlib/v1.4/Pkg/src/API.jl:107 [inlined]\n [13] add(::String; kwargs::Base.Iterators.Pairs{Union{},Union{},Tuple{},NamedTuple{(),Tuple{}}}) at /buildworker/worker/package_linux64/build/usr/share/julia/stdlib/v1.4/Pkg/src/API.jl:106\n [14] add(::String) at /buildworker/worker/package_linux64/build/usr/share/julia/stdlib/v1.4/Pkg/src/API.jl:106\n [15] top-level scope at /home/amjalled/.julia/packages/IJulia/DrVMH/src/kernel.jl:52\n [16] eval at ./boot.jl:331 [inlined]\n [17] (::Distributed.var\"#153#154\"{Module,Expr})() at ./task.jl:358",
      "",
      "Stacktrace:",
      " [1] sync_end(::Array{Any,1}) at ./task.jl:316",
      " [2] macro expansion at ./task.jl:335 [inlined]",
      " [3] remotecall_eval(::Module, ::Array{Int64,1}, ::Expr) at /buildworker/worker/package_linux64/build/usr/share/julia/stdlib/v1.4/Distributed/src/macros.jl:217",
      " [4] top-level scope at /buildworker/worker/package_linux64/build/usr/share/julia/stdlib/v1.4/Distributed/src/macros.jl:201",
      " [5] top-level scope at In[4]:2"
     ]
    }
   ],
   "source": [
    "#= @everywhere using Pkg\n",
    "@everywhere Pkg.add(\"DrWatson\")=#"
   ]
  },
  {
   "cell_type": "code",
   "execution_count": 35,
   "metadata": {},
   "outputs": [
    {
     "name": "stdout",
     "output_type": "stream",
     "text": [
      "      From worker 6:\t  Resolving package versions...\n"
     ]
    },
    {
     "name": "stderr",
     "output_type": "stream",
     "text": [
      "\u001b[32m\u001b[1m  Resolving\u001b[22m\u001b[39m package versions...\n"
     ]
    },
    {
     "name": "stdout",
     "output_type": "stream",
     "text": [
      "      From worker 4:\t  Resolving package versions...\n",
      "      From worker 2:\t  Resolving package versions...\n"
     ]
    },
    {
     "name": "stderr",
     "output_type": "stream",
     "text": [
      "\u001b[32m\u001b[1m   Updating\u001b[22m\u001b[39m `~/Repos/advection-diffusion-catalysis/Project.toml`\n"
     ]
    },
    {
     "name": "stdout",
     "output_type": "stream",
     "text": [
      "      From worker 5:\t  Resolving package versions...\n",
      "      From worker 3:\t  Resolving package versions...\n"
     ]
    },
    {
     "name": "stderr",
     "output_type": "stream",
     "text": [
      " \u001b[90m [1a1011a3]\u001b[39m\u001b[92m + SharedArrays \u001b[39m\n",
      "\u001b[32m\u001b[1m   Updating\u001b[22m\u001b[39m `~/Repos/advection-diffusion-catalysis/Manifest.toml`\n",
      "\u001b[90m [no changes]\u001b[39m\n"
     ]
    },
    {
     "name": "stdout",
     "output_type": "stream",
     "text": [
      "      From worker 6:\t   Updating `~/Repos/advection-diffusion-catalysis/Project.toml`\n",
      "      From worker 4:\t   Updating `~/Repos/advection-diffusion-catalysis/Project.toml`\n",
      "      From worker 6:\t  [1a1011a3] + SharedArrays \n",
      "      From worker 6:\t   Updating `~/Repos/advection-diffusion-catalysis/Manifest.toml`\n",
      "      From worker 6:\t [no changes]\n",
      "      From worker 4:\t  [1a1011a3] + SharedArrays \n",
      "      From worker 4:\t   Updating `~/Repos/advection-diffusion-catalysis/Manifest.toml`\n",
      "      From worker 4:\t [no changes]\n",
      "      From worker 2:\t   Updating `~/Repos/advection-diffusion-catalysis/Project.toml`\n",
      "      From worker 5:\t   Updating `~/Repos/advection-diffusion-catalysis/Project.toml`\n",
      "      From worker 3:\t   Updating `~/Repos/advection-diffusion-catalysis/Project.toml`\n",
      "      From worker 2:\t  [1a1011a3] + SharedArrays \n",
      "      From worker 2:\t   Updating `~/Repos/advection-diffusion-catalysis/Manifest.toml`\n",
      "      From worker 2:\t [no changes]\n",
      "      From worker 5:\t  [1a1011a3] + SharedArrays \n",
      "      From worker 5:\t   Updating `~/Repos/advection-diffusion-catalysis/Manifest.toml`\n",
      "      From worker 5:\t [no changes]\n",
      "      From worker 3:\t  [1a1011a3] + SharedArrays \n",
      "      From worker 3:\t   Updating `~/Repos/advection-diffusion-catalysis/Manifest.toml`\n",
      "      From worker 3:\t [no changes]\n"
     ]
    }
   ],
   "source": [
    "#=@everywhere using Pkg\n",
    "@everywhere Pkg.add(\"SharedArrays\")=#"
   ]
  },
  {
   "cell_type": "code",
   "execution_count": 6,
   "metadata": {},
   "outputs": [
    {
     "name": "stderr",
     "output_type": "stream",
     "text": [
      "┌ Info: Precompiling Catalyst [01e5440a-74e3-4b45-b8b9-c13ddfc5051b]\n",
      "└ @ Base loading.jl:1260\n",
      "ERROR: LoadError: LoadError: "
     ]
    },
    {
     "name": "stdout",
     "output_type": "stream",
     "text": [
      "      From worker 4:\tERROR: LoadError: LoadError: ArgumentError: Package ForwardDiff [f6369f11-7733-5829-9624-2563aa707210] is required but does not seem to be installed:\n",
      "      From worker 4:\t - Run `Pkg.instantiate()` to install all recorded dependencies.\n",
      "      From worker 4:\t\n",
      "      From worker 2:\tERROR: LoadError: LoadError: ArgumentError: Package ForwardDiff [f6369f11-7733-5829-9624-2563aa707210] is required but does not seem to be installed:\n",
      "      From worker 2:\t - Run `Pkg.instantiate()` to install all recorded dependencies.\n",
      "      From worker 2:\t\n",
      "      From worker 3:\tERROR: LoadError: LoadError: ArgumentError: Package ForwardDiff [f6369f11-7733-5829-9624-2563aa707210] is required but does not seem to be installed:\n",
      "      From worker 3:\t - Run `Pkg.instantiate()` to install all recorded dependencies.\n",
      "      From worker 3:\t\n",
      "      From worker 4:\tStacktrace:\n",
      "      From worker 2:\tStacktrace:\n",
      "      From worker 3:\tStacktrace:\n",
      "      From worker 5:\tERROR: LoadError: LoadError: ArgumentError: Package ForwardDiff [f6369f11-7733-5829-9624-2563aa707210] is required but does not seem to be installed:\n",
      "      From worker 5:\t - Run `Pkg.instantiate()` to install all recorded dependencies.\n",
      "      From worker 5:\t\n"
     ]
    },
    {
     "name": "stderr",
     "output_type": "stream",
     "text": [
      "ArgumentError: Package ForwardDiff [f6369f11-7733-5829-9624-2563aa707210] is required but does not seem to be installed:\n",
      " - Run `Pkg.instantiate()` to install all recorded dependencies.\n",
      "\n",
      "Stacktrace:"
     ]
    },
    {
     "name": "stdout",
     "output_type": "stream",
     "text": [
      "      From worker 4:\t [1] _require(::Base.PkgId) at ./loading.jl:998\n",
      "      From worker 4:\t [2] require(::Base.PkgId) at ./loading.jl:927\n",
      "      From worker 4:\t [3] require(::Module, ::Symbol) at ./loading.jl:922\n",
      "      From worker 4:\t [4] include(::Module, ::String) at ./Base.jl:377\n",
      "      From worker 4:\t [5] include(::String) at /home/amjalled/.julia/packages/Tensors/jWUZM/src/Tensors.jl:3\n",
      "      From worker 4:\t [6] top-level scope at /home/amjalled/.julia/packages/Tensors/jWUZM/src/Tensors.jl:160\n",
      "      From worker 4:\t [7] include(::Module, ::String) at ./Base.jl:377\n",
      "      From worker 4:\t [8] top-level scope at none:2\n",
      "      From worker 4:\t [9] eval at ./boot.jl:331 [inlined]\n",
      "      From worker 4:\t [10] eval(::Expr) at ./client.jl:449\n",
      "      From worker 4:\t [11] top-level scope at ./none:3\n",
      "      From worker 4:\tin expression starting at /home/amjalled/.julia/packages/Tensors/jWUZM/src/automatic_differentiation.jl:1\n",
      "      From worker 4:\tin expression starting at /home/amjalled/.julia/packages/Tensors/jWUZM/src/Tensors.jl:160\n",
      "      From worker 5:\tStacktrace:\n",
      "      From worker 2:\t [1] _require(::Base.PkgId) at ./loading.jl:998\n",
      "      From worker 2:\t [2] require(::Base.PkgId) at ./loading.jl:927\n",
      "      From worker 2:\t [3] require(::Module, ::Symbol) at ./loading.jl:922\n",
      "      From worker 2:\t [4] include(::Module, ::String) at ./Base.jl:377\n",
      "      From worker 2:\t [5] include(::String) at /home/amjalled/.julia/packages/Tensors/jWUZM/src/Tensors.jl:3\n",
      "      From worker 2:\t [6] top-level scope at /home/amjalled/.julia/packages/Tensors/jWUZM/src/Tensors.jl:160\n",
      "      From worker 2:\t [7] include(::Module, ::String) at ./Base.jl:377\n",
      "      From worker 2:\t [8] top-level scope at none:2\n",
      "      From worker 2:\t [9] eval at ./boot.jl:331 [inlined]\n",
      "      From worker 2:\t [10] eval(::Expr) at ./client.jl:449\n",
      "      From worker 2:\t [11] top-level scope at ./none:3\n",
      "      From worker 2:\tin expression starting at /home/amjalled/.julia/packages/Tensors/jWUZM/src/automatic_differentiation.jl:1\n",
      "      From worker 2:\tin expression starting at /home/amjalled/.julia/packages/Tensors/jWUZM/src/Tensors.jl:160\n",
      "      From worker 3:\t [1] _require(::Base.PkgId) at ./loading.jl:998\n",
      "      From worker 3:\t [2] require(::Base.PkgId) at ./loading.jl:927\n",
      "      From worker 3:\t [3] require(::Module, ::Symbol) at ./loading.jl:922\n",
      "      From worker 3:\t [4] include(::Module, ::String) at ./Base.jl:377\n",
      "      From worker 3:\t [5] include(::String) at /home/amjalled/.julia/packages/Tensors/jWUZM/src/Tensors.jl:3\n",
      "      From worker 3:\t [6] top-level scope at /home/amjalled/.julia/packages/Tensors/jWUZM/src/Tensors.jl:160\n",
      "      From worker 3:\t [7] include(::Module, ::String) at ./Base.jl:377\n",
      "      From worker 3:\t [8] top-level scope at none:2\n"
     ]
    },
    {
     "name": "stderr",
     "output_type": "stream",
     "text": [
      "\n",
      " [1] _require("
     ]
    },
    {
     "name": "stdout",
     "output_type": "stream",
     "text": [
      "      From worker 3:\t [9] eval at ./boot.jl:331 [inlined]\n",
      "      From worker 3:\t [10] eval(::Expr) at ./client.jl:449\n",
      "      From worker 3:\t [11] top-level scope at ./none:3\n",
      "      From worker 3:\tin expression starting at /home/amjalled/.julia/packages/Tensors/jWUZM/src/automatic_differentiation.jl:1\n",
      "      From worker 3:\tin expression starting at /home/amjalled/.julia/packages/Tensors/jWUZM/src/Tensors.jl:160\n"
     ]
    },
    {
     "name": "stderr",
     "output_type": "stream",
     "text": [
      "::Base.PkgId) at ./loading.jl:998\n",
      " [2] require(::Base.PkgId) at ./loading.jl:927\n",
      " [3] require(::Module, ::Symbol) at ./loading.jl:922\n",
      " [4] include(::Module, ::String) at ./Base.jl:377\n",
      " [5] include(::String) at /home/amjalled/.julia/packages/Tensors/jWUZM/src/Tensors.jl:3\n",
      " [6] top-level scope at /home/amjalled/.julia/packages/Tensors/jWUZM/src/Tensors.jl:160\n",
      " [7] include(::Module, ::String) at ./Base.jl:377\n",
      " [8] top-level scope at none:2\n",
      " [9] eval at ./boot.jl:331 [inlined]\n",
      " [10] eval(::Expr) at ./client.jl:449\n",
      " [11] top-level scope at ./none:3\n",
      "in expression starting at /home/amjalled/.julia/packages/Tensors/jWUZM/src/automatic_differentiation.jl:1\n",
      "in expression starting at /home/amjalled/.julia/packages/Tensors/jWUZM/src/Tensors.jl:160\n"
     ]
    },
    {
     "name": "stdout",
     "output_type": "stream",
     "text": [
      "      From worker 5:\t [1] _require(::Base.PkgId) at ./loading.jl:998\n",
      "      From worker 5:\t [2] require(::Base.PkgId) at ./loading.jl:927\n",
      "      From worker 5:\t [3] require(::Module, ::Symbol) at ./loading.jl:922\n",
      "      From worker 5:\t [4] include(::Module, ::String) at ./Base.jl:377\n",
      "      From worker 5:\t [5] include(::String) at /home/amjalled/.julia/packages/Tensors/jWUZM/src/Tensors.jl:3\n",
      "      From worker 5:\t [6] top-level scope at /home/amjalled/.julia/packages/Tensors/jWUZM/src/Tensors.jl:160\n",
      "      From worker 5:\t [7] include(::Module, ::String) at ./Base.jl:377\n",
      "      From worker 5:\t [8] top-level scope at none:2\n",
      "      From worker 5:\t [9] eval at ./boot.jl:331 [inlined]\n",
      "      From worker 5:\t [10] eval(::Expr) at ./client.jl:449\n",
      "      From worker 5:\t [11] top-level scope at ./none:3\n",
      "      From worker 5:\tin expression starting at /home/amjalled/.julia/packages/Tensors/jWUZM/src/automatic_differentiation.jl:1\n",
      "      From worker 5:\tin expression starting at /home/amjalled/.julia/packages/Tensors/jWUZM/src/Tensors.jl:160\n"
     ]
    },
    {
     "name": "stderr",
     "output_type": "stream",
     "text": [
      "ERROR: LoadError: "
     ]
    },
    {
     "name": "stdout",
     "output_type": "stream",
     "text": [
      "      From worker 4:\tERROR: LoadError: Failed to precompile Tensors [48a634ad-e948-5137-8d70-aa71f2a747f4] to /home/amjalled/.julia/compiled/v1.4/Tensors/F7rKl_O9VyG.ji.\n",
      "      From worker 2:\tERROR: LoadError: Failed to precompile Tensors [48a634ad-e948-5137-8d70-aa71f2a747f4] to /home/amjalled/.julia/compiled/v1.4/Tensors/F7rKl_O9VyG.ji.\n",
      "      From worker 3:\tERROR: LoadError: Failed to precompile Tensors [48a634ad-e948-5137-8d70-aa71f2a747f4] to /home/amjalled/.julia/compiled/v1.4/Tensors/F7rKl_O9VyG.ji.\n",
      "      From worker 4:\tStacktrace:\n",
      "      From worker 2:\tStacktrace:\n",
      "      From worker 3:\tStacktrace:\n",
      "      From worker 5:\tERROR: LoadError: Failed to precompile Tensors [48a634ad-e948-5137-8d70-aa71f2a747f4] to /home/amjalled/.julia/compiled/v1.4/Tensors/F7rKl_O9VyG.ji.\n"
     ]
    },
    {
     "name": "stderr",
     "output_type": "stream",
     "text": [
      "Failed to precompile Tensors [48a634ad-e948-5137-8d70-aa71f2a747f4] to /home/amjalled/.julia/compiled/v1.4/Tensors/F7rKl_O9VyG.ji.\n",
      "Stacktrace:"
     ]
    },
    {
     "name": "stdout",
     "output_type": "stream",
     "text": [
      "      From worker 4:\t [1] error(::String) at ./error.jl:33\n",
      "      From worker 4:\t [2] compilecache(::Base.PkgId, ::String) at ./loading.jl:1272\n",
      "      From worker 4:\t [3] _require(::Base.PkgId) at ./loading.jl:1029\n",
      "      From worker 4:\t [4] require(::Base.PkgId) at ./loading.jl:927\n",
      "      From worker 4:\t [5] require(::Module, ::Symbol) at ./loading.jl:922\n",
      "      From worker 4:\t [6] include(::Module, ::String) at ./Base.jl:377\n",
      "      From worker 4:\t [7] top-level scope at none:2\n",
      "      From worker 4:\t [8] eval at ./boot.jl:331 [inlined]\n",
      "      From worker 4:\t [9] eval(::Expr) at ./client.jl:449\n",
      "      From worker 4:\t [10] top-level scope at ./none:3\n",
      "      From worker 4:\tin expression starting at /home/amjalled/.julia/packages/JuAFEM/8X2AF/src/JuAFEM.jl:3\n",
      "      From worker 2:\t [1] error(::String) at ./error.jl:33\n",
      "      From worker 2:\t [2] compilecache(::Base.PkgId, ::String) at ./loading.jl:1272\n",
      "      From worker 2:\t [3] _require(::Base.PkgId) at ./loading.jl:1029\n",
      "      From worker 2:\t [4] require(::Base.PkgId) at ./loading.jl:927\n",
      "      From worker 2:\t [5] require(::Module, ::Symbol) at ./loading.jl:922\n",
      "      From worker 2:\t [6] include(::Module, ::String) at ./Base.jl:377\n",
      "      From worker 2:\t [7] top-level scope at none:2\n",
      "      From worker 5:\tStacktrace:\n",
      "      From worker 2:\t [8] eval at ./boot.jl:331 [inlined]\n",
      "      From worker 2:\t [9] eval(::Expr) at ./client.jl:449\n",
      "      From worker 2:\t [10] top-level scope at ./none:3\n",
      "      From worker 2:\tin expression starting at /home/amjalled/.julia/packages/JuAFEM/8X2AF/src/JuAFEM.jl:3\n",
      "      From worker 3:\t [1] error(::String) at ./error.jl:33\n",
      "      From worker 3:\t [2] compilecache(::Base.PkgId, ::String) at ./loading.jl:1272\n",
      "      From worker 3:\t [3] _require(::Base.PkgId) at ./loading.jl:1029\n",
      "      From worker 3:\t [4] require(::Base.PkgId) at ./loading.jl:927\n",
      "      From worker 3:\t [5] require(::Module, ::Symbol) at ./loading.jl:922\n",
      "      From worker 3:\t [6] include(::Module, ::String) at ./Base.jl:377\n",
      "      From worker 3:\t [7] top-level scope at none:2\n",
      "      From worker 3:\t [8] eval at ./boot.jl:331 [inlined]\n",
      "      From worker 3:\t [9] eval(::Expr) at ./client.jl:449\n",
      "      From worker 3:\t [10] top-level scope at ./none:3\n",
      "      From worker 3:\tin expression starting at /home/amjalled/.julia/packages/JuAFEM/8X2AF/src/JuAFEM.jl:3\n"
     ]
    },
    {
     "name": "stderr",
     "output_type": "stream",
     "text": [
      "\n",
      " [1] error(::String) at ./error.jl:33\n",
      " [2] compilecache(::Base.PkgId, ::String) at ./loading.jl:1272\n",
      " [3] _require(::Base.PkgId) at ./loading.jl:1029\n",
      " [4] require(::Base.PkgId) at ./loading.jl:927\n",
      " [5] require(::Module, ::Symbol) at ./loading.jl:922\n",
      " [6] include(::Module, ::String) at ./Base.jl:377\n",
      " [7] top-level scope at none:2\n",
      " [8] eval at ./boot.jl:331 [inlined]\n",
      " [9] eval(::Expr) at ./client.jl:449\n",
      " [10] top-level scope at ./none:3\n",
      "in expression starting at /home/amjalled/.julia/packages/JuAFEM/8X2AF/src/JuAFEM.jl:3\n"
     ]
    },
    {
     "name": "stdout",
     "output_type": "stream",
     "text": [
      "      From worker 5:\t [1] error(::String) at ./error.jl:33\n",
      "      From worker 5:\t [2] compilecache(::Base.PkgId, ::String) at ./loading.jl:1272\n",
      "      From worker 5:\t [3] _require(::Base.PkgId) at ./loading.jl:1029\n",
      "      From worker 5:\t [4] require(::Base.PkgId) at ./loading.jl:927\n",
      "      From worker 5:\t [5] require(::Module, ::Symbol) at ./loading.jl:922\n",
      "      From worker 5:\t [6] include(::Module, ::String) at ./Base.jl:377\n",
      "      From worker 5:\t [7] top-level scope at none:2\n",
      "      From worker 5:\t [8] eval at ./boot.jl:331 [inlined]\n",
      "      From worker 5:\t [9] eval(::Expr) at ./client.jl:449\n",
      "      From worker 5:\t [10] top-level scope at ./none:3\n",
      "      From worker 5:\tin expression starting at /home/amjalled/.julia/packages/JuAFEM/8X2AF/src/JuAFEM.jl:3\n"
     ]
    },
    {
     "name": "stderr",
     "output_type": "stream",
     "text": [
      "ERROR: LoadError: "
     ]
    },
    {
     "name": "stdout",
     "output_type": "stream",
     "text": [
      "      From worker 4:\tERROR: LoadError: Failed to precompile JuAFEM [30d91d44-8115-11e8-1d28-c19a5ac16de8] to /home/amjalled/.julia/compiled/v1.4/JuAFEM/It0AK_O9VyG.ji.\n",
      "      From worker 4:\tStacktrace:\n",
      "      From worker 2:\tERROR: LoadError: Failed to precompile JuAFEM [30d91d44-8115-11e8-1d28-c19a5ac16de8] to /home/amjalled/.julia/compiled/v1.4/JuAFEM/It0AK_O9VyG.ji.\n",
      "      From worker 3:\tERROR: LoadError: Failed to precompile JuAFEM [30d91d44-8115-11e8-1d28-c19a5ac16de8] to /home/amjalled/.julia/compiled/v1.4/JuAFEM/It0AK_O9VyG.ji.\n",
      "      From worker 2:\tStacktrace:\n",
      "      From worker 3:\tStacktrace:\n",
      "      From worker 5:\tERROR: LoadError: Failed to precompile JuAFEM [30d91d44-8115-11e8-1d28-c19a5ac16de8] to /home/amjalled/.julia/compiled/v1.4/JuAFEM/It0AK_O9VyG.ji.\n"
     ]
    },
    {
     "name": "stderr",
     "output_type": "stream",
     "text": [
      "Failed to precompile JuAFEM [30d91d44-8115-11e8-1d28-c19a5ac16de8] to /home/amjalled/.julia/compiled/v1.4/JuAFEM/It0AK_O9VyG.ji.\n",
      "Stacktrace:"
     ]
    },
    {
     "name": "stdout",
     "output_type": "stream",
     "text": [
      "      From worker 4:\t [1] error(::String) at ./error.jl:33\n",
      "      From worker 4:\t [2] compilecache(::Base.PkgId, ::String) at ./loading.jl:1272\n",
      "      From worker 4:\t [3] _require(::Base.PkgId) at ./loading.jl:1029\n",
      "      From worker 4:\t [4] require(::Base.PkgId) at ./loading.jl:927\n",
      "      From worker 4:\t [5] require(::Module, ::Symbol) at ./loading.jl:922\n",
      "      From worker 4:\t [6] include(::Module, ::String) at ./Base.jl:377\n",
      "      From worker 4:\t [7] top-level scope at none:2\n",
      "      From worker 4:\t [8] eval at ./boot.jl:331 [inlined]\n",
      "      From worker 4:\t [9] eval(::Expr) at ./client.jl:449\n",
      "      From worker 4:\t [10] top-level scope at ./none:3\n",
      "      From worker 4:\tin expression starting at /home/amjalled/Repos/advection-diffusion-catalysis/src/Catalyst.jl:4\n",
      "      From worker 5:\tStacktrace:\n"
     ]
    },
    {
     "name": "stderr",
     "output_type": "stream",
     "text": [
      "\n",
      " [1] error("
     ]
    },
    {
     "name": "stdout",
     "output_type": "stream",
     "text": [
      "      From worker 2:\t [1] error(::String) at ./error.jl:33\n",
      "      From worker 2:\t [2] compilecache(::Base.PkgId, ::String) at ./loading.jl:1272\n",
      "      From worker 2:\t [3] _require(::Base.PkgId) at ./loading.jl:1029\n",
      "      From worker 2:\t [4] require(::Base.PkgId) at ./loading.jl:927\n",
      "      From worker 2:\t [5] require(::Module, ::Symbol) at ./loading.jl:922\n",
      "      From worker 2:\t [6] include(::Module, ::String) at ./Base.jl:377\n",
      "      From worker 2:\t [7] top-level scope at none:2\n",
      "      From worker 2:\t [8] eval at ./boot.jl:331 [inlined]\n",
      "      From worker 2:\t [9] eval(::Expr) at ./client.jl:449\n",
      "      From worker 2:\t [10] top-level scope at ./none:3\n",
      "      From worker 2:\tin expression starting at /home/amjalled/Repos/advection-diffusion-catalysis/src/Catalyst.jl:4\n",
      "      From worker 3:\t [1] error(::String) at ./error.jl:33\n",
      "      From worker 3:\t [2] compilecache(::Base.PkgId, ::String) at ./loading.jl:1272\n",
      "      From worker 3:\t [3] _require(::Base.PkgId) at ./loading.jl:1029\n",
      "      From worker 3:\t [4] require(::Base.PkgId) at ./loading.jl:927\n",
      "      From worker 3:\t [5] require(::Module, ::Symbol) at ./loading.jl:922\n",
      "      From worker 3:\t [6] include(::Module, ::String) at ./Base.jl:377\n",
      "      From worker 3:\t [7] top-level scope at none:2\n",
      "      From worker 3:\t [8] eval at ./boot.jl:331 [inlined]\n",
      "      From worker 3:\t [9] eval(::Expr) at ./client.jl:449\n",
      "      From worker 3:\t [10] top-level scope at ./none:3\n",
      "      From worker 3:\tin expression starting at /home/amjalled/Repos/advection-diffusion-catalysis/src/Catalyst.jl:4\n"
     ]
    },
    {
     "name": "stderr",
     "output_type": "stream",
     "text": [
      "::"
     ]
    },
    {
     "name": "stdout",
     "output_type": "stream",
     "text": [
      "      From worker 5:\t [1] error(::String) at ./error.jl:33\n",
      "      From worker 5:\t [2] compilecache(::Base.PkgId, ::String) at ./loading.jl:1272\n",
      "      From worker 5:\t [3] _require(::Base.PkgId) at ./loading.jl:1029\n",
      "      From worker 5:\t [4] require(::Base.PkgId) at ./loading.jl:927\n",
      "      From worker 5:\t [5] require(::Module, ::Symbol) at ./loading.jl:922\n",
      "      From worker 5:\t [6] include(::Module, ::String) at ./Base.jl:377\n",
      "      From worker 5:\t [7] top-level scope at none:2\n",
      "      From worker 5:\t [8] eval at ./boot.jl:331 [inlined]\n",
      "      From worker 5:\t [9] eval(::Expr) at ./client.jl:449\n",
      "      From worker 5:\t [10] top-level scope at ./none:3\n",
      "      From worker 5:\tin expression starting at /home/amjalled/Repos/advection-diffusion-catalysis/src/Catalyst.jl:4\n"
     ]
    },
    {
     "name": "stderr",
     "output_type": "stream",
     "text": [
      "String) at ./error.jl:33\n",
      " [2] compilecache(::Base.PkgId, ::String) at ./loading.jl:1272\n",
      " [3] _require(::Base.PkgId) at ./loading.jl:1029\n",
      " [4] require(::Base.PkgId) at ./loading.jl:927\n",
      " [5] require(::Module, ::Symbol) at ./loading.jl:922\n",
      " [6] include(::Module, ::String) at ./Base.jl:377\n",
      " [7] top-level scope at none:2\n",
      " [8] eval at ./boot.jl:331 [inlined]\n",
      " [9] eval(::Expr) at ./client.jl:449\n",
      " [10] top-level scope at ./none:3\n",
      "in expression starting at /home/amjalled/Repos/advection-diffusion-catalysis/src/Catalyst.jl:4\n"
     ]
    },
    {
     "ename": "CompositeException",
     "evalue": "On worker 2:\nFailed to precompile Catalyst [01e5440a-74e3-4b45-b8b9-c13ddfc5051b] to /home/amjalled/.julia/compiled/v1.4/Catalyst/J9Gan_O9VyG.ji.\nerror at ./error.jl:33\ncompilecache at ./loading.jl:1272\n_require at ./loading.jl:1029\nrequire at ./loading.jl:927\nrequire at ./loading.jl:922\ntop-level scope at /home/amjalled/.julia/packages/DrWatson/PGLXY/src/project_setup.jl:180\neval at ./boot.jl:331\n#101 at /buildworker/worker/package_linux64/build/usr/share/julia/stdlib/v1.4/Distributed/src/process_messages.jl:290\nrun_work_thunk at /buildworker/worker/package_linux64/build/usr/share/julia/stdlib/v1.4/Distributed/src/process_messages.jl:79\nrun_work_thunk at /buildworker/worker/package_linux64/build/usr/share/julia/stdlib/v1.4/Distributed/src/process_messages.jl:88\n#94 at ./task.jl:358\n\n...and 4 more exception(s).\n",
     "output_type": "error",
     "traceback": [
      "On worker 2:\nFailed to precompile Catalyst [01e5440a-74e3-4b45-b8b9-c13ddfc5051b] to /home/amjalled/.julia/compiled/v1.4/Catalyst/J9Gan_O9VyG.ji.\nerror at ./error.jl:33\ncompilecache at ./loading.jl:1272\n_require at ./loading.jl:1029\nrequire at ./loading.jl:927\nrequire at ./loading.jl:922\ntop-level scope at /home/amjalled/.julia/packages/DrWatson/PGLXY/src/project_setup.jl:180\neval at ./boot.jl:331\n#101 at /buildworker/worker/package_linux64/build/usr/share/julia/stdlib/v1.4/Distributed/src/process_messages.jl:290\nrun_work_thunk at /buildworker/worker/package_linux64/build/usr/share/julia/stdlib/v1.4/Distributed/src/process_messages.jl:79\nrun_work_thunk at /buildworker/worker/package_linux64/build/usr/share/julia/stdlib/v1.4/Distributed/src/process_messages.jl:88\n#94 at ./task.jl:358\n\n...and 4 more exception(s).\n",
      "",
      "Stacktrace:",
      " [1] sync_end(::Array{Any,1}) at ./task.jl:316",
      " [2] macro expansion at ./task.jl:335 [inlined]",
      " [3] remotecall_eval(::Module, ::Array{Int64,1}, ::Expr) at /buildworker/worker/package_linux64/build/usr/share/julia/stdlib/v1.4/Distributed/src/macros.jl:217",
      " [4] top-level scope at /buildworker/worker/package_linux64/build/usr/share/julia/stdlib/v1.4/Distributed/src/macros.jl:201",
      " [5] top-level scope at In[6]:2"
     ]
    }
   ],
   "source": [
    "@everywhere using DrWatson\n",
    "@everywhere @quickactivate :Catalyst\n",
    "@everywhere using BenchmarkTools\n",
    "\n",
    "@everywhere function benchmark_distributed_evaluation(parameters,N)\n",
    "    errors = zeros(N) # init model errors\n",
    "    # we need to read the experiment data in this block\n",
    "    input_exp = Float64[]\n",
    "    output_exp = Float64[]\n",
    "    for row in CSV.File(datadir(\"experiment/new-data.csv\"); delim = \" \")\n",
    "         push!(input_exp, row.I)\n",
    "         push!(output_exp, row.O)\n",
    "    end\n",
    "    # done reading \n",
    "    \n",
    "    F = Array{Future}(undef,N)\n",
    "    \n",
    "    for i in 1:N \n",
    "        F[i] = @spawnat i+1 (Catalyst.solve(parameters[1], parameters[2], 1.,\n",
    "                                      input_exp, output_exp, progress=false, \n",
    "                                      microcomp_type=:nonlinear,\n",
    "                                      Q=parameters[3], kₙ=parameters[4],\n",
    "                                      calibration=true))\n",
    "        end \n",
    "    \n",
    "    for i in 1:N\n",
    "    errors[i] = fetch(F[i])\n",
    "    end\n",
    "    return errors\n",
    "end\n",
    "\n",
    "parameters = [1e-4, 1., 1., 10.]\n",
    "@time benchmark_distributed_evaluation(parameters,2)"
   ]
  },
  {
   "cell_type": "code",
   "execution_count": null,
   "metadata": {},
   "outputs": [],
   "source": []
  }
 ],
 "metadata": {
  "kernelspec": {
   "display_name": "Julia 1.4.2",
   "language": "julia",
   "name": "julia-1.4"
  },
  "language_info": {
   "file_extension": ".jl",
   "mimetype": "application/julia",
   "name": "julia",
   "version": "1.4.2"
  }
 },
 "nbformat": 4,
 "nbformat_minor": 4
}
