{
 "cells": [
  {
   "cell_type": "code",
   "execution_count": 2,
   "metadata": {},
   "outputs": [
    {
     "data": {
      "text/plain": [
       "1"
      ]
     },
     "execution_count": 2,
     "metadata": {},
     "output_type": "execute_result"
    }
   ],
   "source": [
    "using Distributed\n",
    "nprocs()"
   ]
  },
  {
   "cell_type": "code",
   "execution_count": 4,
   "metadata": {},
   "outputs": [
    {
     "data": {
      "text/plain": [
       "5-element Array{Int64,1}:\n",
       " 2\n",
       " 3\n",
       " 4\n",
       " 5\n",
       " 6"
      ]
     },
     "execution_count": 4,
     "metadata": {},
     "output_type": "execute_result"
    }
   ],
   "source": [
    "addprocs(5)"
   ]
  },
  {
   "cell_type": "code",
   "execution_count": 5,
   "metadata": {},
   "outputs": [
    {
     "data": {
      "text/plain": [
       "6"
      ]
     },
     "execution_count": 5,
     "metadata": {},
     "output_type": "execute_result"
    }
   ],
   "source": [
    "nprocs()"
   ]
  },
  {
   "cell_type": "code",
   "execution_count": 8,
   "metadata": {},
   "outputs": [
    {
     "name": "stdout",
     "output_type": "stream",
     "text": [
      "      From worker 2:\t   Updating registry at `~/.julia/registries/General`\n",
      "      From worker 2:\t   Updating git-repo `https://github.com/JuliaRegistries/General.git`\n"
     ]
    },
    {
     "name": "stderr",
     "output_type": "stream",
     "text": [
      "\u001b[32m\u001b[1m   Updating\u001b[22m\u001b[39m registry at `~/.julia/registries/General`\n"
     ]
    },
    {
     "name": "stdout",
     "output_type": "stream",
     "text": [
      "      From worker 2:\t\u001b[?25l\u001b[2K\u001b[?25h  Resolving package versions...\n",
      "\u001b[?25l      From worker 6:\t   Updating registry at `~/.julia/registries/General`\u001b[2K"
     ]
    },
    {
     "name": "stderr",
     "output_type": "stream",
     "text": [
      "\u001b[32m\u001b[1m   Updating\u001b[22m\u001b[39m git-repo `https://github.com/JuliaRegistries/General.git`\n"
     ]
    },
    {
     "name": "stdout",
     "output_type": "stream",
     "text": [
      "\n",
      "\u001b[?25h      From worker 6:\t   Updating git-repo `https://github.com/JuliaRegistries/General.git`\n",
      "      From worker 4:\t   Updating registry at `~/.julia/registries/General`\n"
     ]
    },
    {
     "name": "stderr",
     "output_type": "stream",
     "text": [
      "\u001b[32m\u001b[1m  Resolving\u001b[22m\u001b[39m package versions...\n"
     ]
    },
    {
     "name": "stdout",
     "output_type": "stream",
     "text": [
      "      From worker 4:\t   Updating git-repo `https://github.com/JuliaRegistries/General.git`\n",
      "      From worker 4:\t\u001b[?25l\u001b[2K\u001b[?25h  Resolving package versions...\n",
      "      From worker 3:\t   Updating registry at `~/.julia/registries/General`\n",
      "      From worker 3:\t   Updating git-repo `https://github.com/JuliaRegistries/General.git`\n",
      "      From worker 5:\t   Updating registry at `~/.julia/registries/General`\n",
      "      From worker 5:\t   Updating git-repo `https://github.com/JuliaRegistries/General.git`\n",
      "      From worker 5:\t\u001b[?25l\u001b[2K\u001b[?25h  Resolving package versions...\n",
      "      From worker 2:\t  Installed UnPack ─── v1.0.1\n",
      "      From worker 2:\t  Installed FileIO ─── v1.3.0\n",
      "      From worker 6:\t\u001b[?25l\u001b[2K\u001b[?25h  Resolving package versions...\n",
      "      From worker 4:\t  Installed UnPack ─── v1.0.1\n",
      "      From worker 4:\t  Installed DrWatson ─ v1.14.3\n",
      "      From worker 4:\t  Installed FileIO ─── v1.3.0\n",
      "      From worker 4:\t   Updating `~/.julia/environments/v1.4/Project.toml`\n",
      "      From worker 4:\t  [634d3b9d] + DrWatson v1.14.3\n",
      "      From worker 4:\t   Updating `~/.julia/environments/v1.4/Manifest.toml`\n",
      "      From worker 4:\t  [634d3b9d] + DrWatson v1.14.3\n",
      "      From worker 4:\t  [5789e2e9] + FileIO v1.3.0\n",
      "      From worker 4:\t  [ae029012] + Requires v1.0.1\n",
      "      From worker 4:\t  [3a884ed6] + UnPack v1.0.1\n",
      "      From worker 3:\t\u001b[?25l\u001b[2K\u001b[?25h  Resolving package versions...\n",
      "      From worker 5:\t  Installed UnPack ─── v1.0.1\n",
      "      From worker 5:\t  Installed DrWatson ─ v1.14.3\n",
      "      From worker 2:\t  Installed DrWatson ─ v1.14.3\n",
      "      From worker 2:\t   Updating `~/.julia/environments/v1.4/Project.toml`\n",
      "      From worker 2:\t  [634d3b9d] + DrWatson v1.14.3\n",
      "      From worker 2:\t   Updating `~/.julia/environments/v1.4/Manifest.toml`\n",
      "      From worker 2:\t  [634d3b9d] + DrWatson v1.14.3\n",
      "      From worker 2:\t  [5789e2e9] + FileIO v1.3.0\n",
      "      From worker 2:\t  [ae029012] + Requires v1.0.1\n",
      "      From worker 2:\t  [3a884ed6] + UnPack v1.0.1\n",
      "      From worker 3:\t  Installed DrWatson ─ v1.14.3\n",
      "      From worker 6:\t  Installed DrWatson ─ v1.14.3\n",
      "      From worker 5:\t  Installed FileIO ─── v1.3.0\n"
     ]
    },
    {
     "name": "stderr",
     "output_type": "stream",
     "text": [
      "\u001b[32m\u001b[1m   Updating\u001b[22m\u001b[39m `~/Repos/advection-diffusion-catalysis/Project.toml`\n",
      "\u001b[90m [no changes]\u001b[39m\n",
      "\u001b[32m\u001b[1m   Updating\u001b[22m\u001b[39m `~/Repos/advection-diffusion-catalysis/Manifest.toml`\n",
      "\u001b[90m [no changes]\u001b[39m\n"
     ]
    },
    {
     "name": "stdout",
     "output_type": "stream",
     "text": [
      "      From worker 5:\t   Updating `~/.julia/environments/v1.4/Project.toml`\n",
      "      From worker 5:\t  [634d3b9d] + DrWatson v1.14.3\n",
      "      From worker 5:\t   Updating `~/.julia/environments/v1.4/Manifest.toml`\n",
      "      From worker 5:\t  [634d3b9d] + DrWatson v1.14.3\n",
      "      From worker 5:\t  [5789e2e9] + FileIO v1.3.0\n",
      "      From worker 5:\t  [ae029012] + Requires v1.0.1\n",
      "      From worker 5:\t  [3a884ed6] + UnPack v1.0.1\n",
      "      From worker 6:\t  Installed FileIO ─── v1.3.0\n",
      "      From worker 6:\t   Updating `~/.julia/environments/v1.4/Project.toml`\n",
      "      From worker 6:\t  [634d3b9d] + DrWatson v1.14.3\n",
      "      From worker 6:\t   Updating `~/.julia/environments/v1.4/Manifest.toml`\n",
      "      From worker 6:\t  [634d3b9d] + DrWatson v1.14.3\n",
      "      From worker 6:\t  [5789e2e9] + FileIO v1.3.0\n",
      "      From worker 6:\t  [ae029012] + Requires v1.0.1\n",
      "      From worker 6:\t  [3a884ed6] + UnPack v1.0.1\n",
      "      From worker 3:\t  Installed FileIO ─── v1.3.0\n",
      "      From worker 3:\t   Updating `~/.julia/environments/v1.4/Project.toml`\n",
      "      From worker 3:\t  [634d3b9d] + DrWatson v1.14.3\n",
      "      From worker 3:\t   Updating `~/.julia/environments/v1.4/Manifest.toml`\n",
      "      From worker 3:\t  [634d3b9d] + DrWatson v1.14.3\n",
      "      From worker 3:\t  [5789e2e9] + FileIO v1.3.0\n",
      "      From worker 3:\t  [ae029012] + Requires v1.0.1\n",
      "      From worker 3:\t  [3a884ed6] + UnPack v1.0.1\n"
     ]
    }
   ],
   "source": [
    "@everywhere using Pkg\n",
    "@everywhere Pkg.add(\"DrWatson\")"
   ]
  },
  {
   "cell_type": "code",
   "execution_count": 35,
   "metadata": {},
   "outputs": [
    {
     "name": "stdout",
     "output_type": "stream",
     "text": [
      "      From worker 6:\t  Resolving package versions...\n"
     ]
    },
    {
     "name": "stderr",
     "output_type": "stream",
     "text": [
      "\u001b[32m\u001b[1m  Resolving\u001b[22m\u001b[39m package versions...\n"
     ]
    },
    {
     "name": "stdout",
     "output_type": "stream",
     "text": [
      "      From worker 4:\t  Resolving package versions...\n",
      "      From worker 2:\t  Resolving package versions...\n"
     ]
    },
    {
     "name": "stderr",
     "output_type": "stream",
     "text": [
      "\u001b[32m\u001b[1m   Updating\u001b[22m\u001b[39m `~/Repos/advection-diffusion-catalysis/Project.toml`\n"
     ]
    },
    {
     "name": "stdout",
     "output_type": "stream",
     "text": [
      "      From worker 5:\t  Resolving package versions...\n",
      "      From worker 3:\t  Resolving package versions...\n"
     ]
    },
    {
     "name": "stderr",
     "output_type": "stream",
     "text": [
      " \u001b[90m [1a1011a3]\u001b[39m\u001b[92m + SharedArrays \u001b[39m\n",
      "\u001b[32m\u001b[1m   Updating\u001b[22m\u001b[39m `~/Repos/advection-diffusion-catalysis/Manifest.toml`\n",
      "\u001b[90m [no changes]\u001b[39m\n"
     ]
    },
    {
     "name": "stdout",
     "output_type": "stream",
     "text": [
      "      From worker 6:\t   Updating `~/Repos/advection-diffusion-catalysis/Project.toml`\n",
      "      From worker 4:\t   Updating `~/Repos/advection-diffusion-catalysis/Project.toml`\n",
      "      From worker 6:\t  [1a1011a3] + SharedArrays \n",
      "      From worker 6:\t   Updating `~/Repos/advection-diffusion-catalysis/Manifest.toml`\n",
      "      From worker 6:\t [no changes]\n",
      "      From worker 4:\t  [1a1011a3] + SharedArrays \n",
      "      From worker 4:\t   Updating `~/Repos/advection-diffusion-catalysis/Manifest.toml`\n",
      "      From worker 4:\t [no changes]\n",
      "      From worker 2:\t   Updating `~/Repos/advection-diffusion-catalysis/Project.toml`\n",
      "      From worker 5:\t   Updating `~/Repos/advection-diffusion-catalysis/Project.toml`\n",
      "      From worker 3:\t   Updating `~/Repos/advection-diffusion-catalysis/Project.toml`\n",
      "      From worker 2:\t  [1a1011a3] + SharedArrays \n",
      "      From worker 2:\t   Updating `~/Repos/advection-diffusion-catalysis/Manifest.toml`\n",
      "      From worker 2:\t [no changes]\n",
      "      From worker 5:\t  [1a1011a3] + SharedArrays \n",
      "      From worker 5:\t   Updating `~/Repos/advection-diffusion-catalysis/Manifest.toml`\n",
      "      From worker 5:\t [no changes]\n",
      "      From worker 3:\t  [1a1011a3] + SharedArrays \n",
      "      From worker 3:\t   Updating `~/Repos/advection-diffusion-catalysis/Manifest.toml`\n",
      "      From worker 3:\t [no changes]\n"
     ]
    }
   ],
   "source": [
    "@everywhere using Pkg\n",
    "@everywhere Pkg.add(\"SharedArrays\")"
   ]
  },
  {
   "cell_type": "code",
   "execution_count": null,
   "metadata": {},
   "outputs": [],
   "source": [
    "@everywhere using SharedArrays\n",
    "@everywhere using DrWatson\n",
    "@everywhere @quickactivate :Catalyst\n",
    "@everywhere using BenchmarkTools\n",
    "\n",
    "@everywhere function benchmark_distributed_evaluation(parameters,N)\n",
    "    errors = zeros(N) # init model errors\n",
    "    # we need to read the experiment data in this block\n",
    "    input_exp = Float64[]\n",
    "    output_exp = Float64[]\n",
    "    for row in CSV.File(datadir(\"experiment/new-data.csv\"); delim = \" \")\n",
    "         push!(input_exp, row.I)\n",
    "         push!(output_exp, row.O)\n",
    "    end\n",
    "    # done reading \n",
    "\n",
    "        r1 = @spawnat 2 (Catalyst.solve(parameters[1], parameters[2], 1.,\n",
    "                                      input_exp, output_exp, progress=false, \n",
    "                                      microcomp_type=:nonlinear,\n",
    "                                      Q=parameters[3], kₙ=parameters[4],\n",
    "                                      calibration=true))\n",
    "        \n",
    "        r2 = @spawnat 3 (Catalyst.solve(parameters[1], parameters[2], 1.,\n",
    "                                      input_exp, output_exp, progress=false, \n",
    "                                      microcomp_type=:nonlinear,\n",
    "                                      Q=parameters[3], kₙ=parameters[4],\n",
    "                                      calibration=true))\n",
    "    \n",
    "    errors[1] = fetch(r1)\n",
    "    errors[2] = fetch(r2)\n",
    "    return errors\n",
    "end\n",
    "\n",
    "parameters = [1e-4, 1., 1., 10.]\n",
    "@benchmark benchmark_distributed_evaluation($parameters,$2)"
   ]
  },
  {
   "cell_type": "code",
   "execution_count": null,
   "metadata": {},
   "outputs": [],
   "source": []
  }
 ],
 "metadata": {
  "kernelspec": {
   "display_name": "Julia 1.4.2",
   "language": "julia",
   "name": "julia-1.4"
  },
  "language_info": {
   "file_extension": ".jl",
   "mimetype": "application/julia",
   "name": "julia",
   "version": "1.4.2"
  }
 },
 "nbformat": 4,
 "nbformat_minor": 4
}
