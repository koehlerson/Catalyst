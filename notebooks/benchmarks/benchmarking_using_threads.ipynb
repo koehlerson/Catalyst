{
 "cells": [
  {
   "cell_type": "code",
   "execution_count": 1,
   "metadata": {},
   "outputs": [
    {
     "name": "stderr",
     "output_type": "stream",
     "text": [
      "\u001b[32m\u001b[1m   Updating\u001b[22m\u001b[39m registry at `~/.julia/registries/General`\n"
     ]
    },
    {
     "name": "stdout",
     "output_type": "stream",
     "text": [
      "\u001b[?25l    "
     ]
    },
    {
     "name": "stderr",
     "output_type": "stream",
     "text": [
      "\u001b[32m\u001b[1m   Updating\u001b[22m\u001b[39m git-repo `https://github.com/JuliaRegistries/General.git`\n"
     ]
    },
    {
     "name": "stdout",
     "output_type": "stream",
     "text": [
      "\u001b[2K\u001b[?25h[1mFetching:\u001b[22m\u001b[39m [========================================>]  100.0 %"
     ]
    },
    {
     "name": "stderr",
     "output_type": "stream",
     "text": [
      "\u001b[32m\u001b[1m  Resolving\u001b[22m\u001b[39m package versions...\n",
      "\u001b[32m\u001b[1m  Installed\u001b[22m\u001b[39m Hwloc ─ v1.0.3\n",
      "\u001b[32m\u001b[1m   Updating\u001b[22m\u001b[39m `~/Repos/advection-diffusion-catalysis/Project.toml`\n",
      " \u001b[90m [0e44f5e4]\u001b[39m\u001b[92m + Hwloc v1.0.3\u001b[39m\n",
      "\u001b[32m\u001b[1m   Updating\u001b[22m\u001b[39m `~/Repos/advection-diffusion-catalysis/Manifest.toml`\n",
      " \u001b[90m [0e44f5e4]\u001b[39m\u001b[92m + Hwloc v1.0.3\u001b[39m\n",
      "\u001b[32m\u001b[1m   Building\u001b[22m\u001b[39m Hwloc → `~/.julia/packages/Hwloc/1kB0k/deps/build.log`\n"
     ]
    }
   ],
   "source": [
    "using Pkg;\n",
    "Pkg.add(\"Hwloc\")"
   ]
  },
  {
   "cell_type": "code",
   "execution_count": 2,
   "metadata": {},
   "outputs": [
    {
     "name": "stderr",
     "output_type": "stream",
     "text": [
      "┌ Info: Precompiling Hwloc [0e44f5e4-bd66-52a0-8798-143a42290a1d]\n",
      "└ @ Base loading.jl:1260\n"
     ]
    },
    {
     "data": {
      "text/plain": [
       "20"
      ]
     },
     "execution_count": 2,
     "metadata": {},
     "output_type": "execute_result"
    }
   ],
   "source": [
    "using Hwloc\n",
    "Hwloc.num_physical_cores()"
   ]
  },
  {
   "cell_type": "code",
   "execution_count": 9,
   "metadata": {},
   "outputs": [
    {
     "data": {
      "text/plain": [
       "1"
      ]
     },
     "execution_count": 9,
     "metadata": {},
     "output_type": "execute_result"
    }
   ],
   "source": [
    "using .Threads\n",
    "nthreads()"
   ]
  },
  {
   "cell_type": "code",
   "execution_count": null,
   "metadata": {},
   "outputs": [],
   "source": [
    "using DrWatson\n",
    "@quickactivate :Catalyst\n",
    "using BenchmarkTools\n",
    "\n",
    "function benchmark_distributed_evaluation(parameters,N)\n",
    "    errors = zeros(N) # init model errors\n",
    "    # we need to read the experiment data in this block\n",
    "    input_exp = Float64[]\n",
    "    output_exp = Float64[]\n",
    "    for row in CSV.File(datadir(\"experiment/new-data.csv\"); delim = \" \")\n",
    "        push!(input_exp, row.I)\n",
    "        push!(output_exp, row.O)\n",
    "    end\n",
    "    # done reading \n",
    "\n",
    "    @threads for i in 1:N\n",
    "        error = Catalyst.solve(parameters[1], parameters[2], 1.,\n",
    "                                      input_exp, output_exp, progress=true, \n",
    "                                      microcomp_type=:nonlinear,\n",
    "                                      Q=parameters[3], kₙ=parameters[4],\n",
    "                                      calibration=true)# save the model error\n",
    "        errors[i] = error # assign the error to the errors array\n",
    "    end\n",
    "    return errors\n",
    "end\n",
    "\n",
    "parameters = [1e-4, 1., 1., 10.]\n",
    "@benchmark benchmark_distributed_evaluation(parameters, 2)"
   ]
  }
 ],
 "metadata": {
  "kernelspec": {
   "display_name": "Julia 1.4.2",
   "language": "julia",
   "name": "julia-1.4"
  },
  "language_info": {
   "file_extension": ".jl",
   "mimetype": "application/julia",
   "name": "julia",
   "version": "1.4.2"
  }
 },
 "nbformat": 4,
 "nbformat_minor": 4
}
