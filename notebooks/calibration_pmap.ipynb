{
 "cells": [
  {
   "cell_type": "code",
   "execution_count": 1,
   "metadata": {},
   "outputs": [
    {
     "data": {
      "text/plain": [
       "PyObject <module 'cma' from '/home/amjalled/.local/lib/python3.8/site-packages/cma/__init__.py'>"
      ]
     },
     "execution_count": 1,
     "metadata": {},
     "output_type": "execute_result"
    }
   ],
   "source": [
    "using PyCall\n",
    "cma = pyimport(\"cma\")"
   ]
  },
  {
   "cell_type": "code",
   "execution_count": 2,
   "metadata": {},
   "outputs": [
    {
     "name": "stderr",
     "output_type": "stream",
     "text": [
      "┌ Info: Precompiling Catalyst [01e5440a-74e3-4b45-b8b9-c13ddfc5051b]\n",
      "└ @ Base loading.jl:1260\n"
     ]
    }
   ],
   "source": [
    "using DrWatson\n",
    "@quickactivate :Catalyst"
   ]
  },
  {
   "cell_type": "code",
   "execution_count": 3,
   "metadata": {},
   "outputs": [
    {
     "data": {
      "text/plain": [
       "20-element Array{Int64,1}:\n",
       "  2\n",
       "  3\n",
       "  4\n",
       "  5\n",
       "  6\n",
       "  7\n",
       "  8\n",
       "  9\n",
       " 10\n",
       " 11\n",
       " 12\n",
       " 13\n",
       " 14\n",
       " 15\n",
       " 16\n",
       " 17\n",
       " 18\n",
       " 19\n",
       " 20\n",
       " 21"
      ]
     },
     "execution_count": 3,
     "metadata": {},
     "output_type": "execute_result"
    }
   ],
   "source": [
    "using Distributed\n",
    "N = 20\n",
    "addprocs(N)"
   ]
  },
  {
   "cell_type": "code",
   "execution_count": 4,
   "metadata": {},
   "outputs": [
    {
     "name": "stdout",
     "output_type": "stream",
     "text": [
      "      From worker 10:\t Activating environment at `~/Repos/advection-diffusion-catalysis/Project.toml`\n",
      "      From worker 5:\t Activating environment at `~/Repos/advection-diffusion-catalysis/Project.toml`\n",
      "      From worker 2:\t Activating environment at `~/Repos/advection-diffusion-catalysis/Project.toml`\n",
      "      From worker 14:\t Activating environment at `~/Repos/advection-diffusion-catalysis/Project.toml`\n",
      "      From worker 12:\t Activating environment at `~/Repos/advection-diffusion-catalysis/Project.toml`\n",
      "      From worker 18:\t Activating environment at `~/Repos/advection-diffusion-catalysis/Project.toml`\n",
      "      From worker 7:\t Activating environment at `~/Repos/advection-diffusion-catalysis/Project.toml`\n",
      "      From worker 21:\t Activating environment at `~/Repos/advection-diffusion-catalysis/Project.toml`\n",
      "      From worker 6:\t Activating environment at `~/Repos/advection-diffusion-catalysis/Project.toml`\n",
      "      From worker 19:\t Activating environment at `~/Repos/advection-diffusion-catalysis/Project.toml`\n",
      "      From worker 16:\t Activating environment at `~/Repos/advection-diffusion-catalysis/Project.toml`\n",
      "      From worker 11:\t Activating environment at `~/Repos/advection-diffusion-catalysis/Project.toml`\n",
      "      From worker 20:\t Activating environment at `~/Repos/advection-diffusion-catalysis/Project.toml`\n",
      "      From worker 15:\t Activating environment at `~/Repos/advection-diffusion-catalysis/Project.toml`\n",
      "      From worker 9:\t Activating environment at `~/Repos/advection-diffusion-catalysis/Project.toml`\n",
      "      From worker 4:\t Activating environment at `~/Repos/advection-diffusion-catalysis/Project.toml`\n",
      "      From worker 8:\t Activating environment at `~/Repos/advection-diffusion-catalysis/Project.toml`\n",
      "      From worker 17:\t Activating environment at `~/Repos/advection-diffusion-catalysis/Project.toml`\n",
      "      From worker 3:\t Activating environment at `~/Repos/advection-diffusion-catalysis/Project.toml`\n",
      "      From worker 13:\t Activating environment at `~/Repos/advection-diffusion-catalysis/Project.toml`\n"
     ]
    }
   ],
   "source": [
    "@everywhere using DrWatson\n",
    "@everywhere @quickactivate :Catalyst"
   ]
  },
  {
   "cell_type": "code",
   "execution_count": 5,
   "metadata": {},
   "outputs": [
    {
     "data": {
      "text/plain": [
       "calibrate (generic function with 1 method)"
      ]
     },
     "execution_count": 5,
     "metadata": {},
     "output_type": "execute_result"
    }
   ],
   "source": [
    "function calibrate(cma,N)\n",
    "    Init = [0.013235189689493238, 1., 1., 1., 1.] #initial guess\n",
    "    opts = cma.CMAOptions()\n",
    "    opts[\"bounds\"] = [[0, 0, 0, 0, 0], [1, 50, 50, 30, 30]] \n",
    "    opts[\"popsize\"] = N\n",
    "    weights = cma.recombination_weights.RecombinationWeights(N)\n",
    "    opts[\"CMA_recombination_weights\"] = weights\n",
    "    es = cma.CMAEvolutionStrategy(Init, 0.5, opts) \n",
    "    \n",
    "    input_exp = []\n",
    "    output_exp = []\n",
    "    for row in CSV.File(datadir(\"experiment/SBA15_interp_8.csv\"); delim = \",\")\n",
    "        push!(input_exp, row.I)\n",
    "        push!(output_exp, row.O)\n",
    "    end\n",
    "    n = 2\n",
    "    nels = (5n, convert(Int,2.5n),n)\n",
    "    S = Vec((0.0,0.0,0.0))\n",
    "    E = Vec((1.0,0.5,0.2))\n",
    "    grid = generate_grid(Tetrahedron, nels, S, E)\n",
    "    faces = union(getfaceset(grid,\"top\"),getfaceset(grid,\"bottom\"),getfaceset(grid,\"left\"),getfaceset(grid,\"right\"),\n",
    "                   getfaceset(grid,\"front\"),getfaceset(grid,\"back\"))\n",
    "    addfaceset!(grid, \"1\", faces)\n",
    "    \n",
    "    while isempty(es.stop()) \n",
    "        solutions = es.ask() \n",
    "        fitness = pmap(function eval(input_args) \n",
    "                            try \n",
    "                               return Catalyst.solve(input_args[1], input_args[2], input_args[3], \n",
    "                                          input_exp, output_exp, progress=false, \n",
    "                                          microcomp_type=:nonlinear, \n",
    "                                          Q=input_args[4], kₙ=input_args[5], \n",
    "                                          calibration=true,w=(1.5302e-4*(1/0.37)),micromesh=grid)\n",
    "                             catch err #in case we loose newton convergence in a microscopic computation \n",
    "                                return 1e10\n",
    "                             end\n",
    "                        end\n",
    "                            ,solutions) \n",
    "        es.tell(solutions,fitness) \n",
    "        es.logger.add() \n",
    "        es.disp() \n",
    "    end\n",
    "end"
   ]
  },
  {
   "cell_type": "code",
   "execution_count": null,
   "metadata": {},
   "outputs": [
    {
     "name": "stdout",
     "output_type": "stream",
     "text": [
      "(10_w,20)-aCMA-ES (mu_w=5.9,w_1=27%) in dimension 5 (seed=566064, Fri Aug 14 17:39:51 2020)\n",
      "Iterat #Fevals   function value  axis ratio  sigma  min&max std  t[m:s]\n",
      "    1     20 4.804088234839943e+02 1.0e+00 6.40e-01  6e-01  7e-01 15:46.8\n",
      "    2     40 4.356443049095802e+02 1.3e+00 9.24e-01  8e-01  1e+00 29:37.1\n",
      "    3     60 3.346731060227774e+02 1.4e+00 1.73e+00  2e+00  2e+00 44:06.4\n",
      "    4     80 2.909617301414613e+02 1.7e+00 2.25e+00  2e+00  3e+00 58:36.6\n",
      "    5    100 2.000642318229738e+02 1.7e+00 2.78e+00  2e+00  3e+00 73:02.8\n",
      "    6    120 1.441156562458977e+02 1.6e+00 3.15e+00  3e+00  3e+00 87:59.1\n",
      "    7    140 7.569465645605483e+01 1.6e+00 3.22e+00  3e+00  4e+00 101:29.9\n",
      "    8    160 2.418829249726345e+02 2.0e+00 3.33e+00  3e+00  4e+00 117:00.1\n",
      "    9    180 8.687466044424635e+00 2.2e+00 3.65e+00  3e+00  4e+00 131:31.6\n",
      "   10    200 3.180376114377782e+02 2.3e+00 4.37e+00  4e+00  4e+00 145:19.4\n",
      "   11    220 2.442785717000811e+02 2.6e+00 5.03e+00  4e+00  6e+00 159:21.0\n",
      "   12    240 3.067603684368266e+02 2.7e+00 5.28e+00  4e+00  6e+00 173:35.2\n",
      "   13    260 3.033058553285589e+02 3.1e+00 5.96e+00  4e+00  7e+00 185:34.9\n",
      "   14    280 1.755262311967854e+02 2.9e+00 5.80e+00  4e+00  7e+00 198:11.0\n",
      "   15    300 2.781268455081288e+02 3.0e+00 5.70e+00  3e+00  7e+00 210:52.9\n",
      "   16    320 2.757161181791206e+02 3.1e+00 5.44e+00  3e+00  6e+00 224:33.8\n",
      "   17    340 2.912584256154843e+02 3.2e+00 5.68e+00  3e+00  6e+00 238:32.0\n",
      "   18    360 1.925014248476407e+02 3.7e+00 5.76e+00  3e+00  7e+00 251:49.0\n",
      "   19    380 5.287843885785867e+00 4.2e+00 5.75e+00  3e+00  6e+00 265:34.4\n",
      "   20    400 1.233236772053422e+02 3.6e+00 5.47e+00  2e+00  6e+00 278:45.3\n",
      "   21    420 2.225621232100485e+02 3.6e+00 6.15e+00  2e+00  7e+00 293:48.0\n",
      "   22    440 2.310630056249164e+02 3.9e+00 6.80e+00  2e+00  8e+00 307:20.8\n",
      "   23    460 1.811691023979059e+01 4.6e+00 8.38e+00  3e+00  1e+01 321:03.7\n",
      "   24    480 1.954157064489998e+02 4.2e+00 7.28e+00  2e+00  8e+00 335:22.9\n",
      "   25    500 2.670944369977728e+00 3.9e+00 8.52e+00  3e+00  9e+00 348:32.1\n",
      "   26    520 1.066205827258256e+02 3.9e+00 8.52e+00  3e+00  8e+00 361:29.5\n",
      "   27    540 2.593559644493971e+02 3.9e+00 8.39e+00  2e+00  7e+00 375:09.0\n",
      "   28    560 1.938227231297416e+02 4.1e+00 8.35e+00  2e+00  8e+00 389:28.8\n",
      "   29    580 2.144118004019936e+02 4.0e+00 9.44e+00  2e+00  9e+00 402:05.6\n",
      "   30    600 2.744788082086877e+02 5.0e+00 7.68e+00  2e+00  7e+00 415:41.3\n",
      "   31    620 2.385576612933398e+01 6.0e+00 6.58e+00  1e+00  6e+00 430:58.6\n",
      "   32    640 2.815631300103516e+02 6.5e+00 7.86e+00  1e+00  7e+00 445:04.1\n",
      "   33    660 2.492814998626352e+02 7.4e+00 7.33e+00  1e+00  7e+00 459:57.7\n",
      "   34    680 2.755704281823143e+02 7.3e+00 6.92e+00  1e+00  6e+00 474:22.4\n",
      "   35    700 1.950951053961577e+02 7.9e+00 7.16e+00  1e+00  6e+00 488:51.5\n",
      "   36    720 2.684207405724817e+02 8.9e+00 8.63e+00  1e+00  8e+00 503:24.9\n",
      "   37    740 2.012746699363836e+02 1.0e+01 8.23e+00  1e+00  7e+00 518:29.1\n",
      "   38    760 1.667327295461166e+02 1.0e+01 8.45e+00  1e+00  8e+00 532:56.7\n",
      "   39    780 1.532509929699332e+02 1.2e+01 7.33e+00  9e-01  7e+00 547:41.8\n"
     ]
    }
   ],
   "source": [
    "@time calibrate(cma, N)"
   ]
  },
  {
   "cell_type": "code",
   "execution_count": null,
   "metadata": {},
   "outputs": [],
   "source": []
  }
 ],
 "metadata": {
  "kernelspec": {
   "display_name": "Julia 1.4.2",
   "language": "julia",
   "name": "julia-1.4"
  },
  "language_info": {
   "file_extension": ".jl",
   "mimetype": "application/julia",
   "name": "julia",
   "version": "1.4.2"
  }
 },
 "nbformat": 4,
 "nbformat_minor": 4
}
