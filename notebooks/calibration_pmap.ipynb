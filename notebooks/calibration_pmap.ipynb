{
 "cells": [
  {
   "cell_type": "code",
   "execution_count": 1,
   "metadata": {},
   "outputs": [
    {
     "data": {
      "text/plain": [
       "PyObject <module 'cma' from '/home/amjalled/.local/lib/python3.8/site-packages/cma/__init__.py'>"
      ]
     },
     "execution_count": 1,
     "metadata": {},
     "output_type": "execute_result"
    }
   ],
   "source": [
    "using PyCall\n",
    "cma = pyimport(\"cma\")"
   ]
  },
  {
   "cell_type": "code",
   "execution_count": 2,
   "metadata": {},
   "outputs": [
    {
     "name": "stderr",
     "output_type": "stream",
     "text": [
      "┌ Info: Precompiling Catalyst [01e5440a-74e3-4b45-b8b9-c13ddfc5051b]\n",
      "└ @ Base loading.jl:1260\n"
     ]
    }
   ],
   "source": [
    "using DrWatson\n",
    "@quickactivate :Catalyst"
   ]
  },
  {
   "cell_type": "code",
   "execution_count": 3,
   "metadata": {},
   "outputs": [
    {
     "data": {
      "text/plain": [
       "20-element Array{Int64,1}:\n",
       "  2\n",
       "  3\n",
       "  4\n",
       "  5\n",
       "  6\n",
       "  7\n",
       "  8\n",
       "  9\n",
       " 10\n",
       " 11\n",
       " 12\n",
       " 13\n",
       " 14\n",
       " 15\n",
       " 16\n",
       " 17\n",
       " 18\n",
       " 19\n",
       " 20\n",
       " 21"
      ]
     },
     "execution_count": 3,
     "metadata": {},
     "output_type": "execute_result"
    }
   ],
   "source": [
    "using Distributed\n",
    "N = 20\n",
    "addprocs(N)"
   ]
  },
  {
   "cell_type": "code",
   "execution_count": 4,
   "metadata": {},
   "outputs": [
    {
     "name": "stdout",
     "output_type": "stream",
     "text": [
      "      From worker 14:\t Activating environment at `~/Repos/advection-diffusion-catalysis/Project.toml`\n",
      "      From worker 6:\t Activating environment at `~/Repos/advection-diffusion-catalysis/Project.toml`\n",
      "      From worker 15:\t Activating environment at `~/Repos/advection-diffusion-catalysis/Project.toml`\n",
      "      From worker 2:\t Activating environment at `~/Repos/advection-diffusion-catalysis/Project.toml`\n",
      "      From worker 19:\t Activating environment at `~/Repos/advection-diffusion-catalysis/Project.toml`\n",
      "      From worker 3:\t Activating environment at `~/Repos/advection-diffusion-catalysis/Project.toml`\n",
      "      From worker 10:\t Activating environment at `~/Repos/advection-diffusion-catalysis/Project.toml`\n",
      "      From worker 8:\t Activating environment at `~/Repos/advection-diffusion-catalysis/Project.toml`\n",
      "      From worker 5:\t Activating environment at `~/Repos/advection-diffusion-catalysis/Project.toml`\n",
      "      From worker 17:\t Activating environment at `~/Repos/advection-diffusion-catalysis/Project.toml`\n",
      "      From worker 16:\t Activating environment at `~/Repos/advection-diffusion-catalysis/Project.toml`\n",
      "      From worker 12:\t Activating environment at `~/Repos/advection-diffusion-catalysis/Project.toml`\n",
      "      From worker 18:\t Activating environment at `~/Repos/advection-diffusion-catalysis/Project.toml`\n",
      "      From worker 21:\t Activating environment at `~/Repos/advection-diffusion-catalysis/Project.toml`\n",
      "      From worker 7:\t Activating environment at `~/Repos/advection-diffusion-catalysis/Project.toml`\n",
      "      From worker 13:\t Activating environment at `~/Repos/advection-diffusion-catalysis/Project.toml`\n",
      "      From worker 20:\t Activating environment at `~/Repos/advection-diffusion-catalysis/Project.toml`\n",
      "      From worker 9:\t Activating environment at `~/Repos/advection-diffusion-catalysis/Project.toml`\n",
      "      From worker 4:\t Activating environment at `~/Repos/advection-diffusion-catalysis/Project.toml`\n",
      "      From worker 11:\t Activating environment at `~/Repos/advection-diffusion-catalysis/Project.toml`\n"
     ]
    }
   ],
   "source": [
    "@everywhere using DrWatson\n",
    "@everywhere @quickactivate :Catalyst"
   ]
  },
  {
   "cell_type": "code",
   "execution_count": 5,
   "metadata": {},
   "outputs": [
    {
     "data": {
      "text/plain": [
       "calibrate (generic function with 1 method)"
      ]
     },
     "execution_count": 5,
     "metadata": {},
     "output_type": "execute_result"
    }
   ],
   "source": [
    "function calibrate(cma,N)\n",
    "    Init = [0.013235189689493238, 1., 1., 1., 1.] #initial guess\n",
    "    opts = cma.CMAOptions()\n",
    "    opts[\"bounds\"] = [[0, 0, 0, 0, 0], [1, 50, 50, 30, 30]] \n",
    "    opts[\"popsize\"] = N\n",
    "    weights = cma.recombination_weights.RecombinationWeights(N)\n",
    "    opts[\"CMA_recombination_weights\"] = weights\n",
    "    es = cma.CMAEvolutionStrategy(Init, 0.5, opts) \n",
    "    \n",
    "    input_exp = []\n",
    "    output_exp = []\n",
    "    for row in CSV.File(datadir(\"experiment/SBA15_interp_8.csv\"); delim = \",\")\n",
    "        push!(input_exp, row.I)\n",
    "        push!(output_exp, row.O)\n",
    "    end\n",
    "    n = 2\n",
    "    nels = (5n, convert(Int,2.5n),n)\n",
    "    S = Vec((0.0,0.0,0.0))\n",
    "    E = Vec((1.0,0.5,0.2))\n",
    "    grid = generate_grid(Tetrahedron, nels, S, E)\n",
    "    faces = union(getfaceset(grid,\"top\"),getfaceset(grid,\"bottom\"),getfaceset(grid,\"left\"),getfaceset(grid,\"right\"),\n",
    "                   getfaceset(grid,\"front\"),getfaceset(grid,\"back\"))\n",
    "    addfaceset!(grid, \"1\", faces)\n",
    "    \n",
    "    while isempty(es.stop()) \n",
    "        solutions = es.ask() \n",
    "        fitness = pmap(function eval(input_args) \n",
    "                            try \n",
    "                               return Catalyst.solve(input_args[1], input_args[2], input_args[3], \n",
    "                                          input_exp, output_exp, progress=false, \n",
    "                                          microcomp_type=:nonlinear, \n",
    "                                          Q=input_args[4], kₙ=input_args[5], \n",
    "                                          calibration=true,w=(1.5302e-4*(1/0.37)),micromesh=grid)\n",
    "                             catch err #in case we loose newton convergence in a microscopic computation \n",
    "                                return 1e10\n",
    "                             end\n",
    "                        end\n",
    "                            ,solutions) \n",
    "        es.tell(solutions,fitness) \n",
    "        es.logger.add() \n",
    "        es.disp() \n",
    "    end\n",
    "end"
   ]
  },
  {
   "cell_type": "code",
   "execution_count": null,
   "metadata": {},
   "outputs": [],
   "source": [
    "@time calibrate(cma, N)"
   ]
  },
  {
   "cell_type": "code",
   "execution_count": null,
   "metadata": {},
   "outputs": [],
   "source": []
  }
 ],
 "metadata": {
  "kernelspec": {
   "display_name": "Julia 1.4.2",
   "language": "julia",
   "name": "julia-1.4"
  },
  "language_info": {
   "file_extension": ".jl",
   "mimetype": "application/julia",
   "name": "julia",
   "version": "1.4.2"
  }
 },
 "nbformat": 4,
 "nbformat_minor": 4
}
