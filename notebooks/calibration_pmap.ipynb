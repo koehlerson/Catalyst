{
 "cells": [
  {
   "cell_type": "code",
   "execution_count": 1,
   "metadata": {},
   "outputs": [
    {
     "data": {
      "text/plain": [
       "PyObject <module 'cma' from '/home/mkoehler/.local/lib/python3.8/site-packages/cma/__init__.py'>"
      ]
     },
     "execution_count": 1,
     "metadata": {},
     "output_type": "execute_result"
    }
   ],
   "source": [
    "using PyCall\n",
    "cma = pyimport(\"cma\")"
   ]
  },
  {
   "cell_type": "code",
   "execution_count": 2,
   "metadata": {},
   "outputs": [
    {
     "name": "stderr",
     "output_type": "stream",
     "text": [
      "┌ Warning: /home/mkoehler/.julia/packages/Plots/cc8wh/src/Plots.jl/ is not an existing directory, Revise is not watching\n",
      "└ @ Revise /home/mkoehler/.julia/packages/Revise/Pcs5V/src/Revise.jl:489\n"
     ]
    },
    {
     "data": {
      "text/plain": [
       "12-element Array{Int64,1}:\n",
       "  2\n",
       "  3\n",
       "  4\n",
       "  5\n",
       "  6\n",
       "  7\n",
       "  8\n",
       "  9\n",
       " 10\n",
       " 11\n",
       " 12\n",
       " 13"
      ]
     },
     "execution_count": 2,
     "metadata": {},
     "output_type": "execute_result"
    }
   ],
   "source": [
    "using DrWatson\n",
    "@quickactivate :Catalyst\n",
    "using Distributed\n",
    "N = 12\n",
    "addprocs(N)"
   ]
  },
  {
   "cell_type": "code",
   "execution_count": 3,
   "metadata": {},
   "outputs": [
    {
     "name": "stdout",
     "output_type": "stream",
     "text": [
      "      From worker 4:\tActivating environment at `~/Repos/advection-diffusion-catalysis/Project.toml`\n",
      "      From worker 9:\tActivating environment at `~/Repos/advection-diffusion-catalysis/Project.toml`\n",
      "      From worker 13:\tActivating environment at `~/Repos/advection-diffusion-catalysis/Project.toml`\n",
      "      From worker 6:\tActivating environment at `~/Repos/advection-diffusion-catalysis/Project.toml`\n",
      "      From worker 12:\tActivating environment at `~/Repos/advection-diffusion-catalysis/Project.toml`\n",
      "      From worker 11:\tActivating environment at `~/Repos/advection-diffusion-catalysis/Project.toml`\n",
      "      From worker 7:\tActivating environment at `~/Repos/advection-diffusion-catalysis/Project.toml`\n",
      "      From worker 8:\tActivating environment at `~/Repos/advection-diffusion-catalysis/Project.toml`\n",
      "      From worker 2:\tActivating environment at `~/Repos/advection-diffusion-catalysis/Project.toml`\n",
      "      From worker 5:\tActivating environment at `~/Repos/advection-diffusion-catalysis/Project.toml`\n",
      "      From worker 3:\tActivating environment at `~/Repos/advection-diffusion-catalysis/Project.toml`\n",
      "      From worker 10:\tActivating environment at `~/Repos/advection-diffusion-catalysis/Project.toml`\n",
      "      From worker 8:\t┌ Warning: The call to compilecache failed to create a usable precompiled cache file for Plots [91a5bcdd-55d7-5caf-9e0b-520d859cae80]\n",
      "      From worker 8:\t│   exception = Required dependency PlotThemes [ccf2f8ad-2431-5c83-bf29-c5338b663b6a] failed to load from a cache file.\n",
      "      From worker 8:\t└ @ Base loading.jl:1036\n",
      "      From worker 4:\t┌ Warning: The call to compilecache failed to create a usable precompiled cache file for Plots [91a5bcdd-55d7-5caf-9e0b-520d859cae80]\n",
      "      From worker 4:\t│   exception = Required dependency PlotThemes [ccf2f8ad-2431-5c83-bf29-c5338b663b6a] failed to load from a cache file.\n",
      "      From worker 4:\t└ @ Base loading.jl:1036\n",
      "      From worker 6:\t┌ Warning: The call to compilecache failed to create a usable precompiled cache file for Plots [91a5bcdd-55d7-5caf-9e0b-520d859cae80]\n",
      "      From worker 6:\t│   exception = Required dependency PlotThemes [ccf2f8ad-2431-5c83-bf29-c5338b663b6a] failed to load from a cache file.\n",
      "      From worker 6:\t└ @ Base loading.jl:1036\n",
      "      From worker 2:\t┌ Warning: The call to compilecache failed to create a usable precompiled cache file for Plots [91a5bcdd-55d7-5caf-9e0b-520d859cae80]\n",
      "      From worker 2:\t│   exception = Required dependency PlotThemes [ccf2f8ad-2431-5c83-bf29-c5338b663b6a] failed to load from a cache file.\n",
      "      From worker 2:\t└ @ Base loading.jl:1036\n",
      "      From worker 13:\t┌ Warning: The call to compilecache failed to create a usable precompiled cache file for Plots [91a5bcdd-55d7-5caf-9e0b-520d859cae80]\n",
      "      From worker 13:\t│   exception = Required dependency PlotThemes [ccf2f8ad-2431-5c83-bf29-c5338b663b6a] failed to load from a cache file.\n",
      "      From worker 13:\t└ @ Base loading.jl:1036\n",
      "      From worker 10:\t┌ Warning: The call to compilecache failed to create a usable precompiled cache file for Plots [91a5bcdd-55d7-5caf-9e0b-520d859cae80]\n",
      "      From worker 10:\t│   exception = Required dependency PlotThemes [ccf2f8ad-2431-5c83-bf29-c5338b663b6a] failed to load from a cache file.\n",
      "      From worker 10:\t└ @ Base loading.jl:1036\n",
      "      From worker 9:\t┌ Warning: The call to compilecache failed to create a usable precompiled cache file for Plots [91a5bcdd-55d7-5caf-9e0b-520d859cae80]\n",
      "      From worker 9:\t│   exception = Required dependency PlotThemes [ccf2f8ad-2431-5c83-bf29-c5338b663b6a] failed to load from a cache file.\n",
      "      From worker 9:\t└ @ Base loading.jl:1036\n",
      "      From worker 12:\t┌ Warning: The call to compilecache failed to create a usable precompiled cache file for Plots [91a5bcdd-55d7-5caf-9e0b-520d859cae80]\n",
      "      From worker 12:\t│   exception = Required dependency PlotThemes [ccf2f8ad-2431-5c83-bf29-c5338b663b6a] failed to load from a cache file.\n",
      "      From worker 12:\t└ @ Base loading.jl:1036\n",
      "      From worker 7:\t┌ Warning: The call to compilecache failed to create a usable precompiled cache file for Plots [91a5bcdd-55d7-5caf-9e0b-520d859cae80]\n",
      "      From worker 7:\t│   exception = Required dependency PlotThemes [ccf2f8ad-2431-5c83-bf29-c5338b663b6a] failed to load from a cache file.\n",
      "      From worker 7:\t└ @ Base loading.jl:1036\n",
      "      From worker 5:\t┌ Warning: The call to compilecache failed to create a usable precompiled cache file for Plots [91a5bcdd-55d7-5caf-9e0b-520d859cae80]\n",
      "      From worker 5:\t│   exception = Required dependency PlotThemes [ccf2f8ad-2431-5c83-bf29-c5338b663b6a] failed to load from a cache file.\n",
      "      From worker 5:\t└ @ Base loading.jl:1036\n",
      "      From worker 3:\t┌ Warning: The call to compilecache failed to create a usable precompiled cache file for Plots [91a5bcdd-55d7-5caf-9e0b-520d859cae80]\n",
      "      From worker 3:\t│   exception = Required dependency PlotThemes [ccf2f8ad-2431-5c83-bf29-c5338b663b6a] failed to load from a cache file.\n",
      "      From worker 3:\t└ @ Base loading.jl:1036\n"
     ]
    }
   ],
   "source": [
    "@everywhere using DrWatson\n",
    "@everywhere @quickactivate :Catalyst"
   ]
  },
  {
   "cell_type": "code",
   "execution_count": 5,
   "metadata": {},
   "outputs": [
    {
     "data": {
      "text/plain": [
       "calibrate (generic function with 1 method)"
      ]
     },
     "execution_count": 5,
     "metadata": {},
     "output_type": "execute_result"
    }
   ],
   "source": [
    "function calibrate(cma,N)\n",
    "    Init = [0.013235189689493238, 1., 1., 1., 10.] #initial guess\n",
    "    opts = cma.CMAOptions()\n",
    "    opts[\"bounds\"] = [[0, 0, 0, 0, 0], [1, 1, 3, 1000, 1000]] \n",
    "    opts[\"popsize\"] = N\n",
    "    weights = cma.recombination_weights.RecombinationWeights(N)\n",
    "    opts[\"CMA_recombination_weights\"] = weights\n",
    "    es = cma.CMAEvolutionStrategy(Init, 0.5, opts) \n",
    "    \n",
    "    input_exp = []\n",
    "    output_exp = []\n",
    "    for row in CSV.File(datadir(\"experiment/SBA15_interp_10.csv\"); delim = \",\")\n",
    "        push!(input_exp, row.I)\n",
    "        push!(output_exp, row.O)\n",
    "    end\n",
    "    n = 2\n",
    "    nels = (5n, convert(Int,2.5n),n)\n",
    "    S = Vec((0.0,0.0,0.0))\n",
    "    E = Vec((1.0,0.5,0.2))\n",
    "    grid = generate_grid(Tetrahedron, nels, S, E)\n",
    "    faces = union(getfaceset(grid,\"top\"),getfaceset(grid,\"bottom\"),getfaceset(grid,\"left\"),getfaceset(grid,\"right\"),\n",
    "                   getfaceset(grid,\"front\"),getfaceset(grid,\"back\"))\n",
    "    addfaceset!(grid, \"1\", faces)\n",
    "    \n",
    "    while isempty(es.stop()) \n",
    "        solutions = es.ask() \n",
    "        fitness = pmap(function eval(input_args) \n",
    "                            try \n",
    "                               return Catalyst.solve(input_args[1], input_args[2]*1e-1, 1.0, input_args[3], \n",
    "                                          input_exp, output_exp, progress=false, \n",
    "                                          microcomp_type=:linear, \n",
    "                                          Q=input_args[4], kₙ=input_args[5], \n",
    "                                          calibration=true, micromesh=grid)#, w=2.2954e-4*(1/0.37))\n",
    "                             catch err #in case we loose newton convergence in a microscopic computation \n",
    "                                return 1e10\n",
    "                             end\n",
    "                        end\n",
    "                            ,solutions) \n",
    "        es.tell(solutions,fitness) \n",
    "        es.logger.add() \n",
    "        es.disp() \n",
    "    end\n",
    "end"
   ]
  },
  {
   "cell_type": "code",
   "execution_count": null,
   "metadata": {},
   "outputs": [
    {
     "name": "stdout",
     "output_type": "stream",
     "text": [
      "(6_w,12)-aCMA-ES (mu_w=3.7,w_1=40%) in dimension 5 (seed=763990, Wed Sep  9 10:25:50 2020)\n",
      "Iterat #Fevals   function value  axis ratio  sigma  min&max std  t[m:s]\n",
      "    1     12 3.522309532184408e+02 1.0e+00 4.32e-01  4e-01  4e-01 10:35.4\n",
      "    2     24 3.522508284620995e+02 1.3e+00 3.91e-01  3e-01  4e-01 19:57.4\n",
      "    3     36 3.523735262432452e+02 1.5e+00 3.73e-01  2e-01  4e-01 29:17.0\n",
      "    4     48 3.523198142478491e+02 1.8e+00 3.58e-01  2e-01  4e-01 38:30.1\n",
      "    5     60 3.523159445805497e+02 2.0e+00 3.21e-01  2e-01  3e-01 47:48.7\n",
      "    6     72 3.523190344761943e+02 2.2e+00 3.11e-01  1e-01  3e-01 57:03.9\n",
      "    7     84 3.521551967531026e+02 2.7e+00 3.96e-01  2e-01  5e-01 66:20.7\n",
      "    8     96 3.523192522284052e+02 3.3e+00 3.54e-01  1e-01  4e-01 75:31.9\n",
      "    9    108 3.523185935169642e+02 3.8e+00 3.03e-01  1e-01  4e-01 84:45.3\n"
     ]
    }
   ],
   "source": [
    "calibrate(cma, N)"
   ]
  }
 ],
 "metadata": {
  "kernelspec": {
   "display_name": "Julia 1.3.1",
   "language": "julia",
   "name": "julia-1.3"
  },
  "language_info": {
   "file_extension": ".jl",
   "mimetype": "application/julia",
   "name": "julia",
   "version": "1.3.1"
  }
 },
 "nbformat": 4,
 "nbformat_minor": 4
}
