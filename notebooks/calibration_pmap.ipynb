{
 "cells": [
  {
   "cell_type": "code",
   "execution_count": 1,
   "metadata": {},
   "outputs": [
    {
     "name": "stderr",
     "output_type": "stream",
     "text": [
      "┌ Info: Precompiling PyCall [438e738f-606a-5dbb-bf0a-cddfbfd45ab0]\n",
      "└ @ Base loading.jl:1273\n"
     ]
    },
    {
     "data": {
      "text/plain": [
       "PyObject <module 'cma' from '/home/mkoehler/.local/lib/python3.8/site-packages/cma/__init__.py'>"
      ]
     },
     "execution_count": 1,
     "metadata": {},
     "output_type": "execute_result"
    }
   ],
   "source": [
    "using PyCall\n",
    "cma = pyimport(\"cma\")"
   ]
  },
  {
   "cell_type": "code",
   "execution_count": 2,
   "metadata": {},
   "outputs": [
    {
     "data": {
      "text/plain": [
       "10-element Array{Int64,1}:\n",
       "  2\n",
       "  3\n",
       "  4\n",
       "  5\n",
       "  6\n",
       "  7\n",
       "  8\n",
       "  9\n",
       " 10\n",
       " 11"
      ]
     },
     "execution_count": 2,
     "metadata": {},
     "output_type": "execute_result"
    }
   ],
   "source": [
    "using Distributed\n",
    "N = 10\n",
    "addprocs(N)"
   ]
  },
  {
   "cell_type": "code",
   "execution_count": 5,
   "metadata": {},
   "outputs": [],
   "source": [
    "@everywhere using DrWatson\n",
    "@everywhere @quickactivate :Catalyst"
   ]
  },
  {
   "cell_type": "code",
   "execution_count": 6,
   "metadata": {},
   "outputs": [
    {
     "data": {
      "text/plain": [
       "calibrate (generic function with 1 method)"
      ]
     },
     "execution_count": 6,
     "metadata": {},
     "output_type": "execute_result"
    }
   ],
   "source": [
    "function calibrate(cma,N)\n",
    "    Init = [0.013235189689493238, 1., 1., 1., 1.] #initial guess\n",
    "    opts = cma.CMAOptions()\n",
    "    opts[\"bounds\"] = [[0, 0, 0, 0, 0], [1, 50, 50, 30, 30]] \n",
    "    opts[\"popsize\"] = N\n",
    "    weights = cma.recombination_weights.RecombinationWeights(N)\n",
    "    opts[\"CMA_recombination_weights\"] = weights\n",
    "    es = cma.CMAEvolutionStrategy(Init, 0.5, opts) \n",
    "    \n",
    "    input_exp = []\n",
    "    output_exp = []\n",
    "    for row in CSV.File(datadir(\"experiment/SBA15_interp_10.csv\"); delim = \" \")\n",
    "        push!(input_exp, row.I)\n",
    "        push!(output_exp, row.O)\n",
    "    end\n",
    "    n = 2\n",
    "    nels = (5n, convert(Int,2.5n),n)\n",
    "    S = Vec((0.0,0.0,0.0))\n",
    "    E = Vec((1.0,0.5,0.2))\n",
    "    grid = generate_grid(Tetrahedron, nels, S, E)\n",
    "    faces = union(getfaceset(grid,\"top\"),getfaceset(grid,\"bottom\"),getfaceset(grid,\"left\"),getfaceset(grid,\"right\"),\n",
    "                   getfaceset(grid,\"front\"),getfaceset(grid,\"back\"))\n",
    "    addfaceset!(grid, \"1\", faces)\n",
    "    \n",
    "    while isempty(es.stop()) \n",
    "        solutions = es.ask() \n",
    "        fitness = pmap(function eval(input_args) \n",
    "                            try \n",
    "                               return Catalyst.solve(input_args[1], input_args[2], input_args[3], \n",
    "                                          input_exp, output_exp, progress=false, \n",
    "                                          microcomp_type=:nonlinear, \n",
    "                                          Q=input_args[4], kₙ=input_args[5], \n",
    "                                          calibration=true, micromesh=grid)\n",
    "                             catch err #in case we loose newton convergence in a microscopic computation \n",
    "                                return 1e10\n",
    "                             end\n",
    "                        end\n",
    "                            ,solutions) \n",
    "        es.tell(solutions,fitness) \n",
    "        es.logger.add() \n",
    "        es.disp() \n",
    "    end\n",
    "end"
   ]
  },
  {
   "cell_type": "code",
   "execution_count": null,
   "metadata": {},
   "outputs": [],
   "source": [
    "@time calibrate(cma, N)"
   ]
  }
 ],
 "metadata": {
  "kernelspec": {
   "display_name": "Julia 1.3.1",
   "language": "julia",
   "name": "julia-1.3"
  },
  "language_info": {
   "file_extension": ".jl",
   "mimetype": "application/julia",
   "name": "julia",
   "version": "1.3.1"
  }
 },
 "nbformat": 4,
 "nbformat_minor": 4
}
