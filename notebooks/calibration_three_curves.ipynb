{
 "cells": [
  {
   "cell_type": "code",
   "execution_count": 8,
   "metadata": {},
   "outputs": [
    {
     "data": {
      "text/plain": [
       "6-element Array{Int64,1}:\n",
       " 2\n",
       " 3\n",
       " 4\n",
       " 5\n",
       " 6\n",
       " 7"
      ]
     },
     "execution_count": 8,
     "metadata": {},
     "output_type": "execute_result"
    }
   ],
   "source": [
    "using Distributed\n",
    "N = 2\n",
    "addprocs(N*3)"
   ]
  },
  {
   "cell_type": "code",
   "execution_count": 29,
   "metadata": {},
   "outputs": [
    {
     "data": {
      "text/plain": [
       "7"
      ]
     },
     "execution_count": 29,
     "metadata": {},
     "output_type": "execute_result"
    }
   ],
   "source": [
    "nprocs()"
   ]
  },
  {
   "cell_type": "code",
   "execution_count": 4,
   "metadata": {},
   "outputs": [],
   "source": [
    "#push!(LOAD_PATH, \"/home/amjalled/repos/advection-diffusion-catalysis/src\")\n",
    "#using Catalyst"
   ]
  },
  {
   "cell_type": "code",
   "execution_count": 13,
   "metadata": {},
   "outputs": [
    {
     "name": "stdout",
     "output_type": "stream",
     "text": [
      "      From worker 2:\t   Updating registry at `~/.julia/registries/General`\n",
      "      From worker 2:\t   Updating git-repo `https://github.com/JuliaRegistries/General.git`\n"
     ]
    },
    {
     "name": "stderr",
     "output_type": "stream",
     "text": [
      "\u001b[32m\u001b[1m   Updating\u001b[22m\u001b[39m registry at `~/.julia/registries/General`\n"
     ]
    },
    {
     "name": "stdout",
     "output_type": "stream",
     "text": [
      "\u001b[2K\u001b[?25h  Resolving package versions...[>                                        ]  0.0 %\n",
      "      From worker 2:\t  Installed UnPack ─── v1.0.1\u001b[?25l\n"
     ]
    },
    {
     "name": "stderr",
     "output_type": "stream",
     "text": [
      "\u001b[32m\u001b[1m   Updating\u001b[22m\u001b[39m git-repo `https://github.com/JuliaRegistries/General.git`\n"
     ]
    },
    {
     "name": "stdout",
     "output_type": "stream",
     "text": [
      "\u001b[2K\u001b[?25h      From worker 4:\t   Updating registry at `~/.julia/registries/General`\n",
      "      From worker 4:\t   Updating git-repo `https://github.com/JuliaRegistries/General.git`\n",
      "      From worker 4:\t\u001b[?25l\u001b[2K\u001b[?25h  Resolving package versions...\n"
     ]
    },
    {
     "name": "stderr",
     "output_type": "stream",
     "text": [
      "\u001b[32m\u001b[1m  Resolving\u001b[22m\u001b[39m package versions...\n"
     ]
    },
    {
     "name": "stdout",
     "output_type": "stream",
     "text": [
      "      From worker 4:\t  Installed UnPack ─── v1.0.1\n",
      "      From worker 7:\t   Updating registry at `~/.julia/registries/General`\n",
      "      From worker 7:\t   Updating git-repo `https://github.com/JuliaRegistries/General.git`\n",
      "\u001b[2K\u001b[?25h  Resolving package versions...[>                                        ]  0.0 %\n",
      "      From worker 7:\t  Installed UnPack ─── v1.0.1\n",
      "      From worker 5:\t   Updating registry at `~/.julia/registries/General`\n",
      "      From worker 5:\t   Updating git-repo `https://github.com/JuliaRegistries/General.git`\n",
      "\u001b[2K\u001b[?25h  Resolving package versions...[>                                        ]  0.0 %\n",
      "      From worker 5:\t  Installed UnPack ─── v1.0.1\n",
      "      From worker 3:\t   Updating registry at `~/.julia/registries/General`\n",
      "      From worker 3:\t   Updating git-repo `https://github.com/JuliaRegistries/General.git`\n",
      "\u001b[2K\u001b[?25h  Resolving package versions...[>                                        ]  0.0 %\n",
      "      From worker 3:\t  Installed UnPack ─── v1.0.1\n",
      "      From worker 6:\t   Updating registry at `~/.julia/registries/General`\n",
      "      From worker 6:\t   Updating git-repo `https://github.com/JuliaRegistries/General.git`\n",
      "\u001b[2K\u001b[?25h  Resolving package versions...[>                                        ]  0.0 %\n",
      "      From worker 6:\t  Installed UnPack ─── v1.0.1\n",
      "      From worker 2:\t  Installed DrWatson ─ v1.14.6\n",
      "      From worker 2:\t  Installed FileIO ─── v1.4.0\n",
      "      From worker 2:\t   Updating `~/.julia/environments/v1.4/Project.toml`\n",
      "      From worker 2:\t  [634d3b9d] + DrWatson v1.14.6\n",
      "      From worker 2:\t   Updating `~/.julia/environments/v1.4/Manifest.toml`\n",
      "      From worker 2:\t  [634d3b9d] + DrWatson v1.14.6\n",
      "      From worker 2:\t  [5789e2e9] + FileIO v1.4.0\n",
      "      From worker 2:\t  [ae029012] + Requires v1.0.1\n",
      "      From worker 2:\t  [3a884ed6] + UnPack v1.0.1\n",
      "      From worker 4:\t  Installed DrWatson ─ v1.14.6\n",
      "      From worker 4:\t  Installed FileIO ─── v1.4.0\n",
      "      From worker 4:\t   Updating `~/.julia/environments/v1.4/Project.toml`\n",
      "      From worker 4:\t  [634d3b9d] + DrWatson v1.14.6\n",
      "      From worker 4:\t   Updating `~/.julia/environments/v1.4/Manifest.toml`\n",
      "      From worker 4:\t  [634d3b9d] + DrWatson v1.14.6\n",
      "      From worker 4:\t  [5789e2e9] + FileIO v1.4.0\n",
      "      From worker 4:\t  [ae029012] + Requires v1.0.1\n",
      "      From worker 4:\t  [3a884ed6] + UnPack v1.0.1\n",
      "      From worker 7:\t  Installed DrWatson ─ v1.14.6\n",
      "      From worker 7:\t  Installed FileIO ─── v1.4.0\n",
      "      From worker 7:\t   Updating `~/.julia/environments/v1.4/Project.toml`\n",
      "      From worker 7:\t  [634d3b9d] + DrWatson v1.14.6\n",
      "      From worker 7:\t   Updating `~/.julia/environments/v1.4/Manifest.toml`\n",
      "      From worker 7:\t  [634d3b9d] + DrWatson v1.14.6\n",
      "      From worker 7:\t  [5789e2e9] + FileIO v1.4.0\n",
      "      From worker 7:\t  [ae029012] + Requires v1.0.1\n",
      "      From worker 7:\t  [3a884ed6] + UnPack v1.0.1\n",
      "      From worker 5:\t  Installed DrWatson ─ v1.14.6\n",
      "      From worker 5:\t  Installed FileIO ─── v1.4.0\n",
      "      From worker 5:\t   Updating `~/.julia/environments/v1.4/Project.toml`\n",
      "      From worker 5:\t  [634d3b9d] + DrWatson v1.14.6\n",
      "      From worker 5:\t   Updating `~/.julia/environments/v1.4/Manifest.toml`\n",
      "      From worker 5:\t  [634d3b9d] + DrWatson v1.14.6\n",
      "      From worker 5:\t  [5789e2e9] + FileIO v1.4.0\n",
      "      From worker 5:\t  [ae029012] + Requires v1.0.1\n",
      "      From worker 5:\t  [3a884ed6] + UnPack v1.0.1\n",
      "      From worker 3:\t  Installed DrWatson ─ v1.14.6\n",
      "      From worker 3:\t  Installed FileIO ─── v1.4.0\n",
      "      From worker 3:\t   Updating `~/.julia/environments/v1.4/Project.toml`\n",
      "      From worker 3:\t  [634d3b9d] + DrWatson v1.14.6\n",
      "      From worker 3:\t   Updating `~/.julia/environments/v1.4/Manifest.toml`\n",
      "      From worker 3:\t  [634d3b9d] + DrWatson v1.14.6\n",
      "      From worker 3:\t  [5789e2e9] + FileIO v1.4.0\n",
      "      From worker 3:\t  [ae029012] + Requires v1.0.1\n",
      "      From worker 3:\t  [3a884ed6] + UnPack v1.0.1\n",
      "      From worker 6:\t  Installed DrWatson ─ v1.14.6\n",
      "      From worker 6:\t  Installed FileIO ─── v1.4.0\n",
      "      From worker 6:\t   Updating `~/.julia/environments/v1.4/Project.toml`\n",
      "      From worker 6:\t  [634d3b9d] + DrWatson v1.14.6\n",
      "      From worker 6:\t   Updating `~/.julia/environments/v1.4/Manifest.toml`\n",
      "      From worker 6:\t  [634d3b9d] + DrWatson v1.14.6\n",
      "      From worker 6:\t  [5789e2e9] + FileIO v1.4.0\n",
      "      From worker 6:\t  [ae029012] + Requires v1.0.1\n",
      "      From worker 6:\t  [3a884ed6] + UnPack v1.0.1\n"
     ]
    },
    {
     "name": "stderr",
     "output_type": "stream",
     "text": [
      "\u001b[32m\u001b[1m   Updating\u001b[22m\u001b[39m `~/Repos/advection-diffusion-catalysis/Project.toml`\n",
      "\u001b[90m [no changes]\u001b[39m\n",
      "\u001b[32m\u001b[1m   Updating\u001b[22m\u001b[39m `~/Repos/advection-diffusion-catalysis/Manifest.toml`\n",
      "\u001b[90m [no changes]\u001b[39m\n"
     ]
    }
   ],
   "source": [
    "@everywhere using Pkg\n",
    "@everywhere Pkg.add(\"DrWatson\")"
   ]
  },
  {
   "cell_type": "code",
   "execution_count": 15,
   "metadata": {},
   "outputs": [
    {
     "data": {
      "text/plain": [
       "PyObject <module 'cma' from '/home/amjalled/.local/lib/python3.8/site-packages/cma/__init__.py'>"
      ]
     },
     "execution_count": 15,
     "metadata": {},
     "output_type": "execute_result"
    }
   ],
   "source": [
    "using PyCall\n",
    "cma = pyimport(\"cma\")"
   ]
  },
  {
   "cell_type": "code",
   "execution_count": 17,
   "metadata": {},
   "outputs": [],
   "source": [
    "using DrWatson\n",
    "@quickactivate :Catalyst\n",
    "using CSV"
   ]
  },
  {
   "cell_type": "code",
   "execution_count": 37,
   "metadata": {},
   "outputs": [
    {
     "data": {
      "text/plain": [
       "calibrate (generic function with 1 method)"
      ]
     },
     "execution_count": 37,
     "metadata": {},
     "output_type": "execute_result"
    }
   ],
   "source": [
    "@everywhere function eval_model(input_args::Array,w::Float64, input_exp::Array, output_exp::Array) \n",
    "    try \n",
    "        return Catalyst.solve(input_args[1], input_args[2], 1., \n",
    "                    input_exp, output_exp, progress=false, \n",
    "                    microcomp_type=:nonlinear, \n",
    "                    Q=input_args[3], kₙ=input_args[4], \n",
    "                    calibration=true, w=w)\n",
    "    catch err #in case we loose newton convergence in a microscopic computation \n",
    "        return 1e10\n",
    "    end\n",
    "end\n",
    "\n",
    "function calibrate(cma,N)\n",
    "    w = [1.5302e-4*(1/0.37), 1.9128e-4*(1/0.37), 2.2954e-4*(1/0.37)] # Q8, Q10, Q12\n",
    "    Init = [0.006536800306, 1., 1., 1.] #initial guess\n",
    "    opts = cma.CMAOptions()\n",
    "    opts[\"bounds\"] = [[0, 0, 0, 0], [1, 50, 20, 20]] \n",
    "    opts[\"popsize\"] = N\n",
    "    weights = cma.recombination_weights.RecombinationWeights(N)\n",
    "    opts[\"CMA_recombination_weights\"] = weights\n",
    "    es = cma.CMAEvolutionStrategy(Init, 0.5, opts) \n",
    "    \n",
    "    #Step 1\n",
    "    #Read in all 3 different velocity curves\n",
    "    input_exp_12 = []\n",
    "    output_exp_12 = []\n",
    "    input_exp_10 = []\n",
    "    output_exp_10 = []\n",
    "    input_exp_8 = []\n",
    "    output_exp_8 = []\n",
    "    \n",
    "        for row in CSV.File(datadir(\"experiment/SBA15_interp_12.csv\"); delim = \",\")\n",
    "            push!(input_exp_12, row.I)\n",
    "            push!(output_exp_12, row.O)\n",
    "        end\n",
    "    \n",
    "        for row in CSV.File(datadir(\"experiment/SBA15_interp_10.csv\"); delim = \",\")\n",
    "            push!(input_exp_10, row.I)\n",
    "            push!(output_exp_10, row.O)\n",
    "        end\n",
    "    \n",
    "        for row in CSV.File(datadir(\"experiment/SBA15_interp_8.csv\"); delim = \",\")\n",
    "            push!(input_exp_8, row.I)\n",
    "            push!(output_exp_8, row.O)\n",
    "        end\n",
    "    \n",
    "#    microMesh = Parser.getGrid(projectdir(\"test/catalyst.msh\"))\n",
    "\n",
    "    #Step 2 change the model evaluation\n",
    "    while isempty(es.stop()) \n",
    "        solutions = es.ask() # Returns array of array where inner array holds set of parameters length outer array = N\n",
    "        #Check the syntax here\n",
    "        F = Array{Future}(undef, N*3)\n",
    "        errors = zeros(N*3)\n",
    "        \n",
    "        #Complete the for loop\n",
    "        s = 1\n",
    "        for idx in length(errors)\n",
    "                if idx % 3 == 1\n",
    "                   F[idx] = @spawnat idx+1 (eval_model(solutions[s], w[3], input_exp_12, output_exp_12))\n",
    "                    elseif idx % 3 == 2\n",
    "                       F[idx] = @spawnat idx+1 (eval_model(solutions[s], w[2], input_exp_10, output_exp_10))\n",
    "                    elseif idx % 3 == 0\n",
    "                       F[idx] = @spawnat idx+1 (eval_model(solutions[s], w[1], input_exp_8, output_exp_8))\n",
    "                       s += 1\n",
    "                end\n",
    "        end\n",
    "       \n",
    "        \n",
    "        # fetch the errors entry \n",
    "        for i in 1:N\n",
    "            errors[i] = fetch(F[i])\n",
    "        end\n",
    "                \n",
    "        # Reduce the N*3 length array errors to an array of length N (adding up errors)\n",
    "        errors_red = sum.(Iterators.partition(errors,3))\n",
    "                 \n",
    "        es.tell(solutions,errors_red) \n",
    "        #This is only for saving/logging/printing current status\n",
    "        es.logger.add() \n",
    "        es.disp() \n",
    "    end\n",
    "return errors_red\n",
    "end"
   ]
  },
  {
   "cell_type": "code",
   "execution_count": 38,
   "metadata": {},
   "outputs": [
    {
     "ename": "UndefRefError",
     "evalue": "UndefRefError: access to undefined reference",
     "output_type": "error",
     "traceback": [
      "UndefRefError: access to undefined reference",
      "",
      "Stacktrace:",
      " [1] getindex at ./array.jl:788 [inlined]",
      " [2] calibrate(::PyObject, ::Int64) at ./In[37]:72",
      " [3] macro expansion at ./util.jl:175 [inlined]",
      " [4] top-level scope at ./In[38]:1"
     ]
    }
   ],
   "source": [
    "@time calibrate(cma, 2)"
   ]
  },
  {
   "cell_type": "code",
   "execution_count": 26,
   "metadata": {},
   "outputs": [
    {
     "name": "stdout",
     "output_type": "stream",
     "text": [
      "      From worker 2:\tfrom processor 2\n",
      "      From worker 4:\tfrom processor 4\n",
      "      From worker 6:\tfrom processor 6\n",
      "      From worker 5:\tfrom processor 5\n",
      "      From worker 3:\tfrom processor 3\n"
     ]
    },
    {
     "ename": "MethodError",
     "evalue": "MethodError: Cannot `convert` an object of type Nothing to an object of type Float64\nClosest candidates are:\n  convert(::Type{T}, !Matched::T) where T<:Number at number.jl:6\n  convert(::Type{T}, !Matched::Number) where T<:Number at number.jl:7\n  convert(::Type{T}, !Matched::Base.TwicePrecision) where T<:Number at twiceprecision.jl:250\n  ...",
     "output_type": "error",
     "traceback": [
      "MethodError: Cannot `convert` an object of type Nothing to an object of type Float64\nClosest candidates are:\n  convert(::Type{T}, !Matched::T) where T<:Number at number.jl:6\n  convert(::Type{T}, !Matched::Number) where T<:Number at number.jl:7\n  convert(::Type{T}, !Matched::Base.TwicePrecision) where T<:Number at twiceprecision.jl:250\n  ...",
      "",
      "Stacktrace:",
      " [1] setindex!(::Array{Float64,1}, ::Nothing, ::Int64) at ./array.jl:826",
      " [2] top-level scope at ./In[26]:11"
     ]
    },
    {
     "name": "stdout",
     "output_type": "stream",
     "text": [
      "      From worker 7:\tfrom processor 7\n"
     ]
    }
   ],
   "source": [
    "using Distributed\n",
    "N = 6\n",
    "##addprocs(N)\n",
    "errors = zeros(N)\n",
    "F = Array{Future}(undef,N)\n",
    "for idx in 1:length(errors)        \n",
    "    F[idx] = @spawnat idx+1 (println(\"from processor \", myid()))                   \n",
    "end\n",
    "\n",
    "for i in 1:N\n",
    "    errors[i] = fetch(F[i])\n",
    "end\n",
    "errors"
   ]
  },
  {
   "cell_type": "code",
   "execution_count": 36,
   "metadata": {},
   "outputs": [
    {
     "name": "stdout",
     "output_type": "stream",
     "text": [
      "(1,2mirr1)-aCMA-ES (mu_w=1.0,w_1=100%) in dimension 4 (seed=969024, Mon Jul 27 18:35:22 2020)\n",
      "Iterat #Fevals   function value  axis ratio  sigma  min&max std  t[m:s]\n",
      "    1      2 3.000000000000000e+10 1.0e+00 4.62e-01  4e-01  5e-01 0:00.0\n"
     ]
    },
    {
     "ename": "UndefVarError",
     "evalue": "UndefVarError: errors_red not defined",
     "output_type": "error",
     "traceback": [
      "UndefVarError: errors_red not defined",
      "",
      "Stacktrace:",
      " [1] calibrate(::PyObject, ::Int64) at ./In[36]:86",
      " [2] macro expansion at ./util.jl:175 [inlined]",
      " [3] top-level scope at ./In[36]:88"
     ]
    }
   ],
   "source": [
    "@everywhere function eval_model(input_args::Array,w::Float64, input_exp::Array, output_exp::Array) \n",
    "    try \n",
    "        return Catalyst.solve(input_args[1], input_args[2], 1., \n",
    "                    input_exp, output_exp, progress=false, \n",
    "                    microcomp_type=:nonlinear, \n",
    "                    Q=input_args[3], kₙ=input_args[4], \n",
    "                    calibration=true, w=w)\n",
    "    catch err #in case we loose newton convergence in a microscopic computation \n",
    "        return 1e10\n",
    "    end\n",
    "end\n",
    "\n",
    "function calibrate(cma,N)\n",
    "    w = [1.5302e-4*(1/0.37), 1.9128e-4*(1/0.37), 2.2954e-4*(1/0.37)] # Q8, Q10, Q12\n",
    "    Init = [0.006536800306, 1., 1., 1.] #initial guess\n",
    "    opts = cma.CMAOptions()\n",
    "    opts[\"bounds\"] = [[0, 0, 0, 0], [1, 50, 20, 20]] \n",
    "    opts[\"popsize\"] = N\n",
    "    weights = cma.recombination_weights.RecombinationWeights(N)\n",
    "    opts[\"CMA_recombination_weights\"] = weights\n",
    "    es = cma.CMAEvolutionStrategy(Init, 0.5, opts) \n",
    "    \n",
    "    #Step 1\n",
    "    #Read in all 3 different velocity curves\n",
    "    input_exp_12 = []\n",
    "    output_exp_12 = []\n",
    "    input_exp_10 = []\n",
    "    output_exp_10 = []\n",
    "    input_exp_8 = []\n",
    "    output_exp_8 = []\n",
    "    \n",
    "        for row in CSV.File(datadir(\"experiment/SBA15_interp_12.csv\"); delim = \",\")\n",
    "            push!(input_exp_12, row.I)\n",
    "            push!(output_exp_12, row.O)\n",
    "        end\n",
    "    \n",
    "        for row in CSV.File(datadir(\"experiment/SBA15_interp_10.csv\"); delim = \",\")\n",
    "            push!(input_exp_10, row.I)\n",
    "            push!(output_exp_10, row.O)\n",
    "        end\n",
    "    \n",
    "        for row in CSV.File(datadir(\"experiment/SBA15_interp_8.csv\"); delim = \",\")\n",
    "            push!(input_exp_8, row.I)\n",
    "            push!(output_exp_8, row.O)\n",
    "        end\n",
    "    \n",
    "#    microMesh = Parser.getGrid(projectdir(\"test/catalyst.msh\"))\n",
    "\n",
    "    #Step 2 change the model evaluation\n",
    "    while isempty(es.stop()) \n",
    "        solutions = es.ask() # Returns array of array where inner array holds set of parameters length outer array = N\n",
    "        #Check the syntax here\n",
    "        F = Array{Future}(undef, N*3)\n",
    "        errors = zeros(N*3)\n",
    "        \n",
    "        #Complete the for loop\n",
    "                   t2 = @spawnat 2 (eval_model(solutions[1], w[3], input_exp_12, output_exp_12))\n",
    "        \n",
    "                   t3 = @spawnat 3 (eval_model(solutions[1], w[2], input_exp_10, output_exp_10))\n",
    "                \n",
    "                   t4 = @spawnat 4 (eval_model(solutions[1], w[1], input_exp_8, output_exp_8))\n",
    "        \n",
    "                   t5 = @spawnat 5 (eval_model(solutions[2], w[3], input_exp_12, output_exp_12))\n",
    "        \n",
    "                   t6 = @spawnat 6 (eval_model(solutions[2], w[2], input_exp_10, output_exp_10))\n",
    "                \n",
    "                   t7 = @spawnat 7 (eval_model(solutions[2], w[1], input_exp_8, output_exp_8))\n",
    "                \n",
    "      \n",
    "        \n",
    "        # fetch the errors entry \n",
    "        errors[1] = fetch(t2)\n",
    "        errors[2] = fetch(t3)\n",
    "        errors[3] = fetch(t4)\n",
    "        errors[4] = fetch(t5)\n",
    "        errors[5] = fetch(t6)\n",
    "        errors[6] = fetch(t7)\n",
    "        # Reduce the N*3 length array errors to an array of length N (adding up errors)\n",
    "        errors_red = sum.(Iterators.partition(errors,3))\n",
    "                 \n",
    "        es.tell(solutions,errors_red) \n",
    "        #This is only for saving/logging/printing current status\n",
    "        es.logger.add() \n",
    "        es.disp() \n",
    "    end\n",
    "return errors_red\n",
    "end\n",
    "@time calibrate(cma,2)"
   ]
  }
 ],
 "metadata": {
  "kernelspec": {
   "display_name": "Julia 1.4.2",
   "language": "julia",
   "name": "julia-1.4"
  },
  "language_info": {
   "file_extension": ".jl",
   "mimetype": "application/julia",
   "name": "julia",
   "version": "1.4.2"
  }
 },
 "nbformat": 4,
 "nbformat_minor": 4
}
