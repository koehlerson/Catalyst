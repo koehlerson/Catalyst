{
 "cells": [
  {
   "cell_type": "code",
   "execution_count": 1,
   "metadata": {},
   "outputs": [
    {
     "name": "stderr",
     "output_type": "stream",
     "text": [
      "┌ Info: Precompiling Catalyst [01e5440a-74e3-4b45-b8b9-c13ddfc5051b]\n",
      "└ @ Base loading.jl:1260\n"
     ]
    }
   ],
   "source": [
    "using DrWatson\n",
    "@quickactivate :Catalyst"
   ]
  },
  {
   "cell_type": "code",
   "execution_count": 2,
   "metadata": {},
   "outputs": [
    {
     "data": {
      "text/plain": [
       "36-element Array{Int64,1}:\n",
       "  2\n",
       "  3\n",
       "  4\n",
       "  5\n",
       "  6\n",
       "  7\n",
       "  8\n",
       "  9\n",
       " 10\n",
       " 11\n",
       " 12\n",
       " 13\n",
       " 14\n",
       "  ⋮\n",
       " 26\n",
       " 27\n",
       " 28\n",
       " 29\n",
       " 30\n",
       " 31\n",
       " 32\n",
       " 33\n",
       " 34\n",
       " 35\n",
       " 36\n",
       " 37"
      ]
     },
     "execution_count": 2,
     "metadata": {},
     "output_type": "execute_result"
    }
   ],
   "source": [
    "using Distributed\n",
    "N = 12\n",
    "addprocs(N*3)"
   ]
  },
  {
   "cell_type": "code",
   "execution_count": 3,
   "metadata": {},
   "outputs": [
    {
     "data": {
      "text/plain": [
       "37"
      ]
     },
     "execution_count": 3,
     "metadata": {},
     "output_type": "execute_result"
    }
   ],
   "source": [
    "nprocs()"
   ]
  },
  {
   "cell_type": "code",
   "execution_count": 5,
   "metadata": {},
   "outputs": [
    {
     "data": {
      "text/plain": [
       "PyObject <module 'cma' from '/home/amjalled/.local/lib/python3.8/site-packages/cma/__init__.py'>"
      ]
     },
     "execution_count": 5,
     "metadata": {},
     "output_type": "execute_result"
    }
   ],
   "source": [
    "using PyCall\n",
    "cma = pyimport(\"cma\")"
   ]
  },
  {
   "cell_type": "code",
   "execution_count": 6,
   "metadata": {},
   "outputs": [
    {
     "name": "stdout",
     "output_type": "stream",
     "text": [
      "      From worker 21:\t Activating environment at `~/Repos/advection-diffusion-catalysis/Project.toml`\n",
      "      From worker 36:\t Activating environment at `~/Repos/advection-diffusion-catalysis/Project.toml`\n",
      "      From worker 23:\t Activating environment at `~/Repos/advection-diffusion-catalysis/Project.toml`\n",
      "      From worker 8:\t Activating environment at `~/Repos/advection-diffusion-catalysis/Project.toml`\n",
      "      From worker 22:\t Activating environment at `~/Repos/advection-diffusion-catalysis/Project.toml`\n",
      "      From worker 14:\t Activating environment at `~/Repos/advection-diffusion-catalysis/Project.toml`\n",
      "      From worker 17:\t Activating environment at `~/Repos/advection-diffusion-catalysis/Project.toml`\n",
      "      From worker 7:\t Activating environment at `~/Repos/advection-diffusion-catalysis/Project.toml`\n",
      "      From worker 3:\t Activating environment at `~/Repos/advection-diffusion-catalysis/Project.toml`\n",
      "      From worker 4:\t Activating environment at `~/Repos/advection-diffusion-catalysis/Project.toml`\n",
      "      From worker 19:\t Activating environment at `~/Repos/advection-diffusion-catalysis/Project.toml`\n",
      "      From worker 33:\t Activating environment at `~/Repos/advection-diffusion-catalysis/Project.toml`\n",
      "      From worker 29:\t Activating environment at `~/Repos/advection-diffusion-catalysis/Project.toml`\n",
      "      From worker 5:\t Activating environment at `~/Repos/advection-diffusion-catalysis/Project.toml`\n",
      "      From worker 35:\t Activating environment at `~/Repos/advection-diffusion-catalysis/Project.toml`\n",
      "      From worker 34:\t Activating environment at `~/Repos/advection-diffusion-catalysis/Project.toml`\n",
      "      From worker 32:\t Activating environment at `~/Repos/advection-diffusion-catalysis/Project.toml`\n",
      "      From worker 30:\t Activating environment at `~/Repos/advection-diffusion-catalysis/Project.toml`\n",
      "      From worker 28:\t Activating environment at `~/Repos/advection-diffusion-catalysis/Project.toml`\n",
      "      From worker 12:\t Activating environment at `~/Repos/advection-diffusion-catalysis/Project.toml`\n",
      "      From worker 24:\t Activating environment at `~/Repos/advection-diffusion-catalysis/Project.toml`\n",
      "      From worker 15:\t Activating environment at `~/Repos/advection-diffusion-catalysis/Project.toml`\n",
      "      From worker 13:\t Activating environment at `~/Repos/advection-diffusion-catalysis/Project.toml`\n",
      "      From worker 2:\t Activating environment at `~/Repos/advection-diffusion-catalysis/Project.toml`\n",
      "      From worker 31:\t Activating environment at `~/Repos/advection-diffusion-catalysis/Project.toml`\n",
      "      From worker 27:\t Activating environment at `~/Repos/advection-diffusion-catalysis/Project.toml`\n",
      "      From worker 11:\t Activating environment at `~/Repos/advection-diffusion-catalysis/Project.toml`\n",
      "      From worker 26:\t Activating environment at `~/Repos/advection-diffusion-catalysis/Project.toml`\n",
      "      From worker 20:\t Activating environment at `~/Repos/advection-diffusion-catalysis/Project.toml`\n",
      "      From worker 6:\t Activating environment at `~/Repos/advection-diffusion-catalysis/Project.toml`\n",
      "      From worker 25:\t Activating environment at `~/Repos/advection-diffusion-catalysis/Project.toml`\n",
      "      From worker 18:\t Activating environment at `~/Repos/advection-diffusion-catalysis/Project.toml`\n",
      "      From worker 37:\t Activating environment at `~/Repos/advection-diffusion-catalysis/Project.toml`\n",
      "      From worker 9:\t Activating environment at `~/Repos/advection-diffusion-catalysis/Project.toml`\n",
      "      From worker 10:\t Activating environment at `~/Repos/advection-diffusion-catalysis/Project.toml`\n",
      "      From worker 16:\t Activating environment at `~/Repos/advection-diffusion-catalysis/Project.toml`\n"
     ]
    }
   ],
   "source": [
    "@everywhere using DrWatson\n",
    "@everywhere @quickactivate :Catalyst\n",
    "using CSV"
   ]
  },
  {
   "cell_type": "code",
   "execution_count": 7,
   "metadata": {},
   "outputs": [
    {
     "data": {
      "text/plain": [
       "calibrate (generic function with 1 method)"
      ]
     },
     "execution_count": 7,
     "metadata": {},
     "output_type": "execute_result"
    }
   ],
   "source": [
    "@everywhere function eval_model(input_args::Array,w::Float64, input_exp::Array, output_exp::Array, micromesh) \n",
    "    try \n",
    "        return Catalyst.solve(input_args[1], input_args[2], input_args[3], \n",
    "                    input_exp, output_exp, progress=false, \n",
    "                    microcomp_type=:nonlinear, \n",
    "                    Q=input_args[4], kₙ=input_args[5], \n",
    "                    calibration=true, w=w, micromesh=micromesh)\n",
    "    catch err #in case we loose newton convergence in a microscopic computation \n",
    "        return 1e10\n",
    "    end\n",
    "end\n",
    "\n",
    "function calibrate(cma,N)\n",
    "    w = [1.5302e-4*(1/0.37), 1.9128e-4*(1/0.37), 2.2954e-4*(1/0.37)] # Q8, Q10, Q12\n",
    "    Init = [0.00490394, 5.3789, 1.07486, 21.2586, 0.841337] #initial guess\n",
    "    opts = cma.CMAOptions()\n",
    "    opts[\"bounds\"] = [[0, 0, 0, 0, 0], [1, 50, 50, 30, 30]] \n",
    "    opts[\"popsize\"] = N\n",
    "    weights = cma.recombination_weights.RecombinationWeights(N)\n",
    "    opts[\"CMA_recombination_weights\"] = weights\n",
    "    es = cma.CMAEvolutionStrategy(Init, 0.1, opts) \n",
    "    \n",
    "    #Step 1\n",
    "    #Read in all 3 different velocity curves\n",
    "    input_exp_12 = []\n",
    "    output_exp_12 = []\n",
    "    input_exp_10 = []\n",
    "    output_exp_10 = []\n",
    "    input_exp_8 = []\n",
    "    output_exp_8 = []\n",
    "    \n",
    "    for row in CSV.File(datadir(\"experiment/SBA15_interp_12.csv\"); delim = \",\")\n",
    "        push!(input_exp_12, row.I)\n",
    "        push!(output_exp_12, row.O)\n",
    "    end\n",
    "    \n",
    "    for row in CSV.File(datadir(\"experiment/SBA15_interp_10.csv\"); delim = \",\")\n",
    "        push!(input_exp_10, row.I)\n",
    "        push!(output_exp_10, row.O)\n",
    "    end\n",
    "    \n",
    "    for row in CSV.File(datadir(\"experiment/SBA15_interp_8.csv\"); delim = \",\")\n",
    "        push!(input_exp_8, row.I)\n",
    "        push!(output_exp_8, row.O)\n",
    "    end\n",
    "    \n",
    "    n = 2\n",
    "    nels = (5n, convert(Int,2.5n),n)\n",
    "    S = Vec((0.0,0.0,0.0))\n",
    "    E = Vec((1.0,0.5,0.2))\n",
    "    grid = generate_grid(Tetrahedron, nels, S, E)\n",
    "    faces = union(getfaceset(grid,\"top\"),getfaceset(grid,\"bottom\"),getfaceset(grid,\"left\"),getfaceset(grid,\"right\"),\n",
    "                   getfaceset(grid,\"front\"),getfaceset(grid,\"back\"))\n",
    "    addfaceset!(grid, \"1\", faces)\n",
    "\n",
    "    #Step 2 change the model evaluation\n",
    "    while isempty(es.stop()) \n",
    "        solutions = es.ask() # Returns array of array where inner array holds set of parameters length outer array = N\n",
    "        #Check the syntax here\n",
    "        F = Array{Future}(undef, N*3)\n",
    "        errors = zeros(N*3)\n",
    "        \n",
    "        #Complete the for loop\n",
    "        s = 1\n",
    "        for idx in 1:length(errors)\n",
    "            if idx % 3 == 1\n",
    "                F[idx] = @spawnat idx+1 (eval_model(solutions[s], w[3], input_exp_12, output_exp_12, grid))\n",
    "            elseif idx % 3 == 2\n",
    "                F[idx] = @spawnat idx+1 (eval_model(solutions[s], w[2], input_exp_10, output_exp_10,grid))\n",
    "            elseif idx % 3 == 0\n",
    "                F[idx] = @spawnat idx+1 (eval_model(solutions[s], w[1], input_exp_8, output_exp_8,grid))\n",
    "                s += 1\n",
    "            end\n",
    "        end\n",
    "       \n",
    "        \n",
    "        # fetch the errors entry \n",
    "        for i in 1:N*3\n",
    "            errors[i] = fetch(F[i])\n",
    "        end\n",
    "                \n",
    "        # Reduce the N*3 length array errors to an array of length N (adding up errors)\n",
    "        errors_red = sum.(Iterators.partition(errors,3))\n",
    "                 \n",
    "        es.tell(solutions,errors_red) \n",
    "        #This is only for saving/logging/printing current status\n",
    "        es.logger.add() \n",
    "        es.disp() \n",
    "    end\n",
    "return errors_red\n",
    "end"
   ]
  },
  {
   "cell_type": "code",
   "execution_count": null,
   "metadata": {},
   "outputs": [
    {
     "name": "stdout",
     "output_type": "stream",
     "text": [
      "(6_w,12)-aCMA-ES (mu_w=3.7,w_1=40%) in dimension 5 (seed=1007447, Wed Aug 19 13:08:22 2020)\n",
      "Iterat #Fevals   function value  axis ratio  sigma  min&max std  t[m:s]\n",
      "    1     12 1.968817117849173e+01 1.0e+00 9.19e-02  8e-02  1e-01 27:46.0\n",
      "    2     24 2.115253216677636e+01 1.3e+00 8.65e-02  7e-02  9e-02 52:43.9\n",
      "    3     36 2.186252220613483e+01 1.6e+00 8.19e-02  6e-02  9e-02 78:15.3\n",
      "    4     48 2.566828485037656e+01 1.8e+00 6.77e-02  4e-02  7e-02 103:36.4\n",
      "    5     60 2.288920220039327e+01 1.8e+00 6.44e-02  4e-02  7e-02 128:28.8\n",
      "    6     72 1.700483663022409e+01 2.4e+00 6.07e-02  4e-02  6e-02 153:23.4\n",
      "    7     84 1.848706092815302e+01 2.6e+00 5.89e-02  3e-02  6e-02 177:03.1\n",
      "    8     96 1.722262602001227e+01 2.7e+00 6.83e-02  4e-02  7e-02 203:43.8\n",
      "    9    108 1.627618059549980e+01 2.4e+00 5.95e-02  3e-02  6e-02 229:18.1\n",
      "   10    120 2.044341617926123e+01 2.3e+00 5.49e-02  3e-02  5e-02 254:40.0\n",
      "   11    132 1.615517094090912e+01 2.3e+00 4.86e-02  3e-02  5e-02 279:31.1\n",
      "   12    144 1.625529897232802e+01 2.4e+00 5.39e-02  3e-02  5e-02 304:34.3\n",
      "   13    156 1.570655797947887e+01 2.6e+00 5.21e-02  3e-02  5e-02 328:25.3\n",
      "   14    168 1.560442498394834e+01 2.9e+00 5.54e-02  3e-02  5e-02 352:58.1\n",
      "   15    180 1.635753689366641e+01 2.7e+00 5.21e-02  3e-02  5e-02 376:33.6\n",
      "   16    192 1.719067612085221e+01 2.7e+00 5.04e-02  3e-02  5e-02 402:39.8\n",
      "   17    204 1.643411046858211e+01 2.8e+00 5.12e-02  3e-02  5e-02 428:14.8\n",
      "   18    216 1.944285468199082e+01 2.8e+00 5.28e-02  3e-02  5e-02 452:58.2\n",
      "   19    228 1.755565149347009e+01 2.9e+00 5.38e-02  3e-02  5e-02 478:01.7\n",
      "   20    240 1.578922360348862e+01 3.2e+00 4.54e-02  2e-02  4e-02 502:59.4\n",
      "   21    252 1.589567640865768e+01 3.7e+00 4.30e-02  2e-02  4e-02 527:10.7\n",
      "   22    264 1.586643256967552e+01 4.3e+00 3.71e-02  1e-02  4e-02 552:38.1\n",
      "   23    276 1.604475682246417e+01 4.2e+00 3.31e-02  1e-02  3e-02 576:28.9\n",
      "   24    288 1.558134709762094e+01 4.6e+00 2.82e-02  7e-03  3e-02 600:25.0\n",
      "   25    300 1.557087943916675e+01 4.9e+00 2.58e-02  6e-03  3e-02 623:56.1\n",
      "   26    312 1.562891868816051e+01 5.7e+00 2.55e-02  5e-03  2e-02 647:52.9\n",
      "   27    324 1.557886942837379e+01 6.6e+00 2.15e-02  4e-03  2e-02 670:52.8\n",
      "   28    336 1.554791181633338e+01 6.3e+00 1.90e-02  3e-03  2e-02 693:52.0\n",
      "   29    348 1.559903876873684e+01 6.4e+00 1.84e-02  3e-03  2e-02 717:04.1\n",
      "   30    360 1.556151865678788e+01 7.3e+00 1.87e-02  2e-03  2e-02 740:35.7\n",
      "   31    372 1.554089149775931e+01 8.2e+00 1.88e-02  2e-03  2e-02 764:11.6\n",
      "   32    384 1.553897448013095e+01 9.1e+00 1.55e-02  2e-03  1e-02 787:41.9\n",
      "   33    396 1.554139824061165e+01 1.1e+01 1.37e-02  1e-03  1e-02 811:09.9\n",
      "   34    408 1.554253848842177e+01 1.2e+01 1.26e-02  1e-03  1e-02 834:40.6\n",
      "   35    420 1.554009182690413e+01 1.4e+01 1.17e-02  9e-04  1e-02 858:09.6\n",
      "   36    432 1.553999472670020e+01 1.6e+01 1.08e-02  7e-04  1e-02 881:45.1\n",
      "   37    444 1.553739792157553e+01 1.9e+01 9.72e-03  5e-04  9e-03 905:29.9\n",
      "   38    456 1.553790097681358e+01 2.4e+01 1.04e-02  4e-04  1e-02 929:08.7\n",
      "   39    468 1.553080721123077e+01 3.6e+01 1.00e-02  4e-04  1e-02 953:08.1\n",
      "   40    480 1.553297073527143e+01 3.6e+01 1.00e-02  4e-04  1e-02 976:45.4\n",
      "   41    492 1.552435894109440e+01 3.8e+01 1.15e-02  4e-04  1e-02 1000:37.3\n",
      "   42    504 1.552022181102138e+01 3.8e+01 1.28e-02  4e-04  2e-02 1024:50.1\n",
      "   43    516 1.551614739395827e+01 4.8e+01 1.52e-02  5e-04  2e-02 1048:32.6\n",
      "   44    528 1.550555485287668e+01 5.3e+01 1.93e-02  6e-04  3e-02 1072:32.6\n",
      "   45    540 1.551329022133944e+01 5.8e+01 2.01e-02  6e-04  3e-02 1096:12.1\n",
      "   46    552 1.551235967216613e+01 6.5e+01 1.86e-02  5e-04  3e-02 1120:09.5\n",
      "   47    564 1.549663601649068e+01 6.7e+01 2.11e-02  5e-04  3e-02 1144:23.3\n",
      "   48    576 1.548543818362098e+01 8.2e+01 2.32e-02  5e-04  4e-02 1168:27.5\n",
      "   49    588 1.547059506592304e+01 9.4e+01 2.91e-02  6e-04  5e-02 1192:09.6\n",
      "   50    600 1.547225764383749e+01 1.0e+02 3.09e-02  6e-04  4e-02 1216:06.4\n"
     ]
    }
   ],
   "source": [
    "@time calibrate(cma, N)"
   ]
  }
 ],
 "metadata": {
  "kernelspec": {
   "display_name": "Julia 1.4.2",
   "language": "julia",
   "name": "julia-1.4"
  },
  "language_info": {
   "file_extension": ".jl",
   "mimetype": "application/julia",
   "name": "julia",
   "version": "1.4.2"
  }
 },
 "nbformat": 4,
 "nbformat_minor": 4
}
