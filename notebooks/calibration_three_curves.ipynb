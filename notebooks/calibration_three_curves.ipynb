{
 "cells": [
  {
   "cell_type": "code",
   "execution_count": 1,
   "metadata": {},
   "outputs": [
    {
     "data": {
      "text/plain": [
       "15-element Array{Int64,1}:\n",
       "  2\n",
       "  3\n",
       "  4\n",
       "  5\n",
       "  6\n",
       "  7\n",
       "  8\n",
       "  9\n",
       " 10\n",
       " 11\n",
       " 12\n",
       " 13\n",
       " 14\n",
       " 15\n",
       " 16"
      ]
     },
     "execution_count": 1,
     "metadata": {},
     "output_type": "execute_result"
    }
   ],
   "source": [
    "using Distributed\n",
    "N = 5\n",
    "addprocs(N*3)"
   ]
  },
  {
   "cell_type": "code",
   "execution_count": 2,
   "metadata": {},
   "outputs": [
    {
     "data": {
      "text/plain": [
       "16"
      ]
     },
     "execution_count": 2,
     "metadata": {},
     "output_type": "execute_result"
    }
   ],
   "source": [
    "nprocs()"
   ]
  },
  {
   "cell_type": "code",
   "execution_count": 3,
   "metadata": {},
   "outputs": [
    {
     "data": {
      "text/plain": [
       "PyObject <module 'cma' from '/home/mkoehler/.local/lib/python3.8/site-packages/cma/__init__.py'>"
      ]
     },
     "execution_count": 3,
     "metadata": {},
     "output_type": "execute_result"
    }
   ],
   "source": [
    "using PyCall\n",
    "cma = pyimport(\"cma\")"
   ]
  },
  {
   "cell_type": "code",
   "execution_count": 5,
   "metadata": {},
   "outputs": [],
   "source": [
    "@everywhere using DrWatson\n",
    "@everywhere @quickactivate :Catalyst\n",
    "using CSV"
   ]
  },
  {
   "cell_type": "code",
   "execution_count": 6,
   "metadata": {},
   "outputs": [
    {
     "data": {
      "text/plain": [
       "calibrate (generic function with 1 method)"
      ]
     },
     "execution_count": 6,
     "metadata": {},
     "output_type": "execute_result"
    }
   ],
   "source": [
    "@everywhere function eval_model(input_args::Array,w::Float64, input_exp::Array, output_exp::Array, micromesh) \n",
    "    try \n",
    "        return Catalyst.solve(input_args[1], input_args[2], input_args[3], \n",
    "                    input_exp, output_exp, progress=false, \n",
    "                    microcomp_type=:nonlinear, \n",
    "                    Q=input_args[4], kₙ=input_args[5], \n",
    "                    calibration=true, w=w, micromesh=micromesh)\n",
    "    catch err #in case we loose newton convergence in a microscopic computation \n",
    "        return 1e10\n",
    "    end\n",
    "end\n",
    "\n",
    "function calibrate(cma,N)\n",
    "    w = [1.5302e-4*(1/0.37), 1.9128e-4*(1/0.37), 2.2954e-4*(1/0.37)] # Q8, Q10, Q12\n",
    "    Init = [0.006536800306, 1., 1., 1., 1.] #initial guess\n",
    "    opts = cma.CMAOptions()\n",
    "    opts[\"bounds\"] = [[0, 0, 0, 0, 0], [1, 50, 50, 20, 20]] \n",
    "    opts[\"popsize\"] = N\n",
    "    weights = cma.recombination_weights.RecombinationWeights(N)\n",
    "    opts[\"CMA_recombination_weights\"] = weights\n",
    "    es = cma.CMAEvolutionStrategy(Init, 0.5, opts) \n",
    "    \n",
    "    #Step 1\n",
    "    #Read in all 3 different velocity curves\n",
    "    input_exp_12 = []\n",
    "    output_exp_12 = []\n",
    "    input_exp_10 = []\n",
    "    output_exp_10 = []\n",
    "    input_exp_8 = []\n",
    "    output_exp_8 = []\n",
    "    \n",
    "    for row in CSV.File(datadir(\"experiment/SBA15_interp_12.csv\"); delim = \",\")\n",
    "        push!(input_exp_12, row.I)\n",
    "        push!(output_exp_12, row.O)\n",
    "    end\n",
    "    \n",
    "    for row in CSV.File(datadir(\"experiment/SBA15_interp_10.csv\"); delim = \",\")\n",
    "        push!(input_exp_10, row.I)\n",
    "        push!(output_exp_10, row.O)\n",
    "    end\n",
    "    \n",
    "    for row in CSV.File(datadir(\"experiment/SBA15_interp_8.csv\"); delim = \",\")\n",
    "        push!(input_exp_8, row.I)\n",
    "        push!(output_exp_8, row.O)\n",
    "    end\n",
    "    \n",
    "    n = 2\n",
    "    nels = (5n, convert(Int,2.5n),n)\n",
    "    S = Vec((0.0,0.0,0.0))\n",
    "    E = Vec((1.0,0.5,0.2))\n",
    "    grid = generate_grid(Tetrahedron, nels, S, E)\n",
    "    faces = union(getfaceset(grid,\"top\"),getfaceset(grid,\"bottom\"),getfaceset(grid,\"left\"),getfaceset(grid,\"right\"),\n",
    "                   getfaceset(grid,\"front\"),getfaceset(grid,\"back\"))\n",
    "    addfaceset!(grid, \"1\", faces)\n",
    "\n",
    "    #Step 2 change the model evaluation\n",
    "    while isempty(es.stop()) \n",
    "        solutions = es.ask() # Returns array of array where inner array holds set of parameters length outer array = N\n",
    "        #Check the syntax here\n",
    "        F = Array{Future}(undef, N*3)\n",
    "        errors = zeros(N*3)\n",
    "        \n",
    "        #Complete the for loop\n",
    "        s = 1\n",
    "        for idx in 1:length(errors)\n",
    "            if idx % 3 == 1\n",
    "                F[idx] = @spawnat idx+1 (eval_model(solutions[s], w[3], input_exp_12, output_exp_12, grid))\n",
    "            elseif idx % 3 == 2\n",
    "                F[idx] = @spawnat idx+1 (eval_model(solutions[s], w[2], input_exp_10, output_exp_10,grid))\n",
    "            elseif idx % 3 == 0\n",
    "                F[idx] = @spawnat idx+1 (eval_model(solutions[s], w[1], input_exp_8, output_exp_8,grid))\n",
    "                s += 1\n",
    "            end\n",
    "        end\n",
    "       \n",
    "        \n",
    "        # fetch the errors entry \n",
    "        for i in 1:N*3\n",
    "            errors[i] = fetch(F[i])\n",
    "        end\n",
    "                \n",
    "        # Reduce the N*3 length array errors to an array of length N (adding up errors)\n",
    "        errors_red = sum.(Iterators.partition(errors,3))\n",
    "                 \n",
    "        es.tell(solutions,errors_red) \n",
    "        #This is only for saving/logging/printing current status\n",
    "        es.logger.add() \n",
    "        es.disp() \n",
    "    end\n",
    "return errors_red\n",
    "end"
   ]
  },
  {
   "cell_type": "code",
   "execution_count": null,
   "metadata": {},
   "outputs": [
    {
     "name": "stdout",
     "output_type": "stream",
     "text": [
      "(2_w,5mirr1)-aCMA-ES (mu_w=1.6,w_1=73%) in dimension 5 (seed=682031, Tue Aug  4 17:03:54 2020)\n",
      "Iterat #Fevals   function value  axis ratio  sigma  min&max std  t[m:s]\n",
      "    1      5 1.108097888615528e+03 1.0e+00 4.95e-01  5e-01  5e-01 17:56.5\n",
      "    2     10 1.062308207765336e+03 1.2e+00 4.63e-01  4e-01  5e-01 36:46.8\n",
      "    3     15 1.058122516027674e+03 1.2e+00 4.85e-01  5e-01  5e-01 56:23.2\n",
      "    4     20 1.012190630768107e+03 1.3e+00 5.51e-01  5e-01  6e-01 74:59.0\n",
      "    5     25 9.901679179524349e+02 1.5e+00 7.02e-01  6e-01  9e-01 94:41.3\n",
      "    6     30 8.736061682325211e+02 1.8e+00 9.28e-01  9e-01  1e+00 115:08.2\n",
      "    7     35 8.141849296482072e+02 2.0e+00 1.17e+00  1e+00  2e+00 133:41.0\n",
      "    8     40 4.599602443456180e+02 2.2e+00 1.68e+00  2e+00  2e+00 155:04.2\n",
      "    9     45 6.165392410459820e+02 2.3e+00 1.88e+00  2e+00  2e+00 170:09.7\n",
      "   10     50 6.900371553295228e+01 2.1e+00 2.81e+00  3e+00  4e+00 187:11.8\n"
     ]
    }
   ],
   "source": [
    "@time calibrate(cma, N)"
   ]
  }
 ],
 "metadata": {
  "kernelspec": {
   "display_name": "Julia 1.3.1",
   "language": "julia",
   "name": "julia-1.3"
  },
  "language_info": {
   "file_extension": ".jl",
   "mimetype": "application/julia",
   "name": "julia",
   "version": "1.3.1"
  }
 },
 "nbformat": 4,
 "nbformat_minor": 4
}
