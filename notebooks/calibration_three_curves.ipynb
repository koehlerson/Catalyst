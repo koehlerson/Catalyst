{
 "cells": [
  {
   "cell_type": "code",
   "execution_count": 3,
   "metadata": {},
   "outputs": [
    {
     "ename": "Pkg.Types.PkgError",
     "evalue": "`Hwloc=0e44f5e4-bd66-52a0-8798-143a42290a1d` depends on `BinaryProvider`, but no such entry exists in the manifest.",
     "output_type": "error",
     "traceback": [
      "`Hwloc=0e44f5e4-bd66-52a0-8798-143a42290a1d` depends on `BinaryProvider`, but no such entry exists in the manifest.",
      "",
      "Stacktrace:",
      " [1] pkgerror(::String, ::Vararg{String,N} where N) at D:\\buildbot\\worker\\package_win64\\build\\usr\\share\\julia\\stdlib\\v1.4\\Pkg\\src\\Types.jl:53",
      " [2] normalize_deps(::String, ::Base.UUID, ::Array{String,1}, ::Dict{String,Array{Pkg.Types.Stage1,1}}) at D:\\buildbot\\worker\\package_win64\\build\\usr\\share\\julia\\stdlib\\v1.4\\Pkg\\src\\manifest.jl:91",
      " [3] validate_manifest(::Dict{String,Array{Pkg.Types.Stage1,1}}) at D:\\buildbot\\worker\\package_win64\\build\\usr\\share\\julia\\stdlib\\v1.4\\Pkg\\src\\manifest.jl:105",
      " [4] Dict{Base.UUID,Pkg.Types.PackageEntry}(::Dict{String,Any}) at D:\\buildbot\\worker\\package_win64\\build\\usr\\share\\julia\\stdlib\\v1.4\\Pkg\\src\\manifest.jl:153",
      " [5] read_manifest(::IOStream; path::String) at D:\\buildbot\\worker\\package_win64\\build\\usr\\share\\julia\\stdlib\\v1.4\\Pkg\\src\\manifest.jl:169",
      " [6] #43 at D:\\buildbot\\worker\\package_win64\\build\\usr\\share\\julia\\stdlib\\v1.4\\Pkg\\src\\manifest.jl:173 [inlined]",
      " [7] open(::Pkg.Types.var\"#43#44\"{String}, ::String; kwargs::Base.Iterators.Pairs{Union{},Union{},Tuple{},NamedTuple{(),Tuple{}}}) at .\\io.jl:298",
      " [8] open at .\\io.jl:296 [inlined]",
      " [9] read_manifest at D:\\buildbot\\worker\\package_win64\\build\\usr\\share\\julia\\stdlib\\v1.4\\Pkg\\src\\manifest.jl:172 [inlined]",
      " [10] Pkg.Types.EnvCache(::Nothing) at D:\\buildbot\\worker\\package_win64\\build\\usr\\share\\julia\\stdlib\\v1.4\\Pkg\\src\\Types.jl:296",
      " [11] EnvCache at D:\\buildbot\\worker\\package_win64\\build\\usr\\share\\julia\\stdlib\\v1.4\\Pkg\\src\\Types.jl:275 [inlined]",
      " [12] Pkg.Types.Context() at .\\util.jl:742",
      " [13] #add#27 at D:\\buildbot\\worker\\package_win64\\build\\usr\\share\\julia\\stdlib\\v1.4\\Pkg\\src\\API.jl:109 [inlined]",
      " [14] add at D:\\buildbot\\worker\\package_win64\\build\\usr\\share\\julia\\stdlib\\v1.4\\Pkg\\src\\API.jl:109 [inlined]",
      " [15] #add#24 at D:\\buildbot\\worker\\package_win64\\build\\usr\\share\\julia\\stdlib\\v1.4\\Pkg\\src\\API.jl:107 [inlined]",
      " [16] add at D:\\buildbot\\worker\\package_win64\\build\\usr\\share\\julia\\stdlib\\v1.4\\Pkg\\src\\API.jl:107 [inlined]",
      " [17] add(::String; kwargs::Base.Iterators.Pairs{Union{},Union{},Tuple{},NamedTuple{(),Tuple{}}}) at D:\\buildbot\\worker\\package_win64\\build\\usr\\share\\julia\\stdlib\\v1.4\\Pkg\\src\\API.jl:106",
      " [18] add(::String) at D:\\buildbot\\worker\\package_win64\\build\\usr\\share\\julia\\stdlib\\v1.4\\Pkg\\src\\API.jl:106",
      " [19] top-level scope at In[3]:2"
     ]
    }
   ],
   "source": [
    "using Pkg\n",
    "Pkg.add(\"PyCall\")"
   ]
  },
  {
   "cell_type": "code",
   "execution_count": 1,
   "metadata": {},
   "outputs": [
    {
     "name": "stderr",
     "output_type": "stream",
     "text": [
      "┌ Info: Precompiling PyCall [438e738f-606a-5dbb-bf0a-cddfbfd45ab0]\n",
      "└ @ Base loading.jl:1260\n"
     ]
    },
    {
     "ename": "PyCall.PyError",
     "evalue": "PyError (PyImport_ImportModule\n\nThe Python package cma could not be found by pyimport. Usually this means\nthat you did not install cma in the Python version being used by PyCall.\n\nPyCall is currently configured to use the Julia-specific Python distribution\ninstalled by the Conda.jl package.  To install the cma module, you can\nuse `pyimport_conda(\"cma\", PKG)`, where PKG is the Anaconda\npackage the contains the module cma, or alternatively you can use the\nConda package directly (via `using Conda` followed by `Conda.add` etcetera).\n\nAlternatively, if you want to use a different Python distribution on your\nsystem, such as a system-wide Python (as opposed to the Julia-specific Python),\nyou can re-configure PyCall with that Python.   As explained in the PyCall\ndocumentation, set ENV[\"PYTHON\"] to the path/name of the python executable\nyou want to use, run Pkg.build(\"PyCall\"), and re-launch Julia.\n\n) <class 'ModuleNotFoundError'>\nModuleNotFoundError(\"No module named 'cma'\")\n",
     "output_type": "error",
     "traceback": [
      "PyError (PyImport_ImportModule\n\nThe Python package cma could not be found by pyimport. Usually this means\nthat you did not install cma in the Python version being used by PyCall.\n\nPyCall is currently configured to use the Julia-specific Python distribution\ninstalled by the Conda.jl package.  To install the cma module, you can\nuse `pyimport_conda(\"cma\", PKG)`, where PKG is the Anaconda\npackage the contains the module cma, or alternatively you can use the\nConda package directly (via `using Conda` followed by `Conda.add` etcetera).\n\nAlternatively, if you want to use a different Python distribution on your\nsystem, such as a system-wide Python (as opposed to the Julia-specific Python),\nyou can re-configure PyCall with that Python.   As explained in the PyCall\ndocumentation, set ENV[\"PYTHON\"] to the path/name of the python executable\nyou want to use, run Pkg.build(\"PyCall\"), and re-launch Julia.\n\n) <class 'ModuleNotFoundError'>\nModuleNotFoundError(\"No module named 'cma'\")\n",
      "",
      "Stacktrace:",
      " [1] pyimport(::String) at C:\\Users\\power\\.julia\\packages\\PyCall\\zqDXB\\src\\PyCall.jl:536",
      " [2] top-level scope at In[1]:2"
     ]
    }
   ],
   "source": [
    "using PyCall\n",
    "cma = pyimport(\"cma\")"
   ]
  },
  {
   "cell_type": "code",
   "execution_count": 94,
   "metadata": {},
   "outputs": [
    {
     "data": {
      "text/plain": [
       "3-element Array{Int64,1}:\n",
       " 2\n",
       " 3\n",
       " 4"
      ]
     },
     "execution_count": 94,
     "metadata": {},
     "output_type": "execute_result"
    }
   ],
   "source": [
    "using Distributed\n",
    "N = 1\n",
    "addprocs(N*3)"
   ]
  },
  {
   "cell_type": "code",
   "execution_count": 95,
   "metadata": {},
   "outputs": [
    {
     "ename": "CompositeException",
     "evalue": "On worker 2:\nArgumentError: Package DrWatson not found in current path:\n- Run `import Pkg; Pkg.add(\"DrWatson\")` to install the DrWatson package.\n\nrequire at .\\loading.jl:892\neval at .\\boot.jl:331\n#101 at D:\\buildbot\\worker\\package_win64\\build\\usr\\share\\julia\\stdlib\\v1.4\\Distributed\\src\\process_messages.jl:290\nrun_work_thunk at D:\\buildbot\\worker\\package_win64\\build\\usr\\share\\julia\\stdlib\\v1.4\\Distributed\\src\\process_messages.jl:79\nrun_work_thunk at D:\\buildbot\\worker\\package_win64\\build\\usr\\share\\julia\\stdlib\\v1.4\\Distributed\\src\\process_messages.jl:88\n#94 at .\\task.jl:358\n\n...and 2 more exception(s).\n",
     "output_type": "error",
     "traceback": [
      "On worker 2:\nArgumentError: Package DrWatson not found in current path:\n- Run `import Pkg; Pkg.add(\"DrWatson\")` to install the DrWatson package.\n\nrequire at .\\loading.jl:892\neval at .\\boot.jl:331\n#101 at D:\\buildbot\\worker\\package_win64\\build\\usr\\share\\julia\\stdlib\\v1.4\\Distributed\\src\\process_messages.jl:290\nrun_work_thunk at D:\\buildbot\\worker\\package_win64\\build\\usr\\share\\julia\\stdlib\\v1.4\\Distributed\\src\\process_messages.jl:79\nrun_work_thunk at D:\\buildbot\\worker\\package_win64\\build\\usr\\share\\julia\\stdlib\\v1.4\\Distributed\\src\\process_messages.jl:88\n#94 at .\\task.jl:358\n\n...and 2 more exception(s).\n",
      "",
      "Stacktrace:",
      " [1] sync_end(::Array{Any,1}) at .\\task.jl:316",
      " [2] macro expansion at .\\task.jl:335 [inlined]",
      " [3] remotecall_eval(::Module, ::Array{Int64,1}, ::Expr) at D:\\buildbot\\worker\\package_win64\\build\\usr\\share\\julia\\stdlib\\v1.4\\Distributed\\src\\macros.jl:217",
      " [4] top-level scope at D:\\buildbot\\worker\\package_win64\\build\\usr\\share\\julia\\stdlib\\v1.4\\Distributed\\src\\macros.jl:201",
      " [5] top-level scope at In[95]:1"
     ]
    }
   ],
   "source": [
    "@everywhere using DrWatson\n",
    "@everywhere @quickactivate :Catalyst"
   ]
  },
  {
   "cell_type": "code",
   "execution_count": 4,
   "metadata": {},
   "outputs": [
    {
     "data": {
      "text/plain": [
       "calibrate (generic function with 1 method)"
      ]
     },
     "execution_count": 4,
     "metadata": {},
     "output_type": "execute_result"
    }
   ],
   "source": [
    "function eval_model(input_args::Array,w::Float, input_exp::Array, output_exp::Array) \n",
    "    try \n",
    "        return Catalyst.solve(input_args[1], input_args[2], 1., \n",
    "                    input_exp, output_exp, progress=false, \n",
    "                    microcomp_type=:nonlinear, \n",
    "                    Q=input_args[3], kₙ=input_args[4], \n",
    "                    calibration=true, w=w)\n",
    "    catch err #in case we loose newton convergence in a microscopic computation \n",
    "        return 1e10\n",
    "    end\n",
    "end\n",
    "\n",
    "function calibrate(cma,N)\n",
    "    w = [1.5302e-4*(1/0.37), 1.9128e-4*(1/0.37), 2.2954e-4*(1/0.37)] # Q8, Q10, Q12\n",
    "    Init = [0.006536800306, 1., 1., 1.] #initial guess\n",
    "    opts = cma.CMAOptions()\n",
    "    opts[\"bounds\"] = [[0, 0, 0, 0], [1, 50, 20, 20]] \n",
    "    opts[\"popsize\"] = N\n",
    "    weights = cma.recombination_weights.RecombinationWeights(N)\n",
    "    opts[\"CMA_recombination_weights\"] = weights\n",
    "    es = cma.CMAEvolutionStrategy(Init, 0.5, opts) \n",
    "    \n",
    "    #Step 1\n",
    "    #Read in all 3 different velocity curves\n",
    "    input_exp_12 = []\n",
    "    output_exp_12 = []\n",
    "    input_exp_10 = []\n",
    "    output_exp_10 = []\n",
    "    input_exp_8 = []\n",
    "    output_exp_8 = []\n",
    "    \n",
    "        for row in CSV.File(datadir(\"experiment/SBA15_interp_12.csv\"); delim = \",\")\n",
    "            push!(input_exp_12, row.I)\n",
    "            push!(output_exp_12, row.O)\n",
    "        end\n",
    "    \n",
    "        for row in CSV.File(datadir(\"experiment/SBA15_interp_10.csv\"); delim = \",\")\n",
    "            push!(input_exp_10, row.I)\n",
    "            push!(output_exp_10, row.O)\n",
    "        end\n",
    "    \n",
    "        for row in CSV.File(datadir(\"experiment/SBA15_interp_8.csv\"); delim = \",\")\n",
    "            push!(input_exp_8, row.I)\n",
    "            push!(output_exp_8, row.O)\n",
    "        end\n",
    "    \n",
    "#    microMesh = Parser.getGrid(projectdir(\"test/catalyst.msh\"))\n",
    "\n",
    "    #Step 2 change the model evaluation\n",
    "    while isempty(es.stop()) \n",
    "        solutions = es.ask() # Returns array of array where inner array holds set of parameters length outer array = N\n",
    "        #Check the syntax here\n",
    "        F = Array{Future}(undef, N*3)\n",
    "        errors = zeros(N*3)\n",
    "        \n",
    "        #Complete the for loop\n",
    "        s = 1\n",
    "        for idx in length(errors)\n",
    "                if idx % 3 == 1\n",
    "                   F[idx] = @spawnat idx+1 (eval_model(solutions[s], w[3], input_exp_12, output_exp_12))\n",
    "                    else if idx % 3 == 2\n",
    "                       F[idx] = @spawnat idx+1 (eval_model(solutions[s], w[2], input_exp_10, output_exp_10))\n",
    "                    else if idx % 3 == 0\n",
    "                       F[idx] = @spawnat idx+1 (eval_model(solutions[s], w[1], input_exp_8, output_exp_8))\n",
    "                       s += 1\n",
    "                end\n",
    "        end\n",
    "       \n",
    "        \n",
    "        # fetch the errors entry \n",
    "        for j in 1:length(errors)\n",
    "            errors[j] = fetch(F[j])\n",
    "        end\n",
    "                \n",
    "        # Reduce the N*3 length array errors to an array of length N (adding up errors)\n",
    "        errors_red = sum.(Iterators.partition(errors,3))\n",
    "                 \n",
    "        es.tell(solutions,errors_red) \n",
    "        #This is only for saving/logging/printing current status\n",
    "        es.logger.add() \n",
    "        es.disp() \n",
    "    end\n",
    "end"
   ]
  },
  {
   "cell_type": "code",
   "execution_count": null,
   "metadata": {},
   "outputs": [
    {
     "name": "stdout",
     "output_type": "stream",
     "text": [
      "(5_w,10)-aCMA-ES (mu_w=3.2,w_1=45%) in dimension 4 (seed=887702, Wed Jul 15 12:44:46 2020)\n",
      "(5_w,10)-aCMA-ES (mu_w=3.2,w_1=45%) in dimension 4 (seed=921962, Wed Jul 15 12:45:16 2020)\n",
      "Iterat #Fevals   function value  axis ratio  sigma  min&max std  t[m:s]\n",
      "    1     10 1.756981385054186e+02 1.0e+00 5.41e-01  5e-01  7e-01 16:39.5\n",
      "    2     20 1.665959450482710e+02 1.5e+00 6.23e-01  5e-01  8e-01 32:31.5\n",
      "    3     30 1.505769499928413e+02 1.7e+00 7.69e-01  6e-01  1e+00 49:01.4\n",
      "    4     40 1.171577622314067e+02 2.1e+00 9.83e-01  8e-01  2e+00 66:24.9\n",
      "    5     50 1.140198538930298e+02 2.5e+00 1.04e+00  8e-01  2e+00 84:31.1\n",
      "    6     60 1.290544130820885e+02 2.1e+00 9.07e-01  7e-01  1e+00 102:35.2\n",
      "    7     70 1.168821184065500e+02 2.1e+00 8.92e-01  6e-01  1e+00 121:26.6\n",
      "    8     80 9.106513294321772e+01 2.2e+00 8.72e-01  6e-01  1e+00 139:54.8\n",
      "    9     90 8.905030212783787e+01 2.4e+00 7.88e-01  5e-01  9e-01 158:33.6\n",
      "   10    100 5.439316169528274e+01 2.2e+00 7.52e-01  5e-01  9e-01 177:10.8\n",
      "   11    110 2.914741519613732e+01 2.5e+00 8.09e-01  4e-01  1e+00 195:54.0\n",
      "   12    120 5.333830361445293e+01 2.8e+00 8.34e-01  4e-01  1e+00 214:59.3\n",
      "   13    130 8.681404866283654e+01 3.2e+00 7.46e-01  3e-01  9e-01 234:17.5\n",
      "   14    140 3.424241452705915e+01 3.1e+00 6.09e-01  3e-01  6e-01 253:17.7\n",
      "   15    150 1.793213096899848e+01 2.8e+00 5.58e-01  2e-01  5e-01 272:04.2\n",
      "   16    160 2.275712544401074e+01 3.1e+00 5.90e-01  2e-01  6e-01 291:07.2\n",
      "   17    170 4.552689694503123e+00 4.0e+00 6.06e-01  2e-01  6e-01 310:19.2\n",
      "   18    180 1.639382247831751e+01 5.0e+00 6.72e-01  2e-01  8e-01 329:48.6\n",
      "   19    190 1.472331008047889e+01 5.8e+00 6.63e-01  2e-01  7e-01 349:27.8\n"
     ]
    }
   ],
   "source": [
    "@time calibrate(cma, N)"
   ]
  },
  {
   "cell_type": "code",
   "execution_count": 12,
   "metadata": {},
   "outputs": [
    {
     "data": {
      "text/plain": [
       "2-element Array{Array{Float64,1},1}:\n",
       " [1.0, 2.0, 3.0]\n",
       " [4.0, 5.0, 6.0]"
      ]
     },
     "execution_count": 12,
     "metadata": {},
     "output_type": "execute_result"
    }
   ],
   "source": [
    "A = [[1.,2,3],[4,5,6]]"
   ]
  },
  {
   "cell_type": "code",
   "execution_count": 73,
   "metadata": {},
   "outputs": [
    {
     "data": {
      "text/plain": [
       "15-element Array{Int64,1}:\n",
       "  1\n",
       "  2\n",
       "  3\n",
       "  4\n",
       "  5\n",
       "  6\n",
       "  7\n",
       "  8\n",
       "  9\n",
       " 10\n",
       " 11\n",
       " 12\n",
       " 13\n",
       " 14\n",
       " 15"
      ]
     },
     "execution_count": 73,
     "metadata": {},
     "output_type": "execute_result"
    }
   ],
   "source": [
    "errors"
   ]
  },
  {
   "cell_type": "code",
   "execution_count": 91,
   "metadata": {},
   "outputs": [
    {
     "data": {
      "text/plain": [
       "5-element Array{Int64,1}:\n",
       "  6\n",
       " 15\n",
       " 24\n",
       " 33\n",
       " 42"
      ]
     },
     "execution_count": 91,
     "metadata": {},
     "output_type": "execute_result"
    }
   ],
   "source": [
    "errors = collect(1:15)\n",
    "errors_red = sum.(Iterators.partition(errors,3))"
   ]
  },
  {
   "cell_type": "code",
   "execution_count": 92,
   "metadata": {},
   "outputs": [
    {
     "data": {
      "text/plain": [
       "1"
      ]
     },
     "execution_count": 92,
     "metadata": {},
     "output_type": "execute_result"
    }
   ],
   "source": []
  },
  {
   "cell_type": "code",
   "execution_count": null,
   "metadata": {},
   "outputs": [],
   "source": []
  }
 ],
 "metadata": {
  "kernelspec": {
   "display_name": "Julia 1.4.1",
   "language": "julia",
   "name": "julia-1.4"
  },
  "language_info": {
   "file_extension": ".jl",
   "mimetype": "application/julia",
   "name": "julia",
   "version": "1.4.1"
  }
 },
 "nbformat": 4,
 "nbformat_minor": 4
}
