{
 "cells": [
  {
   "cell_type": "code",
   "execution_count": 1,
   "metadata": {},
   "outputs": [
    {
     "data": {
      "text/plain": [
       "PyObject <module 'cma' from '/home/mkoehler/.local/lib/python3.8/site-packages/cma/__init__.py'>"
      ]
     },
     "execution_count": 1,
     "metadata": {},
     "output_type": "execute_result"
    }
   ],
   "source": [
    "using PyCall\n",
    "cma = pyimport(\"cma\")"
   ]
  },
  {
   "cell_type": "code",
   "execution_count": 2,
   "metadata": {},
   "outputs": [
    {
     "data": {
      "text/plain": [
       "10-element Array{Int64,1}:\n",
       "  2\n",
       "  3\n",
       "  4\n",
       "  5\n",
       "  6\n",
       "  7\n",
       "  8\n",
       "  9\n",
       " 10\n",
       " 11"
      ]
     },
     "execution_count": 2,
     "metadata": {},
     "output_type": "execute_result"
    }
   ],
   "source": [
    "using Distributed\n",
    "N = 1\n",
    "addprocs(N*3)"
   ]
  },
  {
   "cell_type": "code",
   "execution_count": 6,
   "metadata": {},
   "outputs": [],
   "source": [
    "@everywhere using DrWatson\n",
    "@everywhere @quickactivate :Catalyst"
   ]
  },
  {
   "cell_type": "code",
   "execution_count": 4,
   "metadata": {},
   "outputs": [
    {
     "data": {
      "text/plain": [
       "calibrate (generic function with 1 method)"
      ]
     },
     "execution_count": 4,
     "metadata": {},
     "output_type": "execute_result"
    }
   ],
   "source": [
    "function eval_model(input_args::Array,w::Float, input_exp::Array, output_exp::Array) \n",
    "    try \n",
    "        return Catalyst.solve(input_args[1], input_args[2], 1., \n",
    "                    input_exp, output_exp, progress=false, \n",
    "                    microcomp_type=:nonlinear, \n",
    "                    Q=input_args[3], kₙ=input_args[4], \n",
    "                    calibration=true, w=w)\n",
    "    catch err #in case we loose newton convergence in a microscopic computation \n",
    "        return 1e10\n",
    "    end\n",
    "end\n",
    "\n",
    "function calibrate(cma,N)\n",
    "    w = [8,10,12]\n",
    "    Init = [0.006536800306, 1., 1., 1.] #initial guess\n",
    "    opts = cma.CMAOptions()\n",
    "    opts[\"bounds\"] = [[0, 0, 0, 0], [1, 50, 20, 20]] \n",
    "    opts[\"popsize\"] = N\n",
    "    weights = cma.recombination_weights.RecombinationWeights(N)\n",
    "    opts[\"CMA_recombination_weights\"] = weights\n",
    "    es = cma.CMAEvolutionStrategy(Init, 0.5, opts) \n",
    "    \n",
    "    #Step 1\n",
    "    #Read in all 3 different velocity curves\n",
    "    input_exp = []\n",
    "    output_exp = []\n",
    "    for row in CSV.File(datadir(\"experiment/new-data.csv\"); delim = \" \")\n",
    "        push!(input_exp, row.I)\n",
    "        push!(output_exp, row.O)\n",
    "    end\n",
    "    \n",
    "#    microMesh = Parser.getGrid(projectdir(\"test/catalyst.msh\"))\n",
    "\n",
    "    #Step 2 change the model evaluation\n",
    "    while isempty(es.stop()) \n",
    "        solutions = es.ask() # Returns array of array where inner array holds set of parameters length outer array = N\n",
    "        #Check the syntax here\n",
    "        errors = Array{Future, 1}(undef, N*3)\n",
    "        \n",
    "        #Complete the for loop\n",
    "        for (idx,error) in enumerate(errors)\n",
    "            if idx % 3 == 0\n",
    "               error = @spawnat idx eval_model(solutions[idx], w[idx%3+1], input_exp8, output_exp8)\n",
    "            else if idx % 3 == 1\n",
    "                    .\n",
    "                    .\n",
    "            else if idx % 3 == 2\n",
    "                    .\n",
    "                    .\n",
    "            end\n",
    "        end\n",
    "        \n",
    "        # fetch the errors entry \n",
    "        # ..\n",
    "                \n",
    "        # Reduce the N*3 length array errors to an array of length N (adding up errors)\n",
    "        # ..\n",
    "                \n",
    "        es.tell(solutions,fitness) \n",
    "        #This is only for saving/logging/printing current status\n",
    "        es.logger.add() \n",
    "        es.disp() \n",
    "    end\n",
    "end"
   ]
  },
  {
   "cell_type": "code",
   "execution_count": null,
   "metadata": {},
   "outputs": [
    {
     "name": "stdout",
     "output_type": "stream",
     "text": [
      "(5_w,10)-aCMA-ES (mu_w=3.2,w_1=45%) in dimension 4 (seed=887702, Wed Jul 15 12:44:46 2020)\n",
      "(5_w,10)-aCMA-ES (mu_w=3.2,w_1=45%) in dimension 4 (seed=921962, Wed Jul 15 12:45:16 2020)\n",
      "Iterat #Fevals   function value  axis ratio  sigma  min&max std  t[m:s]\n",
      "    1     10 1.756981385054186e+02 1.0e+00 5.41e-01  5e-01  7e-01 16:39.5\n",
      "    2     20 1.665959450482710e+02 1.5e+00 6.23e-01  5e-01  8e-01 32:31.5\n",
      "    3     30 1.505769499928413e+02 1.7e+00 7.69e-01  6e-01  1e+00 49:01.4\n",
      "    4     40 1.171577622314067e+02 2.1e+00 9.83e-01  8e-01  2e+00 66:24.9\n",
      "    5     50 1.140198538930298e+02 2.5e+00 1.04e+00  8e-01  2e+00 84:31.1\n",
      "    6     60 1.290544130820885e+02 2.1e+00 9.07e-01  7e-01  1e+00 102:35.2\n",
      "    7     70 1.168821184065500e+02 2.1e+00 8.92e-01  6e-01  1e+00 121:26.6\n",
      "    8     80 9.106513294321772e+01 2.2e+00 8.72e-01  6e-01  1e+00 139:54.8\n",
      "    9     90 8.905030212783787e+01 2.4e+00 7.88e-01  5e-01  9e-01 158:33.6\n",
      "   10    100 5.439316169528274e+01 2.2e+00 7.52e-01  5e-01  9e-01 177:10.8\n",
      "   11    110 2.914741519613732e+01 2.5e+00 8.09e-01  4e-01  1e+00 195:54.0\n",
      "   12    120 5.333830361445293e+01 2.8e+00 8.34e-01  4e-01  1e+00 214:59.3\n",
      "   13    130 8.681404866283654e+01 3.2e+00 7.46e-01  3e-01  9e-01 234:17.5\n",
      "   14    140 3.424241452705915e+01 3.1e+00 6.09e-01  3e-01  6e-01 253:17.7\n",
      "   15    150 1.793213096899848e+01 2.8e+00 5.58e-01  2e-01  5e-01 272:04.2\n",
      "   16    160 2.275712544401074e+01 3.1e+00 5.90e-01  2e-01  6e-01 291:07.2\n",
      "   17    170 4.552689694503123e+00 4.0e+00 6.06e-01  2e-01  6e-01 310:19.2\n",
      "   18    180 1.639382247831751e+01 5.0e+00 6.72e-01  2e-01  8e-01 329:48.6\n",
      "   19    190 1.472331008047889e+01 5.8e+00 6.63e-01  2e-01  7e-01 349:27.8\n"
     ]
    }
   ],
   "source": [
    "@time calibrate(cma, N)"
   ]
  }
 ],
 "metadata": {
  "kernelspec": {
   "display_name": "Julia 1.3.1",
   "language": "julia",
   "name": "julia-1.3"
  },
  "language_info": {
   "file_extension": ".jl",
   "mimetype": "application/julia",
   "name": "julia",
   "version": "1.3.1"
  }
 },
 "nbformat": 4,
 "nbformat_minor": 4
}
