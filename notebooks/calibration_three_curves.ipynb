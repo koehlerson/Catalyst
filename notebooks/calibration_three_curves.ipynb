{
 "cells": [
  {
   "cell_type": "code",
   "execution_count": 1,
   "metadata": {},
   "outputs": [
    {
     "data": {
      "text/plain": [
       "15-element Array{Int64,1}:\n",
       "  2\n",
       "  3\n",
       "  4\n",
       "  5\n",
       "  6\n",
       "  7\n",
       "  8\n",
       "  9\n",
       " 10\n",
       " 11\n",
       " 12\n",
       " 13\n",
       " 14\n",
       " 15\n",
       " 16"
      ]
     },
     "execution_count": 1,
     "metadata": {},
     "output_type": "execute_result"
    }
   ],
   "source": [
    "using Distributed\n",
    "N = 5\n",
    "addprocs(N*3)"
   ]
  },
  {
   "cell_type": "code",
   "execution_count": 2,
   "metadata": {},
   "outputs": [
    {
     "data": {
      "text/plain": [
       "16"
      ]
     },
     "execution_count": 2,
     "metadata": {},
     "output_type": "execute_result"
    }
   ],
   "source": [
    "nprocs()"
   ]
  },
  {
   "cell_type": "code",
   "execution_count": 3,
   "metadata": {},
   "outputs": [
    {
     "data": {
      "text/plain": [
       "PyObject <module 'cma' from '/home/mkoehler/.local/lib/python3.8/site-packages/cma/__init__.py'>"
      ]
     },
     "execution_count": 3,
     "metadata": {},
     "output_type": "execute_result"
    }
   ],
   "source": [
    "using PyCall\n",
    "cma = pyimport(\"cma\")"
   ]
  },
  {
   "cell_type": "code",
   "execution_count": 5,
   "metadata": {},
   "outputs": [],
   "source": [
    "@everywhere using DrWatson\n",
    "@everywhere @quickactivate :Catalyst\n",
    "using CSV"
   ]
  },
  {
   "cell_type": "code",
   "execution_count": 37,
   "metadata": {},
   "outputs": [
    {
     "data": {
      "text/plain": [
       "calibrate (generic function with 1 method)"
      ]
     },
     "execution_count": 37,
     "metadata": {},
     "output_type": "execute_result"
    }
   ],
   "source": [
    "@everywhere function eval_model(input_args::Array,w::Float64, input_exp::Array, output_exp::Array) \n",
    "    try \n",
    "        return Catalyst.solve(input_args[1], input_args[2], 1., \n",
    "                    input_exp, output_exp, progress=false, \n",
    "                    microcomp_type=:nonlinear, \n",
    "                    Q=input_args[3], kₙ=input_args[4], \n",
    "                    calibration=true, w=w)\n",
    "    catch err #in case we loose newton convergence in a microscopic computation \n",
    "        return 1e10\n",
    "    end\n",
    "end\n",
    "\n",
    "function calibrate(cma,N)\n",
    "    w = [1.5302e-4*(1/0.37), 1.9128e-4*(1/0.37), 2.2954e-4*(1/0.37)] # Q8, Q10, Q12\n",
    "    Init = [0.006536800306, 1., 1., 1.] #initial guess\n",
    "    opts = cma.CMAOptions()\n",
    "    opts[\"bounds\"] = [[0, 0, 0, 0], [1, 50, 20, 20]] \n",
    "    opts[\"popsize\"] = N\n",
    "    weights = cma.recombination_weights.RecombinationWeights(N)\n",
    "    opts[\"CMA_recombination_weights\"] = weights\n",
    "    es = cma.CMAEvolutionStrategy(Init, 0.5, opts) \n",
    "    \n",
    "    #Step 1\n",
    "    #Read in all 3 different velocity curves\n",
    "    input_exp_12 = []\n",
    "    output_exp_12 = []\n",
    "    input_exp_10 = []\n",
    "    output_exp_10 = []\n",
    "    input_exp_8 = []\n",
    "    output_exp_8 = []\n",
    "    \n",
    "    for row in CSV.File(datadir(\"experiment/SBA15_interp_12.csv\"); delim = \",\")\n",
    "        push!(input_exp_12, row.I)\n",
    "        push!(output_exp_12, row.O)\n",
    "    end\n",
    "    \n",
    "    for row in CSV.File(datadir(\"experiment/SBA15_interp_10.csv\"); delim = \",\")\n",
    "        push!(input_exp_10, row.I)\n",
    "        push!(output_exp_10, row.O)\n",
    "    end\n",
    "    \n",
    "    for row in CSV.File(datadir(\"experiment/SBA15_interp_8.csv\"); delim = \",\")\n",
    "        push!(input_exp_8, row.I)\n",
    "        push!(output_exp_8, row.O)\n",
    "    end\n",
    "    \n",
    "#    microMesh = Parser.getGrid(projectdir(\"test/catalyst.msh\"))\n",
    "\n",
    "    #Step 2 change the model evaluation\n",
    "    while isempty(es.stop()) \n",
    "        solutions = es.ask() # Returns array of array where inner array holds set of parameters length outer array = N\n",
    "        #Check the syntax here\n",
    "        F = Array{Future}(undef, N*3)\n",
    "        errors = zeros(N*3)\n",
    "        \n",
    "        #Complete the for loop\n",
    "        s = 1\n",
    "        for idx in 1:length(errors)\n",
    "            if idx % 3 == 1\n",
    "                F[idx] = @spawnat idx+1 (eval_model(solutions[s], w[3], input_exp_12, output_exp_12))\n",
    "            elseif idx % 3 == 2\n",
    "                F[idx] = @spawnat idx+1 (eval_model(solutions[s], w[2], input_exp_10, output_exp_10))\n",
    "            elseif idx % 3 == 0\n",
    "                F[idx] = @spawnat idx+1 (eval_model(solutions[s], w[1], input_exp_8, output_exp_8))\n",
    "                s += 1\n",
    "            end\n",
    "        end\n",
    "       \n",
    "        \n",
    "        # fetch the errors entry \n",
    "        for i in 1:N*3\n",
    "            errors[i] = fetch(F[i])\n",
    "        end\n",
    "                \n",
    "        # Reduce the N*3 length array errors to an array of length N (adding up errors)\n",
    "        errors_red = sum.(Iterators.partition(errors,3))\n",
    "                 \n",
    "        es.tell(solutions,errors_red) \n",
    "        #This is only for saving/logging/printing current status\n",
    "        es.logger.add() \n",
    "        es.disp() \n",
    "    end\n",
    "return errors_red\n",
    "end"
   ]
  },
  {
   "cell_type": "code",
   "execution_count": 38,
   "metadata": {},
   "outputs": [
    {
     "ename": "UndefRefError",
     "evalue": "UndefRefError: access to undefined reference",
     "output_type": "error",
     "traceback": [
      "UndefRefError: access to undefined reference",
      "",
      "Stacktrace:",
      " [1] getindex at ./array.jl:788 [inlined]",
      " [2] calibrate(::PyObject, ::Int64) at ./In[37]:72",
      " [3] macro expansion at ./util.jl:175 [inlined]",
      " [4] top-level scope at ./In[38]:1"
     ]
    }
   ],
   "source": [
    "@time calibrate(cma, 2)"
   ]
  },
  {
   "cell_type": "code",
   "execution_count": 26,
   "metadata": {},
   "outputs": [
    {
     "name": "stdout",
     "output_type": "stream",
     "text": [
      "      From worker 2:\tfrom processor 2\n",
      "      From worker 4:\tfrom processor 4\n",
      "      From worker 6:\tfrom processor 6\n",
      "      From worker 5:\tfrom processor 5\n",
      "      From worker 3:\tfrom processor 3\n"
     ]
    },
    {
     "ename": "MethodError",
     "evalue": "MethodError: Cannot `convert` an object of type Nothing to an object of type Float64\nClosest candidates are:\n  convert(::Type{T}, !Matched::T) where T<:Number at number.jl:6\n  convert(::Type{T}, !Matched::Number) where T<:Number at number.jl:7\n  convert(::Type{T}, !Matched::Base.TwicePrecision) where T<:Number at twiceprecision.jl:250\n  ...",
     "output_type": "error",
     "traceback": [
      "MethodError: Cannot `convert` an object of type Nothing to an object of type Float64\nClosest candidates are:\n  convert(::Type{T}, !Matched::T) where T<:Number at number.jl:6\n  convert(::Type{T}, !Matched::Number) where T<:Number at number.jl:7\n  convert(::Type{T}, !Matched::Base.TwicePrecision) where T<:Number at twiceprecision.jl:250\n  ...",
      "",
      "Stacktrace:",
      " [1] setindex!(::Array{Float64,1}, ::Nothing, ::Int64) at ./array.jl:826",
      " [2] top-level scope at ./In[26]:11"
     ]
    },
    {
     "name": "stdout",
     "output_type": "stream",
     "text": [
      "      From worker 7:\tfrom processor 7\n"
     ]
    }
   ],
   "source": [
    "using Distributed\n",
    "N = 6\n",
    "##addprocs(N)\n",
    "errors = zeros(N)\n",
    "F = Array{Future}(undef,N)\n",
    "for idx in 1:length(errors)        \n",
    "    F[idx] = @spawnat idx+1 (println(\"from processor \", myid()))                   \n",
    "end\n",
    "\n",
    "for i in 1:N\n",
    "    errors[i] = fetch(F[i])\n",
    "end\n",
    "errors"
   ]
  },
  {
   "cell_type": "code",
   "execution_count": 36,
   "metadata": {},
   "outputs": [
    {
     "name": "stdout",
     "output_type": "stream",
     "text": [
      "(1,2mirr1)-aCMA-ES (mu_w=1.0,w_1=100%) in dimension 4 (seed=969024, Mon Jul 27 18:35:22 2020)\n",
      "Iterat #Fevals   function value  axis ratio  sigma  min&max std  t[m:s]\n",
      "    1      2 3.000000000000000e+10 1.0e+00 4.62e-01  4e-01  5e-01 0:00.0\n"
     ]
    },
    {
     "ename": "UndefVarError",
     "evalue": "UndefVarError: errors_red not defined",
     "output_type": "error",
     "traceback": [
      "UndefVarError: errors_red not defined",
      "",
      "Stacktrace:",
      " [1] calibrate(::PyObject, ::Int64) at ./In[36]:86",
      " [2] macro expansion at ./util.jl:175 [inlined]",
      " [3] top-level scope at ./In[36]:88"
     ]
    }
   ],
   "source": [
    "@everywhere function eval_model(input_args::Array,w::Float64, input_exp::Array, output_exp::Array) \n",
    "    try \n",
    "        return Catalyst.solve(input_args[1], input_args[2], 1., \n",
    "                    input_exp, output_exp, progress=false, \n",
    "                    microcomp_type=:nonlinear, \n",
    "                    Q=input_args[3], kₙ=input_args[4], \n",
    "                    calibration=true, w=w)\n",
    "    catch err #in case we loose newton convergence in a microscopic computation \n",
    "        return 1e10\n",
    "    end\n",
    "end\n",
    "\n",
    "function calibrate(cma,N)\n",
    "    w = [1.5302e-4*(1/0.37), 1.9128e-4*(1/0.37), 2.2954e-4*(1/0.37)] # Q8, Q10, Q12\n",
    "    Init = [0.006536800306, 1., 1., 1.] #initial guess\n",
    "    opts = cma.CMAOptions()\n",
    "    opts[\"bounds\"] = [[0, 0, 0, 0], [1, 50, 20, 20]] \n",
    "    opts[\"popsize\"] = N\n",
    "    weights = cma.recombination_weights.RecombinationWeights(N)\n",
    "    opts[\"CMA_recombination_weights\"] = weights\n",
    "    es = cma.CMAEvolutionStrategy(Init, 0.5, opts) \n",
    "    \n",
    "    #Step 1\n",
    "    #Read in all 3 different velocity curves\n",
    "    input_exp_12 = []\n",
    "    output_exp_12 = []\n",
    "    input_exp_10 = []\n",
    "    output_exp_10 = []\n",
    "    input_exp_8 = []\n",
    "    output_exp_8 = []\n",
    "    \n",
    "        for row in CSV.File(datadir(\"experiment/SBA15_interp_12.csv\"); delim = \",\")\n",
    "            push!(input_exp_12, row.I)\n",
    "            push!(output_exp_12, row.O)\n",
    "        end\n",
    "    \n",
    "        for row in CSV.File(datadir(\"experiment/SBA15_interp_10.csv\"); delim = \",\")\n",
    "            push!(input_exp_10, row.I)\n",
    "            push!(output_exp_10, row.O)\n",
    "        end\n",
    "    \n",
    "        for row in CSV.File(datadir(\"experiment/SBA15_interp_8.csv\"); delim = \",\")\n",
    "            push!(input_exp_8, row.I)\n",
    "            push!(output_exp_8, row.O)\n",
    "        end\n",
    "    \n",
    "#    microMesh = Parser.getGrid(projectdir(\"test/catalyst.msh\"))\n",
    "\n",
    "    #Step 2 change the model evaluation\n",
    "    while isempty(es.stop()) \n",
    "        solutions = es.ask() # Returns array of array where inner array holds set of parameters length outer array = N\n",
    "        #Check the syntax here\n",
    "        F = Array{Future}(undef, N*3)\n",
    "        errors = zeros(N*3)\n",
    "        \n",
    "        #Complete the for loop\n",
    "                   t2 = @spawnat 2 (eval_model(solutions[1], w[3], input_exp_12, output_exp_12))\n",
    "        \n",
    "                   t3 = @spawnat 3 (eval_model(solutions[1], w[2], input_exp_10, output_exp_10))\n",
    "                \n",
    "                   t4 = @spawnat 4 (eval_model(solutions[1], w[1], input_exp_8, output_exp_8))\n",
    "        \n",
    "                   t5 = @spawnat 5 (eval_model(solutions[2], w[3], input_exp_12, output_exp_12))\n",
    "        \n",
    "                   t6 = @spawnat 6 (eval_model(solutions[2], w[2], input_exp_10, output_exp_10))\n",
    "                \n",
    "                   t7 = @spawnat 7 (eval_model(solutions[2], w[1], input_exp_8, output_exp_8))\n",
    "                \n",
    "      \n",
    "        \n",
    "        # fetch the errors entry \n",
    "        errors[1] = fetch(t2)\n",
    "        errors[2] = fetch(t3)\n",
    "        errors[3] = fetch(t4)\n",
    "        errors[4] = fetch(t5)\n",
    "        errors[5] = fetch(t6)\n",
    "        errors[6] = fetch(t7)\n",
    "        # Reduce the N*3 length array errors to an array of length N (adding up errors)\n",
    "        errors_red = sum.(Iterators.partition(errors,3))\n",
    "                 \n",
    "        es.tell(solutions,errors_red) \n",
    "        #This is only for saving/logging/printing current status\n",
    "        es.logger.add() \n",
    "        es.disp() \n",
    "    end\n",
    "return errors_red\n",
    "end\n",
    "@time calibrate(cma,2)"
   ]
  }
 ],
 "metadata": {
  "kernelspec": {
   "display_name": "Julia 1.3.1",
   "language": "julia",
   "name": "julia-1.3"
  },
  "language_info": {
   "file_extension": ".jl",
   "mimetype": "application/julia",
   "name": "julia",
   "version": "1.3.1"
  }
 },
 "nbformat": 4,
 "nbformat_minor": 4
}
