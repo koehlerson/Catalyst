{
 "cells": [
  {
   "cell_type": "code",
   "execution_count": 1,
   "metadata": {},
   "outputs": [
    {
     "data": {
      "text/plain": [
       "15-element Array{Int64,1}:\n",
       "  2\n",
       "  3\n",
       "  4\n",
       "  5\n",
       "  6\n",
       "  7\n",
       "  8\n",
       "  9\n",
       " 10\n",
       " 11\n",
       " 12\n",
       " 13\n",
       " 14\n",
       " 15\n",
       " 16"
      ]
     },
     "execution_count": 1,
     "metadata": {},
     "output_type": "execute_result"
    }
   ],
   "source": [
    "using Distributed\n",
    "N = 5\n",
    "addprocs(N*3)"
   ]
  },
  {
   "cell_type": "code",
   "execution_count": 2,
   "metadata": {},
   "outputs": [
    {
     "data": {
      "text/plain": [
       "16"
      ]
     },
     "execution_count": 2,
     "metadata": {},
     "output_type": "execute_result"
    }
   ],
   "source": [
    "nprocs()"
   ]
  },
  {
   "cell_type": "code",
   "execution_count": 3,
   "metadata": {},
   "outputs": [
    {
     "data": {
      "text/plain": [
       "PyObject <module 'cma' from '/home/mkoehler/.local/lib/python3.8/site-packages/cma/__init__.py'>"
      ]
     },
     "execution_count": 3,
     "metadata": {},
     "output_type": "execute_result"
    }
   ],
   "source": [
    "using PyCall\n",
    "cma = pyimport(\"cma\")"
   ]
  },
  {
   "cell_type": "code",
   "execution_count": null,
   "metadata": {},
   "outputs": [
    {
     "name": "stderr",
     "output_type": "stream",
     "text": [
      "┌ Info: Precompiling Catalyst [01e5440a-74e3-4b45-b8b9-c13ddfc5051b]\n",
      "└ @ Base loading.jl:1273\n"
     ]
    },
    {
     "name": "stdout",
     "output_type": "stream",
     "text": [
      "      From worker 6:\tActivating environment at `~/Repos/advection-diffusion-catalysis/Project.toml`\n",
      "      From worker 8:\tActivating environment at `~/Repos/advection-diffusion-catalysis/Project.toml`\n",
      "      From worker 14:\tActivating environment at `~/Repos/advection-diffusion-catalysis/Project.toml`\n",
      "      From worker 13:\tActivating environment at `~/Repos/advection-diffusion-catalysis/Project.toml`\n",
      "      From worker 7:\tActivating environment at `~/Repos/advection-diffusion-catalysis/Project.toml`\n",
      "      From worker 9:\tActivating environment at `~/Repos/advection-diffusion-catalysis/Project.toml`\n",
      "      From worker 16:\tActivating environment at `~/Repos/advection-diffusion-catalysis/Project.toml`\n",
      "      From worker 15:\tActivating environment at `~/Repos/advection-diffusion-catalysis/Project.toml`\n",
      "      From worker 4:\tActivating environment at `~/Repos/advection-diffusion-catalysis/Project.toml`\n",
      "      From worker 10:\tActivating environment at `~/Repos/advection-diffusion-catalysis/Project.toml`\n",
      "      From worker 5:\tActivating environment at `~/Repos/advection-diffusion-catalysis/Project.toml`\n",
      "      From worker 2:\tActivating environment at `~/Repos/advection-diffusion-catalysis/Project.toml`\n",
      "      From worker 3:\tActivating environment at `~/Repos/advection-diffusion-catalysis/Project.toml`\n",
      "      From worker 12:\tActivating environment at `~/Repos/advection-diffusion-catalysis/Project.toml`\n",
      "      From worker 11:\tActivating environment at `~/Repos/advection-diffusion-catalysis/Project.toml`\n",
      "      From worker 13:\t┌ Warning: The call to compilecache failed to create a usable precompiled cache file for DataFrames [a93c6f00-e57d-5684-b7b6-d8193f3e46c0]\n",
      "      From worker 13:\t│   exception = Required dependency CategoricalArrays [324d7699-5711-5eae-9e2f-1d82baa6b597] failed to load from a cache file.\n",
      "      From worker 13:\t└ @ Base loading.jl:1036\n",
      "      From worker 8:\t┌ Warning: The call to compilecache failed to create a usable precompiled cache file for DataFrames [a93c6f00-e57d-5684-b7b6-d8193f3e46c0]\n",
      "      From worker 8:\t│   exception = Required dependency CategoricalArrays [324d7699-5711-5eae-9e2f-1d82baa6b597] failed to load from a cache file.\n",
      "      From worker 8:\t└ @ Base loading.jl:1036\n",
      "      From worker 12:\t┌ Warning: The call to compilecache failed to create a usable precompiled cache file for DataFrames [a93c6f00-e57d-5684-b7b6-d8193f3e46c0]\n",
      "      From worker 12:\t│   exception = Required dependency CategoricalArrays [324d7699-5711-5eae-9e2f-1d82baa6b597] failed to load from a cache file.\n",
      "      From worker 12:\t└ @ Base loading.jl:1036\n",
      "      From worker 6:\t┌ Warning: The call to compilecache failed to create a usable precompiled cache file for DataFrames [a93c6f00-e57d-5684-b7b6-d8193f3e46c0]\n",
      "      From worker 6:\t│   exception = Required dependency CategoricalArrays [324d7699-5711-5eae-9e2f-1d82baa6b597] failed to load from a cache file.\n",
      "      From worker 6:\t└ @ Base loading.jl:1036\n",
      "      From worker 4:\t┌ Warning: The call to compilecache failed to create a usable precompiled cache file for DataFrames [a93c6f00-e57d-5684-b7b6-d8193f3e46c0]\n",
      "      From worker 4:\t│   exception = Required dependency CategoricalArrays [324d7699-5711-5eae-9e2f-1d82baa6b597] failed to load from a cache file.\n",
      "      From worker 4:\t└ @ Base loading.jl:1036\n",
      "      From worker 14:\t┌ Warning: The call to compilecache failed to create a usable precompiled cache file for DataFrames [a93c6f00-e57d-5684-b7b6-d8193f3e46c0]\n",
      "      From worker 14:\t│   exception = Required dependency CategoricalArrays [324d7699-5711-5eae-9e2f-1d82baa6b597] failed to load from a cache file.\n",
      "      From worker 14:\t└ @ Base loading.jl:1036\n",
      "      From worker 9:\t┌ Warning: The call to compilecache failed to create a usable precompiled cache file for DataFrames [a93c6f00-e57d-5684-b7b6-d8193f3e46c0]\n",
      "      From worker 9:\t│   exception = Required dependency CategoricalArrays [324d7699-5711-5eae-9e2f-1d82baa6b597] failed to load from a cache file.\n",
      "      From worker 9:\t└ @ Base loading.jl:1036\n",
      "      From worker 7:\t┌ Warning: The call to compilecache failed to create a usable precompiled cache file for DataFrames [a93c6f00-e57d-5684-b7b6-d8193f3e46c0]\n",
      "      From worker 7:\t│   exception = Required dependency CategoricalArrays [324d7699-5711-5eae-9e2f-1d82baa6b597] failed to load from a cache file.\n",
      "      From worker 7:\t└ @ Base loading.jl:1036\n",
      "      From worker 15:\t┌ Warning: The call to compilecache failed to create a usable precompiled cache file for DataFrames [a93c6f00-e57d-5684-b7b6-d8193f3e46c0]\n",
      "      From worker 15:\t│   exception = Required dependency CategoricalArrays [324d7699-5711-5eae-9e2f-1d82baa6b597] failed to load from a cache file.\n",
      "      From worker 15:\t└ @ Base loading.jl:1036\n",
      "      From worker 16:\t┌ Warning: The call to compilecache failed to create a usable precompiled cache file for DataFrames [a93c6f00-e57d-5684-b7b6-d8193f3e46c0]\n",
      "      From worker 16:\t│   exception = Required dependency CategoricalArrays [324d7699-5711-5eae-9e2f-1d82baa6b597] failed to load from a cache file.\n",
      "      From worker 16:\t└ @ Base loading.jl:1036\n",
      "      From worker 10:\t┌ Warning: The call to compilecache failed to create a usable precompiled cache file for DataFrames [a93c6f00-e57d-5684-b7b6-d8193f3e46c0]\n",
      "      From worker 10:\t│   exception = Required dependency CategoricalArrays [324d7699-5711-5eae-9e2f-1d82baa6b597] failed to load from a cache file.\n",
      "      From worker 10:\t└ @ Base loading.jl:1036\n",
      "      From worker 5:\t┌ Warning: The call to compilecache failed to create a usable precompiled cache file for DataFrames [a93c6f00-e57d-5684-b7b6-d8193f3e46c0]\n",
      "      From worker 5:\t│   exception = Required dependency CategoricalArrays [324d7699-5711-5eae-9e2f-1d82baa6b597] failed to load from a cache file.\n",
      "      From worker 5:\t└ @ Base loading.jl:1036\n",
      "      From worker 2:\t┌ Warning: The call to compilecache failed to create a usable precompiled cache file for DataFrames [a93c6f00-e57d-5684-b7b6-d8193f3e46c0]\n",
      "      From worker 2:\t│   exception = Required dependency CategoricalArrays [324d7699-5711-5eae-9e2f-1d82baa6b597] failed to load from a cache file.\n",
      "      From worker 2:\t└ @ Base loading.jl:1036\n",
      "      From worker 3:\t┌ Warning: The call to compilecache failed to create a usable precompiled cache file for DataFrames [a93c6f00-e57d-5684-b7b6-d8193f3e46c0]\n",
      "      From worker 3:\t│   exception = Required dependency CategoricalArrays [324d7699-5711-5eae-9e2f-1d82baa6b597] failed to load from a cache file.\n",
      "      From worker 3:\t└ @ Base loading.jl:1036\n",
      "      From worker 11:\t┌ Warning: The call to compilecache failed to create a usable precompiled cache file for DataFrames [a93c6f00-e57d-5684-b7b6-d8193f3e46c0]\n",
      "      From worker 11:\t│   exception = Required dependency CategoricalArrays [324d7699-5711-5eae-9e2f-1d82baa6b597] failed to load from a cache file.\n",
      "      From worker 11:\t└ @ Base loading.jl:1036\n",
      "      From worker 13:\t┌ Warning: Module CategoricalArrays with build ID 1739705437061196 is missing from the cache.\n",
      "      From worker 13:\t│ This may mean CategoricalArrays [324d7699-5711-5eae-9e2f-1d82baa6b597] does not support precompilation but is imported by a module that does.\n",
      "      From worker 13:\t└ @ Base loading.jl:1011\n",
      "      From worker 6:\t┌ Warning: Module CategoricalArrays with build ID 1739705437061196 is missing from the cache.\n",
      "      From worker 6:\t│ This may mean CategoricalArrays [324d7699-5711-5eae-9e2f-1d82baa6b597] does not support precompilation but is imported by a module that does.\n",
      "      From worker 6:\t└ @ Base loading.jl:1011\n",
      "      From worker 14:\t┌ Warning: Module CategoricalArrays with build ID 1739705437061196 is missing from the cache.\n",
      "      From worker 14:\t│ This may mean CategoricalArrays [324d7699-5711-5eae-9e2f-1d82baa6b597] does not support precompilation but is imported by a module that does.\n",
      "      From worker 14:\t└ @ Base loading.jl:1011\n",
      "      From worker 9:\t┌ Warning: Module CategoricalArrays with build ID 1739705437061196 is missing from the cache.\n",
      "      From worker 9:\t│ This may mean CategoricalArrays [324d7699-5711-5eae-9e2f-1d82baa6b597] does not support precompilation but is imported by a module that does.\n",
      "      From worker 9:\t└ @ Base loading.jl:1011\n",
      "      From worker 4:\t┌ Warning: Module CategoricalArrays with build ID 1739705437061196 is missing from the cache.\n",
      "      From worker 4:\t│ This may mean CategoricalArrays [324d7699-5711-5eae-9e2f-1d82baa6b597] does not support precompilation but is imported by a module that does.\n",
      "      From worker 4:\t└ @ Base loading.jl:1011\n",
      "      From worker 12:\t┌ Warning: Module CategoricalArrays with build ID 1739705437061196 is missing from the cache.\n",
      "      From worker 12:\t│ This may mean CategoricalArrays [324d7699-5711-5eae-9e2f-1d82baa6b597] does not support precompilation but is imported by a module that does.\n",
      "      From worker 12:\t└ @ Base loading.jl:1011\n",
      "      From worker 7:\t┌ Warning: Module CategoricalArrays with build ID 1739705437061196 is missing from the cache.\n",
      "      From worker 7:\t│ This may mean CategoricalArrays [324d7699-5711-5eae-9e2f-1d82baa6b597] does not support precompilation but is imported by a module that does.\n",
      "      From worker 7:\t└ @ Base loading.jl:1011\n",
      "      From worker 8:\t┌ Warning: Module CategoricalArrays with build ID 1739705437061196 is missing from the cache.\n",
      "      From worker 8:\t│ This may mean CategoricalArrays [324d7699-5711-5eae-9e2f-1d82baa6b597] does not support precompilation but is imported by a module that does.\n",
      "      From worker 8:\t└ @ Base loading.jl:1011\n",
      "      From worker 15:\t┌ Warning: Module CategoricalArrays with build ID 1739705437061196 is missing from the cache.\n",
      "      From worker 15:\t│ This may mean CategoricalArrays [324d7699-5711-5eae-9e2f-1d82baa6b597] does not support precompilation but is imported by a module that does.\n",
      "      From worker 15:\t└ @ Base loading.jl:1011\n",
      "      From worker 16:\t┌ Warning: Module CategoricalArrays with build ID 1739705437061196 is missing from the cache.\n",
      "      From worker 16:\t│ This may mean CategoricalArrays [324d7699-5711-5eae-9e2f-1d82baa6b597] does not support precompilation but is imported by a module that does.\n",
      "      From worker 16:\t└ @ Base loading.jl:1011\n",
      "      From worker 10:\t┌ Warning: Module CategoricalArrays with build ID 1739705437061196 is missing from the cache.\n",
      "      From worker 10:\t│ This may mean CategoricalArrays [324d7699-5711-5eae-9e2f-1d82baa6b597] does not support precompilation but is imported by a module that does.\n",
      "      From worker 10:\t└ @ Base loading.jl:1011\n",
      "      From worker 2:\t┌ Warning: Module CategoricalArrays with build ID 1739718028221001 is missing from the cache.\n",
      "      From worker 2:\t│ This may mean CategoricalArrays [324d7699-5711-5eae-9e2f-1d82baa6b597] does not support precompilation but is imported by a module that does.\n",
      "      From worker 2:\t└ @ Base loading.jl:1011\n",
      "      From worker 5:\t┌ Warning: Module CategoricalArrays with build ID 1739717749787001 is missing from the cache.\n",
      "      From worker 5:\t│ This may mean CategoricalArrays [324d7699-5711-5eae-9e2f-1d82baa6b597] does not support precompilation but is imported by a module that does.\n",
      "      From worker 5:\t└ @ Base loading.jl:1011\n",
      "      From worker 3:\t┌ Warning: Module CategoricalArrays with build ID 1739718376313295 is missing from the cache.\n",
      "      From worker 3:\t│ This may mean CategoricalArrays [324d7699-5711-5eae-9e2f-1d82baa6b597] does not support precompilation but is imported by a module that does.\n",
      "      From worker 3:\t└ @ Base loading.jl:1011\n",
      "      From worker 11:\t┌ Warning: Module DataFrames with build ID 1739718057382478 is missing from the cache.\n",
      "      From worker 11:\t│ This may mean DataFrames [a93c6f00-e57d-5684-b7b6-d8193f3e46c0] does not support precompilation but is imported by a module that does.\n",
      "      From worker 11:\t└ @ Base loading.jl:1011\n"
     ]
    }
   ],
   "source": [
    "@everywhere using DrWatson\n",
    "@everywhere @quickactivate :Catalyst\n",
    "using CSV"
   ]
  },
  {
   "cell_type": "code",
   "execution_count": 37,
   "metadata": {},
   "outputs": [
    {
     "data": {
      "text/plain": [
       "calibrate (generic function with 1 method)"
      ]
     },
     "execution_count": 37,
     "metadata": {},
     "output_type": "execute_result"
    }
   ],
   "source": [
    "@everywhere function eval_model(input_args::Array,w::Float64, input_exp::Array, output_exp::Array, micromesh) \n",
    "    try \n",
    "        return Catalyst.solve(input_args[1], input_args[2], 1., \n",
    "                    input_exp, output_exp, progress=false, \n",
    "                    microcomp_type=:nonlinear, \n",
    "                    Q=input_args[3], kₙ=input_args[4], \n",
    "                    calibration=true, w=w, micromesh=micromesh)\n",
    "    catch err #in case we loose newton convergence in a microscopic computation \n",
    "        return 1e10\n",
    "    end\n",
    "end\n",
    "\n",
    "function calibrate(cma,N)\n",
    "    w = [1.5302e-4*(1/0.37), 1.9128e-4*(1/0.37), 2.2954e-4*(1/0.37)] # Q8, Q10, Q12\n",
    "    Init = [0.006536800306, 1., 1., 1.] #initial guess\n",
    "    opts = cma.CMAOptions()\n",
    "    opts[\"bounds\"] = [[0, 0, 0, 0], [1, 50, 20, 20]] \n",
    "    opts[\"popsize\"] = N\n",
    "    weights = cma.recombination_weights.RecombinationWeights(N)\n",
    "    opts[\"CMA_recombination_weights\"] = weights\n",
    "    es = cma.CMAEvolutionStrategy(Init, 0.5, opts) \n",
    "    \n",
    "    #Step 1\n",
    "    #Read in all 3 different velocity curves\n",
    "    input_exp_12 = []\n",
    "    output_exp_12 = []\n",
    "    input_exp_10 = []\n",
    "    output_exp_10 = []\n",
    "    input_exp_8 = []\n",
    "    output_exp_8 = []\n",
    "    \n",
    "    for row in CSV.File(datadir(\"experiment/SBA15_interp_12.csv\"); delim = \",\")\n",
    "        push!(input_exp_12, row.I)\n",
    "        push!(output_exp_12, row.O)\n",
    "    end\n",
    "    \n",
    "    for row in CSV.File(datadir(\"experiment/SBA15_interp_10.csv\"); delim = \",\")\n",
    "        push!(input_exp_10, row.I)\n",
    "        push!(output_exp_10, row.O)\n",
    "    end\n",
    "    \n",
    "    for row in CSV.File(datadir(\"experiment/SBA15_interp_8.csv\"); delim = \",\")\n",
    "        push!(input_exp_8, row.I)\n",
    "        push!(output_exp_8, row.O)\n",
    "    end\n",
    "    \n",
    "    n = 6\n",
    "    nels = (5n,2n,n)\n",
    "    S = Vec((0.0,0.0,0.0))\n",
    "    E = Vec((1.0,0.5,0.2))\n",
    "    grid = generate_grid(Tetrahedron, nels, S, E)\n",
    "    faces = union(getfaceset(grid,\"top\"),getfaceset(grid,\"bottom\"),getfaceset(grid,\"left\"),getfaceset(grid,\"right\"),\n",
    "                   getfaceset(grid,\"front\"),getfaceset(grid,\"back\"))\n",
    "    addfaceset!(grid, \"1\", faces)\n",
    "\n",
    "    #Step 2 change the model evaluation\n",
    "    while isempty(es.stop()) \n",
    "        solutions = es.ask() # Returns array of array where inner array holds set of parameters length outer array = N\n",
    "        #Check the syntax here\n",
    "        F = Array{Future}(undef, N*3)\n",
    "        errors = zeros(N*3)\n",
    "        \n",
    "        #Complete the for loop\n",
    "        s = 1\n",
    "        for idx in 1:length(errors)\n",
    "            if idx % 3 == 1\n",
    "                F[idx] = @spawnat idx+1 (eval_model(solutions[s], w[3], input_exp_12, output_exp_12, grid))\n",
    "            elseif idx % 3 == 2\n",
    "                F[idx] = @spawnat idx+1 (eval_model(solutions[s], w[2], input_exp_10, output_exp_10,grid))\n",
    "            elseif idx % 3 == 0\n",
    "                F[idx] = @spawnat idx+1 (eval_model(solutions[s], w[1], input_exp_8, output_exp_8,grid))\n",
    "                s += 1\n",
    "            end\n",
    "        end\n",
    "       \n",
    "        \n",
    "        # fetch the errors entry \n",
    "        for i in 1:N*3\n",
    "            errors[i] = fetch(F[i])\n",
    "        end\n",
    "                \n",
    "        # Reduce the N*3 length array errors to an array of length N (adding up errors)\n",
    "        errors_red = sum.(Iterators.partition(errors,3))\n",
    "                 \n",
    "        es.tell(solutions,errors_red) \n",
    "        #This is only for saving/logging/printing current status\n",
    "        es.logger.add() \n",
    "        es.disp() \n",
    "    end\n",
    "return errors_red\n",
    "end"
   ]
  },
  {
   "cell_type": "code",
   "execution_count": 38,
   "metadata": {},
   "outputs": [
    {
     "ename": "UndefRefError",
     "evalue": "UndefRefError: access to undefined reference",
     "output_type": "error",
     "traceback": [
      "UndefRefError: access to undefined reference",
      "",
      "Stacktrace:",
      " [1] getindex at ./array.jl:788 [inlined]",
      " [2] calibrate(::PyObject, ::Int64) at ./In[37]:72",
      " [3] macro expansion at ./util.jl:175 [inlined]",
      " [4] top-level scope at ./In[38]:1"
     ]
    }
   ],
   "source": [
    "@time calibrate(cma, N)"
   ]
  }
 ],
 "metadata": {
  "kernelspec": {
   "display_name": "Julia 1.3.1",
   "language": "julia",
   "name": "julia-1.3"
  },
  "language_info": {
   "file_extension": ".jl",
   "mimetype": "application/julia",
   "name": "julia",
   "version": "1.3.1"
  }
 },
 "nbformat": 4,
 "nbformat_minor": 4
}
