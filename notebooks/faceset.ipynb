{
 "cells": [
  {
   "cell_type": "code",
   "execution_count": 21,
   "metadata": {},
   "outputs": [
    {
     "data": {
      "text/plain": [
       "Grid{3,Cell{3,4,4},Float64} with 600 Tetrahedron cells and 198 nodes"
      ]
     },
     "execution_count": 21,
     "metadata": {},
     "output_type": "execute_result"
    }
   ],
   "source": [
    "using JuAFEM\n",
    "n = 2\n",
    "nels = (5n, convert(Int,2.5n),n)\n",
    "S = Vec((0.0,0.0,0.0))\n",
    "E = Vec((1.0,0.5,0.2))\n",
    "grid = generate_grid(Tetrahedron, nels, S, E)\n",
    "faces = union(getfaceset(grid,\"top\"),getfaceset(grid,\"bottom\"),getfaceset(grid,\"left\"),getfaceset(grid,\"right\"),\n",
    "           getfaceset(grid,\"front\"),getfaceset(grid,\"back\"))\n",
    "addfaceset!(grid, \"1\", faces)"
   ]
  },
  {
   "cell_type": "code",
   "execution_count": 22,
   "metadata": {},
   "outputs": [
    {
     "data": {
      "text/plain": [
       "1-element Array{String,1}:\n",
       " \"test_grid.vtu\""
      ]
     },
     "execution_count": 22,
     "metadata": {},
     "output_type": "execute_result"
    }
   ],
   "source": [
    "dh = DofHandler(grid)\n",
    "push!(dh, :u, 1) \n",
    "close!(dh)\n",
    "\n",
    "ch = ConstraintHandler(dh)\n",
    "dbc_top = Dirichlet(:u, getfaceset(grid,\"1\"), (x,t) -> 1)\n",
    "add!(ch,dbc_top)\n",
    "close!(ch)\n",
    "\n",
    "vtk = vtk_grid(\"test_grid\", grid)\n",
    "vtk_point_data(vtk, ch)\n",
    "vtk_save(vtk) "
   ]
  }
 ],
 "metadata": {
  "kernelspec": {
   "display_name": "Julia 1.4.2",
   "language": "julia",
   "name": "julia-1.4"
  },
  "language_info": {
   "file_extension": ".jl",
   "mimetype": "application/julia",
   "name": "julia",
   "version": "1.4.2"
  }
 },
 "nbformat": 4,
 "nbformat_minor": 4
}
