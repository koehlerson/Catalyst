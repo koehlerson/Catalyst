{
 "cells": [
  {
   "cell_type": "code",
   "execution_count": 8,
   "metadata": {},
   "outputs": [
    {
     "ename": "UndefVarError",
     "evalue": "UndefVarError: getfacest not defined",
     "output_type": "error",
     "traceback": [
      "UndefVarError: getfacest not defined",
      "",
      "Stacktrace:",
      " [1] top-level scope at In[8]:11"
     ]
    }
   ],
   "source": [
    "using JuAFEM\n",
    "using LinearAlgebra\n",
    "n = 2\n",
    "nels = (10n,n,2n)\n",
    "S = Vec((0.0,0.0,0.0))\n",
    "E = Vec((1.0,0.5,0.2))\n",
    "grid = generate_grid(Tetrahedron, nels, S, E)\n",
    "faces = union(union(getfaceset(grid,\"top\"),getfaceset(grid,\"bottom\")),union(getfaceset(grid,\"left\"),getfaceset(grid,\"right\")),\n",
    "           union(getfaceset(grid,\"front\"),getfaceset(grid,\"back\")))\n",
    "addfaceset!(grid, \"1\", faces)\n",
    "getfacest(grid,\"1\") == faces"
   ]
  },
  {
   "cell_type": "code",
   "execution_count": 9,
   "metadata": {},
   "outputs": [
    {
     "data": {
      "text/plain": [
       "Set{Tuple{Int64,Int64}} with 160 elements:\n",
       "  (756, 3)\n",
       "  (750, 3)\n",
       "  (97, 1)\n",
       "  (81, 1)\n",
       "  (809, 3)\n",
       "  (894, 3)\n",
       "  (223, 1)\n",
       "  (105, 1)\n",
       "  (225, 1)\n",
       "  (9, 1)\n",
       "  (816, 3)\n",
       "  (3, 1)\n",
       "  (25, 1)\n",
       "  (882, 3)\n",
       "  (827, 3)\n",
       "  (45, 1)\n",
       "  (61, 1)\n",
       "  (177, 1)\n",
       "  (726, 3)\n",
       "  (205, 1)\n",
       "  (870, 3)\n",
       "  (863, 3)\n",
       "  (786, 3)\n",
       "  (195, 1)\n",
       "  (159, 1)\n",
       "  ⋮ "
      ]
     },
     "execution_count": 9,
     "metadata": {},
     "output_type": "execute_result"
    }
   ],
   "source": [
    "union(getfaceset(grid,\"top\"),getfaceset(grid,\"bottom\"))"
   ]
  },
  {
   "cell_type": "code",
   "execution_count": null,
   "metadata": {},
   "outputs": [],
   "source": []
  }
 ],
 "metadata": {
  "kernelspec": {
   "display_name": "Julia 1.4.2",
   "language": "julia",
   "name": "julia-1.4"
  },
  "language_info": {
   "file_extension": ".jl",
   "mimetype": "application/julia",
   "name": "julia",
   "version": "1.4.2"
  }
 },
 "nbformat": 4,
 "nbformat_minor": 4
}
