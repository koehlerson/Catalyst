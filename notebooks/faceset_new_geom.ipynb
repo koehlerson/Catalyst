{
 "cells": [
  {
   "cell_type": "code",
   "execution_count": 2,
   "metadata": {},
   "outputs": [],
   "source": [
    "using JuAFEM"
   ]
  },
  {
   "cell_type": "code",
   "execution_count": 19,
   "metadata": {},
   "outputs": [
    {
     "data": {
      "text/plain": [
       "Grid{3,Cell{3,4,4},Float64} with 20580 Tetrahedron cells and 4320 nodes"
      ]
     },
     "execution_count": 19,
     "metadata": {},
     "output_type": "execute_result"
    }
   ],
   "source": [
    "L = 1.0\n",
    "W = 0.5\n",
    "H = 0.2\n",
    "n = 7 #this deoendes on you if you want the mesh fine or coarse \n",
    "nb_elements = (5n,2n,n) #the number of elements in each direction \n",
    "S = Vec(0.0,0.0,0.0) #the starting point of the grid \n",
    "E = Vec(L,W,H) #the end point of the grid \n",
    "grid = generate_grid(Tetrahedron,nb_elements,S,E)"
   ]
  },
  {
   "cell_type": "code",
   "execution_count": 20,
   "metadata": {},
   "outputs": [
    {
     "data": {
      "text/plain": [
       "Set(Tuple{Int64,Int64}[(3044, 1), (20082, 3), (325, 1), (14530, 3), (18755, 3), (19613, 3), (18000, 3), (19439, 3), (3991, 4), (18276, 3)  …  (3781, 4), (19013, 3), (11891, 1), (2245, 1), (19625, 3), (2439, 1), (19908, 3), (1209, 1), (2431, 1), (1705, 1)])"
      ]
     },
     "execution_count": 20,
     "metadata": {},
     "output_type": "execute_result"
    }
   ],
   "source": [
    "faces = union(getfaceset(grid,\"top\"),getfaceset(grid,\"bottom\"),getfaceset(grid,\"left\"),\n",
    "              getfaceset(grid,\"right\"),getfaceset(grid,\"front\"),getfaceset(grid,\"back\"))"
   ]
  },
  {
   "cell_type": "code",
   "execution_count": 21,
   "metadata": {},
   "outputs": [
    {
     "data": {
      "text/plain": [
       "Grid{3,Cell{3,4,4},Float64} with 20580 Tetrahedron cells and 4320 nodes"
      ]
     },
     "execution_count": 21,
     "metadata": {},
     "output_type": "execute_result"
    }
   ],
   "source": [
    "addfaceset!(grid,\"1\",faces)"
   ]
  },
  {
   "cell_type": "code",
   "execution_count": 22,
   "metadata": {},
   "outputs": [
    {
     "data": {
      "text/plain": [
       "Set(Tuple{Int64,Int64}[(3044, 1), (20082, 3), (325, 1), (14530, 3), (18755, 3), (19613, 3), (18000, 3), (19439, 3), (3991, 4), (18276, 3)  …  (3781, 4), (19013, 3), (11891, 1), (2245, 1), (19625, 3), (2439, 1), (19908, 3), (1209, 1), (2431, 1), (1705, 1)])"
      ]
     },
     "execution_count": 22,
     "metadata": {},
     "output_type": "execute_result"
    }
   ],
   "source": [
    "getfaceset(grid,\"1\")"
   ]
  },
  {
   "cell_type": "code",
<<<<<<< HEAD
   "execution_count": 16,
=======
   "execution_count": 23,
>>>>>>> 280b1ac8447271464c8d5bf88bd1f64b202c3887
   "metadata": {},
   "outputs": [
    {
     "data": {
      "text/plain": [
<<<<<<< HEAD
       "true"
      ]
     },
     "execution_count": 16,
=======
       "1-element Array{String,1}:\n",
       " \"test_grid.vtu\""
      ]
     },
     "execution_count": 23,
>>>>>>> 280b1ac8447271464c8d5bf88bd1f64b202c3887
     "metadata": {},
     "output_type": "execute_result"
    }
   ],
   "source": [
<<<<<<< HEAD
    "getfaceset(grid,\"1\") == faces"
=======
    "dh = DofHandler(grid)\n",
    "push!(dh, :u, 1) \n",
    "close!(dh)\n",
    "\n",
    "ch = ConstraintHandler(dh)\n",
    "dbc_bottom = Dirichlet(:u, getfaceset(grid,\"1\"), (x,t) -> 1)\n",
    "add!(ch,dbc_bottom)\n",
    "close!(ch)\n",
    "\n",
    "vtk = vtk_grid(\"test_grid\", grid)\n",
    "vtk_point_data(vtk, ch)\n",
    "vtk_save(vtk) "
>>>>>>> 280b1ac8447271464c8d5bf88bd1f64b202c3887
   ]
  },
  {
   "cell_type": "code",
   "execution_count": null,
   "metadata": {},
   "outputs": [],
   "source": []
  }
 ],
 "metadata": {
  "kernelspec": {
   "display_name": "Julia 1.3.1",
   "language": "julia",
   "name": "julia-1.3"
  },
  "language_info": {
   "file_extension": ".jl",
   "mimetype": "application/julia",
   "name": "julia",
   "version": "1.3.1"
  }
 },
 "nbformat": 4,
 "nbformat_minor": 4
}
