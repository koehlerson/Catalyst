{
 "cells": [
  {
   "cell_type": "code",
   "execution_count": 2,
   "metadata": {},
   "outputs": [],
   "source": [
    "using JuAFEM\n",
    "using LinearAlgebra"
   ]
  },
  {
   "cell_type": "code",
   "execution_count": 6,
   "metadata": {},
   "outputs": [
    {
     "data": {
      "text/plain": [
       "Grid{3,Cell{3,4,4},Float64} with 960 Tetrahedron cells and 315 nodes"
      ]
     },
     "execution_count": 6,
     "metadata": {},
     "output_type": "execute_result"
    }
   ],
   "source": [
    "L = 1.0\n",
    "W = 0.5\n",
    "H = 0.2\n",
    "n = 2 #this deoendes on you if you want the mesh fine or coarse \n",
    "nb_elements = (10n,n,2n) #the number of elements in each direction \n",
    "S = Vec(0.0,0.0,0.0) #the starting point of the grid \n",
    "E = Vec(L,W,H) #the end point of the grid \n",
    "grid = generate_grid(Tetrahedron,nb_elements,S,E)"
   ]
  },
  {
   "cell_type": "code",
   "execution_count": 10,
   "metadata": {},
   "outputs": [
    {
     "data": {
      "text/plain": [
       "Set{Tuple{Int64,Int64}} with 512 elements:\n",
       "  (97, 1)\n",
       "  (225, 3)\n",
       "  (290, 1)\n",
       "  (35, 1)\n",
       "  (442, 3)\n",
       "  (178, 3)\n",
       "  (9, 1)\n",
       "  (480, 1)\n",
       "  (816, 3)\n",
       "  (882, 3)\n",
       "  (332, 1)\n",
       "  (59, 1)\n",
       "  (405, 3)\n",
       "  (154, 3)\n",
       "  (903, 3)\n",
       "  (761, 1)\n",
       "  (870, 3)\n",
       "  (863, 3)\n",
       "  (92, 1)\n",
       "  (862, 3)\n",
       "  (183, 3)\n",
       "  (388, 3)\n",
       "  (207, 3)\n",
       "  (791, 3)\n",
       "  (142, 3)\n",
       "  ⋮ "
      ]
     },
     "execution_count": 10,
     "metadata": {},
     "output_type": "execute_result"
    }
   ],
   "source": [
    "faces = union(getfaceset(grid,\"top\"),getfaceset(grid,\"bottom\"),getfaceset(grid,\"left\"),\n",
    "              getfaceset(grid,\"right\"),getfaceset(grid,\"front\"),getfaceset(grid,\"back\"))"
   ]
  },
  {
   "cell_type": "code",
   "execution_count": null,
   "metadata": {},
   "outputs": [],
   "source": []
  }
 ],
 "metadata": {
  "kernelspec": {
   "display_name": "Julia 1.4.2",
   "language": "julia",
   "name": "julia-1.4"
  },
  "language_info": {
   "file_extension": ".jl",
   "mimetype": "application/julia",
   "name": "julia",
   "version": "1.4.2"
  }
 },
 "nbformat": 4,
 "nbformat_minor": 4
}
