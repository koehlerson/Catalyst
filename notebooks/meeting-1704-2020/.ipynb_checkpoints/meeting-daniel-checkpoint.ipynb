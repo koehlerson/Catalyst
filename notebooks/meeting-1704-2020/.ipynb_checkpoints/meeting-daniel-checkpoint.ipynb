{
 "cells": [
  {
   "cell_type": "code",
   "execution_count": 51,
   "metadata": {
    "jupyter": {
     "source_hidden": true
    }
   },
   "outputs": [
    {
     "name": "stdout",
     "output_type": "stream",
     "text": [
      "\u001b[32m\u001b[1mActivating\u001b[22m\u001b[39m environment at `~/repos/advection-diffusion-catalysis/Project.toml`\n"
     ]
    }
   ],
   "source": [
    "using DrWatson\n",
    "quickactivate(\"../../\")\n",
    "using Catalyst\n",
    "using PGFPlotsX"
   ]
  },
  {
   "cell_type": "markdown",
   "metadata": {},
   "source": [
    "\n",
    "## Model\n",
    "note macro with overbar\n",
    "\n",
    "The macro field is described by the following set of equation\n",
    "$$\\dfrac{\\partial c}{\\partial t} = \\nabla \\cdot (\\boldsymbol{D} \\nabla c) - \\nabla \\cdot (\\boldsymbol{w} c)+R \\quad \\text{on} \\quad \\Omega$$\n",
    "$$c(t) = \\text{experiment}(t) \\quad \\text{on} \\quad \\partial\\Omega$$\n",
    "\n",
    "whereas the absorption term $R$ is defined as\n",
    "$$R:=k\\cdot c_{\\Gamma}$$\n",
    "\n",
    "and $c_{\\Gamma}$ is the result of a computation that is based on a micro field $c_i$\n",
    "$$c_{\\Gamma} := \\int_{\\partial \\Omega_i} \\boldsymbol{D}_i \\nabla c_i\\cdot \\boldsymbol{n} \\text{ dA}$$\n",
    "\n",
    "$c_i$ is obtained from a micro computation within each quadrature point, described by the following PDE\n",
    "$$k_{\\Gamma} \\dfrac{\\partial c_i}{\\partial t} = \\nabla \\cdot (\\boldsymbol{D}_i \\nabla c_i) \\quad \\text{on} \\quad \\Omega_i$$\n",
    "$$c_i(t) = c(t) \\quad \\text{on} \\quad \\partial\\Omega_i$$\n",
    "\n",
    "So, in total the same amount of parameters, i.e. $k_{\\Gamma}, k, \\boldsymbol{D_i}$, however the flexibility to discretize any kind of catalyst\n",
    "\n",
    "Fitted with\n",
    "\n",
    "| errror       |  $7.279\\cdot 10^{-2}$       |\n",
    "|--------------|---------------------------|\n",
    "| $D_i$        | $\\approx 6\\cdot 10^{-14}$ |\n",
    "| $k$          | $3.21$                    |\n",
    "| $k_{\\Gamma}$ |  $9.6626$                 |\n"
   ]
  },
  {
   "cell_type": "code",
   "execution_count": 65,
   "metadata": {
    "jupyter": {
     "source_hidden": true
    }
   },
   "outputs": [
    {
     "name": "stdout",
     "output_type": "stream",
     "text": [
      "Iterat Nfevals  function value    axis ratio maxstd  minstd\n",
      "    1      8 4.06881012764589e+01 1.0e+00 9.51e+00 7.83e+00\n",
      "    2     16 3.26699777751165e+01 1.3e+00 7.38e+00 6.10e+00\n",
      "   71    568 7.28014049312536e-02 1.3e+02 3.42e-02 3.50e-04\n",
      "   72    576 7.27944278761363e-02 1.8e+02 2.66e-02 2.40e-04\n",
      "   73    584 7.27947304096100e-02 2.0e+02 2.49e-02 2.11e-04\n",
      "Iterat Nfevals  function value    axis ratio maxstd  minstd\n",
      "   68    544 7.27943183437124e-02 1.1e+02 4.35e-02 5.73e-04\n"
     ]
    }
   ],
   "source": [
    "using PyCall\n",
    "cma = pyimport(\"cma\")\n",
    "logger = cma.CMADataLogger(datadir(\"simulation/calibration/outcmaes-justSource-averagevelocity/\")).load()\n",
    "logger.plot_all()\n",
    "logger.disp()"
   ]
  },
  {
   "cell_type": "markdown",
   "metadata": {},
   "source": [
    "Tested to drop $k_{\\Gamma}$, such that its only a 2 parameter model ($k, D_i$). Current best fit:\n",
    "\n",
    "| errror       |  $1.598\\cdot 10^{-1}$     |\n",
    "|--------------|---------------------------|\n",
    "| $D_i$        | $\\approx 6\\cdot 10^{-15}$ |\n",
    "| $k$          | $30.9$                    |\n",
    "\n",
    "### Neue Notation für Parameter\n",
    "$k$ (Semi-Analytic Micro-Macro Model GAMM 2020 $k_{\\Gamma}$)\n",
    "\n",
    "## Upcoming Tasks\n",
    "* Model reduction for micro problem"
   ]
  },
  {
   "cell_type": "code",
   "execution_count": null,
   "metadata": {
    "jupyter": {
     "source_hidden": true
    }
   },
   "outputs": [],
   "source": []
  },
  {
   "cell_type": "code",
   "execution_count": 3,
   "metadata": {
    "jupyter": {
     "source_hidden": true
    }
   },
   "outputs": [],
   "source": [
    "input_exp = []; output_exp = []\n",
    "for row in CSV.File(datadir(\"experiment/new-data.csv\"); delim=\" \")\n",
    "    push!(input_exp, row.I)\n",
    "    push!(output_exp, row.O)\n",
    "end"
   ]
  },
  {
   "cell_type": "code",
   "execution_count": 35,
   "metadata": {
    "jupyter": {
     "source_hidden": true
    }
   },
   "outputs": [
    {
     "name": "stderr",
     "output_type": "stream",
     "text": [
      "\u001b[32mmacro-scale progress...100%|████████████████████████████| Time: 0:06:46\u001b[39m\n"
     ]
    }
   ],
   "source": [
    "c_over_time, load_vector = Catalyst.solve(0.00636928, 3.2122695, 9.6626874, input_exp, output_exp);"
   ]
  },
  {
   "cell_type": "code",
   "execution_count": 1,
   "metadata": {},
   "outputs": [
    {
     "ename": "UndefVarError",
     "evalue": "UndefVarError: input_exp not defined",
     "output_type": "error",
     "traceback": [
      "UndefVarError: input_exp not defined",
      "",
      "Stacktrace:",
      " [1] top-level scope at In[1]:1"
     ]
    }
   ],
   "source": [
    "# no marks und farbenblind farben \n",
    "t_exp_in = Table([1:1000, input_exp[1:1000]]);\n",
    "t_exp_out = Table([1:1000, output_exp[1:1000]]);\n",
    "t_concentration = Table([1:1000, getindex.(c_over_time,101)]);\n",
    "@pgf Axis({width=600, height=400, \n",
    "            xlabel=\"time \\$t\\$ in \\$(s)\\$\",ylabel=\"concentration \\$c\\$ in (mol/m\\$^3)\\$\",\n",
    "            xlabel_style= {font = raw\"\\Large\"},\n",
    "            ylabel_style= {font = raw\"\\Large\"},\n",
    "            legend_style= {font = raw\"\\Large\"},\n",
    "            yticklabel_style= {font = raw\"\\Large\"},\n",
    "            xticklabel_style= {font = raw\"\\Large\"},\n",
    "            ymax=1.05, ymin=-0.05,\n",
    "            xmax=1010, xmin=-10,\n",
    "            xtick=\"{0,100,200,300,400,500,600,700,800,900,1000}\",\n",
    "            legend_pos=\"south east\"},\n",
    "        PlotInc({nomark, mark_repeat=50, ultra_thick},\n",
    "                t_exp_in),\n",
    "        LegendEntry(\"Exp. In.\"),\n",
    "        PlotInc({nomark, mark_repeat=50, ultra_thick},\n",
    "                t_exp_out),\n",
    "        LegendEntry(\"Exp. Out.\"),\n",
    "        PlotInc({mark=\"triangle\", mark_repeat=50, color=\"teal\", ultra_thick}, t_concentration),\n",
    "        LegendEntry(\"Simulation\"),\n",
    "    )"
   ]
  },
  {
   "cell_type": "markdown",
   "metadata": {},
   "source": [
    "![Animation](c-multiscalePDE.gif) ![Animation](R-multiscalePDE.gif)"
   ]
  },
  {
   "cell_type": "markdown",
   "metadata": {},
   "source": [
    "![Animation](catalyst.gif) ![Animation](c-over-radius.gif)"
   ]
  },
  {
   "cell_type": "markdown",
   "metadata": {},
   "source": [
    "Best case:\n",
    "* numerics paper\n",
    "* combo paper\n",
    "\n"
   ]
  },
  {
   "cell_type": "code",
   "execution_count": null,
   "metadata": {},
   "outputs": [],
   "source": []
  }
 ],
 "metadata": {
  "kernelspec": {
   "display_name": "Julia 1.3.1",
   "language": "julia",
   "name": "julia-1.3"
  },
  "language_info": {
   "file_extension": ".jl",
   "mimetype": "application/julia",
   "name": "julia",
   "version": "1.3.1"
  }
 },
 "nbformat": 4,
 "nbformat_minor": 4
}
