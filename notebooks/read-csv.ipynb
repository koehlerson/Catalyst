{
 "cells": [
  {
   "cell_type": "code",
   "execution_count": 67,
   "metadata": {},
   "outputs": [
    {
     "name": "stderr",
     "output_type": "stream",
     "text": [
      "┌ Info: Precompiling Plots [91a5bcdd-55d7-5caf-9e0b-520d859cae80]\n",
      "└ @ Base loading.jl:1278\n",
      "ERROR: LoadError: InitError: UndefVarError: register_error_hint not defined\n",
      "Stacktrace:\n",
      " [1] register_hints() at /home/max/.julia/packages/ColorTypes/vfl08/src/error_hints.jl:4\n",
      " [2] __init__() at /home/max/.julia/packages/ColorTypes/vfl08/src/ColorTypes.jl:89\n",
      " [3] top-level scope at none:2\n",
      " [4] eval at ./boot.jl:331 [inlined]\n",
      "during initialization of module ColorTypes\n",
      "in expression starting at /home/max/.julia/packages/GeometryTypes/4bgJU/src/GeometryTypes.jl:4\n",
      "ERROR: LoadError: Failed to precompile GeometryTypes [4d00f742-c7ba-57c2-abde-4428a4b178cb] to /home/max/.julia/compiled/v1.5/GeometryTypes/OuQ1Z_Ulo5O.ji.\n",
      "Stacktrace:\n",
      " [1] top-level scope at none:2\n",
      " [2] eval at ./boot.jl:331 [inlined]\n",
      "in expression starting at /home/max/.julia/packages/Plots/cc8wh/src/Plots.jl:7\n"
     ]
    },
    {
     "ename": "LoadError",
     "evalue": "Failed to precompile Plots [91a5bcdd-55d7-5caf-9e0b-520d859cae80] to /home/max/.julia/compiled/v1.5/Plots/ld3vC_Ulo5O.ji.",
     "output_type": "error",
     "traceback": [
      "Failed to precompile Plots [91a5bcdd-55d7-5caf-9e0b-520d859cae80] to /home/max/.julia/compiled/v1.5/Plots/ld3vC_Ulo5O.ji.",
      "",
      "Stacktrace:",
      " [1] compilecache(::Base.PkgId, ::String) at ./loading.jl:1305",
      " [2] _require(::Base.PkgId) at ./loading.jl:1030",
      " [3] require(::Base.PkgId) at ./loading.jl:928",
      " [4] require(::Module, ::Symbol) at ./loading.jl:923"
     ]
    }
   ],
   "source": [
    "using CSV\n",
    "using DrWatson\n",
    "using DataFrames\n",
    "using Interpolations\n",
    "using Plots"
   ]
  },
  {
   "cell_type": "code",
   "execution_count": 79,
   "metadata": {},
   "outputs": [],
   "source": [
    "file = CSV.File(datadir(\"experiment/SBA15_water_acetonitrile_init_all.csv\"), delim=\",\");"
   ]
  },
  {
   "cell_type": "code",
   "execution_count": 80,
   "metadata": {},
   "outputs": [
    {
     "data": {
      "text/plain": [
       "501-element Array{Int64,1}:\n",
       "    0\n",
       "    2\n",
       "    4\n",
       "    6\n",
       "    8\n",
       "   10\n",
       "   12\n",
       "   14\n",
       "   16\n",
       "   18\n",
       "   20\n",
       "   22\n",
       "   24\n",
       "    ⋮\n",
       "  978\n",
       "  980\n",
       "  982\n",
       "  984\n",
       "  986\n",
       "  988\n",
       "  990\n",
       "  992\n",
       "  994\n",
       "  996\n",
       "  998\n",
       " 1000"
      ]
     },
     "execution_count": 80,
     "metadata": {},
     "output_type": "execute_result"
    }
   ],
   "source": [
    "O_12_filtered = convert(Array{Float64,1},filter(x -> !isa(x,Missing),file.O_12))\n",
    "O_10_filtered = convert(Array{Float64,1},filter(x -> !isa(x,Missing),file.O_10))\n",
    "O_8_filtered = convert(Array{Float64,1},filter(x -> !isa(x,Missing),file.O_8))\n",
    "t_O_filtered = convert(Array{Int64,1},filter(x -> !isa(x,Missing),file.t_O))"
   ]
  },
  {
   "cell_type": "code",
   "execution_count": 81,
   "metadata": {},
   "outputs": [],
   "source": [
    "interp_linear_12 = LinearInterpolation(t_O_filtered, O_12_filtered);\n",
    "interp_linear_10 = LinearInterpolation(t_O_filtered, O_10_filtered);\n",
    "interp_linear_8 = LinearInterpolation(t_O_filtered, O_8_filtered);"
   ]
  },
  {
   "cell_type": "code",
   "execution_count": 83,
   "metadata": {},
   "outputs": [
    {
     "data": {
      "text/plain": [
       "1001-element Array{Float64,1}:\n",
       " 0.0\n",
       " 0.000565\n",
       " 0.00113\n",
       " 0.001375\n",
       " 0.00162\n",
       " 0.00162\n",
       " 0.00162\n",
       " 0.00162\n",
       " 0.00162\n",
       " 0.0018599999999999999\n",
       " 0.0021\n",
       " 0.0018599999999999999\n",
       " 0.00162\n",
       " ⋮\n",
       " 0.98478\n",
       " 0.98478\n",
       " 0.98478\n",
       " 0.98478\n",
       " 0.98478\n",
       " 0.98478\n",
       " 0.98478\n",
       " 0.98478\n",
       " 0.98478\n",
       " 0.98478\n",
       " 0.98478\n",
       " 0.98478"
      ]
     },
     "execution_count": 83,
     "metadata": {},
     "output_type": "execute_result"
    }
   ],
   "source": [
    "int_O_12 = [interp_linear_12(t) for t in file.t_I]\n",
    "int_O_10 = [interp_linear_10(t) for t in file.t_I]\n",
    "int_O_8 = [interp_linear_8(t) for t in file.t_I]"
   ]
  },
  {
   "cell_type": "code",
   "execution_count": 84,
   "metadata": {},
   "outputs": [
    {
     "data": {
      "text/html": [
       "<table class=\"data-frame\"><thead><tr><th></th><th>time</th><th>Input_12</th><th>Input_10</th><th>Input_8</th><th>Output_12</th><th>Output_10</th><th>Output_8</th></tr><tr><th></th><th>Int64</th><th>Float64</th><th>Float64</th><th>Float64</th><th>Float64</th><th>Float64</th><th>Float64</th></tr></thead><tbody><p>1,001 rows × 7 columns</p><tr><th>1</th><td>0</td><td>1.51e-5</td><td>1.52e-5</td><td>1.53e-5</td><td>0.0041</td><td>0.00105</td><td>0.0</td></tr><tr><th>2</th><td>1</td><td>1.53e-5</td><td>1.54e-5</td><td>1.55e-5</td><td>0.004175</td><td>0.001275</td><td>0.000565</td></tr><tr><th>3</th><td>2</td><td>1.56e-5</td><td>1.56e-5</td><td>1.57e-5</td><td>0.00425</td><td>0.0015</td><td>0.00113</td></tr><tr><th>4</th><td>3</td><td>1.59e-5</td><td>1.59e-5</td><td>1.58e-5</td><td>0.004095</td><td>0.0015</td><td>0.001375</td></tr><tr><th>5</th><td>4</td><td>1.62e-5</td><td>1.61e-5</td><td>1.6e-5</td><td>0.00394</td><td>0.0015</td><td>0.00162</td></tr><tr><th>6</th><td>5</td><td>1.65e-5</td><td>1.64e-5</td><td>1.62e-5</td><td>0.00386</td><td>0.001275</td><td>0.00162</td></tr><tr><th>7</th><td>6</td><td>1.68e-5</td><td>1.66e-5</td><td>1.64e-5</td><td>0.00378</td><td>0.00105</td><td>0.00162</td></tr><tr><th>8</th><td>7</td><td>1.72e-5</td><td>1.69e-5</td><td>1.67e-5</td><td>0.003625</td><td>0.001275</td><td>0.00162</td></tr><tr><th>9</th><td>8</td><td>1.75e-5</td><td>1.72e-5</td><td>1.69e-5</td><td>0.00347</td><td>0.0015</td><td>0.00162</td></tr><tr><th>10</th><td>9</td><td>1.79e-5</td><td>1.75e-5</td><td>1.71e-5</td><td>0.003545</td><td>0.0015</td><td>0.00186</td></tr><tr><th>11</th><td>10</td><td>1.83e-5</td><td>1.78e-5</td><td>1.74e-5</td><td>0.00362</td><td>0.0015</td><td>0.0021</td></tr><tr><th>12</th><td>11</td><td>1.87e-5</td><td>1.81e-5</td><td>1.76e-5</td><td>0.0037</td><td>0.001725</td><td>0.00186</td></tr><tr><th>13</th><td>12</td><td>1.92e-5</td><td>1.85e-5</td><td>1.78e-5</td><td>0.00378</td><td>0.00195</td><td>0.00162</td></tr><tr><th>14</th><td>13</td><td>1.96e-5</td><td>1.88e-5</td><td>1.81e-5</td><td>0.00378</td><td>0.00195</td><td>0.001375</td></tr><tr><th>15</th><td>14</td><td>2.01e-5</td><td>1.92e-5</td><td>1.84e-5</td><td>0.00378</td><td>0.00195</td><td>0.00113</td></tr><tr><th>16</th><td>15</td><td>2.06e-5</td><td>1.96e-5</td><td>1.87e-5</td><td>0.00386</td><td>0.0015</td><td>0.001375</td></tr><tr><th>17</th><td>16</td><td>2.11e-5</td><td>2.0e-5</td><td>1.89e-5</td><td>0.00394</td><td>0.00105</td><td>0.00162</td></tr><tr><th>18</th><td>17</td><td>2.17e-5</td><td>2.04e-5</td><td>1.92e-5</td><td>0.00331</td><td>0.00105</td><td>0.001375</td></tr><tr><th>19</th><td>18</td><td>2.23e-5</td><td>2.08e-5</td><td>1.95e-5</td><td>0.00268</td><td>0.00105</td><td>0.00113</td></tr><tr><th>20</th><td>19</td><td>2.29e-5</td><td>2.13e-5</td><td>1.99e-5</td><td>0.002995</td><td>0.00105</td><td>0.00113</td></tr><tr><th>21</th><td>20</td><td>2.36e-5</td><td>2.18e-5</td><td>2.02e-5</td><td>0.00331</td><td>0.00105</td><td>0.00113</td></tr><tr><th>22</th><td>21</td><td>2.42e-5</td><td>2.23e-5</td><td>2.05e-5</td><td>0.003465</td><td>0.001275</td><td>0.001375</td></tr><tr><th>23</th><td>22</td><td>2.5e-5</td><td>2.28e-5</td><td>2.09e-5</td><td>0.00362</td><td>0.0015</td><td>0.00162</td></tr><tr><th>24</th><td>23</td><td>2.57e-5</td><td>2.33e-5</td><td>2.12e-5</td><td>0.003385</td><td>0.001275</td><td>0.00162</td></tr><tr><th>25</th><td>24</td><td>2.65e-5</td><td>2.39e-5</td><td>2.16e-5</td><td>0.00315</td><td>0.00105</td><td>0.00162</td></tr><tr><th>26</th><td>25</td><td>2.73e-5</td><td>2.44e-5</td><td>2.2e-5</td><td>0.00331</td><td>0.001275</td><td>0.001375</td></tr><tr><th>27</th><td>26</td><td>2.82e-5</td><td>2.51e-5</td><td>2.24e-5</td><td>0.00347</td><td>0.0015</td><td>0.00113</td></tr><tr><th>28</th><td>27</td><td>2.91e-5</td><td>2.57e-5</td><td>2.28e-5</td><td>0.00323</td><td>0.0015</td><td>0.00113</td></tr><tr><th>29</th><td>28</td><td>3.01e-5</td><td>2.63e-5</td><td>2.32e-5</td><td>0.00299</td><td>0.0015</td><td>0.00113</td></tr><tr><th>30</th><td>29</td><td>3.11e-5</td><td>2.7e-5</td><td>2.37e-5</td><td>0.00299</td><td>0.0015</td><td>0.001375</td></tr><tr><th>&vellip;</th><td>&vellip;</td><td>&vellip;</td><td>&vellip;</td><td>&vellip;</td><td>&vellip;</td><td>&vellip;</td><td>&vellip;</td></tr></tbody></table>"
      ],
      "text/latex": [
       "\\begin{tabular}{r|ccccccc}\n",
       "\t& time & Input\\_12 & Input\\_10 & Input\\_8 & Output\\_12 & Output\\_10 & Output\\_8\\\\\n",
       "\t\\hline\n",
       "\t& Int64 & Float64 & Float64 & Float64 & Float64 & Float64 & Float64\\\\\n",
       "\t\\hline\n",
       "\t1 & 0 & 1.51e-5 & 1.52e-5 & 1.53e-5 & 0.0041 & 0.00105 & 0.0 \\\\\n",
       "\t2 & 1 & 1.53e-5 & 1.54e-5 & 1.55e-5 & 0.004175 & 0.001275 & 0.000565 \\\\\n",
       "\t3 & 2 & 1.56e-5 & 1.56e-5 & 1.57e-5 & 0.00425 & 0.0015 & 0.00113 \\\\\n",
       "\t4 & 3 & 1.59e-5 & 1.59e-5 & 1.58e-5 & 0.004095 & 0.0015 & 0.001375 \\\\\n",
       "\t5 & 4 & 1.62e-5 & 1.61e-5 & 1.6e-5 & 0.00394 & 0.0015 & 0.00162 \\\\\n",
       "\t6 & 5 & 1.65e-5 & 1.64e-5 & 1.62e-5 & 0.00386 & 0.001275 & 0.00162 \\\\\n",
       "\t7 & 6 & 1.68e-5 & 1.66e-5 & 1.64e-5 & 0.00378 & 0.00105 & 0.00162 \\\\\n",
       "\t8 & 7 & 1.72e-5 & 1.69e-5 & 1.67e-5 & 0.003625 & 0.001275 & 0.00162 \\\\\n",
       "\t9 & 8 & 1.75e-5 & 1.72e-5 & 1.69e-5 & 0.00347 & 0.0015 & 0.00162 \\\\\n",
       "\t10 & 9 & 1.79e-5 & 1.75e-5 & 1.71e-5 & 0.003545 & 0.0015 & 0.00186 \\\\\n",
       "\t11 & 10 & 1.83e-5 & 1.78e-5 & 1.74e-5 & 0.00362 & 0.0015 & 0.0021 \\\\\n",
       "\t12 & 11 & 1.87e-5 & 1.81e-5 & 1.76e-5 & 0.0037 & 0.001725 & 0.00186 \\\\\n",
       "\t13 & 12 & 1.92e-5 & 1.85e-5 & 1.78e-5 & 0.00378 & 0.00195 & 0.00162 \\\\\n",
       "\t14 & 13 & 1.96e-5 & 1.88e-5 & 1.81e-5 & 0.00378 & 0.00195 & 0.001375 \\\\\n",
       "\t15 & 14 & 2.01e-5 & 1.92e-5 & 1.84e-5 & 0.00378 & 0.00195 & 0.00113 \\\\\n",
       "\t16 & 15 & 2.06e-5 & 1.96e-5 & 1.87e-5 & 0.00386 & 0.0015 & 0.001375 \\\\\n",
       "\t17 & 16 & 2.11e-5 & 2.0e-5 & 1.89e-5 & 0.00394 & 0.00105 & 0.00162 \\\\\n",
       "\t18 & 17 & 2.17e-5 & 2.04e-5 & 1.92e-5 & 0.00331 & 0.00105 & 0.001375 \\\\\n",
       "\t19 & 18 & 2.23e-5 & 2.08e-5 & 1.95e-5 & 0.00268 & 0.00105 & 0.00113 \\\\\n",
       "\t20 & 19 & 2.29e-5 & 2.13e-5 & 1.99e-5 & 0.002995 & 0.00105 & 0.00113 \\\\\n",
       "\t21 & 20 & 2.36e-5 & 2.18e-5 & 2.02e-5 & 0.00331 & 0.00105 & 0.00113 \\\\\n",
       "\t22 & 21 & 2.42e-5 & 2.23e-5 & 2.05e-5 & 0.003465 & 0.001275 & 0.001375 \\\\\n",
       "\t23 & 22 & 2.5e-5 & 2.28e-5 & 2.09e-5 & 0.00362 & 0.0015 & 0.00162 \\\\\n",
       "\t24 & 23 & 2.57e-5 & 2.33e-5 & 2.12e-5 & 0.003385 & 0.001275 & 0.00162 \\\\\n",
       "\t25 & 24 & 2.65e-5 & 2.39e-5 & 2.16e-5 & 0.00315 & 0.00105 & 0.00162 \\\\\n",
       "\t26 & 25 & 2.73e-5 & 2.44e-5 & 2.2e-5 & 0.00331 & 0.001275 & 0.001375 \\\\\n",
       "\t27 & 26 & 2.82e-5 & 2.51e-5 & 2.24e-5 & 0.00347 & 0.0015 & 0.00113 \\\\\n",
       "\t28 & 27 & 2.91e-5 & 2.57e-5 & 2.28e-5 & 0.00323 & 0.0015 & 0.00113 \\\\\n",
       "\t29 & 28 & 3.01e-5 & 2.63e-5 & 2.32e-5 & 0.00299 & 0.0015 & 0.00113 \\\\\n",
       "\t30 & 29 & 3.11e-5 & 2.7e-5 & 2.37e-5 & 0.00299 & 0.0015 & 0.001375 \\\\\n",
       "\t$\\dots$ & $\\dots$ & $\\dots$ & $\\dots$ & $\\dots$ & $\\dots$ & $\\dots$ & $\\dots$ \\\\\n",
       "\\end{tabular}\n"
      ],
      "text/plain": [
       "1001×7 DataFrame. Omitted printing of 1 columns\n",
       "│ Row  │ time  │ Input_12 │ Input_10 │ Input_8 │ Output_12 │ Output_10 │\n",
       "│      │ \u001b[90mInt64\u001b[39m │ \u001b[90mFloat64\u001b[39m  │ \u001b[90mFloat64\u001b[39m  │ \u001b[90mFloat64\u001b[39m │ \u001b[90mFloat64\u001b[39m   │ \u001b[90mFloat64\u001b[39m   │\n",
       "├──────┼───────┼──────────┼──────────┼─────────┼───────────┼───────────┤\n",
       "│ 1    │ 0     │ 1.51e-5  │ 1.52e-5  │ 1.53e-5 │ 0.0041    │ 0.00105   │\n",
       "│ 2    │ 1     │ 1.53e-5  │ 1.54e-5  │ 1.55e-5 │ 0.004175  │ 0.001275  │\n",
       "│ 3    │ 2     │ 1.56e-5  │ 1.56e-5  │ 1.57e-5 │ 0.00425   │ 0.0015    │\n",
       "│ 4    │ 3     │ 1.59e-5  │ 1.59e-5  │ 1.58e-5 │ 0.004095  │ 0.0015    │\n",
       "│ 5    │ 4     │ 1.62e-5  │ 1.61e-5  │ 1.6e-5  │ 0.00394   │ 0.0015    │\n",
       "│ 6    │ 5     │ 1.65e-5  │ 1.64e-5  │ 1.62e-5 │ 0.00386   │ 0.001275  │\n",
       "│ 7    │ 6     │ 1.68e-5  │ 1.66e-5  │ 1.64e-5 │ 0.00378   │ 0.00105   │\n",
       "│ 8    │ 7     │ 1.72e-5  │ 1.69e-5  │ 1.67e-5 │ 0.003625  │ 0.001275  │\n",
       "│ 9    │ 8     │ 1.75e-5  │ 1.72e-5  │ 1.69e-5 │ 0.00347   │ 0.0015    │\n",
       "│ 10   │ 9     │ 1.79e-5  │ 1.75e-5  │ 1.71e-5 │ 0.003545  │ 0.0015    │\n",
       "⋮\n",
       "│ 991  │ 990   │ 0.98089  │ 0.98089  │ 0.98089 │ 0.9959    │ 0.99775   │\n",
       "│ 992  │ 991   │ 0.98089  │ 0.98089  │ 0.98089 │ 0.9959    │ 0.99775   │\n",
       "│ 993  │ 992   │ 0.98089  │ 0.98089  │ 0.98089 │ 0.9959    │ 0.99775   │\n",
       "│ 994  │ 993   │ 0.98089  │ 0.98089  │ 0.98089 │ 0.9959    │ 0.99775   │\n",
       "│ 995  │ 994   │ 0.98089  │ 0.98089  │ 0.98089 │ 0.9959    │ 0.99775   │\n",
       "│ 996  │ 995   │ 0.98089  │ 0.98089  │ 0.98089 │ 0.9959    │ 0.99775   │\n",
       "│ 997  │ 996   │ 0.98089  │ 0.98089  │ 0.98089 │ 0.9959    │ 0.99775   │\n",
       "│ 998  │ 997   │ 0.98089  │ 0.98089  │ 0.98089 │ 0.9959    │ 0.99775   │\n",
       "│ 999  │ 998   │ 0.98089  │ 0.98089  │ 0.98089 │ 0.9959    │ 0.99775   │\n",
       "│ 1000 │ 999   │ 0.98089  │ 0.98089  │ 0.98089 │ 0.9959    │ 0.99775   │\n",
       "│ 1001 │ 1000  │ 0.98089  │ 0.98089  │ 0.98089 │ 0.9959    │ 0.99775   │"
      ]
     },
     "execution_count": 84,
     "metadata": {},
     "output_type": "execute_result"
    }
   ],
   "source": [
    "df1 = DataFrame(time = file.t_I, Input_12 = file.I_12, Input_10 = file.I_10, Input_8 = file.I_8, Output_12 = int_O_12, Output_10 = int_O_10, Output_8 = int_O_8)"
   ]
  },
  {
   "cell_type": "code",
   "execution_count": 85,
   "metadata": {},
   "outputs": [
    {
     "data": {
      "text/plain": [
       "\"/home/max/repos/advection-diffusion-catalysis/data/experiment/SBA15_water_acetonitrile_interp_all.csv\""
      ]
     },
     "execution_count": 85,
     "metadata": {},
     "output_type": "execute_result"
    }
   ],
   "source": [
    "CSV.write(datadir(\"experiment/SBA15_water_acetonitrile_interp_all.csv\"),df1)"
   ]
  },
  {
   "cell_type": "code",
   "execution_count": 86,
   "metadata": {},
   "outputs": [
    {
     "data": {
      "text/html": [
       "<table class=\"data-frame\"><thead><tr><th></th><th>T</th><th>I</th><th>O</th></tr><tr><th></th><th>Int64</th><th>Float64</th><th>Float64</th></tr></thead><tbody><p>1,001 rows × 3 columns</p><tr><th>1</th><td>0</td><td>1.51e-5</td><td>0.0041</td></tr><tr><th>2</th><td>1</td><td>1.53e-5</td><td>0.004175</td></tr><tr><th>3</th><td>2</td><td>1.56e-5</td><td>0.00425</td></tr><tr><th>4</th><td>3</td><td>1.59e-5</td><td>0.004095</td></tr><tr><th>5</th><td>4</td><td>1.62e-5</td><td>0.00394</td></tr><tr><th>6</th><td>5</td><td>1.65e-5</td><td>0.00386</td></tr><tr><th>7</th><td>6</td><td>1.68e-5</td><td>0.00378</td></tr><tr><th>8</th><td>7</td><td>1.72e-5</td><td>0.003625</td></tr><tr><th>9</th><td>8</td><td>1.75e-5</td><td>0.00347</td></tr><tr><th>10</th><td>9</td><td>1.79e-5</td><td>0.003545</td></tr><tr><th>11</th><td>10</td><td>1.83e-5</td><td>0.00362</td></tr><tr><th>12</th><td>11</td><td>1.87e-5</td><td>0.0037</td></tr><tr><th>13</th><td>12</td><td>1.92e-5</td><td>0.00378</td></tr><tr><th>14</th><td>13</td><td>1.96e-5</td><td>0.00378</td></tr><tr><th>15</th><td>14</td><td>2.01e-5</td><td>0.00378</td></tr><tr><th>16</th><td>15</td><td>2.06e-5</td><td>0.00386</td></tr><tr><th>17</th><td>16</td><td>2.11e-5</td><td>0.00394</td></tr><tr><th>18</th><td>17</td><td>2.17e-5</td><td>0.00331</td></tr><tr><th>19</th><td>18</td><td>2.23e-5</td><td>0.00268</td></tr><tr><th>20</th><td>19</td><td>2.29e-5</td><td>0.002995</td></tr><tr><th>21</th><td>20</td><td>2.36e-5</td><td>0.00331</td></tr><tr><th>22</th><td>21</td><td>2.42e-5</td><td>0.003465</td></tr><tr><th>23</th><td>22</td><td>2.5e-5</td><td>0.00362</td></tr><tr><th>24</th><td>23</td><td>2.57e-5</td><td>0.003385</td></tr><tr><th>25</th><td>24</td><td>2.65e-5</td><td>0.00315</td></tr><tr><th>26</th><td>25</td><td>2.73e-5</td><td>0.00331</td></tr><tr><th>27</th><td>26</td><td>2.82e-5</td><td>0.00347</td></tr><tr><th>28</th><td>27</td><td>2.91e-5</td><td>0.00323</td></tr><tr><th>29</th><td>28</td><td>3.01e-5</td><td>0.00299</td></tr><tr><th>30</th><td>29</td><td>3.11e-5</td><td>0.00299</td></tr><tr><th>&vellip;</th><td>&vellip;</td><td>&vellip;</td><td>&vellip;</td></tr></tbody></table>"
      ],
      "text/latex": [
       "\\begin{tabular}{r|ccc}\n",
       "\t& T & I & O\\\\\n",
       "\t\\hline\n",
       "\t& Int64 & Float64 & Float64\\\\\n",
       "\t\\hline\n",
       "\t1 & 0 & 1.51e-5 & 0.0041 \\\\\n",
       "\t2 & 1 & 1.53e-5 & 0.004175 \\\\\n",
       "\t3 & 2 & 1.56e-5 & 0.00425 \\\\\n",
       "\t4 & 3 & 1.59e-5 & 0.004095 \\\\\n",
       "\t5 & 4 & 1.62e-5 & 0.00394 \\\\\n",
       "\t6 & 5 & 1.65e-5 & 0.00386 \\\\\n",
       "\t7 & 6 & 1.68e-5 & 0.00378 \\\\\n",
       "\t8 & 7 & 1.72e-5 & 0.003625 \\\\\n",
       "\t9 & 8 & 1.75e-5 & 0.00347 \\\\\n",
       "\t10 & 9 & 1.79e-5 & 0.003545 \\\\\n",
       "\t11 & 10 & 1.83e-5 & 0.00362 \\\\\n",
       "\t12 & 11 & 1.87e-5 & 0.0037 \\\\\n",
       "\t13 & 12 & 1.92e-5 & 0.00378 \\\\\n",
       "\t14 & 13 & 1.96e-5 & 0.00378 \\\\\n",
       "\t15 & 14 & 2.01e-5 & 0.00378 \\\\\n",
       "\t16 & 15 & 2.06e-5 & 0.00386 \\\\\n",
       "\t17 & 16 & 2.11e-5 & 0.00394 \\\\\n",
       "\t18 & 17 & 2.17e-5 & 0.00331 \\\\\n",
       "\t19 & 18 & 2.23e-5 & 0.00268 \\\\\n",
       "\t20 & 19 & 2.29e-5 & 0.002995 \\\\\n",
       "\t21 & 20 & 2.36e-5 & 0.00331 \\\\\n",
       "\t22 & 21 & 2.42e-5 & 0.003465 \\\\\n",
       "\t23 & 22 & 2.5e-5 & 0.00362 \\\\\n",
       "\t24 & 23 & 2.57e-5 & 0.003385 \\\\\n",
       "\t25 & 24 & 2.65e-5 & 0.00315 \\\\\n",
       "\t26 & 25 & 2.73e-5 & 0.00331 \\\\\n",
       "\t27 & 26 & 2.82e-5 & 0.00347 \\\\\n",
       "\t28 & 27 & 2.91e-5 & 0.00323 \\\\\n",
       "\t29 & 28 & 3.01e-5 & 0.00299 \\\\\n",
       "\t30 & 29 & 3.11e-5 & 0.00299 \\\\\n",
       "\t$\\dots$ & $\\dots$ & $\\dots$ & $\\dots$ \\\\\n",
       "\\end{tabular}\n"
      ],
      "text/plain": [
       "1001×3 DataFrame\n",
       "│ Row  │ T     │ I       │ O        │\n",
       "│      │ \u001b[90mInt64\u001b[39m │ \u001b[90mFloat64\u001b[39m │ \u001b[90mFloat64\u001b[39m  │\n",
       "├──────┼───────┼─────────┼──────────┤\n",
       "│ 1    │ 0     │ 1.51e-5 │ 0.0041   │\n",
       "│ 2    │ 1     │ 1.53e-5 │ 0.004175 │\n",
       "│ 3    │ 2     │ 1.56e-5 │ 0.00425  │\n",
       "│ 4    │ 3     │ 1.59e-5 │ 0.004095 │\n",
       "│ 5    │ 4     │ 1.62e-5 │ 0.00394  │\n",
       "│ 6    │ 5     │ 1.65e-5 │ 0.00386  │\n",
       "│ 7    │ 6     │ 1.68e-5 │ 0.00378  │\n",
       "│ 8    │ 7     │ 1.72e-5 │ 0.003625 │\n",
       "│ 9    │ 8     │ 1.75e-5 │ 0.00347  │\n",
       "│ 10   │ 9     │ 1.79e-5 │ 0.003545 │\n",
       "⋮\n",
       "│ 991  │ 990   │ 0.98089 │ 0.9959   │\n",
       "│ 992  │ 991   │ 0.98089 │ 0.9959   │\n",
       "│ 993  │ 992   │ 0.98089 │ 0.9959   │\n",
       "│ 994  │ 993   │ 0.98089 │ 0.9959   │\n",
       "│ 995  │ 994   │ 0.98089 │ 0.9959   │\n",
       "│ 996  │ 995   │ 0.98089 │ 0.9959   │\n",
       "│ 997  │ 996   │ 0.98089 │ 0.9959   │\n",
       "│ 998  │ 997   │ 0.98089 │ 0.9959   │\n",
       "│ 999  │ 998   │ 0.98089 │ 0.9959   │\n",
       "│ 1000 │ 999   │ 0.98089 │ 0.9959   │\n",
       "│ 1001 │ 1000  │ 0.98089 │ 0.9959   │"
      ]
     },
     "execution_count": 86,
     "metadata": {},
     "output_type": "execute_result"
    }
   ],
   "source": [
    "df2 = DataFrame(T = file.t_I, I = file.I_12, O = int_O_12)"
   ]
  },
  {
   "cell_type": "code",
   "execution_count": 87,
   "metadata": {},
   "outputs": [
    {
     "data": {
      "text/plain": [
       "\"/home/max/repos/advection-diffusion-catalysis/data/experiment/SBA15_water_acetonitrile_interp_12.csv\""
      ]
     },
     "execution_count": 87,
     "metadata": {},
     "output_type": "execute_result"
    }
   ],
   "source": [
    "CSV.write(datadir(\"experiment/SBA15_water_acetonitrile_interp_12.csv\"),df2)"
   ]
  },
  {
   "cell_type": "code",
   "execution_count": 88,
   "metadata": {},
   "outputs": [
    {
     "data": {
      "text/html": [
       "<table class=\"data-frame\"><thead><tr><th></th><th>T</th><th>I</th><th>O</th></tr><tr><th></th><th>Int64</th><th>Float64</th><th>Float64</th></tr></thead><tbody><p>1,001 rows × 3 columns</p><tr><th>1</th><td>0</td><td>1.52e-5</td><td>0.00105</td></tr><tr><th>2</th><td>1</td><td>1.54e-5</td><td>0.001275</td></tr><tr><th>3</th><td>2</td><td>1.56e-5</td><td>0.0015</td></tr><tr><th>4</th><td>3</td><td>1.59e-5</td><td>0.0015</td></tr><tr><th>5</th><td>4</td><td>1.61e-5</td><td>0.0015</td></tr><tr><th>6</th><td>5</td><td>1.64e-5</td><td>0.001275</td></tr><tr><th>7</th><td>6</td><td>1.66e-5</td><td>0.00105</td></tr><tr><th>8</th><td>7</td><td>1.69e-5</td><td>0.001275</td></tr><tr><th>9</th><td>8</td><td>1.72e-5</td><td>0.0015</td></tr><tr><th>10</th><td>9</td><td>1.75e-5</td><td>0.0015</td></tr><tr><th>11</th><td>10</td><td>1.78e-5</td><td>0.0015</td></tr><tr><th>12</th><td>11</td><td>1.81e-5</td><td>0.001725</td></tr><tr><th>13</th><td>12</td><td>1.85e-5</td><td>0.00195</td></tr><tr><th>14</th><td>13</td><td>1.88e-5</td><td>0.00195</td></tr><tr><th>15</th><td>14</td><td>1.92e-5</td><td>0.00195</td></tr><tr><th>16</th><td>15</td><td>1.96e-5</td><td>0.0015</td></tr><tr><th>17</th><td>16</td><td>2.0e-5</td><td>0.00105</td></tr><tr><th>18</th><td>17</td><td>2.04e-5</td><td>0.00105</td></tr><tr><th>19</th><td>18</td><td>2.08e-5</td><td>0.00105</td></tr><tr><th>20</th><td>19</td><td>2.13e-5</td><td>0.00105</td></tr><tr><th>21</th><td>20</td><td>2.18e-5</td><td>0.00105</td></tr><tr><th>22</th><td>21</td><td>2.23e-5</td><td>0.001275</td></tr><tr><th>23</th><td>22</td><td>2.28e-5</td><td>0.0015</td></tr><tr><th>24</th><td>23</td><td>2.33e-5</td><td>0.001275</td></tr><tr><th>25</th><td>24</td><td>2.39e-5</td><td>0.00105</td></tr><tr><th>26</th><td>25</td><td>2.44e-5</td><td>0.001275</td></tr><tr><th>27</th><td>26</td><td>2.51e-5</td><td>0.0015</td></tr><tr><th>28</th><td>27</td><td>2.57e-5</td><td>0.0015</td></tr><tr><th>29</th><td>28</td><td>2.63e-5</td><td>0.0015</td></tr><tr><th>30</th><td>29</td><td>2.7e-5</td><td>0.0015</td></tr><tr><th>&vellip;</th><td>&vellip;</td><td>&vellip;</td><td>&vellip;</td></tr></tbody></table>"
      ],
      "text/latex": [
       "\\begin{tabular}{r|ccc}\n",
       "\t& T & I & O\\\\\n",
       "\t\\hline\n",
       "\t& Int64 & Float64 & Float64\\\\\n",
       "\t\\hline\n",
       "\t1 & 0 & 1.52e-5 & 0.00105 \\\\\n",
       "\t2 & 1 & 1.54e-5 & 0.001275 \\\\\n",
       "\t3 & 2 & 1.56e-5 & 0.0015 \\\\\n",
       "\t4 & 3 & 1.59e-5 & 0.0015 \\\\\n",
       "\t5 & 4 & 1.61e-5 & 0.0015 \\\\\n",
       "\t6 & 5 & 1.64e-5 & 0.001275 \\\\\n",
       "\t7 & 6 & 1.66e-5 & 0.00105 \\\\\n",
       "\t8 & 7 & 1.69e-5 & 0.001275 \\\\\n",
       "\t9 & 8 & 1.72e-5 & 0.0015 \\\\\n",
       "\t10 & 9 & 1.75e-5 & 0.0015 \\\\\n",
       "\t11 & 10 & 1.78e-5 & 0.0015 \\\\\n",
       "\t12 & 11 & 1.81e-5 & 0.001725 \\\\\n",
       "\t13 & 12 & 1.85e-5 & 0.00195 \\\\\n",
       "\t14 & 13 & 1.88e-5 & 0.00195 \\\\\n",
       "\t15 & 14 & 1.92e-5 & 0.00195 \\\\\n",
       "\t16 & 15 & 1.96e-5 & 0.0015 \\\\\n",
       "\t17 & 16 & 2.0e-5 & 0.00105 \\\\\n",
       "\t18 & 17 & 2.04e-5 & 0.00105 \\\\\n",
       "\t19 & 18 & 2.08e-5 & 0.00105 \\\\\n",
       "\t20 & 19 & 2.13e-5 & 0.00105 \\\\\n",
       "\t21 & 20 & 2.18e-5 & 0.00105 \\\\\n",
       "\t22 & 21 & 2.23e-5 & 0.001275 \\\\\n",
       "\t23 & 22 & 2.28e-5 & 0.0015 \\\\\n",
       "\t24 & 23 & 2.33e-5 & 0.001275 \\\\\n",
       "\t25 & 24 & 2.39e-5 & 0.00105 \\\\\n",
       "\t26 & 25 & 2.44e-5 & 0.001275 \\\\\n",
       "\t27 & 26 & 2.51e-5 & 0.0015 \\\\\n",
       "\t28 & 27 & 2.57e-5 & 0.0015 \\\\\n",
       "\t29 & 28 & 2.63e-5 & 0.0015 \\\\\n",
       "\t30 & 29 & 2.7e-5 & 0.0015 \\\\\n",
       "\t$\\dots$ & $\\dots$ & $\\dots$ & $\\dots$ \\\\\n",
       "\\end{tabular}\n"
      ],
      "text/plain": [
       "1001×3 DataFrame\n",
       "│ Row  │ T     │ I       │ O        │\n",
       "│      │ \u001b[90mInt64\u001b[39m │ \u001b[90mFloat64\u001b[39m │ \u001b[90mFloat64\u001b[39m  │\n",
       "├──────┼───────┼─────────┼──────────┤\n",
       "│ 1    │ 0     │ 1.52e-5 │ 0.00105  │\n",
       "│ 2    │ 1     │ 1.54e-5 │ 0.001275 │\n",
       "│ 3    │ 2     │ 1.56e-5 │ 0.0015   │\n",
       "│ 4    │ 3     │ 1.59e-5 │ 0.0015   │\n",
       "│ 5    │ 4     │ 1.61e-5 │ 0.0015   │\n",
       "│ 6    │ 5     │ 1.64e-5 │ 0.001275 │\n",
       "│ 7    │ 6     │ 1.66e-5 │ 0.00105  │\n",
       "│ 8    │ 7     │ 1.69e-5 │ 0.001275 │\n",
       "│ 9    │ 8     │ 1.72e-5 │ 0.0015   │\n",
       "│ 10   │ 9     │ 1.75e-5 │ 0.0015   │\n",
       "⋮\n",
       "│ 991  │ 990   │ 0.98089 │ 0.99775  │\n",
       "│ 992  │ 991   │ 0.98089 │ 0.99775  │\n",
       "│ 993  │ 992   │ 0.98089 │ 0.99775  │\n",
       "│ 994  │ 993   │ 0.98089 │ 0.99775  │\n",
       "│ 995  │ 994   │ 0.98089 │ 0.99775  │\n",
       "│ 996  │ 995   │ 0.98089 │ 0.99775  │\n",
       "│ 997  │ 996   │ 0.98089 │ 0.99775  │\n",
       "│ 998  │ 997   │ 0.98089 │ 0.99775  │\n",
       "│ 999  │ 998   │ 0.98089 │ 0.99775  │\n",
       "│ 1000 │ 999   │ 0.98089 │ 0.99775  │\n",
       "│ 1001 │ 1000  │ 0.98089 │ 0.99775  │"
      ]
     },
     "execution_count": 88,
     "metadata": {},
     "output_type": "execute_result"
    }
   ],
   "source": [
    "df3 = DataFrame(T = file.t_I, I = file.I_10, O = int_O_10)"
   ]
  },
  {
   "cell_type": "code",
   "execution_count": 89,
   "metadata": {},
   "outputs": [
    {
     "data": {
      "text/plain": [
       "\"/home/max/repos/advection-diffusion-catalysis/data/experiment/SBA15_water_acetonitrile_interp_10.csv\""
      ]
     },
     "execution_count": 89,
     "metadata": {},
     "output_type": "execute_result"
    }
   ],
   "source": [
    "CSV.write(datadir(\"experiment/SBA15_water_acetonitrile_interp_10.csv\"),df3)"
   ]
  },
  {
   "cell_type": "code",
   "execution_count": 90,
   "metadata": {},
   "outputs": [
    {
     "data": {
      "text/html": [
       "<table class=\"data-frame\"><thead><tr><th></th><th>T</th><th>I</th><th>O</th></tr><tr><th></th><th>Int64</th><th>Float64</th><th>Float64</th></tr></thead><tbody><p>1,001 rows × 3 columns</p><tr><th>1</th><td>0</td><td>1.53e-5</td><td>0.0</td></tr><tr><th>2</th><td>1</td><td>1.55e-5</td><td>0.000565</td></tr><tr><th>3</th><td>2</td><td>1.57e-5</td><td>0.00113</td></tr><tr><th>4</th><td>3</td><td>1.58e-5</td><td>0.001375</td></tr><tr><th>5</th><td>4</td><td>1.6e-5</td><td>0.00162</td></tr><tr><th>6</th><td>5</td><td>1.62e-5</td><td>0.00162</td></tr><tr><th>7</th><td>6</td><td>1.64e-5</td><td>0.00162</td></tr><tr><th>8</th><td>7</td><td>1.67e-5</td><td>0.00162</td></tr><tr><th>9</th><td>8</td><td>1.69e-5</td><td>0.00162</td></tr><tr><th>10</th><td>9</td><td>1.71e-5</td><td>0.00186</td></tr><tr><th>11</th><td>10</td><td>1.74e-5</td><td>0.0021</td></tr><tr><th>12</th><td>11</td><td>1.76e-5</td><td>0.00186</td></tr><tr><th>13</th><td>12</td><td>1.78e-5</td><td>0.00162</td></tr><tr><th>14</th><td>13</td><td>1.81e-5</td><td>0.001375</td></tr><tr><th>15</th><td>14</td><td>1.84e-5</td><td>0.00113</td></tr><tr><th>16</th><td>15</td><td>1.87e-5</td><td>0.001375</td></tr><tr><th>17</th><td>16</td><td>1.89e-5</td><td>0.00162</td></tr><tr><th>18</th><td>17</td><td>1.92e-5</td><td>0.001375</td></tr><tr><th>19</th><td>18</td><td>1.95e-5</td><td>0.00113</td></tr><tr><th>20</th><td>19</td><td>1.99e-5</td><td>0.00113</td></tr><tr><th>21</th><td>20</td><td>2.02e-5</td><td>0.00113</td></tr><tr><th>22</th><td>21</td><td>2.05e-5</td><td>0.001375</td></tr><tr><th>23</th><td>22</td><td>2.09e-5</td><td>0.00162</td></tr><tr><th>24</th><td>23</td><td>2.12e-5</td><td>0.00162</td></tr><tr><th>25</th><td>24</td><td>2.16e-5</td><td>0.00162</td></tr><tr><th>26</th><td>25</td><td>2.2e-5</td><td>0.001375</td></tr><tr><th>27</th><td>26</td><td>2.24e-5</td><td>0.00113</td></tr><tr><th>28</th><td>27</td><td>2.28e-5</td><td>0.00113</td></tr><tr><th>29</th><td>28</td><td>2.32e-5</td><td>0.00113</td></tr><tr><th>30</th><td>29</td><td>2.37e-5</td><td>0.001375</td></tr><tr><th>&vellip;</th><td>&vellip;</td><td>&vellip;</td><td>&vellip;</td></tr></tbody></table>"
      ],
      "text/latex": [
       "\\begin{tabular}{r|ccc}\n",
       "\t& T & I & O\\\\\n",
       "\t\\hline\n",
       "\t& Int64 & Float64 & Float64\\\\\n",
       "\t\\hline\n",
       "\t1 & 0 & 1.53e-5 & 0.0 \\\\\n",
       "\t2 & 1 & 1.55e-5 & 0.000565 \\\\\n",
       "\t3 & 2 & 1.57e-5 & 0.00113 \\\\\n",
       "\t4 & 3 & 1.58e-5 & 0.001375 \\\\\n",
       "\t5 & 4 & 1.6e-5 & 0.00162 \\\\\n",
       "\t6 & 5 & 1.62e-5 & 0.00162 \\\\\n",
       "\t7 & 6 & 1.64e-5 & 0.00162 \\\\\n",
       "\t8 & 7 & 1.67e-5 & 0.00162 \\\\\n",
       "\t9 & 8 & 1.69e-5 & 0.00162 \\\\\n",
       "\t10 & 9 & 1.71e-5 & 0.00186 \\\\\n",
       "\t11 & 10 & 1.74e-5 & 0.0021 \\\\\n",
       "\t12 & 11 & 1.76e-5 & 0.00186 \\\\\n",
       "\t13 & 12 & 1.78e-5 & 0.00162 \\\\\n",
       "\t14 & 13 & 1.81e-5 & 0.001375 \\\\\n",
       "\t15 & 14 & 1.84e-5 & 0.00113 \\\\\n",
       "\t16 & 15 & 1.87e-5 & 0.001375 \\\\\n",
       "\t17 & 16 & 1.89e-5 & 0.00162 \\\\\n",
       "\t18 & 17 & 1.92e-5 & 0.001375 \\\\\n",
       "\t19 & 18 & 1.95e-5 & 0.00113 \\\\\n",
       "\t20 & 19 & 1.99e-5 & 0.00113 \\\\\n",
       "\t21 & 20 & 2.02e-5 & 0.00113 \\\\\n",
       "\t22 & 21 & 2.05e-5 & 0.001375 \\\\\n",
       "\t23 & 22 & 2.09e-5 & 0.00162 \\\\\n",
       "\t24 & 23 & 2.12e-5 & 0.00162 \\\\\n",
       "\t25 & 24 & 2.16e-5 & 0.00162 \\\\\n",
       "\t26 & 25 & 2.2e-5 & 0.001375 \\\\\n",
       "\t27 & 26 & 2.24e-5 & 0.00113 \\\\\n",
       "\t28 & 27 & 2.28e-5 & 0.00113 \\\\\n",
       "\t29 & 28 & 2.32e-5 & 0.00113 \\\\\n",
       "\t30 & 29 & 2.37e-5 & 0.001375 \\\\\n",
       "\t$\\dots$ & $\\dots$ & $\\dots$ & $\\dots$ \\\\\n",
       "\\end{tabular}\n"
      ],
      "text/plain": [
       "1001×3 DataFrame\n",
       "│ Row  │ T     │ I       │ O        │\n",
       "│      │ \u001b[90mInt64\u001b[39m │ \u001b[90mFloat64\u001b[39m │ \u001b[90mFloat64\u001b[39m  │\n",
       "├──────┼───────┼─────────┼──────────┤\n",
       "│ 1    │ 0     │ 1.53e-5 │ 0.0      │\n",
       "│ 2    │ 1     │ 1.55e-5 │ 0.000565 │\n",
       "│ 3    │ 2     │ 1.57e-5 │ 0.00113  │\n",
       "│ 4    │ 3     │ 1.58e-5 │ 0.001375 │\n",
       "│ 5    │ 4     │ 1.6e-5  │ 0.00162  │\n",
       "│ 6    │ 5     │ 1.62e-5 │ 0.00162  │\n",
       "│ 7    │ 6     │ 1.64e-5 │ 0.00162  │\n",
       "│ 8    │ 7     │ 1.67e-5 │ 0.00162  │\n",
       "│ 9    │ 8     │ 1.69e-5 │ 0.00162  │\n",
       "│ 10   │ 9     │ 1.71e-5 │ 0.00186  │\n",
       "⋮\n",
       "│ 991  │ 990   │ 0.98089 │ 0.98478  │\n",
       "│ 992  │ 991   │ 0.98089 │ 0.98478  │\n",
       "│ 993  │ 992   │ 0.98089 │ 0.98478  │\n",
       "│ 994  │ 993   │ 0.98089 │ 0.98478  │\n",
       "│ 995  │ 994   │ 0.98089 │ 0.98478  │\n",
       "│ 996  │ 995   │ 0.98089 │ 0.98478  │\n",
       "│ 997  │ 996   │ 0.98089 │ 0.98478  │\n",
       "│ 998  │ 997   │ 0.98089 │ 0.98478  │\n",
       "│ 999  │ 998   │ 0.98089 │ 0.98478  │\n",
       "│ 1000 │ 999   │ 0.98089 │ 0.98478  │\n",
       "│ 1001 │ 1000  │ 0.98089 │ 0.98478  │"
      ]
     },
     "execution_count": 90,
     "metadata": {},
     "output_type": "execute_result"
    }
   ],
   "source": [
    "df4 = DataFrame(T = file.t_I, I = file.I_8, O = int_O_8)"
   ]
  },
  {
   "cell_type": "code",
   "execution_count": 91,
   "metadata": {},
   "outputs": [
    {
     "data": {
      "text/plain": [
       "\"/home/max/repos/advection-diffusion-catalysis/data/experiment/SBA15_water_acetonitrile_interp_8.csv\""
      ]
     },
     "execution_count": 91,
     "metadata": {},
     "output_type": "execute_result"
    }
   ],
   "source": [
    "CSV.write(datadir(\"experiment/SBA15_water_acetonitrile_interp_8.csv\"),df3)"
   ]
  },
  {
   "cell_type": "code",
   "execution_count": 20,
   "metadata": {},
   "outputs": [
    {
     "data": {
      "text/plain": [
       "501-element Array{Float64,1}:\n",
       "    0.0\n",
       "    2.0\n",
       "    4.0\n",
       "    6.0\n",
       "    8.0\n",
       "   10.0\n",
       "   12.0\n",
       "   14.0\n",
       "   16.0\n",
       "   18.0\n",
       "   20.0\n",
       "   22.0\n",
       "   24.0\n",
       "    ⋮\n",
       "  978.0\n",
       "  980.0\n",
       "  982.0\n",
       "  984.0\n",
       "  986.0\n",
       "  988.0\n",
       "  990.0\n",
       "  992.0\n",
       "  994.0\n",
       "  996.0\n",
       "  998.0\n",
       " 1000.0"
      ]
     },
     "execution_count": 20,
     "metadata": {},
     "output_type": "execute_result"
    }
   ],
   "source": [
    "file1 = CSV.File(datadir(\"experiment/SBA15_interp_8.csv\"), delim=\",\")\n",
    "o1 = Float64[]\n",
    "o2 = Float64[]\n",
    "time = Float64[]\n",
    "time2 = Float64[]\n",
    "for row in file1\n",
    "    push!(time,row.T) \n",
    "    push!(o1,row.O) \n",
    "end\n",
    "file2 = CSV.File(datadir(\"experiment/init_output_data.csv\"), delim=\"\\t\")\n",
    "for row in file2\n",
    "    push!(o2,row.O_8) \n",
    "    push!(time2,row.t)\n",
    "end\n",
    "time2"
   ]
  },
  {
   "cell_type": "code",
   "execution_count": 96,
   "metadata": {},
   "outputs": [
    {
     "name": "stderr",
     "output_type": "stream",
     "text": [
      "┌ Info: Precompiling Plots [91a5bcdd-55d7-5caf-9e0b-520d859cae80]\n",
      "└ @ Base loading.jl:1278\n",
      "ERROR: LoadError: InitError: UndefVarError: register_error_hint not defined\n",
      "Stacktrace:\n",
      " [1] register_hints() at /home/max/.julia/packages/ColorTypes/vfl08/src/error_hints.jl:4\n",
      " [2] __init__() at /home/max/.julia/packages/ColorTypes/vfl08/src/ColorTypes.jl:89\n",
      " [3] top-level scope at none:2\n",
      " [4] eval at ./boot.jl:331 [inlined]\n",
      "during initialization of module ColorTypes\n",
      "in expression starting at /home/max/.julia/packages/GeometryTypes/4bgJU/src/GeometryTypes.jl:4\n",
      "ERROR: LoadError: Failed to precompile GeometryTypes [4d00f742-c7ba-57c2-abde-4428a4b178cb] to /home/max/.julia/compiled/v1.5/GeometryTypes/OuQ1Z_Ulo5O.ji.\n",
      "Stacktrace:\n",
      " [1] top-level scope at none:2\n",
      " [2] eval at ./boot.jl:331 [inlined]\n",
      "in expression starting at /home/max/.julia/packages/Plots/cc8wh/src/Plots.jl:7\n"
     ]
    },
    {
     "ename": "LoadError",
     "evalue": "Failed to precompile Plots [91a5bcdd-55d7-5caf-9e0b-520d859cae80] to /home/max/.julia/compiled/v1.5/Plots/ld3vC_Ulo5O.ji.",
     "output_type": "error",
     "traceback": [
      "Failed to precompile Plots [91a5bcdd-55d7-5caf-9e0b-520d859cae80] to /home/max/.julia/compiled/v1.5/Plots/ld3vC_Ulo5O.ji.",
      "",
      "Stacktrace:",
      " [1] compilecache(::Base.PkgId, ::String) at ./loading.jl:1305",
      " [2] _require(::Base.PkgId) at ./loading.jl:1030",
      " [3] require(::Base.PkgId) at ./loading.jl:928",
      " [4] require(::Module, ::Symbol) at ./loading.jl:923"
     ]
    }
   ],
   "source": [
    "using Plots"
   ]
  },
  {
   "cell_type": "code",
   "execution_count": 92,
   "metadata": {},
   "outputs": [
    {
     "ename": "LoadError",
     "evalue": "UndefVarError: plot not defined",
     "output_type": "error",
     "traceback": [
      "UndefVarError: plot not defined",
      "",
      "Stacktrace:",
      " [1] top-level scope at In[92]:1"
     ]
    }
   ],
   "source": [
    "plot(file.t_I,int_O_12,label = \"interpolated 12\");\n",
    "plot!(file.t_O, file.O_12,label = \"initial\")"
   ]
  },
  {
   "cell_type": "code",
   "execution_count": 31,
   "metadata": {},
   "outputs": [
    {
     "data": {
      "image/svg+xml": [
       "<?xml version=\"1.0\" encoding=\"utf-8\"?>\n",
       "<svg xmlns=\"http://www.w3.org/2000/svg\" xmlns:xlink=\"http://www.w3.org/1999/xlink\" width=\"600\" height=\"400\" viewBox=\"0 0 2400 1600\">\n",
       "<defs>\n",
       "  <clipPath id=\"clip2800\">\n",
       "    <rect x=\"0\" y=\"0\" width=\"2400\" height=\"1600\"/>\n",
       "  </clipPath>\n",
       "</defs>\n",
       "<path clip-path=\"url(#clip2800)\" d=\"\n",
       "M0 1600 L2400 1600 L2400 0 L0 0  Z\n",
       "  \" fill=\"#ffffff\" fill-rule=\"evenodd\" fill-opacity=\"1\"/>\n",
       "<defs>\n",
       "  <clipPath id=\"clip2801\">\n",
       "    <rect x=\"480\" y=\"0\" width=\"1681\" height=\"1600\"/>\n",
       "  </clipPath>\n",
       "</defs>\n",
       "<path clip-path=\"url(#clip2800)\" d=\"\n",
       "M180.66 1487.47 L2352.76 1487.47 L2352.76 47.2441 L180.66 47.2441  Z\n",
       "  \" fill=\"#ffffff\" fill-rule=\"evenodd\" fill-opacity=\"1\"/>\n",
       "<defs>\n",
       "  <clipPath id=\"clip2802\">\n",
       "    <rect x=\"180\" y=\"47\" width=\"2173\" height=\"1441\"/>\n",
       "  </clipPath>\n",
       "</defs>\n",
       "<polyline clip-path=\"url(#clip2802)\" style=\"stroke:#000000; stroke-width:2; stroke-opacity:0.1; fill:none\" points=\"\n",
       "  242.135,1487.47 242.135,47.2441 \n",
       "  \"/>\n",
       "<polyline clip-path=\"url(#clip2802)\" style=\"stroke:#000000; stroke-width:2; stroke-opacity:0.1; fill:none\" points=\"\n",
       "  754.421,1487.47 754.421,47.2441 \n",
       "  \"/>\n",
       "<polyline clip-path=\"url(#clip2802)\" style=\"stroke:#000000; stroke-width:2; stroke-opacity:0.1; fill:none\" points=\"\n",
       "  1266.71,1487.47 1266.71,47.2441 \n",
       "  \"/>\n",
       "<polyline clip-path=\"url(#clip2802)\" style=\"stroke:#000000; stroke-width:2; stroke-opacity:0.1; fill:none\" points=\"\n",
       "  1778.99,1487.47 1778.99,47.2441 \n",
       "  \"/>\n",
       "<polyline clip-path=\"url(#clip2802)\" style=\"stroke:#000000; stroke-width:2; stroke-opacity:0.1; fill:none\" points=\"\n",
       "  2291.28,1487.47 2291.28,47.2441 \n",
       "  \"/>\n",
       "<polyline clip-path=\"url(#clip2802)\" style=\"stroke:#000000; stroke-width:2; stroke-opacity:0.1; fill:none\" points=\"\n",
       "  180.66,1446.71 2352.76,1446.71 \n",
       "  \"/>\n",
       "<polyline clip-path=\"url(#clip2802)\" style=\"stroke:#000000; stroke-width:2; stroke-opacity:0.1; fill:none\" points=\"\n",
       "  180.66,1107.04 2352.76,1107.04 \n",
       "  \"/>\n",
       "<polyline clip-path=\"url(#clip2802)\" style=\"stroke:#000000; stroke-width:2; stroke-opacity:0.1; fill:none\" points=\"\n",
       "  180.66,767.359 2352.76,767.359 \n",
       "  \"/>\n",
       "<polyline clip-path=\"url(#clip2802)\" style=\"stroke:#000000; stroke-width:2; stroke-opacity:0.1; fill:none\" points=\"\n",
       "  180.66,427.682 2352.76,427.682 \n",
       "  \"/>\n",
       "<polyline clip-path=\"url(#clip2802)\" style=\"stroke:#000000; stroke-width:2; stroke-opacity:0.1; fill:none\" points=\"\n",
       "  180.66,88.0053 2352.76,88.0053 \n",
       "  \"/>\n",
       "<polyline clip-path=\"url(#clip2800)\" style=\"stroke:#000000; stroke-width:4; stroke-opacity:1; fill:none\" points=\"\n",
       "  180.66,1487.47 2352.76,1487.47 \n",
       "  \"/>\n",
       "<polyline clip-path=\"url(#clip2800)\" style=\"stroke:#000000; stroke-width:4; stroke-opacity:1; fill:none\" points=\"\n",
       "  180.66,1487.47 180.66,47.2441 \n",
       "  \"/>\n",
       "<polyline clip-path=\"url(#clip2800)\" style=\"stroke:#000000; stroke-width:4; stroke-opacity:1; fill:none\" points=\"\n",
       "  242.135,1487.47 242.135,1470.19 \n",
       "  \"/>\n",
       "<polyline clip-path=\"url(#clip2800)\" style=\"stroke:#000000; stroke-width:4; stroke-opacity:1; fill:none\" points=\"\n",
       "  754.421,1487.47 754.421,1470.19 \n",
       "  \"/>\n",
       "<polyline clip-path=\"url(#clip2800)\" style=\"stroke:#000000; stroke-width:4; stroke-opacity:1; fill:none\" points=\"\n",
       "  1266.71,1487.47 1266.71,1470.19 \n",
       "  \"/>\n",
       "<polyline clip-path=\"url(#clip2800)\" style=\"stroke:#000000; stroke-width:4; stroke-opacity:1; fill:none\" points=\"\n",
       "  1778.99,1487.47 1778.99,1470.19 \n",
       "  \"/>\n",
       "<polyline clip-path=\"url(#clip2800)\" style=\"stroke:#000000; stroke-width:4; stroke-opacity:1; fill:none\" points=\"\n",
       "  2291.28,1487.47 2291.28,1470.19 \n",
       "  \"/>\n",
       "<polyline clip-path=\"url(#clip2800)\" style=\"stroke:#000000; stroke-width:4; stroke-opacity:1; fill:none\" points=\"\n",
       "  180.66,1446.71 206.725,1446.71 \n",
       "  \"/>\n",
       "<polyline clip-path=\"url(#clip2800)\" style=\"stroke:#000000; stroke-width:4; stroke-opacity:1; fill:none\" points=\"\n",
       "  180.66,1107.04 206.725,1107.04 \n",
       "  \"/>\n",
       "<polyline clip-path=\"url(#clip2800)\" style=\"stroke:#000000; stroke-width:4; stroke-opacity:1; fill:none\" points=\"\n",
       "  180.66,767.359 206.725,767.359 \n",
       "  \"/>\n",
       "<polyline clip-path=\"url(#clip2800)\" style=\"stroke:#000000; stroke-width:4; stroke-opacity:1; fill:none\" points=\"\n",
       "  180.66,427.682 206.725,427.682 \n",
       "  \"/>\n",
       "<polyline clip-path=\"url(#clip2800)\" style=\"stroke:#000000; stroke-width:4; stroke-opacity:1; fill:none\" points=\"\n",
       "  180.66,88.0053 206.725,88.0053 \n",
       "  \"/>\n",
       "<g clip-path=\"url(#clip2800)\">\n",
       "<text style=\"fill:#000000; fill-opacity:1; font-family:Arial,Helvetica Neue,Helvetica,sans-serif; font-size:48px; text-anchor:middle;\" transform=\"rotate(0, 242.135, 1541.47)\" x=\"242.135\" y=\"1541.47\">0</text>\n",
       "</g>\n",
       "<g clip-path=\"url(#clip2800)\">\n",
       "<text style=\"fill:#000000; fill-opacity:1; font-family:Arial,Helvetica Neue,Helvetica,sans-serif; font-size:48px; text-anchor:middle;\" transform=\"rotate(0, 754.421, 1541.47)\" x=\"754.421\" y=\"1541.47\">250</text>\n",
       "</g>\n",
       "<g clip-path=\"url(#clip2800)\">\n",
       "<text style=\"fill:#000000; fill-opacity:1; font-family:Arial,Helvetica Neue,Helvetica,sans-serif; font-size:48px; text-anchor:middle;\" transform=\"rotate(0, 1266.71, 1541.47)\" x=\"1266.71\" y=\"1541.47\">500</text>\n",
       "</g>\n",
       "<g clip-path=\"url(#clip2800)\">\n",
       "<text style=\"fill:#000000; fill-opacity:1; font-family:Arial,Helvetica Neue,Helvetica,sans-serif; font-size:48px; text-anchor:middle;\" transform=\"rotate(0, 1778.99, 1541.47)\" x=\"1778.99\" y=\"1541.47\">750</text>\n",
       "</g>\n",
       "<g clip-path=\"url(#clip2800)\">\n",
       "<text style=\"fill:#000000; fill-opacity:1; font-family:Arial,Helvetica Neue,Helvetica,sans-serif; font-size:48px; text-anchor:middle;\" transform=\"rotate(0, 2291.28, 1541.47)\" x=\"2291.28\" y=\"1541.47\">1000</text>\n",
       "</g>\n",
       "<g clip-path=\"url(#clip2800)\">\n",
       "<text style=\"fill:#000000; fill-opacity:1; font-family:Arial,Helvetica Neue,Helvetica,sans-serif; font-size:48px; text-anchor:end;\" transform=\"rotate(0, 156.66, 1464.21)\" x=\"156.66\" y=\"1464.21\">0.00</text>\n",
       "</g>\n",
       "<g clip-path=\"url(#clip2800)\">\n",
       "<text style=\"fill:#000000; fill-opacity:1; font-family:Arial,Helvetica Neue,Helvetica,sans-serif; font-size:48px; text-anchor:end;\" transform=\"rotate(0, 156.66, 1124.54)\" x=\"156.66\" y=\"1124.54\">0.25</text>\n",
       "</g>\n",
       "<g clip-path=\"url(#clip2800)\">\n",
       "<text style=\"fill:#000000; fill-opacity:1; font-family:Arial,Helvetica Neue,Helvetica,sans-serif; font-size:48px; text-anchor:end;\" transform=\"rotate(0, 156.66, 784.859)\" x=\"156.66\" y=\"784.859\">0.50</text>\n",
       "</g>\n",
       "<g clip-path=\"url(#clip2800)\">\n",
       "<text style=\"fill:#000000; fill-opacity:1; font-family:Arial,Helvetica Neue,Helvetica,sans-serif; font-size:48px; text-anchor:end;\" transform=\"rotate(0, 156.66, 445.182)\" x=\"156.66\" y=\"445.182\">0.75</text>\n",
       "</g>\n",
       "<g clip-path=\"url(#clip2800)\">\n",
       "<text style=\"fill:#000000; fill-opacity:1; font-family:Arial,Helvetica Neue,Helvetica,sans-serif; font-size:48px; text-anchor:end;\" transform=\"rotate(0, 156.66, 105.505)\" x=\"156.66\" y=\"105.505\">1.00</text>\n",
       "</g>\n",
       "<polyline clip-path=\"url(#clip2802)\" style=\"stroke:#009af9; stroke-width:4; stroke-opacity:1; fill:none\" points=\"\n",
       "  242.135,1446.71 244.184,1446.71 246.233,1446.71 248.282,1446.71 250.331,1446.71 252.38,1446.71 254.43,1446.71 256.479,1446.71 258.528,1446.71 260.577,1446.71 \n",
       "  262.626,1446.71 264.675,1446.71 266.724,1446.71 268.774,1446.71 270.823,1446.71 272.872,1446.71 274.921,1446.71 276.97,1446.71 279.019,1446.71 281.069,1446.71 \n",
       "  283.118,1446.71 285.167,1446.71 287.216,1446.71 289.265,1446.71 291.314,1446.71 293.363,1446.71 295.413,1446.71 297.462,1446.71 299.511,1446.71 301.56,1446.71 \n",
       "  303.609,1446.71 305.658,1446.71 307.707,1446.71 309.757,1446.71 311.806,1446.71 313.855,1446.71 315.904,1446.71 317.953,1446.71 320.002,1446.71 322.051,1446.71 \n",
       "  324.101,1446.71 326.15,1446.71 328.199,1446.71 330.248,1446.71 332.297,1446.71 334.346,1446.71 336.395,1446.71 338.445,1446.71 340.494,1446.71 342.543,1446.71 \n",
       "  344.592,1446.71 346.641,1446.71 348.69,1446.71 350.739,1446.71 352.789,1446.71 354.838,1446.71 356.887,1446.71 358.936,1446.71 360.985,1446.71 363.034,1446.71 \n",
       "  365.084,1446.71 367.133,1446.71 369.182,1446.71 371.231,1446.71 373.28,1446.71 375.329,1446.71 377.378,1446.71 379.428,1446.71 381.477,1446.71 383.526,1446.71 \n",
       "  385.575,1446.71 387.624,1446.71 389.673,1446.71 391.722,1446.71 393.772,1446.71 395.821,1446.71 397.87,1446.71 399.919,1446.71 401.968,1446.71 404.017,1446.71 \n",
       "  406.066,1446.71 408.116,1446.71 410.165,1446.71 412.214,1446.71 414.263,1446.71 416.312,1446.71 418.361,1446.71 420.41,1446.71 422.46,1446.71 424.509,1446.71 \n",
       "  426.558,1446.71 428.607,1446.71 430.656,1446.71 432.705,1446.71 434.755,1446.71 436.804,1446.71 438.853,1446.71 440.902,1446.71 442.951,1446.71 445,1446.71 \n",
       "  447.049,1446.71 449.099,1446.71 451.148,1446.71 453.197,1446.71 455.246,1446.71 457.295,1446.71 459.344,1446.71 461.393,1446.71 463.443,1446.71 465.492,1446.71 \n",
       "  467.541,1446.71 469.59,1446.71 471.639,1446.71 473.688,1446.71 475.737,1446.71 477.787,1446.71 479.836,1446.71 481.885,1446.71 483.934,1446.71 485.983,1446.71 \n",
       "  488.032,1446.71 490.081,1446.71 492.131,1446.71 494.18,1446.71 496.229,1446.71 498.278,1446.71 500.327,1446.71 502.376,1446.71 504.426,1446.71 506.475,1446.71 \n",
       "  508.524,1446.71 510.573,1446.71 512.622,1446.71 514.671,1446.71 516.72,1446.71 518.77,1446.71 520.819,1446.71 522.868,1446.71 524.917,1446.71 526.966,1446.71 \n",
       "  529.015,1446.71 531.064,1446.71 533.114,1446.71 535.163,1446.71 537.212,1446.71 539.261,1446.71 541.31,1446.71 543.359,1446.71 545.408,1446.71 547.458,1446.71 \n",
       "  549.507,1446.71 551.556,1446.71 553.605,1446.71 555.654,1446.71 557.703,1446.71 559.752,1446.71 561.802,1446.71 563.851,1446.71 565.9,1446.71 567.949,1446.71 \n",
       "  569.998,1446.71 572.047,1446.71 574.096,1446.71 576.146,1446.71 578.195,1446.71 580.244,1446.71 582.293,1446.71 584.342,1446.71 586.391,1446.71 588.441,1446.71 \n",
       "  590.49,1446.71 592.539,1446.71 594.588,1446.71 596.637,1446.71 598.686,1446.71 600.735,1446.71 602.785,1446.71 604.834,1446.71 606.883,1446.71 608.932,1446.71 \n",
       "  610.981,1446.71 613.03,1446.71 615.079,1446.71 617.129,1446.71 619.178,1446.71 621.227,1446.71 623.276,1446.71 625.325,1446.71 627.374,1446.71 629.423,1446.71 \n",
       "  631.473,1446.71 633.522,1446.71 635.571,1446.71 637.62,1446.71 639.669,1446.71 641.718,1446.71 643.767,1446.71 645.817,1446.71 647.866,1446.71 649.915,1446.71 \n",
       "  651.964,1446.71 654.013,1446.71 656.062,1446.71 658.112,1446.71 660.161,1446.71 662.21,1446.71 664.259,1446.71 666.308,1446.71 668.357,1446.71 670.406,1446.71 \n",
       "  672.456,1446.71 674.505,1446.71 676.554,1446.71 678.603,1446.71 680.652,1446.71 682.701,1446.71 684.75,1446.71 686.8,1446.71 688.849,1446.71 690.898,1446.71 \n",
       "  692.947,1446.71 694.996,1446.71 697.045,1446.71 699.094,1446.71 701.144,1446.71 703.193,1446.71 705.242,1446.71 707.291,1446.71 709.34,1446.71 711.389,1446.71 \n",
       "  713.438,1446.71 715.488,1446.71 717.537,1446.71 719.586,1446.71 721.635,1446.71 723.684,1446.71 725.733,1446.71 727.783,1446.71 729.832,1446.71 731.881,1446.71 \n",
       "  733.93,1446.71 735.979,1446.71 738.028,1446.71 740.077,1446.71 742.127,1446.71 744.176,1446.71 746.225,1446.71 748.274,1446.71 750.323,1446.71 752.372,1446.71 \n",
       "  754.421,1446.71 756.471,1446.71 758.52,1446.71 760.569,1446.71 762.618,1446.71 764.667,1446.71 766.716,1446.71 768.765,1446.71 770.815,1446.71 772.864,1446.71 \n",
       "  774.913,1446.71 776.962,1446.71 779.011,1446.71 781.06,1446.71 783.109,1446.71 785.159,1446.71 787.208,1446.71 789.257,1446.71 791.306,1446.71 793.355,1446.71 \n",
       "  795.404,1446.71 797.453,1446.71 799.503,1446.71 801.552,1446.71 803.601,1446.71 805.65,1446.71 807.699,1446.71 809.748,1446.71 811.798,1446.71 813.847,1446.71 \n",
       "  815.896,1446.71 817.945,1446.71 819.994,1446.71 822.043,1446.71 824.092,1446.71 826.142,1446.71 828.191,1446.71 830.24,1446.71 832.289,1446.71 834.338,1446.71 \n",
       "  836.387,1446.71 838.436,1446.71 840.486,1446.71 842.535,1446.71 844.584,1446.71 846.633,1446.71 848.682,1446.71 850.731,1446.71 852.78,1446.71 854.83,1446.71 \n",
       "  856.879,1446.71 858.928,1446.71 860.977,1446.71 863.026,1446.71 865.075,1446.71 867.124,1446.71 869.174,1446.71 871.223,1446.71 873.272,1446.71 875.321,1446.71 \n",
       "  877.37,1446.71 879.419,1446.71 881.469,1446.71 883.518,1446.71 885.567,1446.71 887.616,1446.71 889.665,1446.71 891.714,1446.71 893.763,1446.71 895.813,1446.71 \n",
       "  897.862,1446.71 899.911,1446.71 901.96,1446.71 904.009,1446.71 906.058,1446.71 908.107,1446.71 910.157,1446.71 912.206,1446.71 914.255,1446.71 916.304,1446.71 \n",
       "  918.353,1446.71 920.402,1446.71 922.451,1446.71 924.501,1446.71 926.55,1446.71 928.599,1446.71 930.648,1446.71 932.697,1446.71 934.746,1446.71 936.795,1446.71 \n",
       "  938.845,1446.71 940.894,1446.71 942.943,1446.71 944.992,1446.71 947.041,1446.71 949.09,1446.71 951.14,1446.71 953.189,1446.71 955.238,1446.71 957.287,1446.71 \n",
       "  959.336,1446.71 961.385,1446.71 963.434,1446.71 965.484,1446.71 967.533,1446.71 969.582,1446.71 971.631,1446.71 973.68,1446.71 975.729,1446.71 977.778,1446.71 \n",
       "  979.828,1446.71 981.877,1446.71 983.926,1446.71 985.975,1446.71 988.024,1446.71 990.073,1446.71 992.122,1446.71 994.172,1446.71 996.221,1446.71 998.27,1446.71 \n",
       "  1000.32,1446.71 1002.37,1446.71 1004.42,1446.71 1006.47,1446.71 1008.52,1446.71 1010.56,1446.71 1012.61,1446.71 1014.66,1446.71 1016.71,1446.71 1018.76,1446.71 \n",
       "  1020.81,1446.71 1022.86,1446.71 1024.91,1446.71 1026.96,1446.71 1029.01,1446.71 1031.06,1446.71 1033.11,1446.71 1035.15,1446.71 1037.2,1446.71 1039.25,1446.71 \n",
       "  1041.3,1446.71 1043.35,1446.71 1045.4,1446.71 1047.45,1446.71 1049.5,1446.71 1051.55,1446.71 1053.6,1446.71 1055.65,1446.71 1057.7,1446.71 1059.74,1446.71 \n",
       "  1061.79,1446.71 1063.84,1446.71 1065.89,1446.71 1067.94,1446.71 1069.99,1446.71 1072.04,1446.71 1074.09,1446.71 1076.14,1446.71 1078.19,1446.71 1080.24,1446.71 \n",
       "  1082.28,1446.71 1084.33,1446.71 1086.38,1446.71 1088.43,1446.71 1090.48,1446.71 1092.53,1446.71 1094.58,1446.71 1096.63,1446.71 1098.68,1446.71 1100.73,1446.71 \n",
       "  1102.78,1446.71 1104.83,1446.71 1106.87,1446.71 1108.92,1446.71 1110.97,1446.71 1113.02,1446.71 1115.07,1446.71 1117.12,1446.71 1119.17,1446.71 1121.22,1446.71 \n",
       "  1123.27,1446.71 1125.32,1446.71 1127.37,1446.71 1129.42,1446.71 1131.46,1446.71 1133.51,1446.71 1135.56,1446.71 1137.61,1446.71 1139.66,1446.71 1141.71,1446.71 \n",
       "  1143.76,1446.71 1145.81,1446.71 1147.86,1446.71 1149.91,1446.71 1151.96,1446.71 1154.01,1446.71 1156.05,1446.71 1158.1,1446.71 1160.15,1446.71 1162.2,1446.71 \n",
       "  1164.25,1446.71 1166.3,1446.71 1168.35,1446.71 1170.4,1446.71 1172.45,1446.71 1174.5,1446.71 1176.55,1446.71 1178.59,1446.71 1180.64,1446.71 1182.69,1446.71 \n",
       "  1184.74,1446.71 1186.79,1446.71 1188.84,1446.71 1190.89,1446.71 1192.94,1446.71 1194.99,1446.71 1197.04,1446.71 1199.09,1446.71 1201.14,1446.71 1203.18,1446.71 \n",
       "  1205.23,1446.71 1207.28,1446.71 1209.33,1446.71 1211.38,1446.71 1213.43,1446.71 1215.48,1446.71 1217.53,1446.71 1219.58,1446.71 1221.63,1446.71 1223.68,1446.71 \n",
       "  1225.73,1446.71 1227.77,1446.71 1229.82,1446.71 1231.87,1446.71 1233.92,1446.71 1235.97,1446.71 1238.02,1446.71 1240.07,1446.71 1242.12,1446.71 1244.17,1446.71 \n",
       "  1246.22,1446.71 1248.27,1446.71 1250.31,1446.71 1252.36,1446.71 1254.41,1446.71 1256.46,1446.71 1258.51,1446.71 1260.56,1446.71 1262.61,1446.71 1264.66,1446.71 \n",
       "  1266.71,1446.71 1268.76,1446.71 1270.81,1446.71 1272.86,1446.71 1274.9,1446.71 1276.95,1446.71 1279,1446.71 1281.05,1446.71 1283.1,1446.71 1285.15,1446.71 \n",
       "  1287.2,1446.71 1289.25,1446.71 1291.3,1446.71 1293.35,1446.71 1295.4,1446.71 1297.45,1446.71 1299.49,1446.71 1301.54,1446.71 1303.59,1446.71 1305.64,1446.71 \n",
       "  1307.69,1446.71 1309.74,1446.71 1311.79,1446.71 1313.84,1446.71 1315.89,1446.71 1317.94,1446.71 1319.99,1446.71 1322.04,1446.71 1324.08,1446.71 1326.13,1446.71 \n",
       "  1328.18,1446.71 1330.23,1446.71 1332.28,1446.71 1334.33,1446.71 1336.38,1446.71 1338.43,1446.71 1340.48,1446.71 1342.53,1446.71 1344.58,1446.71 1346.62,1446.71 \n",
       "  1348.67,1446.71 1350.72,1446.71 1352.77,1446.71 1354.82,1446.71 1356.87,1446.71 1358.92,1446.71 1360.97,1446.71 1363.02,1446.71 1365.07,1446.71 1367.12,1446.71 \n",
       "  1369.17,1446.71 1371.21,1446.71 1373.26,1446.71 1375.31,1446.71 1377.36,1446.71 1379.41,1446.71 1381.46,1446.71 1383.51,1446.71 1385.56,1446.71 1387.61,1446.71 \n",
       "  1389.66,1446.71 1391.71,1446.71 1393.76,1446.71 1395.8,1440.42 1397.85,1434.12 1399.9,1435.02 1401.95,1435.91 1404,1435.02 1406.05,1434.12 1408.1,1432.32 \n",
       "  1410.15,1430.52 1412.2,1430.52 1414.25,1430.52 1416.3,1430.52 1418.34,1430.52 1420.39,1426.92 1422.44,1423.32 1424.49,1425.12 1426.54,1426.92 1428.59,1425.12 \n",
       "  1430.64,1423.32 1432.69,1425.12 1434.74,1426.92 1436.79,1425.12 1438.84,1423.32 1440.89,1419.72 1442.93,1416.12 1444.98,1416.12 1447.03,1416.12 1449.08,1416.12 \n",
       "  1451.13,1416.12 1453.18,1412.52 1455.23,1408.93 1457.28,1402.62 1459.33,1396.32 1461.38,1399.92 1463.43,1403.52 1465.48,1398.12 1467.52,1392.72 1469.57,1390.92 \n",
       "  1471.62,1389.13 1473.67,1390.92 1475.72,1392.72 1477.77,1387.32 1479.82,1381.93 1481.87,1380.13 1483.92,1378.33 1485.97,1378.33 1488.02,1378.33 1490.07,1377.43 \n",
       "  1492.11,1376.52 1494.16,1369.33 1496.21,1362.13 1498.26,1356.73 1500.31,1351.33 1502.36,1351.33 1504.41,1351.33 1506.46,1350.44 1508.51,1349.54 1510.56,1342.34 \n",
       "  1512.61,1335.14 1514.65,1326.14 1516.7,1317.15 1518.75,1307.25 1520.8,1297.35 1522.85,1295.55 1524.9,1293.75 1526.95,1283.85 1529,1273.95 1531.05,1263.15 \n",
       "  1533.1,1252.35 1535.15,1238.86 1537.2,1225.37 1539.24,1219.97 1541.29,1214.56 1543.34,1201.07 1545.39,1187.57 1547.44,1176.77 1549.49,1165.98 1551.54,1143.48 \n",
       "  1553.59,1120.98 1555.64,1104.78 1557.69,1088.59 1559.74,1077.79 1561.79,1067 1563.83,1048.1 1565.88,1029.21 1567.93,1009.41 1569.98,989.617 1572.03,971.621 \n",
       "  1574.08,953.625 1576.13,932.028 1578.18,910.431 1580.23,888.835 1582.28,867.238 1584.33,840.241 1586.38,813.243 1588.42,791.653 1590.47,770.063 1592.52,749.363 \n",
       "  1594.57,728.663 1596.62,693.575 1598.67,658.486 1600.72,639.586 1602.77,620.687 1604.82,592.793 1606.87,564.898 1608.92,542.405 1610.96,519.911 1613.01,492.921 \n",
       "  1615.06,465.93 1617.11,438.932 1619.16,411.935 1621.21,401.14 1623.26,390.345 1625.31,372.349 1627.36,354.353 1629.41,329.156 1631.46,303.958 1633.51,288.659 \n",
       "  1635.55,273.36 1637.6,261.669 1639.65,249.977 1641.7,230.181 1643.75,210.384 1645.8,206.784 1647.85,203.183 1649.9,186.987 1651.95,170.791 1654,165.391 \n",
       "  1656.05,159.99 1658.1,157.293 1660.14,154.596 1662.19,144.697 1664.24,134.799 1666.29,131.199 1668.34,127.598 1670.39,123.101 1672.44,118.603 1674.49,115.003 \n",
       "  1676.54,111.402 1678.59,111.402 1680.64,111.402 1682.68,109.602 1684.73,107.802 1686.78,109.602 1688.83,111.402 1690.88,109.602 1692.93,107.802 1694.98,103.304 \n",
       "  1697.03,98.8071 1699.08,97.0068 1701.13,95.2065 1703.18,97.0068 1705.23,98.8071 1707.27,95.2065 1709.32,91.6059 1711.37,93.4062 1713.42,95.2065 1715.47,93.4062 \n",
       "  1717.52,91.6059 1719.57,91.6059 1721.62,91.6059 1723.67,93.4062 1725.72,95.2065 1727.77,91.6059 1729.82,88.0053 1731.86,89.8056 1733.91,91.6059 1735.96,91.6059 \n",
       "  1738.01,91.6059 1740.06,101.504 1742.11,111.402 1744.16,109.602 1746.21,107.802 1748.26,103.304 1750.31,98.8071 1752.36,97.0068 1754.41,95.2065 1756.45,97.0068 \n",
       "  1758.5,98.8071 1760.55,95.2065 1762.6,91.6059 1764.65,93.4062 1766.7,95.2065 1768.75,93.4062 1770.8,91.6059 1772.85,91.6059 1774.9,91.6059 1776.95,93.4062 \n",
       "  1778.99,95.2065 1781.04,91.6059 1783.09,88.0053 1785.14,89.8056 1787.19,91.6059 1789.24,91.6059 1791.29,91.6059 1793.34,101.504 1795.39,111.402 1797.44,109.602 \n",
       "  1799.49,107.802 1801.54,103.304 1803.58,98.8071 1805.63,97.0068 1807.68,95.2065 1809.73,97.0068 1811.78,98.8071 1813.83,95.2065 1815.88,91.6059 1817.93,93.4062 \n",
       "  1819.98,95.2065 1822.03,93.4062 1824.08,91.6059 1826.13,91.6059 1828.17,91.6059 1830.22,93.4062 1832.27,95.2065 1834.32,91.6059 1836.37,88.0053 1838.42,89.8056 \n",
       "  1840.47,91.6059 1842.52,91.6059 1844.57,91.6059 1846.62,101.504 1848.67,111.402 1850.71,109.602 1852.76,107.802 1854.81,103.304 1856.86,98.8071 1858.91,97.0068 \n",
       "  1860.96,95.2065 1863.01,97.0068 1865.06,98.8071 1867.11,95.2065 1869.16,91.6059 1871.21,93.4062 1873.26,95.2065 1875.3,93.4062 1877.35,91.6059 1879.4,91.6059 \n",
       "  1881.45,91.6059 1883.5,93.4062 1885.55,95.2065 1887.6,91.6059 1889.65,88.0053 1891.7,89.8056 1893.75,91.6059 1895.8,91.6059 1897.85,91.6059 1899.89,101.504 \n",
       "  1901.94,111.402 1903.99,109.602 1906.04,107.802 1908.09,103.304 1910.14,98.8071 1912.19,97.0068 1914.24,95.2065 1916.29,97.0068 1918.34,98.8071 1920.39,95.2065 \n",
       "  1922.44,91.6059 1924.48,93.4062 1926.53,95.2065 1928.58,93.4062 1930.63,91.6059 1932.68,91.6059 1934.73,91.6059 1936.78,93.4062 1938.83,95.2065 1940.88,91.6059 \n",
       "  1942.93,88.0053 1944.98,89.8056 1947.02,91.6059 1949.07,91.6059 1951.12,91.6059 1953.17,101.504 1955.22,111.402 1957.27,109.602 1959.32,107.802 1961.37,103.304 \n",
       "  1963.42,98.8071 1965.47,97.0068 1967.52,95.2065 1969.57,97.0068 1971.61,98.8071 1973.66,95.2065 1975.71,91.6059 1977.76,93.4062 1979.81,95.2065 1981.86,93.4062 \n",
       "  1983.91,91.6059 1985.96,91.6059 1988.01,91.6059 1990.06,93.4062 1992.11,95.2065 1994.16,91.6059 1996.2,88.0053 1998.25,89.8056 2000.3,91.6059 2002.35,91.6059 \n",
       "  2004.4,91.6059 2006.45,101.504 2008.5,111.402 2010.55,109.602 2012.6,107.802 2014.65,103.304 2016.7,98.8071 2018.74,97.0068 2020.79,95.2065 2022.84,97.0068 \n",
       "  2024.89,98.8071 2026.94,95.2065 2028.99,91.6059 2031.04,93.4062 2033.09,95.2065 2035.14,93.4062 2037.19,91.6059 2039.24,91.6059 2041.29,91.6059 2043.33,93.4062 \n",
       "  2045.38,95.2065 2047.43,91.6059 2049.48,88.0053 2051.53,88.0053 2053.58,88.0053 2055.63,88.0053 2057.68,88.0053 2059.73,88.0053 2061.78,88.0053 2063.83,88.0053 \n",
       "  2065.88,88.0053 2067.92,88.0053 2069.97,88.0053 2072.02,88.0053 2074.07,88.0053 2076.12,88.0053 2078.17,88.0053 2080.22,88.0053 2082.27,88.0053 2084.32,88.0053 \n",
       "  2086.37,88.0053 2088.42,88.0053 2090.47,88.0053 2092.51,88.0053 2094.56,88.0053 2096.61,88.0053 2098.66,88.0053 2100.71,88.0053 2102.76,88.0053 2104.81,88.0053 \n",
       "  2106.86,88.0053 2108.91,88.0053 2110.96,88.0053 2113.01,88.0053 2115.05,88.0053 2117.1,88.0053 2119.15,88.0053 2121.2,88.0053 2123.25,88.0053 2125.3,88.0053 \n",
       "  2127.35,88.0053 2129.4,88.0053 2131.45,88.0053 2133.5,88.0053 2135.55,88.0053 2137.6,88.0053 2139.64,88.0053 2141.69,88.0053 2143.74,88.0053 2145.79,88.0053 \n",
       "  2147.84,88.0053 2149.89,88.0053 2151.94,88.0053 2153.99,88.0053 2156.04,88.0053 2158.09,88.0053 2160.14,88.0053 2162.19,88.0053 2164.23,88.0053 2166.28,88.0053 \n",
       "  2168.33,88.0053 2170.38,88.0053 2172.43,88.0053 2174.48,88.0053 2176.53,88.0053 2178.58,88.0053 2180.63,88.0053 2182.68,88.0053 2184.73,88.0053 2186.78,88.0053 \n",
       "  2188.82,88.0053 2190.87,88.0053 2192.92,88.0053 2194.97,88.0053 2197.02,88.0053 2199.07,88.0053 2201.12,88.0053 2203.17,88.0053 2205.22,88.0053 2207.27,88.0053 \n",
       "  2209.32,88.0053 2211.36,88.0053 2213.41,88.0053 2215.46,88.0053 2217.51,88.0053 2219.56,88.0053 2221.61,88.0053 2223.66,88.0053 2225.71,88.0053 2227.76,88.0053 \n",
       "  2229.81,88.0053 2231.86,88.0053 2233.91,88.0053 2235.95,88.0053 2238,88.0053 2240.05,88.0053 2242.1,88.0053 2244.15,88.0053 2246.2,88.0053 2248.25,88.0053 \n",
       "  2250.3,88.0053 2252.35,88.0053 2254.4,88.0053 2256.45,88.0053 2258.5,88.0053 2260.54,88.0053 2262.59,88.0053 2264.64,88.0053 2266.69,88.0053 2268.74,88.0053 \n",
       "  2270.79,88.0053 2272.84,88.0053 2274.89,88.0053 2276.94,88.0053 2278.99,88.0053 2281.04,88.0053 2283.08,88.0053 2285.13,88.0053 2287.18,88.0053 2289.23,88.0053 \n",
       "  2291.28,88.0053 \n",
       "  \"/>\n",
       "<polyline clip-path=\"url(#clip2802)\" style=\"stroke:#e26f46; stroke-width:4; stroke-opacity:1; fill:none\" points=\"\n",
       "  242.135,1446.71 246.233,1446.71 250.331,1446.71 254.43,1446.71 258.528,1446.71 262.626,1446.71 266.724,1446.71 270.823,1446.71 274.921,1446.71 279.019,1446.71 \n",
       "  283.118,1446.71 287.216,1446.71 291.314,1446.71 295.413,1446.71 299.511,1446.71 303.609,1446.71 307.707,1446.71 311.806,1446.71 315.904,1446.71 320.002,1446.71 \n",
       "  324.101,1446.71 328.199,1446.71 332.297,1446.71 336.395,1446.71 340.494,1446.71 344.592,1446.71 348.69,1446.71 352.789,1446.71 356.887,1446.71 360.985,1446.71 \n",
       "  365.084,1446.71 369.182,1446.71 373.28,1446.71 377.378,1446.71 381.477,1446.71 385.575,1446.71 389.673,1446.71 393.772,1446.71 397.87,1446.71 401.968,1446.71 \n",
       "  406.066,1446.71 410.165,1446.71 414.263,1446.71 418.361,1446.71 422.46,1446.71 426.558,1446.71 430.656,1446.71 434.755,1446.71 438.853,1446.71 442.951,1446.71 \n",
       "  447.049,1446.71 451.148,1446.71 455.246,1446.71 459.344,1446.71 463.443,1446.71 467.541,1446.71 471.639,1446.71 475.737,1446.71 479.836,1446.71 483.934,1446.71 \n",
       "  488.032,1446.71 492.131,1446.71 496.229,1446.71 500.327,1446.71 504.426,1446.71 508.524,1446.71 512.622,1446.71 516.72,1446.71 520.819,1446.71 524.917,1446.71 \n",
       "  529.015,1446.71 533.114,1446.71 537.212,1446.71 541.31,1446.71 545.408,1446.71 549.507,1446.71 553.605,1446.71 557.703,1446.71 561.802,1446.71 565.9,1446.71 \n",
       "  569.998,1446.71 574.096,1446.71 578.195,1446.71 582.293,1446.71 586.391,1446.71 590.49,1446.71 594.588,1446.71 598.686,1446.71 602.785,1446.71 606.883,1446.71 \n",
       "  610.981,1446.71 615.079,1446.71 619.178,1446.71 623.276,1446.71 627.374,1446.71 631.473,1446.71 635.571,1446.71 639.669,1446.71 643.767,1446.71 647.866,1446.71 \n",
       "  651.964,1446.71 656.062,1446.71 660.161,1446.71 664.259,1446.71 668.357,1446.71 672.456,1446.71 676.554,1446.71 680.652,1446.71 684.75,1446.71 688.849,1446.71 \n",
       "  692.947,1446.71 697.045,1446.71 701.144,1446.71 705.242,1446.71 709.34,1446.71 713.438,1446.71 717.537,1446.71 721.635,1446.71 725.733,1446.71 729.832,1446.71 \n",
       "  733.93,1446.71 738.028,1446.71 742.127,1446.71 746.225,1446.71 750.323,1446.71 754.421,1446.71 758.52,1446.71 762.618,1446.71 766.716,1446.71 770.815,1446.71 \n",
       "  774.913,1446.71 779.011,1446.71 783.109,1446.71 787.208,1446.71 791.306,1446.71 795.404,1446.71 799.503,1446.71 803.601,1446.71 807.699,1446.71 811.798,1446.71 \n",
       "  815.896,1446.71 819.994,1446.71 824.092,1446.71 828.191,1446.71 832.289,1446.71 836.387,1446.71 840.486,1446.71 844.584,1446.71 848.682,1446.71 852.78,1446.71 \n",
       "  856.879,1446.71 860.977,1446.71 865.075,1446.71 869.174,1446.71 873.272,1446.71 877.37,1446.71 881.469,1446.71 885.567,1446.71 889.665,1446.71 893.763,1446.71 \n",
       "  897.862,1446.71 901.96,1446.71 906.058,1446.71 910.157,1446.71 914.255,1446.71 918.353,1446.71 922.451,1446.71 926.55,1446.71 930.648,1446.71 934.746,1446.71 \n",
       "  938.845,1446.71 942.943,1446.71 947.041,1446.71 951.14,1446.71 955.238,1446.71 959.336,1446.71 963.434,1446.71 967.533,1446.71 971.631,1446.71 975.729,1446.71 \n",
       "  979.828,1446.71 983.926,1446.71 988.024,1446.71 992.122,1446.71 996.221,1446.71 1000.32,1446.71 1004.42,1446.71 1008.52,1446.71 1012.61,1446.71 1016.71,1446.71 \n",
       "  1020.81,1446.71 1024.91,1446.71 1029.01,1446.71 1033.11,1446.71 1037.2,1446.71 1041.3,1446.71 1045.4,1446.71 1049.5,1446.71 1053.6,1446.71 1057.7,1446.71 \n",
       "  1061.79,1446.71 1065.89,1446.71 1069.99,1446.71 1074.09,1446.71 1078.19,1446.71 1082.28,1446.71 1086.38,1446.71 1090.48,1446.71 1094.58,1446.71 1098.68,1446.71 \n",
       "  1102.78,1446.71 1106.87,1446.71 1110.97,1446.71 1115.07,1446.71 1119.17,1446.71 1123.27,1446.71 1127.37,1446.71 1131.46,1446.71 1135.56,1446.71 1139.66,1446.71 \n",
       "  1143.76,1446.71 1147.86,1446.71 1151.96,1446.71 1156.05,1446.71 1160.15,1446.71 1164.25,1446.71 1168.35,1446.71 1172.45,1446.71 1176.55,1446.71 1180.64,1446.71 \n",
       "  1184.74,1446.71 1188.84,1446.71 1192.94,1446.71 1197.04,1446.71 1201.14,1446.71 1205.23,1446.71 1209.33,1446.71 1213.43,1446.71 1217.53,1446.71 1221.63,1446.71 \n",
       "  1225.73,1446.71 1229.82,1446.71 1233.92,1446.71 1238.02,1446.71 1242.12,1446.71 1246.22,1446.71 1250.31,1446.71 1254.41,1446.71 1258.51,1446.71 1262.61,1446.71 \n",
       "  1266.71,1446.71 1270.81,1446.71 1274.9,1446.71 1279,1446.71 1283.1,1446.71 1287.2,1446.71 1291.3,1446.71 1295.4,1446.71 1299.49,1446.71 1303.59,1446.71 \n",
       "  1307.69,1446.71 1311.79,1446.71 1315.89,1446.71 1319.99,1446.71 1324.08,1446.71 1328.18,1446.71 1332.28,1446.71 1336.38,1446.71 1340.48,1446.71 1344.58,1446.71 \n",
       "  1348.67,1446.71 1352.77,1446.71 1356.87,1446.71 1360.97,1446.71 1365.07,1446.71 1369.17,1446.71 1373.26,1446.71 1377.36,1446.71 1381.46,1446.71 1385.56,1446.71 \n",
       "  1389.66,1446.71 1393.76,1446.71 1397.85,1434.12 1401.95,1435.91 1406.05,1434.12 1410.15,1430.52 1414.25,1430.52 1418.34,1430.52 1422.44,1423.32 1426.54,1426.92 \n",
       "  1430.64,1423.32 1434.74,1426.92 1438.84,1423.32 1442.93,1416.12 1447.03,1416.12 1451.13,1416.12 1455.23,1408.93 1459.33,1396.32 1463.43,1403.52 1467.52,1392.72 \n",
       "  1471.62,1389.13 1475.72,1392.72 1479.82,1381.93 1483.92,1378.33 1488.02,1378.33 1492.11,1376.52 1496.21,1362.13 1500.31,1351.33 1504.41,1351.33 1508.51,1349.54 \n",
       "  1512.61,1335.14 1516.7,1317.15 1520.8,1297.35 1524.9,1293.75 1529,1273.95 1533.1,1252.35 1537.2,1225.37 1541.29,1214.56 1545.39,1187.57 1549.49,1165.98 \n",
       "  1553.59,1120.98 1557.69,1088.59 1561.79,1067 1565.88,1029.21 1569.98,989.617 1574.08,953.625 1578.18,910.431 1582.28,867.238 1586.38,813.243 1590.47,770.063 \n",
       "  1594.57,728.663 1598.67,658.486 1602.77,620.687 1606.87,564.898 1610.96,519.911 1615.06,465.93 1619.16,411.935 1623.26,390.345 1627.36,354.353 1631.46,303.958 \n",
       "  1635.55,273.36 1639.65,249.977 1643.75,210.384 1647.85,203.183 1651.95,170.791 1656.05,159.99 1660.14,154.596 1664.24,134.799 1668.34,127.598 1672.44,118.603 \n",
       "  1676.54,111.402 1680.64,111.402 1684.73,107.802 1688.83,111.402 1692.93,107.802 1697.03,98.8071 1701.13,95.2065 1705.23,98.8071 1709.32,91.6059 1713.42,95.2065 \n",
       "  1717.52,91.6059 1721.62,91.6059 1725.72,95.2065 1729.82,88.0053 1733.91,91.6059 1738.01,91.6059 1742.11,111.402 1746.21,107.802 1750.31,98.8071 1754.41,95.2065 \n",
       "  1758.5,98.8071 1762.6,91.6059 1766.7,95.2065 1770.8,91.6059 1774.9,91.6059 1778.99,95.2065 1783.09,88.0053 1787.19,91.6059 1791.29,91.6059 1795.39,111.402 \n",
       "  1799.49,107.802 1803.58,98.8071 1807.68,95.2065 1811.78,98.8071 1815.88,91.6059 1819.98,95.2065 1824.08,91.6059 1828.17,91.6059 1832.27,95.2065 1836.37,88.0053 \n",
       "  1840.47,91.6059 1844.57,91.6059 1848.67,111.402 1852.76,107.802 1856.86,98.8071 1860.96,95.2065 1865.06,98.8071 1869.16,91.6059 1873.26,95.2065 1877.35,91.6059 \n",
       "  1881.45,91.6059 1885.55,95.2065 1889.65,88.0053 1893.75,91.6059 1897.85,91.6059 1901.94,111.402 1906.04,107.802 1910.14,98.8071 1914.24,95.2065 1918.34,98.8071 \n",
       "  1922.44,91.6059 1926.53,95.2065 1930.63,91.6059 1934.73,91.6059 1938.83,95.2065 1942.93,88.0053 1947.02,91.6059 1951.12,91.6059 1955.22,111.402 1959.32,107.802 \n",
       "  1963.42,98.8071 1967.52,95.2065 1971.61,98.8071 1975.71,91.6059 1979.81,95.2065 1983.91,91.6059 1988.01,91.6059 1992.11,95.2065 1996.2,88.0053 2000.3,91.6059 \n",
       "  2004.4,91.6059 2008.5,111.402 2012.6,107.802 2016.7,98.8071 2020.79,95.2065 2024.89,98.8071 2028.99,91.6059 2033.09,95.2065 2037.19,91.6059 2041.29,91.6059 \n",
       "  2045.38,95.2065 2049.48,88.0053 2053.58,88.0053 2057.68,88.0053 2061.78,88.0053 2065.88,88.0053 2069.97,88.0053 2074.07,88.0053 2078.17,88.0053 2082.27,88.0053 \n",
       "  2086.37,88.0053 2090.47,88.0053 2094.56,88.0053 2098.66,88.0053 2102.76,88.0053 2106.86,88.0053 2110.96,88.0053 2115.05,88.0053 2119.15,88.0053 2123.25,88.0053 \n",
       "  2127.35,88.0053 2131.45,88.0053 2135.55,88.0053 2139.64,88.0053 2143.74,88.0053 2147.84,88.0053 2151.94,88.0053 2156.04,88.0053 2160.14,88.0053 2164.23,88.0053 \n",
       "  2168.33,88.0053 2172.43,88.0053 2176.53,88.0053 2180.63,88.0053 2184.73,88.0053 2188.82,88.0053 2192.92,88.0053 2197.02,88.0053 2201.12,88.0053 2205.22,88.0053 \n",
       "  2209.32,88.0053 2213.41,88.0053 2217.51,88.0053 2221.61,88.0053 2225.71,88.0053 2229.81,88.0053 2233.91,88.0053 2238,88.0053 2242.1,88.0053 2246.2,88.0053 \n",
       "  2250.3,88.0053 2254.4,88.0053 2258.5,88.0053 2262.59,88.0053 2266.69,88.0053 2270.79,88.0053 2274.89,88.0053 2278.99,88.0053 2283.08,88.0053 2287.18,88.0053 \n",
       "  2291.28,88.0053 \n",
       "  \"/>\n",
       "<path clip-path=\"url(#clip2800)\" d=\"\n",
       "M1789.26 312.204 L2280.76 312.204 L2280.76 130.764 L1789.26 130.764  Z\n",
       "  \" fill=\"#ffffff\" fill-rule=\"evenodd\" fill-opacity=\"1\"/>\n",
       "<polyline clip-path=\"url(#clip2800)\" style=\"stroke:#000000; stroke-width:4; stroke-opacity:1; fill:none\" points=\"\n",
       "  1789.26,312.204 2280.76,312.204 2280.76,130.764 1789.26,130.764 1789.26,312.204 \n",
       "  \"/>\n",
       "<polyline clip-path=\"url(#clip2800)\" style=\"stroke:#009af9; stroke-width:4; stroke-opacity:1; fill:none\" points=\"\n",
       "  1813.26,191.244 1957.26,191.244 \n",
       "  \"/>\n",
       "<g clip-path=\"url(#clip2800)\">\n",
       "<text style=\"fill:#000000; fill-opacity:1; font-family:Arial,Helvetica Neue,Helvetica,sans-serif; font-size:48px; text-anchor:start;\" transform=\"rotate(0, 1981.26, 208.744)\" x=\"1981.26\" y=\"208.744\">interpolated</text>\n",
       "</g>\n",
       "<polyline clip-path=\"url(#clip2800)\" style=\"stroke:#e26f46; stroke-width:4; stroke-opacity:1; fill:none\" points=\"\n",
       "  1813.26,251.724 1957.26,251.724 \n",
       "  \"/>\n",
       "<g clip-path=\"url(#clip2800)\">\n",
       "<text style=\"fill:#000000; fill-opacity:1; font-family:Arial,Helvetica Neue,Helvetica,sans-serif; font-size:48px; text-anchor:start;\" transform=\"rotate(0, 1981.26, 269.224)\" x=\"1981.26\" y=\"269.224\">initial</text>\n",
       "</g>\n",
       "</svg>\n"
      ]
     },
     "execution_count": 31,
     "metadata": {},
     "output_type": "execute_result"
    }
   ],
   "source": []
  },
  {
   "cell_type": "code",
   "execution_count": null,
   "metadata": {},
   "outputs": [],
   "source": []
  }
 ],
 "metadata": {
  "kernelspec": {
   "display_name": "Julia 1.5.3",
   "language": "julia",
   "name": "julia-1.5"
  },
  "language_info": {
   "file_extension": ".jl",
   "mimetype": "application/julia",
   "name": "julia",
   "version": "1.5.3"
  }
 },
 "nbformat": 4,
 "nbformat_minor": 4
}
