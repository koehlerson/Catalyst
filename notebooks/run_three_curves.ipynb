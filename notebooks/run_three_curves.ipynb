{
 "cells": [
  {
   "cell_type": "code",
   "execution_count": 1,
   "metadata": {},
   "outputs": [
    {
     "name": "stderr",
     "output_type": "stream",
     "text": [
      "┌ Info: Precompiling Catalyst [01e5440a-74e3-4b45-b8b9-c13ddfc5051b]\n",
      "└ @ Base loading.jl:1273\n",
      "┌ Warning: Module ColorTypes with build ID 1740584794627333 is missing from the cache.\n",
      "│ This may mean ColorTypes [3da002f7-5984-5a60-b8a6-cbb66c0b333f] does not support precompilation but is imported by a module that does.\n",
      "└ @ Base loading.jl:1011\n",
      "┌ Warning: Module ColorTypes with build ID 1740584794627333 is missing from the cache.\n",
      "│ This may mean ColorTypes [3da002f7-5984-5a60-b8a6-cbb66c0b333f] does not support precompilation but is imported by a module that does.\n",
      "└ @ Base loading.jl:1011\n",
      "┌ Warning: Module ColorTypes with build ID 1740584794627333 is missing from the cache.\n",
      "│ This may mean ColorTypes [3da002f7-5984-5a60-b8a6-cbb66c0b333f] does not support precompilation but is imported by a module that does.\n",
      "└ @ Base loading.jl:1011\n",
      "┌ Warning: Module PlotUtils with build ID 2165756420347801 is missing from the cache.\n",
      "│ This may mean PlotUtils [995b91a9-d308-5afd-9ec6-746e21dbc043] does not support precompilation but is imported by a module that does.\n",
      "└ @ Base loading.jl:1011\n",
      "┌ Warning: The call to compilecache failed to create a usable precompiled cache file for Catalyst [01e5440a-74e3-4b45-b8b9-c13ddfc5051b]\n",
      "│   exception = ErrorException(\"Required dependency PlotThemes [ccf2f8ad-2431-5c83-bf29-c5338b663b6a] failed to load from a cache file.\")\n",
      "└ @ Base loading.jl:1036\n"
     ]
    }
   ],
   "source": [
    "using DrWatson\n",
    "@quickactivate :Catalyst\n",
    "using CSV"
   ]
  },
  {
   "cell_type": "code",
   "execution_count": 2,
   "metadata": {},
   "outputs": [],
   "source": [
    "input_exp_12 = []\n",
    "output_exp_12 = []\n",
    "input_exp_10 = []\n",
    "output_exp_10 = []\n",
    "input_exp_8 = []\n",
    "output_exp_8 = []\n",
    "    \n",
    "for row in CSV.File(datadir(\"experiment/SBA15_interp_12.csv\"); delim = \",\")\n",
    "    push!(input_exp_12, row.I)\n",
    "    push!(output_exp_12, row.O)\n",
    "end\n",
    "    \n",
    "for row in CSV.File(datadir(\"experiment/SBA15_interp_10.csv\"); delim = \",\")\n",
    "    push!(input_exp_10, row.I)\n",
    "    push!(output_exp_10, row.O)\n",
    "end\n",
    "    \n",
    "for row in CSV.File(datadir(\"experiment/SBA15_interp_8.csv\"); delim = \",\")\n",
    "    push!(input_exp_8, row.I)\n",
    "    push!(output_exp_8, row.O)\n",
    "end"
   ]
  },
  {
   "cell_type": "code",
   "execution_count": 8,
   "metadata": {},
   "outputs": [
    {
     "name": "stderr",
     "output_type": "stream",
     "text": [
      "\u001b[32mmacro-scale progress...100%|████████████████████████████| Time: 0:21:19\u001b[39m\n"
     ]
    }
   ],
   "source": [
    "c1, R1 = Catalyst.solve(0.0218016, 5.844895, 9.1703, \n",
    "                    input_exp_8, output_exp_8, progress=true, \n",
    "                    microcomp_type=:nonlinear, \n",
    "                    Q=1.92719, kₙ=2.08014, \n",
    "                    calibration=false, w=1.5302e-4*(1/0.37));"
   ]
  },
  {
   "cell_type": "code",
   "execution_count": 9,
   "metadata": {},
   "outputs": [
    {
     "name": "stderr",
     "output_type": "stream",
     "text": [
      "\u001b[32mmacro-scale progress...100%|████████████████████████████| Time: 0:16:05\u001b[39m\n"
     ]
    }
   ],
   "source": [
    "c2, R2 = Catalyst.solve(0.0218016, 5.844895, 9.1703, \n",
    "                    input_exp_8, output_exp_8, progress=true, \n",
    "                    microcomp_type=:nonlinear, \n",
    "                    Q=1.92719, kₙ=2.08014, \n",
    "                    calibration=false, w=1.9128e-4*(1/0.37));"
   ]
  },
  {
   "cell_type": "code",
   "execution_count": 10,
   "metadata": {},
   "outputs": [
    {
     "name": "stderr",
     "output_type": "stream",
     "text": [
      "\u001b[32mmacro-scale progress...100%|████████████████████████████| Time: 0:17:53\u001b[39m\n"
     ]
    }
   ],
   "source": [
    "c3, R3 = Catalyst.solve(0.0218016, 5.844895, 9.1703, \n",
    "                    input_exp_8, output_exp_8, progress=true, \n",
    "                    microcomp_type=:nonlinear, \n",
    "                    Q=1.92719, kₙ=2.08014, \n",
    "                    calibration=false, w=2.2954e-4*(1/0.37));"
   ]
  },
  {
   "cell_type": "code",
   "execution_count": 11,
   "metadata": {},
   "outputs": [],
   "source": [
    "using Plots"
   ]
  },
  {
   "cell_type": "code",
   "execution_count": null,
   "metadata": {},
   "outputs": [],
   "source": [
    "plot(input_exp_8, label=\"Exp. I 8\")\n",
    "plot!(output_exp_8, label=\"Exp. O 8\")\n",
    "plot!(1:length(input_exp_10)-1,getindex.(c1,101), label=\"Sim 8\")\n",
    "plot!(input_exp_10, label=\"Exp. I 10\")\n",
    "plot!(output_exp_10, label=\"Exp. O 10\")\n",
    "plot!(1:length(input_exp_10)-1,getindex.(c2,101), label=\"Sim 10\")\n",
    "plot!(input_exp_12, label=\"Exp. I 12\")\n",
    "plot!(output_exp_12, label=\"Exp. O 12\")\n",
    "plot!(1:length(input_exp_10)-1,getindex.(c3,101), label=\"Sim 12\")"
   ]
  },
  {
   "cell_type": "code",
   "execution_count": null,
   "metadata": {},
   "outputs": [],
   "source": []
  }
 ],
 "metadata": {
  "kernelspec": {
   "display_name": "Julia 1.4.2",
   "language": "julia",
   "name": "julia-1.4"
  },
  "language_info": {
   "file_extension": ".jl",
   "mimetype": "application/julia",
   "name": "julia",
   "version": "1.4.2"
  }
 },
 "nbformat": 4,
 "nbformat_minor": 4
}
