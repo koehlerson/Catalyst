{
 "cells": [
  {
   "cell_type": "code",
   "execution_count": 1,
   "metadata": {},
   "outputs": [],
   "source": [
    "using PyCall"
   ]
  },
  {
   "cell_type": "code",
   "execution_count": 11,
   "metadata": {},
   "outputs": [
    {
     "data": {
      "text/html": [
       "<table><tr><th>Header</th><th>Data Arrays</th></tr><tr><td>\n",
       "<table>\n",
       "<tr><th>UnstructuredGrid</th><th>Information</th></tr>\n",
       "<tr><td>N Cells</td><td>5183</td></tr>\n",
       "<tr><td>N Points</td><td>1209</td></tr>\n",
       "<tr><td>X Bounds</td><td>-2.497e-01, 2.500e-01</td></tr>\n",
       "<tr><td>Y Bounds</td><td>-2.495e-01, 2.496e-01</td></tr>\n",
       "<tr><td>Z Bounds</td><td>-2.500e-01, 2.500e-01</td></tr>\n",
       "<tr><td>N Arrays</td><td>1</td></tr>\n",
       "</table>\n",
       "\n",
       "</td><td>\n",
       "<table>\n",
       "<tr><th>Name</th><th>Field</th><th>Type</th><th>N Comp</th><th>Min</th><th>Max</th></tr>\n",
       "<tr><td><b>c</b></td><td>Points</td><td>float64</td><td>1</td><td>2.218e-01</td><td>1.000e+00</td></tr>\n",
       "</table>\n",
       "\n",
       "</td></tr> </table>"
      ],
      "text/plain": [
       "PyObject UnstructuredGrid (0x7f2d1a3a3d00)\n",
       "  N Cells:\t5183\n",
       "  N Points:\t1209\n",
       "  X Bounds:\t-2.497e-01, 2.500e-01\n",
       "  Y Bounds:\t-2.495e-01, 2.496e-01\n",
       "  Z Bounds:\t-2.500e-01, 2.500e-01\n",
       "  N Arrays:\t1\n"
      ]
     },
     "execution_count": 11,
     "metadata": {},
     "output_type": "execute_result"
    }
   ],
   "source": [
    "pyvista = pyimport(\"pyvista\")\n",
    "itk = pyimport(\"itkwidgets\")\n",
    "\n",
    "grid = pyvista.read(\"../linear-micro.vtu\")\n"
   ]
  },
  {
   "cell_type": "code",
   "execution_count": 31,
   "metadata": {},
   "outputs": [
    {
     "data": {
      "text/plain": [
       "PyObject Viewer(geometries=[{'vtkClass': 'vtkPolyData', 'points': {'vtkClass': 'vtkPoints', 'name': '_points', 'numberOfComponents': 3, 'dataType': 'Float32Array', 'size': 3627, 'values': array([ 1.5308086e-17, -3.7493994e-33,  2.5000000e-01, ...,\n",
       "        1.4382140e-01, -1.2457990e-01,  3.8008023e-02], dtype=float32)}, 'polys': {'vtkClass': 'vtkCellArray', 'name': '_polys', 'numberOfComponents': 1, 'size': 5120, 'dataType': 'Uint32Array', 'values': array([  3, 156, 543, ..., 311, 320,  38], dtype=uint32)}, 'pointData': {'vtkClass': 'vtkDataSetAttributes', 'activeScalars': 0, 'arrays': [{'data': {'vtkClass': 'vtkDataArray', 'name': 'c', 'numberOfComponents': 1, 'size': 1209, 'dataType': 'Float64Array', 'values': array([1.        , 1.        , 1.        , ..., 0.7386051 , 0.7262369 ,\n",
       "       0.66213216])}}]}, 'metadata': {'name': 'Geometry 0'}}], geometry_colors=array([[0.8392157, 0.       , 0.       ]], dtype=float32), geometry_opacities=array([1.], dtype=float32), gradient_opacity=0.22, point_sets=[])"
      ]
     },
     "execution_count": 31,
     "metadata": {},
     "output_type": "execute_result"
    }
   ],
   "source": [
    "pygui_start(pygui())\n",
    "viewer = itk.view(geometries=grid)"
   ]
  },
  {
   "cell_type": "code",
   "execution_count": 29,
   "metadata": {},
   "outputs": [],
   "source": [
    "pygui_start(pygui())\n",
    "py\"\"\"\n",
    "import pyvista, itkwidgets\n",
    "\n",
    "grid = pyvista.read(\"../linear-micro.vtu\")\n",
    "clipped = grid.clip('y', invert=False)\n",
    "\n",
    "itkwidgets.view(geometries=clipped)\n",
    "\"\"\""
   ]
  },
  {
   "cell_type": "code",
   "execution_count": 57,
   "metadata": {},
   "outputs": [
    {
     "data": {
      "text/plain": [
       "25915-element Array{Int64,1}:\n",
       "   4\n",
       " 148\n",
       " 681\n",
       " 639\n",
       " 683\n",
       "   4\n",
       " 681\n",
       " 644\n",
       " 682\n",
       " 685\n",
       "   4\n",
       " 639\n",
       " 682\n",
       "   ⋮\n",
       " 917\n",
       " 919\n",
       "   4\n",
       " 938\n",
       " 950\n",
       " 917\n",
       " 334\n",
       "   4\n",
       " 917\n",
       " 950\n",
       " 938\n",
       " 919"
      ]
     },
     "execution_count": 57,
     "metadata": {},
     "output_type": "execute_result"
    }
   ],
   "source": []
  }
 ],
 "metadata": {
  "kernelspec": {
   "display_name": "Julia 1.4.2 1.4.1",
   "language": "julia",
   "name": "julia-1.4.2-1.4"
  },
  "language_info": {
   "file_extension": ".jl",
   "mimetype": "application/julia",
   "name": "julia",
   "version": "1.4.1"
  }
 },
 "nbformat": 4,
 "nbformat_minor": 4
}
